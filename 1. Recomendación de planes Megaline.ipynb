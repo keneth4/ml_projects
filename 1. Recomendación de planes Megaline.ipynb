{
 "cells": [
  {
   "attachments": {},
   "cell_type": "markdown",
   "metadata": {},
   "source": [
    "# Megaline: Smart o Ultra\n",
    "\n",
    "La compañía móvil Megaline no está satisfecha al ver que muchos de sus clientes utilizan planes heredados. Quieren desarrollar un modelo que pueda analizar el comportamiento de los clientes y recomendar uno de los nuevos planes de Megaline: Smart o Ultra.\n",
    "\n",
    "Tienes acceso a los datos de comportamiento de los suscriptores que ya se han cambiado a los planes nuevos (del proyecto del curso de Análisis estadístico de datos). Para esta tarea de clasificación debes crear un modelo que escoja el plan correcto. Como ya hiciste el paso de procesar los datos, puedes lanzarte directo a crear el modelo.\n",
    "\n",
    "Desarrolla un modelo con la mayor exactitud posible. En este proyecto, el umbral de exactitud es 0.75. Usa el dataset para comprobar la exactitud."
   ]
  },
  {
   "attachments": {},
   "cell_type": "markdown",
   "metadata": {},
   "source": [
    "# Descripción de los datos\n",
    "\n",
    "Cada observación en el dataset contiene información del comportamiento mensual sobre un usuario. La información dada es la siguiente:\n",
    "\n",
    "- `сalls` — número de llamadas,\n",
    "- `minutes` — duración total de la llamada en minutos,\n",
    "- `messages` — número de mensajes de texto,\n",
    "- `mb_used` — Tráfico de Internet utilizado en MB,\n",
    "- `is_ultra` — plan para el mes actual (Ultra - 1, Smart - 0).\n"
   ]
  },
  {
   "attachments": {},
   "cell_type": "markdown",
   "metadata": {},
   "source": [
    "# Inicialización"
   ]
  },
  {
   "cell_type": "code",
   "execution_count": 84,
   "metadata": {},
   "outputs": [],
   "source": [
    "# Carga todas las librerías\n",
    "import pandas as pd\n",
    "from sklearn.tree import DecisionTreeClassifier\n",
    "from sklearn.ensemble import RandomForestClassifier\n",
    "from sklearn.linear_model import LogisticRegression\n",
    "from sklearn.model_selection import train_test_split\n",
    "from sklearn.dummy import DummyClassifier"
   ]
  },
  {
   "attachments": {},
   "cell_type": "markdown",
   "metadata": {},
   "source": [
    "# Cargar los datos"
   ]
  },
  {
   "cell_type": "code",
   "execution_count": 70,
   "metadata": {},
   "outputs": [],
   "source": [
    "# Carga los datos en DataFrames\n",
    "try:\n",
    "    df = pd.read_csv('/datasets/users_behavior.csv')\n",
    "except Exception:\n",
    "    df = pd.read_csv('datasets/users_behavior.csv')"
   ]
  },
  {
   "cell_type": "code",
   "execution_count": 71,
   "metadata": {},
   "outputs": [
    {
     "name": "stdout",
     "output_type": "stream",
     "text": [
      "<class 'pandas.core.frame.DataFrame'>\n",
      "RangeIndex: 3214 entries, 0 to 3213\n",
      "Data columns (total 5 columns):\n",
      " #   Column    Non-Null Count  Dtype  \n",
      "---  ------    --------------  -----  \n",
      " 0   calls     3214 non-null   float64\n",
      " 1   minutes   3214 non-null   float64\n",
      " 2   messages  3214 non-null   float64\n",
      " 3   mb_used   3214 non-null   float64\n",
      " 4   is_ultra  3214 non-null   int64  \n",
      "dtypes: float64(4), int64(1)\n",
      "memory usage: 125.7 KB\n"
     ]
    }
   ],
   "source": [
    "# Imprime la información general/resumen sobre el DataFrame\n",
    "df.info()"
   ]
  },
  {
   "cell_type": "code",
   "execution_count": 72,
   "metadata": {},
   "outputs": [
    {
     "data": {
      "text/html": [
       "<div>\n",
       "<style scoped>\n",
       "    .dataframe tbody tr th:only-of-type {\n",
       "        vertical-align: middle;\n",
       "    }\n",
       "\n",
       "    .dataframe tbody tr th {\n",
       "        vertical-align: top;\n",
       "    }\n",
       "\n",
       "    .dataframe thead th {\n",
       "        text-align: right;\n",
       "    }\n",
       "</style>\n",
       "<table border=\"1\" class=\"dataframe\">\n",
       "  <thead>\n",
       "    <tr style=\"text-align: right;\">\n",
       "      <th></th>\n",
       "      <th>calls</th>\n",
       "      <th>minutes</th>\n",
       "      <th>messages</th>\n",
       "      <th>mb_used</th>\n",
       "      <th>is_ultra</th>\n",
       "    </tr>\n",
       "  </thead>\n",
       "  <tbody>\n",
       "    <tr>\n",
       "      <th>3055</th>\n",
       "      <td>36.0</td>\n",
       "      <td>206.01</td>\n",
       "      <td>1.0</td>\n",
       "      <td>14830.67</td>\n",
       "      <td>0</td>\n",
       "    </tr>\n",
       "    <tr>\n",
       "      <th>1435</th>\n",
       "      <td>76.0</td>\n",
       "      <td>585.56</td>\n",
       "      <td>30.0</td>\n",
       "      <td>22165.13</td>\n",
       "      <td>0</td>\n",
       "    </tr>\n",
       "    <tr>\n",
       "      <th>583</th>\n",
       "      <td>41.0</td>\n",
       "      <td>227.58</td>\n",
       "      <td>0.0</td>\n",
       "      <td>20292.33</td>\n",
       "      <td>0</td>\n",
       "    </tr>\n",
       "    <tr>\n",
       "      <th>2961</th>\n",
       "      <td>137.0</td>\n",
       "      <td>899.90</td>\n",
       "      <td>0.0</td>\n",
       "      <td>10289.26</td>\n",
       "      <td>1</td>\n",
       "    </tr>\n",
       "    <tr>\n",
       "      <th>1858</th>\n",
       "      <td>185.0</td>\n",
       "      <td>1217.83</td>\n",
       "      <td>17.0</td>\n",
       "      <td>1444.81</td>\n",
       "      <td>1</td>\n",
       "    </tr>\n",
       "  </tbody>\n",
       "</table>\n",
       "</div>"
      ],
      "text/plain": [
       "      calls  minutes  messages   mb_used  is_ultra\n",
       "3055   36.0   206.01       1.0  14830.67         0\n",
       "1435   76.0   585.56      30.0  22165.13         0\n",
       "583    41.0   227.58       0.0  20292.33         0\n",
       "2961  137.0   899.90       0.0  10289.26         1\n",
       "1858  185.0  1217.83      17.0   1444.81         1"
      ]
     },
     "execution_count": 72,
     "metadata": {},
     "output_type": "execute_result"
    }
   ],
   "source": [
    "# Imprime una muestra aleatoria de 5 filas del DataFrame\n",
    "df.sample(5)"
   ]
  },
  {
   "attachments": {},
   "cell_type": "markdown",
   "metadata": {},
   "source": [
    "# Segmentar los datos"
   ]
  },
  {
   "cell_type": "code",
   "execution_count": 73,
   "metadata": {},
   "outputs": [],
   "source": [
    "# Separar los datos en características (features) y objetivo (target)\n",
    "features = df.drop(\"is_ultra\", axis=1)\n",
    "target = df[\"is_ultra\"]"
   ]
  },
  {
   "cell_type": "code",
   "execution_count": 74,
   "metadata": {},
   "outputs": [],
   "source": [
    "# Separar los datos en subconjuntos de entrenamiento, validación y prueba (3:1:1)\n",
    "features_train, features_valid_test, target_train, target_valid_test = train_test_split(features, target, test_size=.4, random_state=12345)\n",
    "features_valid, features_test, target_valid, target_test = train_test_split(features_valid_test, target_valid_test, test_size=.5, random_state=12345)"
   ]
  },
  {
   "attachments": {},
   "cell_type": "markdown",
   "metadata": {},
   "source": [
    "# Investigar la calidad de diferentes modelos"
   ]
  },
  {
   "cell_type": "code",
   "execution_count": 75,
   "metadata": {},
   "outputs": [],
   "source": [
    "# Seleccionar un seed aleatorio para los experimentos\n",
    "random_state=12345"
   ]
  },
  {
   "attachments": {},
   "cell_type": "markdown",
   "metadata": {},
   "source": [
    "## Árbol de decisión"
   ]
  },
  {
   "cell_type": "code",
   "execution_count": 76,
   "metadata": {},
   "outputs": [
    {
     "name": "stdout",
     "output_type": "stream",
     "text": [
      "Profundidad del mejor modelo: 3\n",
      "Exactitud del mejor modelo en el conjunto de validacion: 0.7853810264385692\n"
     ]
    }
   ],
   "source": [
    "# Entrenar varios modelos de árbol de decisión con diferentes profundidades máximas y encontrar el mejor\n",
    "best_score = 0\n",
    "best_depth = 0\n",
    "for depth in range(1, 50):\n",
    "\tmodel = DecisionTreeClassifier(random_state=random_state, max_depth=depth)\n",
    "\tmodel.fit(features_train, target_train)\n",
    "\tscore = model.score(features_valid, target_valid)\n",
    "\tif score > best_score:\n",
    "\t\tbest_score = score\n",
    "\t\tbest_depth = depth\n",
    "    \n",
    "print(\"Profundidad del mejor modelo:\", best_depth)\n",
    "print(\"Exactitud del mejor modelo en el conjunto de validacion:\", best_score)"
   ]
  },
  {
   "attachments": {},
   "cell_type": "markdown",
   "metadata": {},
   "source": [
    "## Bosque aleatorio"
   ]
  },
  {
   "cell_type": "code",
   "execution_count": 77,
   "metadata": {},
   "outputs": [
    {
     "name": "stdout",
     "output_type": "stream",
     "text": [
      "Cantidad de estimadores del mejor modelo: 23\n",
      "Exactitud del mejor modelo en el conjunto de validacion: 0.7947122861586314\n"
     ]
    }
   ],
   "source": [
    "# Entrenar varios modelos de bosque aleatorio con diferentes cantidades de estimadores y encontrar el mejor\n",
    "best_score = 0\n",
    "best_est = 0\n",
    "for est in range(1, 50):\n",
    "    model = RandomForestClassifier(random_state=random_state, n_estimators=est)\n",
    "    model.fit(features_train, target_train)\n",
    "    score = model.score(features_valid, target_valid)\n",
    "    if score > best_score:\n",
    "        best_score = score\n",
    "        best_est = est\n",
    "\n",
    "print(\"Cantidad de estimadores del mejor modelo:\", best_est)\n",
    "print(\"Exactitud del mejor modelo en el conjunto de validacion:\", best_score)"
   ]
  },
  {
   "attachments": {},
   "cell_type": "markdown",
   "metadata": {},
   "source": [
    "## Regresión logística"
   ]
  },
  {
   "cell_type": "code",
   "execution_count": 78,
   "metadata": {},
   "outputs": [
    {
     "name": "stdout",
     "output_type": "stream",
     "text": [
      "Exactitud del modelo de regresión logística en el conjunto de entrenamiento: 0.7510373443983402\n",
      "Exactitud del modelo de regresión logística en el conjunto de validación: 0.7573872472783826\n"
     ]
    }
   ],
   "source": [
    "# Entrenar un modelo de regresión logística y encontrar la exactitud en el conjunto de validación\n",
    "model = LogisticRegression(random_state=random_state, solver='liblinear')\n",
    "model.fit(features_train, target_train)\n",
    "score_train = model.score(features_train, target_train)\n",
    "score_valid = model.score(features_valid, target_valid)\n",
    "\n",
    "print(\"Exactitud del modelo de regresión logística en el conjunto de entrenamiento:\", score_train)\n",
    "print(\"Exactitud del modelo de regresión logística en el conjunto de validación:\", score_valid)"
   ]
  },
  {
   "attachments": {},
   "cell_type": "markdown",
   "metadata": {},
   "source": [
    "## Conclusion intermedia\n",
    "\n",
    "De los 3 tipos diferentes de clasificadores:\n",
    "- El modelo de `árbol de decisión` tuvo la segunda mayor puntuación y el segundo menor tiempo de ejecución\n",
    "- El modelo de `bosque aleatorio` tuvo la mayor puntuación y el mayor tiempo de ejecución\n",
    "- El modelo de `regresión logística` tuvo la menor puntuación y el menor tiempo de ejecución\n",
    "\n",
    "El modelo de **`Árbol de decisión`** con el hiperparámetro `max_depth = 3` será el modelo elegido ya que tiene el mejor balance entre puntuación y tiempo de ejecución."
   ]
  },
  {
   "attachments": {},
   "cell_type": "markdown",
   "metadata": {},
   "source": [
    "# Comprobar la calidad del modelo"
   ]
  },
  {
   "cell_type": "code",
   "execution_count": 83,
   "metadata": {},
   "outputs": [
    {
     "name": "stdout",
     "output_type": "stream",
     "text": [
      "Exactitud del modelo de árbol de decisión en el conjunto de prueba: 0.7791601866251944\n"
     ]
    }
   ],
   "source": [
    "# Entrenar un modelo de árbol de decisión con la profundidad máxima encontrada anteriormente y encontrar la exactitud en el conjunto de prueba\n",
    "model = DecisionTreeClassifier(random_state=random_state, max_depth=best_depth)\n",
    "model.fit(features_train, target_train)\n",
    "score_test = model.score(features_test, target_test)\n",
    "\n",
    "print(\"Exactitud del modelo de árbol de decisión en el conjunto de prueba:\", score_test)"
   ]
  },
  {
   "attachments": {},
   "cell_type": "markdown",
   "metadata": {},
   "source": [
    "## Prueba de cordura"
   ]
  },
  {
   "cell_type": "code",
   "execution_count": 85,
   "metadata": {},
   "outputs": [
    {
     "name": "stdout",
     "output_type": "stream",
     "text": [
      "Puntuación del Dummy Classifier: 0.6842923794712286\n"
     ]
    }
   ],
   "source": [
    "# Crea un dummy classifier que siempre predice la clase más frecuente\n",
    "dummy = DummyClassifier(strategy='most_frequent', random_state=random_state)\n",
    "dummy.fit(features_train, target_train)\n",
    "\n",
    "# Calcula la puntuación en los datos de prueba\n",
    "dummy_score = dummy.score(features_test, target_test)\n",
    "\n",
    "print(f'Puntuación del Dummy Classifier: {dummy_score}')"
   ]
  },
  {
   "attachments": {},
   "cell_type": "markdown",
   "metadata": {},
   "source": [
    "## Conclusion intermedia\n",
    "\n",
    "- El `Dummy Classifier`, que siempre predice la clase más frecuente, adivina correctamente el 68.4% de las veces.\n",
    "- El modelo de `árbol de decisión` adivina correctamente el 77.9% de las veces. Lo que indica que el modelo está aprendiendo de los datos y realizando predicciones que son significativamente mejores que las que haría un modelo que simplemente adivina la clase más frecuente.\n",
    "\n",
    "**Nota**: Los datos están desequilibrados, ya que un `Dummy Classifier` en un conjunto de datos equilibrado tendría una precisión del 50%."
   ]
  },
  {
   "attachments": {},
   "cell_type": "markdown",
   "metadata": {},
   "source": [
    "# Conclusión general\n",
    "\n",
    "Los modelos de clasificación probados incluyeron el `árbol de decisión`, el `bosque aleatorio` y la `regresión logística`. El análisis reveló que:\n",
    "\n",
    "- El modelo de `árbol de decisión` tuvo la segunda mayor puntuación y el segundo menor tiempo de ejecución.\n",
    "- El modelo de `bosque aleatorio` tuvo la mayor puntuación y el mayor tiempo de ejecución.\n",
    "- El modelo de `regresión logística` tuvo la menor puntuación y el menor tiempo de ejecución.\n",
    "\n",
    "El modelo de `árbol de decisión` con el hiperparámetro `max_depth = 3` fue seleccionado por su equilibrio entre puntuación '`0.779`' y tiempo de ejecución. Este modelo superó al Dummy Classifier, indicando que el modelo está aprendiendo de los datos y realizando predicciones que son significativamente mejores que un modelo que simplemente adivina la clase más frecuente.\n"
   ]
  }
 ],
 "metadata": {
  "kernelspec": {
   "display_name": "Python 3",
   "language": "python",
   "name": "python3"
  },
  "language_info": {
   "codemirror_mode": {
    "name": "ipython",
    "version": 3
   },
   "file_extension": ".py",
   "mimetype": "text/x-python",
   "name": "python",
   "nbconvert_exporter": "python",
   "pygments_lexer": "ipython3",
   "version": "3.11.2"
  },
  "orig_nbformat": 4
 },
 "nbformat": 4,
 "nbformat_minor": 2
}
