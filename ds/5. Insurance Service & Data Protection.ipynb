{
 "cells": [
  {
   "attachments": {},
   "cell_type": "markdown",
   "metadata": {},
   "source": [
    "# Optimization of Insurance Services and Customer Data Protection"
   ]
  },
  {
   "attachments": {},
   "cell_type": "markdown",
   "metadata": {},
   "source": [
    "The insurance company Sure Tomorrow wants to solve several tasks using machine learning and asks you to evaluate this possibility.\n",
    "- Task 1: Find customers who are similar to a specific customer. This will help the company's agents with marketing.\n",
    "- Task 2: Predict the probability that a new customer will receive an insurance benefit. Can a predictive model perform better than a dummy model?\n",
    "- Task 3: Predict the number of insurance benefits that a new customer may receive using a linear regression model.\n",
    "- Task 4: Protect customers' personal data without affecting the previous exercise's model. It is necessary to develop a data transformation algorithm that makes it difficult for personal information to be recovered if it falls into the wrong hands. This is called data masking or obfuscation. However, the data must be protected in such a way that it does not affect the quality of machine learning models. It is not necessary to choose the best model; just demonstrate that the algorithm works correctly."
   ]
  },
  {
   "attachments": {},
   "cell_type": "markdown",
   "metadata": {},
   "source": [
    "# Initialization"
   ]
  },
  {
   "cell_type": "code",
   "execution_count": 44,
   "metadata": {},
   "outputs": [],
   "source": [
    "# Load libraries\n",
    "\n",
    "# Data manipulation\n",
    "import numpy as np\n",
    "import pandas as pd\n",
    "from sklearn.model_selection import train_test_split\n",
    "import math\n",
    "\n",
    "# Modeling\n",
    "import sklearn.linear_model\n",
    "import sklearn.metrics\n",
    "import sklearn.neighbors\n",
    "import sklearn.preprocessing\n",
    "\n",
    "# Visualization\n",
    "import seaborn as sns\n",
    "\n",
    "# Display\n",
    "from IPython.display import display\n"
   ]
  },
  {
   "attachments": {},
   "cell_type": "markdown",
   "metadata": {},
   "source": [
    "# Load data"
   ]
  },
  {
   "cell_type": "code",
   "execution_count": 45,
   "metadata": {},
   "outputs": [],
   "source": [
    "# Load the data into DataFrames\n",
    "df = pd.read_csv('../datasets/insurance_us.csv')"
   ]
  },
  {
   "attachments": {},
   "cell_type": "markdown",
   "metadata": {},
   "source": [
    "# Prepare data"
   ]
  },
  {
   "cell_type": "code",
   "execution_count": 46,
   "metadata": {},
   "outputs": [],
   "source": [
    "# Rename columns\n",
    "df = df.rename(\n",
    "    columns={\n",
    "        'Gender': 'gender',\n",
    "        'Age': 'age',\n",
    "        'Salary': 'income',\n",
    "        'Family members': 'family_members',\n",
    "        'Insurance benefits': 'insurance_benefits',\n",
    "    }\n",
    ")"
   ]
  },
  {
   "cell_type": "code",
   "execution_count": 47,
   "metadata": {},
   "outputs": [
    {
     "name": "stdout",
     "output_type": "stream",
     "text": [
      "<class 'pandas.core.frame.DataFrame'>\n",
      "RangeIndex: 5000 entries, 0 to 4999\n",
      "Data columns (total 5 columns):\n",
      " #   Column              Non-Null Count  Dtype  \n",
      "---  ------              --------------  -----  \n",
      " 0   gender              5000 non-null   int64  \n",
      " 1   age                 5000 non-null   float64\n",
      " 2   income              5000 non-null   float64\n",
      " 3   family_members      5000 non-null   int64  \n",
      " 4   insurance_benefits  5000 non-null   int64  \n",
      "dtypes: float64(2), int64(3)\n",
      "memory usage: 195.4 KB\n"
     ]
    }
   ],
   "source": [
    "# Print the general/summary information about the DataFrame\n",
    "df.info()"
   ]
  },
  {
   "cell_type": "code",
   "execution_count": 48,
   "metadata": {},
   "outputs": [
    {
     "data": {
      "text/html": [
       "<div>\n",
       "<style scoped>\n",
       "    .dataframe tbody tr th:only-of-type {\n",
       "        vertical-align: middle;\n",
       "    }\n",
       "\n",
       "    .dataframe tbody tr th {\n",
       "        vertical-align: top;\n",
       "    }\n",
       "\n",
       "    .dataframe thead th {\n",
       "        text-align: right;\n",
       "    }\n",
       "</style>\n",
       "<table border=\"1\" class=\"dataframe\">\n",
       "  <thead>\n",
       "    <tr style=\"text-align: right;\">\n",
       "      <th></th>\n",
       "      <th>gender</th>\n",
       "      <th>age</th>\n",
       "      <th>income</th>\n",
       "      <th>family_members</th>\n",
       "      <th>insurance_benefits</th>\n",
       "    </tr>\n",
       "  </thead>\n",
       "  <tbody>\n",
       "    <tr>\n",
       "      <th>1965</th>\n",
       "      <td>1</td>\n",
       "      <td>39.0</td>\n",
       "      <td>19900.0</td>\n",
       "      <td>1</td>\n",
       "      <td>0</td>\n",
       "    </tr>\n",
       "    <tr>\n",
       "      <th>1310</th>\n",
       "      <td>0</td>\n",
       "      <td>30.0</td>\n",
       "      <td>24700.0</td>\n",
       "      <td>1</td>\n",
       "      <td>0</td>\n",
       "    </tr>\n",
       "    <tr>\n",
       "      <th>4361</th>\n",
       "      <td>1</td>\n",
       "      <td>20.0</td>\n",
       "      <td>34100.0</td>\n",
       "      <td>0</td>\n",
       "      <td>0</td>\n",
       "    </tr>\n",
       "    <tr>\n",
       "      <th>1597</th>\n",
       "      <td>1</td>\n",
       "      <td>29.0</td>\n",
       "      <td>48300.0</td>\n",
       "      <td>0</td>\n",
       "      <td>0</td>\n",
       "    </tr>\n",
       "    <tr>\n",
       "      <th>4165</th>\n",
       "      <td>0</td>\n",
       "      <td>40.0</td>\n",
       "      <td>36500.0</td>\n",
       "      <td>1</td>\n",
       "      <td>0</td>\n",
       "    </tr>\n",
       "    <tr>\n",
       "      <th>2784</th>\n",
       "      <td>1</td>\n",
       "      <td>25.0</td>\n",
       "      <td>44300.0</td>\n",
       "      <td>0</td>\n",
       "      <td>0</td>\n",
       "    </tr>\n",
       "    <tr>\n",
       "      <th>1703</th>\n",
       "      <td>1</td>\n",
       "      <td>34.0</td>\n",
       "      <td>23500.0</td>\n",
       "      <td>3</td>\n",
       "      <td>0</td>\n",
       "    </tr>\n",
       "    <tr>\n",
       "      <th>784</th>\n",
       "      <td>0</td>\n",
       "      <td>42.0</td>\n",
       "      <td>47000.0</td>\n",
       "      <td>2</td>\n",
       "      <td>0</td>\n",
       "    </tr>\n",
       "    <tr>\n",
       "      <th>4168</th>\n",
       "      <td>1</td>\n",
       "      <td>22.0</td>\n",
       "      <td>34500.0</td>\n",
       "      <td>2</td>\n",
       "      <td>0</td>\n",
       "    </tr>\n",
       "    <tr>\n",
       "      <th>2180</th>\n",
       "      <td>0</td>\n",
       "      <td>39.0</td>\n",
       "      <td>51200.0</td>\n",
       "      <td>2</td>\n",
       "      <td>0</td>\n",
       "    </tr>\n",
       "  </tbody>\n",
       "</table>\n",
       "</div>"
      ],
      "text/plain": [
       "      gender   age   income  family_members  insurance_benefits\n",
       "1965       1  39.0  19900.0               1                   0\n",
       "1310       0  30.0  24700.0               1                   0\n",
       "4361       1  20.0  34100.0               0                   0\n",
       "1597       1  29.0  48300.0               0                   0\n",
       "4165       0  40.0  36500.0               1                   0\n",
       "2784       1  25.0  44300.0               0                   0\n",
       "1703       1  34.0  23500.0               3                   0\n",
       "784        0  42.0  47000.0               2                   0\n",
       "4168       1  22.0  34500.0               2                   0\n",
       "2180       0  39.0  51200.0               2                   0"
      ]
     },
     "execution_count": 48,
     "metadata": {},
     "output_type": "execute_result"
    }
   ],
   "source": [
    "# Print a random sample of 10 rows from the DataFrame\n",
    "df.sample(10)"
   ]
  },
  {
   "cell_type": "code",
   "execution_count": 49,
   "metadata": {},
   "outputs": [
    {
     "data": {
      "text/plain": [
       "dtype('int64')"
      ]
     },
     "execution_count": 49,
     "metadata": {},
     "output_type": "execute_result"
    }
   ],
   "source": [
    "# Change the data type of age (from float to int)\n",
    "df['age'] = df['age'].astype('int')\n",
    "\n",
    "# Make sure the change has been applied\n",
    "df['age'].dtype"
   ]
  },
  {
   "cell_type": "code",
   "execution_count": 50,
   "metadata": {},
   "outputs": [
    {
     "data": {
      "text/html": [
       "<div>\n",
       "<style scoped>\n",
       "    .dataframe tbody tr th:only-of-type {\n",
       "        vertical-align: middle;\n",
       "    }\n",
       "\n",
       "    .dataframe tbody tr th {\n",
       "        vertical-align: top;\n",
       "    }\n",
       "\n",
       "    .dataframe thead th {\n",
       "        text-align: right;\n",
       "    }\n",
       "</style>\n",
       "<table border=\"1\" class=\"dataframe\">\n",
       "  <thead>\n",
       "    <tr style=\"text-align: right;\">\n",
       "      <th></th>\n",
       "      <th>gender</th>\n",
       "      <th>age</th>\n",
       "      <th>income</th>\n",
       "      <th>family_members</th>\n",
       "      <th>insurance_benefits</th>\n",
       "    </tr>\n",
       "  </thead>\n",
       "  <tbody>\n",
       "    <tr>\n",
       "      <th>count</th>\n",
       "      <td>5000.000000</td>\n",
       "      <td>5000.000000</td>\n",
       "      <td>5000.000000</td>\n",
       "      <td>5000.000000</td>\n",
       "      <td>5000.000000</td>\n",
       "    </tr>\n",
       "    <tr>\n",
       "      <th>mean</th>\n",
       "      <td>0.499000</td>\n",
       "      <td>30.952800</td>\n",
       "      <td>39916.360000</td>\n",
       "      <td>1.194200</td>\n",
       "      <td>0.148000</td>\n",
       "    </tr>\n",
       "    <tr>\n",
       "      <th>std</th>\n",
       "      <td>0.500049</td>\n",
       "      <td>8.440807</td>\n",
       "      <td>9900.083569</td>\n",
       "      <td>1.091387</td>\n",
       "      <td>0.463183</td>\n",
       "    </tr>\n",
       "    <tr>\n",
       "      <th>min</th>\n",
       "      <td>0.000000</td>\n",
       "      <td>18.000000</td>\n",
       "      <td>5300.000000</td>\n",
       "      <td>0.000000</td>\n",
       "      <td>0.000000</td>\n",
       "    </tr>\n",
       "    <tr>\n",
       "      <th>25%</th>\n",
       "      <td>0.000000</td>\n",
       "      <td>24.000000</td>\n",
       "      <td>33300.000000</td>\n",
       "      <td>0.000000</td>\n",
       "      <td>0.000000</td>\n",
       "    </tr>\n",
       "    <tr>\n",
       "      <th>50%</th>\n",
       "      <td>0.000000</td>\n",
       "      <td>30.000000</td>\n",
       "      <td>40200.000000</td>\n",
       "      <td>1.000000</td>\n",
       "      <td>0.000000</td>\n",
       "    </tr>\n",
       "    <tr>\n",
       "      <th>75%</th>\n",
       "      <td>1.000000</td>\n",
       "      <td>37.000000</td>\n",
       "      <td>46600.000000</td>\n",
       "      <td>2.000000</td>\n",
       "      <td>0.000000</td>\n",
       "    </tr>\n",
       "    <tr>\n",
       "      <th>max</th>\n",
       "      <td>1.000000</td>\n",
       "      <td>65.000000</td>\n",
       "      <td>79000.000000</td>\n",
       "      <td>6.000000</td>\n",
       "      <td>5.000000</td>\n",
       "    </tr>\n",
       "  </tbody>\n",
       "</table>\n",
       "</div>"
      ],
      "text/plain": [
       "            gender          age        income  family_members  \\\n",
       "count  5000.000000  5000.000000   5000.000000     5000.000000   \n",
       "mean      0.499000    30.952800  39916.360000        1.194200   \n",
       "std       0.500049     8.440807   9900.083569        1.091387   \n",
       "min       0.000000    18.000000   5300.000000        0.000000   \n",
       "25%       0.000000    24.000000  33300.000000        0.000000   \n",
       "50%       0.000000    30.000000  40200.000000        1.000000   \n",
       "75%       1.000000    37.000000  46600.000000        2.000000   \n",
       "max       1.000000    65.000000  79000.000000        6.000000   \n",
       "\n",
       "       insurance_benefits  \n",
       "count         5000.000000  \n",
       "mean             0.148000  \n",
       "std              0.463183  \n",
       "min              0.000000  \n",
       "25%              0.000000  \n",
       "50%              0.000000  \n",
       "75%              0.000000  \n",
       "max              5.000000  "
      ]
     },
     "execution_count": 50,
     "metadata": {},
     "output_type": "execute_result"
    }
   ],
   "source": [
    "# Take a look at the descriptive statistics of the data\n",
    "df.describe()"
   ]
  },
  {
   "attachments": {},
   "cell_type": "markdown",
   "metadata": {},
   "source": [
    "### Intermediate conclusion\n",
    "\n",
    "Overall, the dataset appears to have no missing values, outliers, or unusual data."
   ]
  },
  {
   "attachments": {},
   "cell_type": "markdown",
   "metadata": {},
   "source": [
    "## Exploratory data analysis\n",
    "\n",
    "We are going to quickly check if certain customer groups exist by observing the scatter plot."
   ]
  },
  {
   "cell_type": "code",
   "execution_count": 51,
   "metadata": {},
   "outputs": [
    {
     "data": {
      "image/png": "[encoded data removed]",
      "text/plain": [
       "<Figure size 1200x1200 with 30 Axes>"
      ]
     },
     "metadata": {},
     "output_type": "display_data"
    }
   ],
   "source": [
    "g = sns.pairplot(df, kind='hist')\n",
    "g.fig.set_size_inches(12, 12)"
   ]
  },
  {
   "attachments": {},
   "cell_type": "markdown",
   "metadata": {},
   "source": [
    "# Task 1. Similar Clients"
   ]
  },
  {
   "cell_type": "code",
   "execution_count": 52,
   "metadata": {},
   "outputs": [],
   "source": [
    "# Create a list of features\n",
    "feature_names = ['gender', 'age', 'income', 'family_members']"
   ]
  },
  {
   "cell_type": "code",
   "execution_count": 53,
   "metadata": {},
   "outputs": [],
   "source": [
    "# Create a function to get the KNN (k-nearest neighbors)\n",
    "def get_knn(df, n, k, metric):\n",
    "    \"\"\"\n",
    "    Finds the k nearest neighbors of the nth object in a pandas DataFrame.\n",
    "\n",
    "    Parameters:\n",
    "        df: pandas DataFrame used to find similar objects within the same location\n",
    "        n: Index of the object for which to find the nearest neighbors\n",
    "        k: Number of nearest neighbors to return\n",
    "        metric: Name of the distance metric\n",
    "\n",
    "    Returns:\n",
    "        pandas DataFrame with the k nearest neighbors\n",
    "    \"\"\"\n",
    "\n",
    "    nbrs = sklearn.neighbors.NearestNeighbors(n_neighbors=k, metric=metric).fit(df[feature_names])\n",
    "    nbrs_distances, nbrs_indices = nbrs.kneighbors([df.iloc[n][feature_names]], k, return_distance=True)\n",
    "\n",
    "    return pd.concat(\n",
    "        [\n",
    "            df.iloc[nbrs_indices[0]],\n",
    "            pd.DataFrame(\n",
    "                nbrs_distances.T, index=nbrs_indices[0], columns=['distance']\n",
    "            ),\n",
    "        ],\n",
    "        axis=1,\n",
    "    )"
   ]
  },
  {
   "attachments": {},
   "cell_type": "markdown",
   "metadata": {},
   "source": [
    "## Scaling data"
   ]
  },
  {
   "cell_type": "code",
   "execution_count": 54,
   "metadata": {},
   "outputs": [],
   "source": [
    "# MaxAbsScaler transformation\n",
    "transformer_mas = sklearn.preprocessing.MaxAbsScaler().fit(df[feature_names].to_numpy())\n",
    "\n",
    "# Transform the chosen features\n",
    "df_scaled = df.copy()\n",
    "df_scaled[feature_names] = transformer_mas.transform(df[feature_names].to_numpy())"
   ]
  },
  {
   "cell_type": "code",
   "execution_count": 55,
   "metadata": {},
   "outputs": [
    {
     "data": {
      "text/html": [
       "<div>\n",
       "<style scoped>\n",
       "    .dataframe tbody tr th:only-of-type {\n",
       "        vertical-align: middle;\n",
       "    }\n",
       "\n",
       "    .dataframe tbody tr th {\n",
       "        vertical-align: top;\n",
       "    }\n",
       "\n",
       "    .dataframe thead th {\n",
       "        text-align: right;\n",
       "    }\n",
       "</style>\n",
       "<table border=\"1\" class=\"dataframe\">\n",
       "  <thead>\n",
       "    <tr style=\"text-align: right;\">\n",
       "      <th></th>\n",
       "      <th>gender</th>\n",
       "      <th>age</th>\n",
       "      <th>income</th>\n",
       "      <th>family_members</th>\n",
       "      <th>insurance_benefits</th>\n",
       "    </tr>\n",
       "  </thead>\n",
       "  <tbody>\n",
       "    <tr>\n",
       "      <th>3057</th>\n",
       "      <td>1.0</td>\n",
       "      <td>0.507692</td>\n",
       "      <td>0.486076</td>\n",
       "      <td>0.333333</td>\n",
       "      <td>0</td>\n",
       "    </tr>\n",
       "    <tr>\n",
       "      <th>3884</th>\n",
       "      <td>0.0</td>\n",
       "      <td>0.400000</td>\n",
       "      <td>0.612658</td>\n",
       "      <td>0.500000</td>\n",
       "      <td>0</td>\n",
       "    </tr>\n",
       "    <tr>\n",
       "      <th>4264</th>\n",
       "      <td>1.0</td>\n",
       "      <td>0.646154</td>\n",
       "      <td>0.665823</td>\n",
       "      <td>0.000000</td>\n",
       "      <td>1</td>\n",
       "    </tr>\n",
       "    <tr>\n",
       "      <th>3480</th>\n",
       "      <td>0.0</td>\n",
       "      <td>0.369231</td>\n",
       "      <td>0.675949</td>\n",
       "      <td>0.166667</td>\n",
       "      <td>0</td>\n",
       "    </tr>\n",
       "    <tr>\n",
       "      <th>852</th>\n",
       "      <td>1.0</td>\n",
       "      <td>0.523077</td>\n",
       "      <td>0.443038</td>\n",
       "      <td>0.166667</td>\n",
       "      <td>0</td>\n",
       "    </tr>\n",
       "  </tbody>\n",
       "</table>\n",
       "</div>"
      ],
      "text/plain": [
       "      gender       age    income  family_members  insurance_benefits\n",
       "3057     1.0  0.507692  0.486076        0.333333                   0\n",
       "3884     0.0  0.400000  0.612658        0.500000                   0\n",
       "4264     1.0  0.646154  0.665823        0.000000                   1\n",
       "3480     0.0  0.369231  0.675949        0.166667                   0\n",
       "852      1.0  0.523077  0.443038        0.166667                   0"
      ]
     },
     "execution_count": 55,
     "metadata": {},
     "output_type": "execute_result"
    }
   ],
   "source": [
    "# Print a random sample of 5 rows from the DataFrame\n",
    "df_scaled.sample(5)"
   ]
  },
  {
   "attachments": {},
   "cell_type": "markdown",
   "metadata": {},
   "source": [
    "## KNN (k-nearest neighbors)"
   ]
  },
  {
   "cell_type": "code",
   "execution_count": 56,
   "metadata": {},
   "outputs": [],
   "source": [
    "# Get the 5 nearest neighbors for the object with index 0 (the first object)\n",
    "k = 5\n",
    "index = 0"
   ]
  },
  {
   "cell_type": "code",
   "execution_count": 57,
   "metadata": {},
   "outputs": [
    {
     "name": "stderr",
     "output_type": "stream",
     "text": [
      "/opt/homebrew/lib/python3.11/site-packages/sklearn/base.py:464: UserWarning: X does not have valid feature names, but NearestNeighbors was fitted with feature names\n",
      "  warnings.warn(\n"
     ]
    },
    {
     "data": {
      "text/html": [
       "<div>\n",
       "<style scoped>\n",
       "    .dataframe tbody tr th:only-of-type {\n",
       "        vertical-align: middle;\n",
       "    }\n",
       "\n",
       "    .dataframe tbody tr th {\n",
       "        vertical-align: top;\n",
       "    }\n",
       "\n",
       "    .dataframe thead th {\n",
       "        text-align: right;\n",
       "    }\n",
       "</style>\n",
       "<table border=\"1\" class=\"dataframe\">\n",
       "  <thead>\n",
       "    <tr style=\"text-align: right;\">\n",
       "      <th></th>\n",
       "      <th>gender</th>\n",
       "      <th>age</th>\n",
       "      <th>income</th>\n",
       "      <th>family_members</th>\n",
       "      <th>insurance_benefits</th>\n",
       "      <th>distance</th>\n",
       "    </tr>\n",
       "  </thead>\n",
       "  <tbody>\n",
       "    <tr>\n",
       "      <th>0</th>\n",
       "      <td>1</td>\n",
       "      <td>41</td>\n",
       "      <td>49600.0</td>\n",
       "      <td>1</td>\n",
       "      <td>0</td>\n",
       "      <td>0.000000</td>\n",
       "    </tr>\n",
       "    <tr>\n",
       "      <th>2022</th>\n",
       "      <td>1</td>\n",
       "      <td>41</td>\n",
       "      <td>49600.0</td>\n",
       "      <td>0</td>\n",
       "      <td>0</td>\n",
       "      <td>1.000000</td>\n",
       "    </tr>\n",
       "    <tr>\n",
       "      <th>1225</th>\n",
       "      <td>0</td>\n",
       "      <td>42</td>\n",
       "      <td>49600.0</td>\n",
       "      <td>0</td>\n",
       "      <td>1</td>\n",
       "      <td>1.732051</td>\n",
       "    </tr>\n",
       "    <tr>\n",
       "      <th>4031</th>\n",
       "      <td>1</td>\n",
       "      <td>44</td>\n",
       "      <td>49600.0</td>\n",
       "      <td>2</td>\n",
       "      <td>1</td>\n",
       "      <td>3.162278</td>\n",
       "    </tr>\n",
       "    <tr>\n",
       "      <th>3424</th>\n",
       "      <td>0</td>\n",
       "      <td>38</td>\n",
       "      <td>49600.0</td>\n",
       "      <td>0</td>\n",
       "      <td>0</td>\n",
       "      <td>3.316625</td>\n",
       "    </tr>\n",
       "  </tbody>\n",
       "</table>\n",
       "</div>"
      ],
      "text/plain": [
       "      gender  age   income  family_members  insurance_benefits  distance\n",
       "0          1   41  49600.0               1                   0  0.000000\n",
       "2022       1   41  49600.0               0                   0  1.000000\n",
       "1225       0   42  49600.0               0                   1  1.732051\n",
       "4031       1   44  49600.0               2                   1  3.162278\n",
       "3424       0   38  49600.0               0                   0  3.316625"
      ]
     },
     "execution_count": 57,
     "metadata": {},
     "output_type": "execute_result"
    }
   ],
   "source": [
    "# Using the Euclidean distance and non-scaled data\n",
    "get_knn(df, index, k, 'euclidean')"
   ]
  },
  {
   "cell_type": "code",
   "execution_count": 58,
   "metadata": {},
   "outputs": [
    {
     "name": "stderr",
     "output_type": "stream",
     "text": [
      "/opt/homebrew/lib/python3.11/site-packages/sklearn/base.py:464: UserWarning: X does not have valid feature names, but NearestNeighbors was fitted with feature names\n",
      "  warnings.warn(\n"
     ]
    },
    {
     "data": {
      "text/html": [
       "<div>\n",
       "<style scoped>\n",
       "    .dataframe tbody tr th:only-of-type {\n",
       "        vertical-align: middle;\n",
       "    }\n",
       "\n",
       "    .dataframe tbody tr th {\n",
       "        vertical-align: top;\n",
       "    }\n",
       "\n",
       "    .dataframe thead th {\n",
       "        text-align: right;\n",
       "    }\n",
       "</style>\n",
       "<table border=\"1\" class=\"dataframe\">\n",
       "  <thead>\n",
       "    <tr style=\"text-align: right;\">\n",
       "      <th></th>\n",
       "      <th>gender</th>\n",
       "      <th>age</th>\n",
       "      <th>income</th>\n",
       "      <th>family_members</th>\n",
       "      <th>insurance_benefits</th>\n",
       "      <th>distance</th>\n",
       "    </tr>\n",
       "  </thead>\n",
       "  <tbody>\n",
       "    <tr>\n",
       "      <th>0</th>\n",
       "      <td>1.0</td>\n",
       "      <td>0.630769</td>\n",
       "      <td>0.627848</td>\n",
       "      <td>0.166667</td>\n",
       "      <td>0</td>\n",
       "      <td>0.000000</td>\n",
       "    </tr>\n",
       "    <tr>\n",
       "      <th>2689</th>\n",
       "      <td>1.0</td>\n",
       "      <td>0.630769</td>\n",
       "      <td>0.634177</td>\n",
       "      <td>0.166667</td>\n",
       "      <td>0</td>\n",
       "      <td>0.006329</td>\n",
       "    </tr>\n",
       "    <tr>\n",
       "      <th>133</th>\n",
       "      <td>1.0</td>\n",
       "      <td>0.615385</td>\n",
       "      <td>0.636709</td>\n",
       "      <td>0.166667</td>\n",
       "      <td>0</td>\n",
       "      <td>0.017754</td>\n",
       "    </tr>\n",
       "    <tr>\n",
       "      <th>4869</th>\n",
       "      <td>1.0</td>\n",
       "      <td>0.646154</td>\n",
       "      <td>0.637975</td>\n",
       "      <td>0.166667</td>\n",
       "      <td>1</td>\n",
       "      <td>0.018418</td>\n",
       "    </tr>\n",
       "    <tr>\n",
       "      <th>3275</th>\n",
       "      <td>1.0</td>\n",
       "      <td>0.646154</td>\n",
       "      <td>0.651899</td>\n",
       "      <td>0.166667</td>\n",
       "      <td>1</td>\n",
       "      <td>0.028550</td>\n",
       "    </tr>\n",
       "  </tbody>\n",
       "</table>\n",
       "</div>"
      ],
      "text/plain": [
       "      gender       age    income  family_members  insurance_benefits  distance\n",
       "0        1.0  0.630769  0.627848        0.166667                   0  0.000000\n",
       "2689     1.0  0.630769  0.634177        0.166667                   0  0.006329\n",
       "133      1.0  0.615385  0.636709        0.166667                   0  0.017754\n",
       "4869     1.0  0.646154  0.637975        0.166667                   1  0.018418\n",
       "3275     1.0  0.646154  0.651899        0.166667                   1  0.028550"
      ]
     },
     "execution_count": 58,
     "metadata": {},
     "output_type": "execute_result"
    }
   ],
   "source": [
    "# Using the Euclidean distance and scaled data\n",
    "get_knn(df_scaled, index, k, 'euclidean')"
   ]
  },
  {
   "cell_type": "code",
   "execution_count": 59,
   "metadata": {},
   "outputs": [
    {
     "name": "stderr",
     "output_type": "stream",
     "text": [
      "/opt/homebrew/lib/python3.11/site-packages/sklearn/base.py:464: UserWarning: X does not have valid feature names, but NearestNeighbors was fitted with feature names\n",
      "  warnings.warn(\n"
     ]
    },
    {
     "data": {
      "text/html": [
       "<div>\n",
       "<style scoped>\n",
       "    .dataframe tbody tr th:only-of-type {\n",
       "        vertical-align: middle;\n",
       "    }\n",
       "\n",
       "    .dataframe tbody tr th {\n",
       "        vertical-align: top;\n",
       "    }\n",
       "\n",
       "    .dataframe thead th {\n",
       "        text-align: right;\n",
       "    }\n",
       "</style>\n",
       "<table border=\"1\" class=\"dataframe\">\n",
       "  <thead>\n",
       "    <tr style=\"text-align: right;\">\n",
       "      <th></th>\n",
       "      <th>gender</th>\n",
       "      <th>age</th>\n",
       "      <th>income</th>\n",
       "      <th>family_members</th>\n",
       "      <th>insurance_benefits</th>\n",
       "      <th>distance</th>\n",
       "    </tr>\n",
       "  </thead>\n",
       "  <tbody>\n",
       "    <tr>\n",
       "      <th>0</th>\n",
       "      <td>1</td>\n",
       "      <td>41</td>\n",
       "      <td>49600.0</td>\n",
       "      <td>1</td>\n",
       "      <td>0</td>\n",
       "      <td>0.0</td>\n",
       "    </tr>\n",
       "    <tr>\n",
       "      <th>2022</th>\n",
       "      <td>1</td>\n",
       "      <td>41</td>\n",
       "      <td>49600.0</td>\n",
       "      <td>0</td>\n",
       "      <td>0</td>\n",
       "      <td>1.0</td>\n",
       "    </tr>\n",
       "    <tr>\n",
       "      <th>1225</th>\n",
       "      <td>0</td>\n",
       "      <td>42</td>\n",
       "      <td>49600.0</td>\n",
       "      <td>0</td>\n",
       "      <td>1</td>\n",
       "      <td>3.0</td>\n",
       "    </tr>\n",
       "    <tr>\n",
       "      <th>4031</th>\n",
       "      <td>1</td>\n",
       "      <td>44</td>\n",
       "      <td>49600.0</td>\n",
       "      <td>2</td>\n",
       "      <td>1</td>\n",
       "      <td>4.0</td>\n",
       "    </tr>\n",
       "    <tr>\n",
       "      <th>815</th>\n",
       "      <td>1</td>\n",
       "      <td>37</td>\n",
       "      <td>49600.0</td>\n",
       "      <td>2</td>\n",
       "      <td>0</td>\n",
       "      <td>5.0</td>\n",
       "    </tr>\n",
       "  </tbody>\n",
       "</table>\n",
       "</div>"
      ],
      "text/plain": [
       "      gender  age   income  family_members  insurance_benefits  distance\n",
       "0          1   41  49600.0               1                   0       0.0\n",
       "2022       1   41  49600.0               0                   0       1.0\n",
       "1225       0   42  49600.0               0                   1       3.0\n",
       "4031       1   44  49600.0               2                   1       4.0\n",
       "815        1   37  49600.0               2                   0       5.0"
      ]
     },
     "execution_count": 59,
     "metadata": {},
     "output_type": "execute_result"
    }
   ],
   "source": [
    "# Using the Manhattan distance and non-scaled data\n",
    "get_knn(df, index, k, 'manhattan')"
   ]
  },
  {
   "cell_type": "code",
   "execution_count": 60,
   "metadata": {},
   "outputs": [
    {
     "name": "stderr",
     "output_type": "stream",
     "text": [
      "/opt/homebrew/lib/python3.11/site-packages/sklearn/base.py:464: UserWarning: X does not have valid feature names, but NearestNeighbors was fitted with feature names\n",
      "  warnings.warn(\n"
     ]
    },
    {
     "data": {
      "text/html": [
       "<div>\n",
       "<style scoped>\n",
       "    .dataframe tbody tr th:only-of-type {\n",
       "        vertical-align: middle;\n",
       "    }\n",
       "\n",
       "    .dataframe tbody tr th {\n",
       "        vertical-align: top;\n",
       "    }\n",
       "\n",
       "    .dataframe thead th {\n",
       "        text-align: right;\n",
       "    }\n",
       "</style>\n",
       "<table border=\"1\" class=\"dataframe\">\n",
       "  <thead>\n",
       "    <tr style=\"text-align: right;\">\n",
       "      <th></th>\n",
       "      <th>gender</th>\n",
       "      <th>age</th>\n",
       "      <th>income</th>\n",
       "      <th>family_members</th>\n",
       "      <th>insurance_benefits</th>\n",
       "      <th>distance</th>\n",
       "    </tr>\n",
       "  </thead>\n",
       "  <tbody>\n",
       "    <tr>\n",
       "      <th>0</th>\n",
       "      <td>1.0</td>\n",
       "      <td>0.630769</td>\n",
       "      <td>0.627848</td>\n",
       "      <td>0.166667</td>\n",
       "      <td>0</td>\n",
       "      <td>0.000000</td>\n",
       "    </tr>\n",
       "    <tr>\n",
       "      <th>2689</th>\n",
       "      <td>1.0</td>\n",
       "      <td>0.630769</td>\n",
       "      <td>0.634177</td>\n",
       "      <td>0.166667</td>\n",
       "      <td>0</td>\n",
       "      <td>0.006329</td>\n",
       "    </tr>\n",
       "    <tr>\n",
       "      <th>133</th>\n",
       "      <td>1.0</td>\n",
       "      <td>0.615385</td>\n",
       "      <td>0.636709</td>\n",
       "      <td>0.166667</td>\n",
       "      <td>0</td>\n",
       "      <td>0.024245</td>\n",
       "    </tr>\n",
       "    <tr>\n",
       "      <th>4869</th>\n",
       "      <td>1.0</td>\n",
       "      <td>0.646154</td>\n",
       "      <td>0.637975</td>\n",
       "      <td>0.166667</td>\n",
       "      <td>1</td>\n",
       "      <td>0.025511</td>\n",
       "    </tr>\n",
       "    <tr>\n",
       "      <th>2103</th>\n",
       "      <td>1.0</td>\n",
       "      <td>0.630769</td>\n",
       "      <td>0.596203</td>\n",
       "      <td>0.166667</td>\n",
       "      <td>0</td>\n",
       "      <td>0.031646</td>\n",
       "    </tr>\n",
       "  </tbody>\n",
       "</table>\n",
       "</div>"
      ],
      "text/plain": [
       "      gender       age    income  family_members  insurance_benefits  distance\n",
       "0        1.0  0.630769  0.627848        0.166667                   0  0.000000\n",
       "2689     1.0  0.630769  0.634177        0.166667                   0  0.006329\n",
       "133      1.0  0.615385  0.636709        0.166667                   0  0.024245\n",
       "4869     1.0  0.646154  0.637975        0.166667                   1  0.025511\n",
       "2103     1.0  0.630769  0.596203        0.166667                   0  0.031646"
      ]
     },
     "execution_count": 60,
     "metadata": {},
     "output_type": "execute_result"
    }
   ],
   "source": [
    "# Using the Manhattan distance and scaled data\n",
    "get_knn(df_scaled, index, k, 'manhattan')"
   ]
  },
  {
   "attachments": {},
   "cell_type": "markdown",
   "metadata": {},
   "source": [
    "## Intermediate Conclusion\n",
    "\n",
    "- **Does the fact that the data is not scaled affect the kNN algorithm? If so, how does it manifest?**\n",
    "\n",
    "Yes, the fact that the data is not scaled significantly affects the k-NN algorithm. When the data is not scaled, features with larger value ranges have a disproportionate weight in determining distance.\n",
    "\n",
    "- **How similar are the results when using Manhattan distance metric (regardless of scaling)?**\n",
    "\n",
    "Although the results are similar, they are not identical. This suggests that although Manhattan distance is less sensitive to data scaling than Euclidean distance, there may still be differences in results depending on whether or not the data is scaled."
   ]
  },
  {
   "attachments": {},
   "cell_type": "markdown",
   "metadata": {},
   "source": [
    "# Task 2. Is it likely that the client will receive an insurance benefit?"
   ]
  },
  {
   "cell_type": "code",
   "execution_count": 61,
   "metadata": {},
   "outputs": [],
   "source": [
    "# Calculate the target\n",
    "df['insurance_benefits_received'] = (df['insurance_benefits'] > 0).astype('int')"
   ]
  },
  {
   "cell_type": "code",
   "execution_count": 62,
   "metadata": {},
   "outputs": [
    {
     "data": {
      "text/plain": [
       "0    4436\n",
       "1     564\n",
       "Name: insurance_benefits_received, dtype: int64"
      ]
     },
     "execution_count": 62,
     "metadata": {},
     "output_type": "execute_result"
    }
   ],
   "source": [
    "# Check class imbalance with value_counts()\n",
    "df['insurance_benefits_received'].value_counts()"
   ]
  },
  {
   "cell_type": "code",
   "execution_count": 63,
   "metadata": {},
   "outputs": [],
   "source": [
    "# Create function to evaluate the model predictions\n",
    "def eval_classifier(y_true, y_pred):\n",
    "    \n",
    "    f1_score = sklearn.metrics.f1_score(y_true, y_pred)\n",
    "    print(f'F1: {f1_score:.2f}')\n",
    "    \n",
    "    cm = sklearn.metrics.confusion_matrix(y_true, y_pred, normalize='all')\n",
    "    print('Confusion matrix')\n",
    "    print(cm)"
   ]
  },
  {
   "cell_type": "code",
   "execution_count": 64,
   "metadata": {},
   "outputs": [],
   "source": [
    "# Create function to generate random predictions\n",
    "def rnd_model_predict(P, size, seed=42):\n",
    "    rng = np.random.default_rng(seed=seed)\n",
    "    return rng.binomial(n=1, p=P, size=size)"
   ]
  },
  {
   "cell_type": "code",
   "execution_count": 65,
   "metadata": {},
   "outputs": [
    {
     "name": "stdout",
     "output_type": "stream",
     "text": [
      "Probability: 0.00\n",
      "F1: 0.00\n",
      "Confusion matrix\n",
      "[[0.8872 0.    ]\n",
      " [0.1128 0.    ]]\n",
      "\n",
      "Probability: 0.11\n",
      "F1: 0.12\n",
      "Confusion matrix\n",
      "[[0.7914 0.0958]\n",
      " [0.0994 0.0134]]\n",
      "\n",
      "Probability: 0.50\n",
      "F1: 0.20\n",
      "Confusion matrix\n",
      "[[0.456  0.4312]\n",
      " [0.053  0.0598]]\n",
      "\n",
      "Probability: 1.00\n",
      "F1: 0.20\n",
      "Confusion matrix\n",
      "[[0.     0.8872]\n",
      " [0.     0.1128]]\n",
      "\n"
     ]
    }
   ],
   "source": [
    "# Test random model\n",
    "for P in [0, df['insurance_benefits_received'].sum() / len(df), 0.5, 1]:\n",
    "    print(f'Probability: {P:.2f}')\n",
    "    y_pred_rnd = rnd_model_predict(P, len(df))    \n",
    "    eval_classifier(df['insurance_benefits_received'], y_pred_rnd)\n",
    "    print()"
   ]
  },
  {
   "cell_type": "code",
   "execution_count": 66,
   "metadata": {},
   "outputs": [
    {
     "name": "stdout",
     "output_type": "stream",
     "text": [
      "k: 1\n",
      "F1: 0.65\n",
      "Confusion matrix\n",
      "[[0.874      0.01866667]\n",
      " [0.04666667 0.06066667]]\n",
      "\n",
      "k: 2\n",
      "F1: 0.38\n",
      "Confusion matrix\n",
      "[[0.89066667 0.002     ]\n",
      " [0.082      0.02533333]]\n",
      "\n",
      "k: 3\n",
      "F1: 0.39\n",
      "Confusion matrix\n",
      "[[0.88266667 0.01      ]\n",
      " [0.07933333 0.028     ]]\n",
      "\n",
      "k: 4\n",
      "F1: 0.16\n",
      "Confusion matrix\n",
      "[[0.88933333 0.00333333]\n",
      " [0.098      0.00933333]]\n",
      "\n",
      "k: 5\n",
      "F1: 0.17\n",
      "Confusion matrix\n",
      "[[0.884      0.00866667]\n",
      " [0.09666667 0.01066667]]\n",
      "\n",
      "k: 6\n",
      "F1: 0.09\n",
      "Confusion matrix\n",
      "[[8.92000000e-01 6.66666667e-04]\n",
      " [1.02000000e-01 5.33333333e-03]]\n",
      "\n",
      "k: 7\n",
      "F1: 0.10\n",
      "Confusion matrix\n",
      "[[0.89133333 0.00133333]\n",
      " [0.10133333 0.006     ]]\n",
      "\n",
      "k: 8\n",
      "F1: 0.02\n",
      "Confusion matrix\n",
      "[[0.89266667 0.        ]\n",
      " [0.106      0.00133333]]\n",
      "\n",
      "k: 9\n",
      "F1: 0.04\n",
      "Confusion matrix\n",
      "[[0.89266667 0.        ]\n",
      " [0.10533333 0.002     ]]\n",
      "\n",
      "k: 10\n",
      "F1: 0.04\n",
      "Confusion matrix\n",
      "[[0.89266667 0.        ]\n",
      " [0.10533333 0.002     ]]\n",
      "\n"
     ]
    }
   ],
   "source": [
    "# Test KNN model with non-scaled data\n",
    "\n",
    "# Separate features and target\n",
    "X = df[feature_names].to_numpy()\n",
    "y = df['insurance_benefits_received'].to_numpy()\n",
    "\n",
    "# Split the data into training and test sets\n",
    "X_train, X_test, y_train, y_test = train_test_split(X, y, test_size=0.3, random_state=42)\n",
    "\n",
    "# Try different values of k\n",
    "for k in range(1, 11):\n",
    "    print(f\"k: {k}\")\n",
    "\n",
    "    # Create and train the kNN classifier\n",
    "    knn = sklearn.neighbors.KNeighborsClassifier(n_neighbors=k)\n",
    "    knn.fit(X_train, y_train)\n",
    "\n",
    "    # Make predictions on the test set\n",
    "    y_pred = knn.predict(X_test)\n",
    "\n",
    "    # Evaluate classifier\n",
    "    eval_classifier(y_test, y_pred)\n",
    "\n",
    "    print()"
   ]
  },
  {
   "cell_type": "code",
   "execution_count": 67,
   "metadata": {},
   "outputs": [
    {
     "name": "stdout",
     "output_type": "stream",
     "text": [
      "k: 1\n",
      "F1: 0.93\n",
      "Confusion matrix\n",
      "[[0.888      0.00466667]\n",
      " [0.00933333 0.098     ]]\n",
      "\n",
      "k: 2\n",
      "F1: 0.92\n",
      "Confusion matrix\n",
      "[[0.89066667 0.002     ]\n",
      " [0.01466667 0.09266667]]\n",
      "\n",
      "k: 3\n",
      "F1: 0.94\n",
      "Confusion matrix\n",
      "[[0.88933333 0.00333333]\n",
      " [0.00933333 0.098     ]]\n",
      "\n",
      "k: 4\n",
      "F1: 0.91\n",
      "Confusion matrix\n",
      "[[0.89133333 0.00133333]\n",
      " [0.016      0.09133333]]\n",
      "\n",
      "k: 5\n",
      "F1: 0.94\n",
      "Confusion matrix\n",
      "[[0.88933333 0.00333333]\n",
      " [0.01       0.09733333]]\n",
      "\n",
      "k: 6\n",
      "F1: 0.91\n",
      "Confusion matrix\n",
      "[[0.89133333 0.00133333]\n",
      " [0.016      0.09133333]]\n",
      "\n",
      "k: 7\n",
      "F1: 0.93\n",
      "Confusion matrix\n",
      "[[0.89       0.00266667]\n",
      " [0.012      0.09533333]]\n",
      "\n",
      "k: 8\n",
      "F1: 0.91\n",
      "Confusion matrix\n",
      "[[8.92000000e-01 6.66666667e-04]\n",
      " [1.66666667e-02 9.06666667e-02]]\n",
      "\n",
      "k: 9\n",
      "F1: 0.93\n",
      "Confusion matrix\n",
      "[[0.89133333 0.00133333]\n",
      " [0.01266667 0.09466667]]\n",
      "\n",
      "k: 10\n",
      "F1: 0.91\n",
      "Confusion matrix\n",
      "[[8.92000000e-01 6.66666667e-04]\n",
      " [1.66666667e-02 9.06666667e-02]]\n",
      "\n"
     ]
    }
   ],
   "source": [
    "# Test KNN model with scaled data\n",
    "\n",
    "# Separate features and target\n",
    "X = df_scaled[feature_names].to_numpy()\n",
    "y = df['insurance_benefits_received'].to_numpy()\n",
    "\n",
    "# Split the data into training and test sets\n",
    "X_train, X_test, y_train, y_test = train_test_split(X, y, test_size=0.3, random_state=42)\n",
    "\n",
    "# Try different values of k\n",
    "for k in range(1, 11):\n",
    "    print(f\"k: {k}\")\n",
    "\n",
    "    # Create and train the kNN classifier\n",
    "    knn = sklearn.neighbors.KNeighborsClassifier(n_neighbors=k)\n",
    "    knn.fit(X_train, y_train)\n",
    "\n",
    "    # Make predictions on the test set\n",
    "    y_pred = knn.predict(X_test)\n",
    "\n",
    "    # Evaluate classifier\n",
    "    eval_classifier(y_test, y_pred)\n",
    "\n",
    "    print()\n"
   ]
  },
  {
   "attachments": {},
   "cell_type": "markdown",
   "metadata": {},
   "source": [
    "## Intermediate Conclusion\n",
    "\n",
    "- The data is imbalanced, indicating a class imbalance with `0` being more common than `1`.\n",
    "- The highest score for the random model would be `0.5`. The results obtained in the KNN model are much better.\n",
    "- It can be observed that scaled data achieves a higher F1 score compared to non-scaled data for the KNN model."
   ]
  },
  {
   "attachments": {},
   "cell_type": "markdown",
   "metadata": {},
   "source": [
    "# Task 3. Linear Regression"
   ]
  },
  {
   "attachments": {},
   "cell_type": "markdown",
   "metadata": {},
   "source": [
    "## Divide all the data corresponding to the training/testing stages respecting the 70:30 ratio. Use the RECM metric to evaluate the model."
   ]
  },
  {
   "cell_type": "code",
   "execution_count": 68,
   "metadata": {},
   "outputs": [],
   "source": [
    "# Write example implementation of linear regression \n",
    "class MyLinearRegression:\n",
    "    \n",
    "    def __init__(self):\n",
    "        \n",
    "        # Initialize weights to None; these will be computed during the fit process\n",
    "        self.weights = None\n",
    "    \n",
    "    def fit(self, X, y):\n",
    "        \n",
    "        # Add a bias column (ones) to the input features\n",
    "        X2 = np.append(np.ones([len(X), 1]), X, axis=1)\n",
    "\n",
    "        # Compute weights using the Normal Equation method\n",
    "        self.weights = np.linalg.inv(X2.T @ X2) @ X2.T @ y\n",
    "\n",
    "    def predict(self, X):\n",
    "        \n",
    "        # Add a bias column (ones) to the input features for prediction\n",
    "        X2 = np.append(np.ones([len(X), 1]), X, axis=1)\n",
    "\n",
    "        # Return predicted values by multiplying the feature matrix with weights\n",
    "        return X2 @ self.weights\n"
   ]
  },
  {
   "cell_type": "code",
   "execution_count": 69,
   "metadata": {},
   "outputs": [],
   "source": [
    "# Create function to evaluate the model predictions\n",
    "def eval_regressor(y_true, y_pred):\n",
    "    rmse = math.sqrt(sklearn.metrics.mean_squared_error(y_true, y_pred))\n",
    "    print(f'RMSE: {rmse:.2f}') \n",
    "    r2_score = math.sqrt(sklearn.metrics.r2_score(y_true, y_pred))\n",
    "    print(f'R2: {r2_score:.2f}')    "
   ]
  },
  {
   "cell_type": "code",
   "execution_count": 70,
   "metadata": {},
   "outputs": [
    {
     "name": "stdout",
     "output_type": "stream",
     "text": [
      "[-9.43539012e-01  1.64272726e-02  3.57495491e-02 -2.60743659e-07\n",
      " -1.16902127e-02]\n",
      "RMSE: 0.34\n",
      "R2: 0.66\n"
     ]
    }
   ],
   "source": [
    "# Test the linear regression model with the non-scaled data\n",
    "X = df[feature_names].to_numpy()\n",
    "y = df['insurance_benefits'].to_numpy()\n",
    "\n",
    "X_train, X_test, y_train, y_test = train_test_split(X, y, test_size=0.3, random_state=12345)\n",
    "\n",
    "lr = MyLinearRegression()\n",
    "\n",
    "lr.fit(X_train, y_train)\n",
    "print(lr.weights)\n",
    "\n",
    "y_test_pred = lr.predict(X_test)\n",
    "eval_regressor(y_test, y_test_pred)"
   ]
  },
  {
   "cell_type": "code",
   "execution_count": 71,
   "metadata": {},
   "outputs": [
    {
     "name": "stdout",
     "output_type": "stream",
     "text": [
      "[-0.94353901  0.01642727  2.32372069 -0.02059875 -0.07014128]\n",
      "RMSE: 0.34\n",
      "R2: 0.66\n"
     ]
    }
   ],
   "source": [
    "# Test the linear regression model with the scaled data\n",
    "X = df_scaled[feature_names].to_numpy()\n",
    "y = df_scaled['insurance_benefits'].to_numpy()\n",
    "\n",
    "X_train, X_test, y_train, y_test = train_test_split(X, y, test_size=0.3, random_state=12345)\n",
    "\n",
    "lr = MyLinearRegression()\n",
    "\n",
    "lr.fit(X_train, y_train)\n",
    "print(lr.weights)\n",
    "\n",
    "y_test_pred = lr.predict(X_test)\n",
    "eval_regressor(y_test, y_test_pred)"
   ]
  },
  {
   "attachments": {},
   "cell_type": "markdown",
   "metadata": {},
   "source": [
    "## Intermediate Conclusion\n",
    "\n",
    "- The regression weights for the non-scaled and scaled data are different, which is expected as the scale of the data influences the magnitude of weights in linear regression.\n",
    "- However, the model performance (measured by RMSE and R2) is essentially the same for both datasets."
   ]
  },
  {
   "attachments": {},
   "cell_type": "markdown",
   "metadata": {},
   "source": [
    "# Task 4. Obfuscate data"
   ]
  },
  {
   "cell_type": "code",
   "execution_count": 72,
   "metadata": {},
   "outputs": [],
   "source": [
    "# Create a list of features for the personal information\n",
    "personal_info_column_list = ['gender', 'age', 'income', 'family_members']\n",
    "\n",
    "# Create a DataFrame with the personal information\n",
    "df_pn = df[personal_info_column_list]"
   ]
  },
  {
   "cell_type": "code",
   "execution_count": 73,
   "metadata": {},
   "outputs": [],
   "source": [
    "# Save DataFrame as X (numpy array)\n",
    "X = df_pn.to_numpy()"
   ]
  },
  {
   "cell_type": "code",
   "execution_count": 74,
   "metadata": {},
   "outputs": [],
   "source": [
    "# Create a random number generator\n",
    "rng = np.random.default_rng(seed=42)\n",
    "\n",
    "# Create a random matrix P with the same shape as X\n",
    "P = rng.random(size=(X.shape[1], X.shape[1]))"
   ]
  },
  {
   "cell_type": "code",
   "execution_count": 75,
   "metadata": {},
   "outputs": [
    {
     "name": "stdout",
     "output_type": "stream",
     "text": [
      "[[ 0.41467992 -1.43783972  0.62798546  1.14001268]\n",
      " [-1.06101789  0.44219337  0.1329549   1.18425933]\n",
      " [ 1.42362442  1.60461607 -2.0553823  -1.53699695]\n",
      " [-0.11128575 -0.65813802  1.74995517 -0.11816316]]\n"
     ]
    }
   ],
   "source": [
    "# Check that matrix P is invertible\n",
    "P_inverted = np.linalg.inv(P)\n",
    "print(P_inverted)"
   ]
  },
  {
   "cell_type": "code",
   "execution_count": 76,
   "metadata": {},
   "outputs": [
    {
     "name": "stdout",
     "output_type": "stream",
     "text": [
      "[[ 6359.71527314 22380.40467609 18424.09074184 46000.69669016]\n",
      " [ 4873.29406479 17160.36702982 14125.78076133 35253.45577301]\n",
      " [ 2693.11742928  9486.397744    7808.83156024 19484.86063067]\n",
      " ...\n",
      " [ 4346.2234249  15289.24126492 12586.16264392 31433.50888552]\n",
      " [ 4194.09324155 14751.9910242  12144.02930637 30323.88763426]\n",
      " [ 5205.46827354 18314.24814446 15077.01370762 37649.59295455]]\n"
     ]
    }
   ],
   "source": [
    "# Show the obfuscated matrix X\n",
    "X_obfuscated = X @ P\n",
    "print(X_obfuscated)"
   ]
  },
  {
   "cell_type": "code",
   "execution_count": 77,
   "metadata": {},
   "outputs": [
    {
     "name": "stdout",
     "output_type": "stream",
     "text": [
      "[[1.00e+00 4.10e+01 4.96e+04 1.00e+00]\n",
      " [0.00e+00 4.60e+01 3.80e+04 1.00e+00]\n",
      " [0.00e+00 2.90e+01 2.10e+04 0.00e+00]\n",
      " ...\n",
      " [0.00e+00 2.00e+01 3.39e+04 2.00e+00]\n",
      " [1.00e+00 2.20e+01 3.27e+04 3.00e+00]\n",
      " [1.00e+00 2.80e+01 4.06e+04 1.00e+00]]\n",
      "[[1.00000000e+00 4.10000000e+01 4.96000000e+04 1.00000000e+00]\n",
      " [1.64503537e-12 4.60000000e+01 3.80000000e+04 1.00000000e+00]\n",
      " [9.25561194e-13 2.90000000e+01 2.10000000e+04 1.41940791e-12]\n",
      " ...\n",
      " [3.87221815e-12 2.00000000e+01 3.39000000e+04 2.00000000e+00]\n",
      " [1.00000000e+00 2.20000000e+01 3.27000000e+04 3.00000000e+00]\n",
      " [1.00000000e+00 2.80000000e+01 4.06000000e+04 1.00000000e+00]]\n"
     ]
    }
   ],
   "source": [
    "# Matrix X\n",
    "print(X)\n",
    "\n",
    "# Reconstructed matrix X from the obfuscated matrix X\n",
    "X_original = X_obfuscated @ P_inverted\n",
    "print(X_original)"
   ]
  },
  {
   "cell_type": "code",
   "execution_count": 78,
   "metadata": {},
   "outputs": [
    {
     "name": "stdout",
     "output_type": "stream",
     "text": [
      "Person 0\n",
      "X: [1.00e+00 4.10e+01 4.96e+04 1.00e+00]\n",
      "Obfuscated X: [ 6359.71527314 22380.40467609 18424.09074184 46000.69669016]\n",
      "Reconstructed X: [1.00e+00 4.10e+01 4.96e+04 1.00e+00]\n",
      "\n",
      "Person 1\n",
      "X: [0.0e+00 4.6e+01 3.8e+04 1.0e+00]\n",
      "Obfuscated X: [ 4873.29406479 17160.36702982 14125.78076133 35253.45577301]\n",
      "Reconstructed X: [1.64503537e-12 4.60000000e+01 3.80000000e+04 1.00000000e+00]\n",
      "\n",
      "Person 2\n",
      "X: [    0.    29. 21000.     0.]\n",
      "Obfuscated X: [ 2693.11742928  9486.397744    7808.83156024 19484.86063067]\n",
      "Reconstructed X: [9.25561194e-13 2.90000000e+01 2.10000000e+04 1.41940791e-12]\n",
      "\n"
     ]
    }
   ],
   "source": [
    "# Show data of 3 people in X, X obfuscated, and X reconstructed\n",
    "for i in range(3):\n",
    "    print(f'Person {i}')\n",
    "    print(f'X: {X[i]}')\n",
    "    print(f'Obfuscated X: {X_obfuscated[i]}')\n",
    "    print(f'Reconstructed X: {X_original[i]}')\n",
    "    print()"
   ]
  },
  {
   "attachments": {},
   "cell_type": "markdown",
   "metadata": {},
   "source": [
    "### Intermediate Conclusion\n",
    "\n",
    "- It can be clearly observed that there are erroneous values, especially where there was originally a zero. This is because floating-point operations involve small rounding errors, so these reconstructed numbers are values close to zero."
   ]
  },
  {
   "attachments": {},
   "cell_type": "markdown",
   "metadata": {},
   "source": [
    "## Linear regression test with data obfuscation"
   ]
  },
  {
   "cell_type": "code",
   "execution_count": 79,
   "metadata": {},
   "outputs": [
    {
     "name": "stdout",
     "output_type": "stream",
     "text": [
      "[-0.94353899 -0.05791722 -0.01546573  0.09871897 -0.02397536]\n",
      "RMSE: 0.34\n",
      "R2: 0.66\n"
     ]
    }
   ],
   "source": [
    "# Test the linear regression model with the obfuscated data\n",
    "X = X_obfuscated\n",
    "y = df['insurance_benefits'].to_numpy()\n",
    "\n",
    "X_train, X_test, y_train, y_test = train_test_split(X, y, test_size=0.3, random_state=12345)\n",
    "\n",
    "lr = MyLinearRegression()\n",
    "\n",
    "lr.fit(X_train, y_train)\n",
    "print(lr.weights)\n",
    "\n",
    "y_test_pred = lr.predict(X_test)\n",
    "eval_regressor(y_test, y_test_pred)"
   ]
  },
  {
   "attachments": {},
   "cell_type": "markdown",
   "metadata": {},
   "source": [
    "### Intermediate Conclusion\n",
    "\n",
    "- The exact same values were obtained in both scores as those obtained for the previous linear regression tests."
   ]
  },
  {
   "attachments": {},
   "cell_type": "markdown",
   "metadata": {},
   "source": [
    "# General Conclusion\n",
    "\n",
    "In this project, we addressed four main tasks related to data analysis and machine learning for the insurance company Sure Tomorrow.\n",
    "\n",
    "1. We implemented the k-NN algorithm to find similar customers, highlighting the importance of data scaling for optimal performance.\n",
    "\n",
    "2. We developed a classification model to predict whether a customer would receive an insurance claim. The model proved to be significantly more effective than a random model, indicating its usefulness for the task.\n",
    "\n",
    "3. We built a linear regression model to forecast the number of insurance claims a customer may receive, confirming that the quality of the model remains consistent regardless of data scaling.\n",
    "\n",
    "4. We proposed an effective method of data obfuscation that protects customer privacy without compromising the performance of the machine learning model.\n",
    "\n",
    "In summary, this project demonstrated that it is possible to use machine learning to inform marketing strategies and insurance underwriting decisions while safeguarding customer data privacy."
   ]
  }
 ],
 "metadata": {
  "kernelspec": {
   "display_name": "Python 3 (ipykernel)",
   "language": "python",
   "name": "python3"
  },
  "language_info": {
   "codemirror_mode": {
    "name": "ipython",
    "version": 3
   },
   "file_extension": ".py",
   "mimetype": "text/x-python",
   "name": "python",
   "nbconvert_exporter": "python",
   "pygments_lexer": "ipython3",
   "version": "3.11.2"
  },
  "toc": {
   "base_numbering": 1,
   "nav_menu": {},
   "number_sections": true,
   "sideBar": true,
   "skip_h1_title": true,
   "title_cell": "Table of Contents",
   "title_sidebar": "Contents",
   "toc_cell": false,
   "toc_position": {},
   "toc_section_display": true,
   "toc_window_display": false
  }
 },
 "nbformat": 4,
 "nbformat_minor": 4
}
