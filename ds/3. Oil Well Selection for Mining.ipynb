{
 "cells": [
  {
   "attachments": {},
   "cell_type": "markdown",
   "metadata": {},
   "source": [
    "# Oil Well Selection Optimization\n",
    "\n",
    "You work for the mining company OilyGiant. Your task is to find the best location for a new oil well.\n",
    "Steps to choose the location:\n",
    "\n",
    "- Collect parameters of oil wells in the selected region: oil quality and reserve volume\n",
    "- Build a model to predict reserve volume in new wells\n",
    "- Select oil wells with highest estimated values\n",
    "- Choose the region with the highest total benefit for selected oil wells\n",
    "\n",
    "You have data on crude samples from three regions. The parameters of each oil well in the region are already known. Create a model that helps choose the region with the highest profit margin. Analyze potential benefits and risks using bootstrapping technique."
   ]
  },
  {
   "attachments": {},
   "cell_type": "markdown",
   "metadata": {},
   "source": [
    "# Data Description\n",
    "\n",
    "- `id` — Unique identifier of an oil well\n",
    "- `f0, f1, f2` — Three characteristics about the quality of the oil (the specific meaning is not important, but the characteristics themselves are significant)\n",
    "- `product` — Volume of reserves in the oil well (thousands of barrels)\n",
    "\n",
    "**Conditions**:\n",
    "\n",
    "- Only linear regression is suitable for model training.\n",
    "- When exploring the region, a study with 500 points is conducted and the best 200 points are selected for profit calculation.\n",
    "- The budget for developing 200 oil wells is $100 million.\n",
    "- One barrel of raw materials generates $4.5 in revenue. The revenue from one unit of product is $4500 (the volume of reserves is expressed in thousands of barrels).\n",
    "- After risk assessment, only regions with a risk of loss below 2.5% should be kept. From those that meet the criteria, select the region with the highest average profit."
   ]
  },
  {
   "attachments": {},
   "cell_type": "markdown",
   "metadata": {},
   "source": [
    "# Initialization"
   ]
  },
  {
   "cell_type": "code",
   "execution_count": 33,
   "metadata": {},
   "outputs": [],
   "source": [
    "# Load libraries\n",
    "import pandas as pd\n",
    "from sklearn.linear_model import LinearRegression\n",
    "from sklearn.model_selection import train_test_split\n",
    "from sklearn.metrics import mean_squared_error\n",
    "import numpy as np"
   ]
  },
  {
   "cell_type": "markdown",
   "metadata": {},
   "source": [
    "# Load data"
   ]
  },
  {
   "cell_type": "code",
   "execution_count": 34,
   "metadata": {},
   "outputs": [],
   "source": [
    "# Load the data into DataFrames\n",
    "df0 = pd.read_csv('../datasets/geo_data_0.csv')\n",
    "df1 = pd.read_csv('../datasets/geo_data_1.csv')\n",
    "df2 = pd.read_csv('../datasets/geo_data_2.csv')"
   ]
  },
  {
   "attachments": {},
   "cell_type": "markdown",
   "metadata": {},
   "source": [
    "# Prepare data"
   ]
  },
  {
   "cell_type": "code",
   "execution_count": 35,
   "metadata": {},
   "outputs": [
    {
     "name": "stdout",
     "output_type": "stream",
     "text": [
      "<class 'pandas.core.frame.DataFrame'>\n",
      "RangeIndex: 100000 entries, 0 to 99999\n",
      "Data columns (total 5 columns):\n",
      " #   Column   Non-Null Count   Dtype  \n",
      "---  ------   --------------   -----  \n",
      " 0   id       100000 non-null  object \n",
      " 1   f0       100000 non-null  float64\n",
      " 2   f1       100000 non-null  float64\n",
      " 3   f2       100000 non-null  float64\n",
      " 4   product  100000 non-null  float64\n",
      "dtypes: float64(4), object(1)\n",
      "memory usage: 3.8+ MB\n"
     ]
    }
   ],
   "source": [
    "# Print the general/summary information about the DataFrame\n",
    "df0.info()"
   ]
  },
  {
   "cell_type": "code",
   "execution_count": 36,
   "metadata": {},
   "outputs": [
    {
     "data": {
      "text/html": [
       "<div>\n",
       "<style scoped>\n",
       "    .dataframe tbody tr th:only-of-type {\n",
       "        vertical-align: middle;\n",
       "    }\n",
       "\n",
       "    .dataframe tbody tr th {\n",
       "        vertical-align: top;\n",
       "    }\n",
       "\n",
       "    .dataframe thead th {\n",
       "        text-align: right;\n",
       "    }\n",
       "</style>\n",
       "<table border=\"1\" class=\"dataframe\">\n",
       "  <thead>\n",
       "    <tr style=\"text-align: right;\">\n",
       "      <th></th>\n",
       "      <th>id</th>\n",
       "      <th>f0</th>\n",
       "      <th>f1</th>\n",
       "      <th>f2</th>\n",
       "      <th>product</th>\n",
       "    </tr>\n",
       "  </thead>\n",
       "  <tbody>\n",
       "    <tr>\n",
       "      <th>4369</th>\n",
       "      <td>WooWm</td>\n",
       "      <td>-0.719937</td>\n",
       "      <td>0.801476</td>\n",
       "      <td>2.881326</td>\n",
       "      <td>129.752714</td>\n",
       "    </tr>\n",
       "    <tr>\n",
       "      <th>74776</th>\n",
       "      <td>FBKEu</td>\n",
       "      <td>-0.312182</td>\n",
       "      <td>1.039959</td>\n",
       "      <td>-1.962616</td>\n",
       "      <td>24.073036</td>\n",
       "    </tr>\n",
       "    <tr>\n",
       "      <th>58605</th>\n",
       "      <td>sSnlx</td>\n",
       "      <td>0.616175</td>\n",
       "      <td>-0.434014</td>\n",
       "      <td>0.682077</td>\n",
       "      <td>49.066313</td>\n",
       "    </tr>\n",
       "    <tr>\n",
       "      <th>10115</th>\n",
       "      <td>0fL4f</td>\n",
       "      <td>0.940062</td>\n",
       "      <td>0.538663</td>\n",
       "      <td>2.308844</td>\n",
       "      <td>56.114394</td>\n",
       "    </tr>\n",
       "    <tr>\n",
       "      <th>15668</th>\n",
       "      <td>clFDt</td>\n",
       "      <td>0.040309</td>\n",
       "      <td>0.328501</td>\n",
       "      <td>3.126859</td>\n",
       "      <td>76.162094</td>\n",
       "    </tr>\n",
       "  </tbody>\n",
       "</table>\n",
       "</div>"
      ],
      "text/plain": [
       "          id        f0        f1        f2     product\n",
       "4369   WooWm -0.719937  0.801476  2.881326  129.752714\n",
       "74776  FBKEu -0.312182  1.039959 -1.962616   24.073036\n",
       "58605  sSnlx  0.616175 -0.434014  0.682077   49.066313\n",
       "10115  0fL4f  0.940062  0.538663  2.308844   56.114394\n",
       "15668  clFDt  0.040309  0.328501  3.126859   76.162094"
      ]
     },
     "execution_count": 36,
     "metadata": {},
     "output_type": "execute_result"
    }
   ],
   "source": [
    "# Print a random sample of 5 rows from the DataFrame\n",
    "df0.sample(5)"
   ]
  },
  {
   "cell_type": "code",
   "execution_count": 37,
   "metadata": {},
   "outputs": [
    {
     "name": "stdout",
     "output_type": "stream",
     "text": [
      "<class 'pandas.core.frame.DataFrame'>\n",
      "RangeIndex: 100000 entries, 0 to 99999\n",
      "Data columns (total 5 columns):\n",
      " #   Column   Non-Null Count   Dtype  \n",
      "---  ------   --------------   -----  \n",
      " 0   id       100000 non-null  object \n",
      " 1   f0       100000 non-null  float64\n",
      " 2   f1       100000 non-null  float64\n",
      " 3   f2       100000 non-null  float64\n",
      " 4   product  100000 non-null  float64\n",
      "dtypes: float64(4), object(1)\n",
      "memory usage: 3.8+ MB\n"
     ]
    }
   ],
   "source": [
    "# Print the general/summary information about the DataFrame\n",
    "df1.info()"
   ]
  },
  {
   "cell_type": "code",
   "execution_count": 38,
   "metadata": {},
   "outputs": [
    {
     "data": {
      "text/html": [
       "<div>\n",
       "<style scoped>\n",
       "    .dataframe tbody tr th:only-of-type {\n",
       "        vertical-align: middle;\n",
       "    }\n",
       "\n",
       "    .dataframe tbody tr th {\n",
       "        vertical-align: top;\n",
       "    }\n",
       "\n",
       "    .dataframe thead th {\n",
       "        text-align: right;\n",
       "    }\n",
       "</style>\n",
       "<table border=\"1\" class=\"dataframe\">\n",
       "  <thead>\n",
       "    <tr style=\"text-align: right;\">\n",
       "      <th></th>\n",
       "      <th>id</th>\n",
       "      <th>f0</th>\n",
       "      <th>f1</th>\n",
       "      <th>f2</th>\n",
       "      <th>product</th>\n",
       "    </tr>\n",
       "  </thead>\n",
       "  <tbody>\n",
       "    <tr>\n",
       "      <th>50605</th>\n",
       "      <td>ssa5j</td>\n",
       "      <td>-5.336044</td>\n",
       "      <td>-6.075595</td>\n",
       "      <td>0.005342</td>\n",
       "      <td>3.179103</td>\n",
       "    </tr>\n",
       "    <tr>\n",
       "      <th>25548</th>\n",
       "      <td>sTo8R</td>\n",
       "      <td>8.488254</td>\n",
       "      <td>-1.601806</td>\n",
       "      <td>2.995629</td>\n",
       "      <td>80.859783</td>\n",
       "    </tr>\n",
       "    <tr>\n",
       "      <th>76289</th>\n",
       "      <td>KAnFV</td>\n",
       "      <td>8.550061</td>\n",
       "      <td>-4.716726</td>\n",
       "      <td>0.000137</td>\n",
       "      <td>0.000000</td>\n",
       "    </tr>\n",
       "    <tr>\n",
       "      <th>44443</th>\n",
       "      <td>CduiV</td>\n",
       "      <td>9.925779</td>\n",
       "      <td>3.377338</td>\n",
       "      <td>0.003386</td>\n",
       "      <td>0.000000</td>\n",
       "    </tr>\n",
       "    <tr>\n",
       "      <th>84023</th>\n",
       "      <td>a5xha</td>\n",
       "      <td>-3.451761</td>\n",
       "      <td>-11.279291</td>\n",
       "      <td>3.997681</td>\n",
       "      <td>110.992147</td>\n",
       "    </tr>\n",
       "  </tbody>\n",
       "</table>\n",
       "</div>"
      ],
      "text/plain": [
       "          id        f0         f1        f2     product\n",
       "50605  ssa5j -5.336044  -6.075595  0.005342    3.179103\n",
       "25548  sTo8R  8.488254  -1.601806  2.995629   80.859783\n",
       "76289  KAnFV  8.550061  -4.716726  0.000137    0.000000\n",
       "44443  CduiV  9.925779   3.377338  0.003386    0.000000\n",
       "84023  a5xha -3.451761 -11.279291  3.997681  110.992147"
      ]
     },
     "execution_count": 38,
     "metadata": {},
     "output_type": "execute_result"
    }
   ],
   "source": [
    "# Print a random sample of 5 rows from the DataFrame\n",
    "df1.sample(5)"
   ]
  },
  {
   "cell_type": "code",
   "execution_count": 39,
   "metadata": {},
   "outputs": [
    {
     "name": "stdout",
     "output_type": "stream",
     "text": [
      "<class 'pandas.core.frame.DataFrame'>\n",
      "RangeIndex: 100000 entries, 0 to 99999\n",
      "Data columns (total 5 columns):\n",
      " #   Column   Non-Null Count   Dtype  \n",
      "---  ------   --------------   -----  \n",
      " 0   id       100000 non-null  object \n",
      " 1   f0       100000 non-null  float64\n",
      " 2   f1       100000 non-null  float64\n",
      " 3   f2       100000 non-null  float64\n",
      " 4   product  100000 non-null  float64\n",
      "dtypes: float64(4), object(1)\n",
      "memory usage: 3.8+ MB\n"
     ]
    }
   ],
   "source": [
    "# Print the general/summary information about the DataFrame\n",
    "df2.info()"
   ]
  },
  {
   "cell_type": "code",
   "execution_count": 40,
   "metadata": {},
   "outputs": [
    {
     "data": {
      "text/html": [
       "<div>\n",
       "<style scoped>\n",
       "    .dataframe tbody tr th:only-of-type {\n",
       "        vertical-align: middle;\n",
       "    }\n",
       "\n",
       "    .dataframe tbody tr th {\n",
       "        vertical-align: top;\n",
       "    }\n",
       "\n",
       "    .dataframe thead th {\n",
       "        text-align: right;\n",
       "    }\n",
       "</style>\n",
       "<table border=\"1\" class=\"dataframe\">\n",
       "  <thead>\n",
       "    <tr style=\"text-align: right;\">\n",
       "      <th></th>\n",
       "      <th>id</th>\n",
       "      <th>f0</th>\n",
       "      <th>f1</th>\n",
       "      <th>f2</th>\n",
       "      <th>product</th>\n",
       "    </tr>\n",
       "  </thead>\n",
       "  <tbody>\n",
       "    <tr>\n",
       "      <th>98054</th>\n",
       "      <td>uQAZP</td>\n",
       "      <td>0.641425</td>\n",
       "      <td>-1.404748</td>\n",
       "      <td>9.935972</td>\n",
       "      <td>148.040922</td>\n",
       "    </tr>\n",
       "    <tr>\n",
       "      <th>7787</th>\n",
       "      <td>9ApAB</td>\n",
       "      <td>-1.768920</td>\n",
       "      <td>4.584891</td>\n",
       "      <td>0.273782</td>\n",
       "      <td>54.991991</td>\n",
       "    </tr>\n",
       "    <tr>\n",
       "      <th>50982</th>\n",
       "      <td>E776x</td>\n",
       "      <td>1.296762</td>\n",
       "      <td>-0.982589</td>\n",
       "      <td>4.164867</td>\n",
       "      <td>73.142485</td>\n",
       "    </tr>\n",
       "    <tr>\n",
       "      <th>61142</th>\n",
       "      <td>2S7yt</td>\n",
       "      <td>-0.099718</td>\n",
       "      <td>-1.951553</td>\n",
       "      <td>2.421158</td>\n",
       "      <td>106.587813</td>\n",
       "    </tr>\n",
       "    <tr>\n",
       "      <th>40185</th>\n",
       "      <td>8obx6</td>\n",
       "      <td>-1.902012</td>\n",
       "      <td>-1.096240</td>\n",
       "      <td>-3.489681</td>\n",
       "      <td>92.771181</td>\n",
       "    </tr>\n",
       "  </tbody>\n",
       "</table>\n",
       "</div>"
      ],
      "text/plain": [
       "          id        f0        f1        f2     product\n",
       "98054  uQAZP  0.641425 -1.404748  9.935972  148.040922\n",
       "7787   9ApAB -1.768920  4.584891  0.273782   54.991991\n",
       "50982  E776x  1.296762 -0.982589  4.164867   73.142485\n",
       "61142  2S7yt -0.099718 -1.951553  2.421158  106.587813\n",
       "40185  8obx6 -1.902012 -1.096240 -3.489681   92.771181"
      ]
     },
     "execution_count": 40,
     "metadata": {},
     "output_type": "execute_result"
    }
   ],
   "source": [
    "# Print a random sample of 5 rows from the DataFrame\n",
    "df2.sample(5)"
   ]
  },
  {
   "attachments": {},
   "cell_type": "markdown",
   "metadata": {},
   "source": [
    "## Observations\n",
    "- The `id` column does not contain relevant information for model predictions.\n",
    "- None of the three datasets contain missing values, and the data type of all columns is correct.\n",
    "- All three datasets are ready to be used in model training."
   ]
  },
  {
   "attachments": {},
   "cell_type": "markdown",
   "metadata": {},
   "source": [
    "## Remove unnecessary columns"
   ]
  },
  {
   "cell_type": "code",
   "execution_count": 41,
   "metadata": {},
   "outputs": [],
   "source": [
    "# Remove the columns that will not be used in the analysis\n",
    "df0 = df0.drop(['id'], axis=1)\n",
    "df1 = df1.drop(['id'], axis=1)\n",
    "df2 = df2.drop(['id'], axis=1)"
   ]
  },
  {
   "attachments": {},
   "cell_type": "markdown",
   "metadata": {},
   "source": [
    "# Segment data"
   ]
  },
  {
   "cell_type": "code",
   "execution_count": 42,
   "metadata": {},
   "outputs": [],
   "source": [
    "# Select a random seed for the experiments\n",
    "random_state = np.random.RandomState(12345)"
   ]
  },
  {
   "attachments": {},
   "cell_type": "markdown",
   "metadata": {},
   "source": [
    "## Region 0"
   ]
  },
  {
   "cell_type": "code",
   "execution_count": 43,
   "metadata": {},
   "outputs": [],
   "source": [
    "# Separate the data into features and target for the dataset 0\n",
    "features0 = df0.drop(['product'], axis=1)\n",
    "target0 = df0['product']"
   ]
  },
  {
   "cell_type": "code",
   "execution_count": 44,
   "metadata": {},
   "outputs": [],
   "source": [
    "# Divide the data into training and validation subsets (75:25 ratio)\n",
    "features_train0, features_valid0, target_train0, target_valid0 = train_test_split(features0, target0, test_size=0.25, random_state=random_state)"
   ]
  },
  {
   "attachments": {},
   "cell_type": "markdown",
   "metadata": {},
   "source": [
    "## Region 1"
   ]
  },
  {
   "cell_type": "code",
   "execution_count": 45,
   "metadata": {},
   "outputs": [],
   "source": [
    "# Separate the data into features and target for the dataset 1\n",
    "features1 = df1.drop(['product'], axis=1)\n",
    "target1 = df1['product']"
   ]
  },
  {
   "cell_type": "code",
   "execution_count": 46,
   "metadata": {},
   "outputs": [],
   "source": [
    "# Divide the data into training and validation subsets (75:25 ratio)\n",
    "features_train1, features_valid1, target_train1, target_valid1 = train_test_split(features1, target1, test_size=0.25, random_state=random_state)"
   ]
  },
  {
   "attachments": {},
   "cell_type": "markdown",
   "metadata": {},
   "source": [
    "## Region 2"
   ]
  },
  {
   "cell_type": "code",
   "execution_count": 47,
   "metadata": {},
   "outputs": [],
   "source": [
    "# Separate the data into features and target for the dataset 2\n",
    "features2 = df2.drop(['product'], axis=1)\n",
    "target2 = df2['product']"
   ]
  },
  {
   "cell_type": "code",
   "execution_count": 48,
   "metadata": {},
   "outputs": [],
   "source": [
    "# Divide the data into training and validation subsets (75:25 ratio)\n",
    "features_train2, features_valid2, target_train2, target_valid2 = train_test_split(features2, target2, test_size=0.25, random_state=random_state)"
   ]
  },
  {
   "attachments": {},
   "cell_type": "markdown",
   "metadata": {},
   "source": [
    "# Model Training (Linear Regression)"
   ]
  },
  {
   "attachments": {},
   "cell_type": "markdown",
   "metadata": {},
   "source": [
    "## Region 0"
   ]
  },
  {
   "cell_type": "code",
   "execution_count": 49,
   "metadata": {},
   "outputs": [
    {
     "name": "stdout",
     "output_type": "stream",
     "text": [
      "Average volume of projected reserves for region 0: 92.59256778438035\n",
      "RMSE for region 0: 37.5794217150813\n"
     ]
    }
   ],
   "source": [
    "# Test the Linear Regression model on dataset 0\n",
    "model0 = LinearRegression()\n",
    "model0.fit(features_train0, target_train0)\n",
    "predicted_valid0 = model0.predict(features_valid0)\n",
    "rmse0 = mean_squared_error(target_valid0, predicted_valid0) ** 0.5\n",
    "\n",
    "# Save the predictions and correct answers for the validation set\n",
    "predictions0 = pd.Series(predicted_valid0, index=target_valid0.index)\n",
    "\n",
    "# Display on screen the average volume of forecasted reserves and the RMSE value\n",
    "print('Average volume of projected reserves for region 0:', predicted_valid0.mean())\n",
    "print('RMSE for region 0:', rmse0)"
   ]
  },
  {
   "attachments": {},
   "cell_type": "markdown",
   "metadata": {},
   "source": [
    "### Observations\n",
    "- The average volume of the projected reserves for **`region 0`** is `92.59 thousand barrels`.\n",
    "- The RMSE for **`region 0`** is `37.58`."
   ]
  },
  {
   "attachments": {},
   "cell_type": "markdown",
   "metadata": {},
   "source": [
    "## Region 1"
   ]
  },
  {
   "cell_type": "code",
   "execution_count": 50,
   "metadata": {},
   "outputs": [
    {
     "name": "stdout",
     "output_type": "stream",
     "text": [
      "Average volume of projected reserves for region 1: 68.76995145799752\n",
      "RMSE for region 1: 0.8897367737680646\n"
     ]
    }
   ],
   "source": [
    "# Test the Linear Regression model on dataset 1\n",
    "model1 = LinearRegression()\n",
    "model1.fit(features_train1, target_train1)\n",
    "predicted_valid1 = model1.predict(features_valid1)\n",
    "rmse1 = mean_squared_error(target_valid1, predicted_valid1) ** 0.5\n",
    "\n",
    "# Save the predictions and correct answers for the validation set\n",
    "predictions1 = pd.Series(predicted_valid1, index=target_valid1.index)\n",
    "\n",
    "# Display on screen the average volume of forecasted reserves and the RMSE value\n",
    "print('Average volume of projected reserves for region 1:', predicted_valid1.mean())\n",
    "print('RMSE for region 1:', rmse1)"
   ]
  },
  {
   "attachments": {},
   "cell_type": "markdown",
   "metadata": {},
   "source": [
    "### Observations\n",
    "- The average volume of the projected reserves for **`region 1`** is `68.77 thousand barrels`.\n",
    "- The RMSE for **`region 1`** is `0.89`."
   ]
  },
  {
   "attachments": {},
   "cell_type": "markdown",
   "metadata": {},
   "source": [
    "## Region 2"
   ]
  },
  {
   "cell_type": "code",
   "execution_count": 51,
   "metadata": {},
   "outputs": [
    {
     "name": "stdout",
     "output_type": "stream",
     "text": [
      "Average volume of projected reserves for region 2: 95.087528122523\n",
      "RMSE for region 2: 39.958042459521614\n"
     ]
    }
   ],
   "source": [
    "# Test the Linear Regression model on dataset 2\n",
    "model2 = LinearRegression()\n",
    "model2.fit(features_train2, target_train2)\n",
    "predicted_valid2 = model2.predict(features_valid2)\n",
    "rmse2 = mean_squared_error(target_valid2, predicted_valid2) ** 0.5\n",
    "\n",
    "# Save the predictions and correct answers for the validation set\n",
    "predictions2 = pd.Series(predicted_valid2, index=target_valid2.index)\n",
    "\n",
    "# Display on screen the average volume of forecasted reserves and the RMSE value\n",
    "print('Average volume of projected reserves for region 2:', predicted_valid2.mean())\n",
    "print('RMSE for region 2:', rmse2)"
   ]
  },
  {
   "attachments": {},
   "cell_type": "markdown",
   "metadata": {},
   "source": [
    "### Observations\n",
    "- The average volume of the projected reserves for **`region 2`** is `95.09 thousand barrels`.\n",
    "- The RMSE for **`region 2`** is `39.96`."
   ]
  },
  {
   "attachments": {},
   "cell_type": "markdown",
   "metadata": {},
   "source": [
    "## Intermediate Conclusion\n",
    "- The highest average reserves are found in `region 2`, closely followed by `region 0`. However, it is notable that the **RMSE** is considerably high in `region 0 and 2`, indicating a higher level of error in the predictions of oil reserves in these regions. In contrast, `region 1` has a lower average reserve but also has a much lower **RMSE**, suggesting that the model's predictions are more accurate in this region."
   ]
  },
  {
   "attachments": {},
   "cell_type": "markdown",
   "metadata": {},
   "source": [
    "# Profit Calculation"
   ]
  },
  {
   "attachments": {},
   "cell_type": "markdown",
   "metadata": {},
   "source": [
    "## Key values for calculations"
   ]
  },
  {
   "cell_type": "code",
   "execution_count": 52,
   "metadata": {},
   "outputs": [
    {
     "name": "stdout",
     "output_type": "stream",
     "text": [
      "Cost of development of a single well: 500000.0\n",
      "Volume of reserves sufficient to develop a new well without losses: 111.11111111111111\n"
     ]
    }
   ],
   "source": [
    "# Budget for the development of 200 oil wells is $100 million\n",
    "budget = 100_000_000\n",
    "\n",
    "# The revenue from one unit of product is $4500 (the volume of reserves is expressed in thousands of barrels)\n",
    "income_per_unit = 4_500\n",
    "\n",
    "# Risk threshold of losses less than 2.5%\n",
    "risk_threshold = 0.025\n",
    "\n",
    "# Cost of development of a single well\n",
    "cost_per_well = budget / 200\n",
    "print('Cost of development of a single well:', cost_per_well)\n",
    "\n",
    "# Volume of reserves sufficient to develop a new well without losses\n",
    "sufficient_volume = cost_per_well / income_per_unit\n",
    "print('Volume of reserves sufficient to develop a new well without losses:', sufficient_volume)"
   ]
  },
  {
   "attachments": {},
   "cell_type": "markdown",
   "metadata": {},
   "source": [
    "### Observations\n",
    "- Development cost for a single well: `500,000`\n",
    "- Volume of reserves sufficient to develop a new well without losses: `111.11`"
   ]
  },
  {
   "attachments": {},
   "cell_type": "markdown",
   "metadata": {},
   "source": [
    "## Sufficient Reserves Volume to Develop a New Well without Losses"
   ]
  },
  {
   "attachments": {},
   "cell_type": "markdown",
   "metadata": {},
   "source": [
    "### Region 0"
   ]
  },
  {
   "cell_type": "code",
   "execution_count": 53,
   "metadata": {},
   "outputs": [
    {
     "name": "stdout",
     "output_type": "stream",
     "text": [
      "Average volume of reserves for region 0: 92.50000000000001\n",
      "It is not possible to develop a new well in region 0 without losses.\n"
     ]
    }
   ],
   "source": [
    "print('Average volume of reserves for region 0:', target0.mean())\n",
    "\n",
    "# Compare the obtained value with the average volume of reserves for region 0\n",
    "if sufficient_volume > target0.mean():\n",
    "    print('It is not possible to develop a new well in region 0 without losses.')\n",
    "else:\n",
    "    print('It is possible to develop a new well in region 0 without losses.')"
   ]
  },
  {
   "attachments": {},
   "cell_type": "markdown",
   "metadata": {},
   "source": [
    "### Region 1"
   ]
  },
  {
   "cell_type": "code",
   "execution_count": 54,
   "metadata": {},
   "outputs": [
    {
     "name": "stdout",
     "output_type": "stream",
     "text": [
      "Average volume of reserves for region 1: 68.82500000000002\n",
      "It is not possible to develop a new well in region 1 without losses.\n"
     ]
    }
   ],
   "source": [
    "print('Average volume of reserves for region 1:', target1.mean())\n",
    "\n",
    "# Compare the obtained value with the average volume of reserves for region 1\n",
    "if sufficient_volume > target1.mean():\n",
    "    print('It is not possible to develop a new well in region 1 without losses.')\n",
    "else:\n",
    "    print('It is possible to develop a new well in region 1 without losses.')"
   ]
  },
  {
   "attachments": {},
   "cell_type": "markdown",
   "metadata": {},
   "source": [
    "### Region 2"
   ]
  },
  {
   "cell_type": "code",
   "execution_count": 55,
   "metadata": {},
   "outputs": [
    {
     "name": "stdout",
     "output_type": "stream",
     "text": [
      "Average volume of reserves for region 2: 95.00000000000004\n",
      "It is not possible to develop a new well in region 2 without losses.\n"
     ]
    }
   ],
   "source": [
    "print('Average volume of reserves for region 2:', target2.mean())\n",
    "\n",
    "# Compare the obtained value with the average volume of reserves for region 2\n",
    "if sufficient_volume > target2.mean():\n",
    "    print('It is not possible to develop a new well in region 2 without losses.')\n",
    "else:\n",
    "    print('It is possible to develop a new well in region 2 without losses.')"
   ]
  },
  {
   "attachments": {},
   "cell_type": "markdown",
   "metadata": {},
   "source": [
    "### Observations\n",
    "- None of the three regions seem to have a high enough average volume to drill a new well without losses.\n",
    "- Although `regions 0 and 2` have average volumes closest to what is needed to avoid losses, we must not forget that `region 1` has a lower RMSE."
   ]
  },
  {
   "attachments": {},
   "cell_type": "markdown",
   "metadata": {},
   "source": [
    "## Expected total income from the 200 most profitable wells in each region"
   ]
  },
  {
   "cell_type": "code",
   "execution_count": 56,
   "metadata": {},
   "outputs": [],
   "source": [
    "# Create a function to calculate the expected total income from the top 200 profitable wells for a region\n",
    "def calculate_profit(actual_volumes, predicted_volumes):\n",
    "    # Sort the predictions from highest to lowest\n",
    "    sorted_predictions = predicted_volumes.sort_values(ascending=False)\n",
    "\n",
    "    # Select the top 200 highest values\n",
    "    selected = actual_volumes[sorted_predictions.index][:200]\n",
    "\n",
    "    # Calculate the total expected profit\n",
    "    total_revenue = (selected * income_per_unit).sum()\n",
    "    \n",
    "    return total_revenue - budget"
   ]
  },
  {
   "attachments": {},
   "cell_type": "markdown",
   "metadata": {},
   "source": [
    "### Region 0"
   ]
  },
  {
   "cell_type": "code",
   "execution_count": 57,
   "metadata": {},
   "outputs": [
    {
     "name": "stdout",
     "output_type": "stream",
     "text": [
      "Expected total income from the 200 most profitable wells for the region 0: 33208260.43139851\n"
     ]
    }
   ],
   "source": [
    "# Calculate the expected total income from the 200 most profitable wells for the region 0\n",
    "profit0 = calculate_profit(target_valid0, predictions0)\n",
    "print('Expected total income from the 200 most profitable wells for the region 0:', profit0)"
   ]
  },
  {
   "attachments": {},
   "cell_type": "markdown",
   "metadata": {},
   "source": [
    "### Region 1"
   ]
  },
  {
   "cell_type": "code",
   "execution_count": 58,
   "metadata": {},
   "outputs": [
    {
     "name": "stdout",
     "output_type": "stream",
     "text": [
      "Expected total income from the 200 most profitable wells for the region 1: 24150866.966815084\n"
     ]
    }
   ],
   "source": [
    "# Calculate the expected total income from the 200 most profitable wells for the region 1\n",
    "profit1 = calculate_profit(target_valid1, predictions1)\n",
    "print('Expected total income from the 200 most profitable wells for the region 1:', profit1)"
   ]
  },
  {
   "attachments": {},
   "cell_type": "markdown",
   "metadata": {},
   "source": [
    "### Region 2"
   ]
  },
  {
   "cell_type": "code",
   "execution_count": 59,
   "metadata": {},
   "outputs": [
    {
     "name": "stdout",
     "output_type": "stream",
     "text": [
      "Expected total income from the 200 most profitable wells for the region 2: 25399159.458429456\n"
     ]
    }
   ],
   "source": [
    "# Calculate the expected total income from the 200 most profitable wells for the region 2\n",
    "profit2 = calculate_profit(target_valid2, predictions2)\n",
    "print('Expected total income from the 200 most profitable wells for the region 2:', profit2)"
   ]
  },
  {
   "attachments": {},
   "cell_type": "markdown",
   "metadata": {},
   "source": [
    "### Observations\n",
    "- `Region 0` has the highest expected total income out of the three, followed by `Region 2`, and then `Region 1`."
   ]
  },
  {
   "attachments": {},
   "cell_type": "markdown",
   "metadata": {},
   "source": [
    "## Intermediate Conclusion\n",
    "- Based on the results of the average volume in each region as well as the expected revenues, it is still not possible to determine which region is the best option for creating a new well."
   ]
  },
  {
   "attachments": {},
   "cell_type": "markdown",
   "metadata": {},
   "source": [
    "# Risk and Profit Calculation for Each Region"
   ]
  },
  {
   "attachments": {},
   "cell_type": "markdown",
   "metadata": {},
   "source": [
    "## Bootstrapping with 1000 samples to find the distribution of profit"
   ]
  },
  {
   "cell_type": "code",
   "execution_count": 60,
   "metadata": {},
   "outputs": [],
   "source": [
    "# Create a function to perform bootstrapping and calculate the distribution of benefits and risks for each region\n",
    "def bootstrap_profit_and_loss(target, predictions, loop_size = 1_000, sample_size = 500):\n",
    "    # Initialize the list of benefits\n",
    "    values = []\n",
    "\n",
    "    # Combine target and predictions into a DataFrame\n",
    "    combined = pd.DataFrame({\n",
    "        'target': target,\n",
    "        'predictions': predictions\n",
    "    })\n",
    "\n",
    "    # Initialize the negative profit counter\n",
    "    negative_profit_count = 0\n",
    "\n",
    "    # Performing bootstrapping\n",
    "    for _ in range(loop_size):\n",
    "        # Sample the data\n",
    "        subsample = combined.sample(sample_size, replace=True, random_state=random_state)\n",
    "\n",
    "        # Separate target and predictions again\n",
    "        subsample_target = subsample['target']\n",
    "        subsample_predictions = subsample['predictions']\n",
    "\n",
    "        # Calculate the profit of the sample and add it to the list of benefits\n",
    "        profit = calculate_profit(subsample_target, subsample_predictions)\n",
    "        values.append(profit)\n",
    "        \n",
    "        # Count the number of times the profit is negative\n",
    "        if profit < 0:\n",
    "            negative_profit_count += 1\n",
    "\n",
    "    # Convert the list of benefits to a pandas Series\n",
    "    values = pd.Series(values)\n",
    "\n",
    "    # Calculate the average profit\n",
    "    average_profit = values.mean()\n",
    "\n",
    "    # Calculate the quantile of 2.5%\n",
    "    lower = values.quantile(risk_threshold)\n",
    "\n",
    "    # Calculate the quantile of 97.5%\n",
    "    upper = values.quantile(1 - risk_threshold)\n",
    "\n",
    "    # Evaluate loss risk\n",
    "    loss_risk = negative_profit_count / loop_size\n",
    "\n",
    "    return average_profit, loss_risk, lower, upper"
   ]
  },
  {
   "cell_type": "code",
   "execution_count": 61,
   "metadata": {},
   "outputs": [],
   "source": [
    "# Create function to display the results of bootstrapping\n",
    "def print_bootstrap_results(target_valid, predictions, region):\n",
    "    average_profit, loss_risk, lower, upper = bootstrap_profit_and_loss(target_valid, predictions)\n",
    "\n",
    "    print(f'95% confidence interval for the region {region}: [{lower:.1f}] -> [{upper:.1f}]')\n",
    "    print(f'Average benefit for the region {region}: ${average_profit:.1f}')\n",
    "    print(f'Loss risk for the region {region}: {loss_risk:.1%}')"
   ]
  },
  {
   "attachments": {},
   "cell_type": "markdown",
   "metadata": {},
   "source": [
    "### Region 0"
   ]
  },
  {
   "cell_type": "code",
   "execution_count": 62,
   "metadata": {},
   "outputs": [
    {
     "name": "stdout",
     "output_type": "stream",
     "text": [
      "95% confidence interval for the region 0: [-761878.1] -> [9578465.3]\n",
      "Average benefit for the region 0: $4238972.4\n",
      "Loss risk for the region 0: 4.8%\n"
     ]
    }
   ],
   "source": [
    "# Bootstrapping with 1000 samples to find the profit distribution for region 0\n",
    "print_bootstrap_results(target_valid0, predictions0, 0)"
   ]
  },
  {
   "attachments": {},
   "cell_type": "markdown",
   "metadata": {},
   "source": [
    "### Region 1"
   ]
  },
  {
   "cell_type": "code",
   "execution_count": 63,
   "metadata": {},
   "outputs": [
    {
     "name": "stdout",
     "output_type": "stream",
     "text": [
      "95% confidence interval for the region 1: [1080669.0] -> [9285744.4]\n",
      "Average benefit for the region 1: $5132567.0\n",
      "Loss risk for the region 1: 0.6%\n"
     ]
    }
   ],
   "source": [
    "# Bootstrapping with 1000 samples to find the profit distribution for region 1\n",
    "print_bootstrap_results(target_valid1, predictions1, 1)"
   ]
  },
  {
   "attachments": {},
   "cell_type": "markdown",
   "metadata": {},
   "source": [
    "### Region 2"
   ]
  },
  {
   "cell_type": "code",
   "execution_count": 64,
   "metadata": {},
   "outputs": [
    {
     "name": "stdout",
     "output_type": "stream",
     "text": [
      "95% confidence interval for the region 2: [-1428006.3] -> [8933805.7]\n",
      "Average benefit for the region 2: $3811203.6\n",
      "Loss risk for the region 2: 7.4%\n"
     ]
    }
   ],
   "source": [
    "# Bootstrapping with 1000 samples to find the profit distribution for region 2\n",
    "print_bootstrap_results(target_valid2, predictions2, 2)"
   ]
  },
  {
   "attachments": {},
   "cell_type": "markdown",
   "metadata": {},
   "source": [
    "## Intermediate Conclusion\n",
    "- Although the values obtained through bootstrapping may vary in each execution of the code, it is important to consider that these values remain within the same range.\n",
    "- `Region 1` generally shows the highest average benefit and lowest risk of losses, indicating that this region has the greatest potential to achieve our objective."
   ]
  },
  {
   "attachments": {},
   "cell_type": "markdown",
   "metadata": {},
   "source": [
    "# General Conclusion\n",
    "\n",
    "During this project, a linear regression model was built to predict the volume of reserves in new oil wells based on geological data from three regions. Subsequently, a bootstrapping simulation was performed to estimate the distribution of potential benefits and risks in each region.\n",
    "\n",
    "- An exploratory data analysis was conducted and a linear regression model was trained for each of the three regions. A linear regression model was fitted for each region using RMSE as the evaluation metric.\n",
    "- Based on the model predictions, the top 200 wells with the highest predicted volumes of oil reserves were selected for drilling.\n",
    "- To quantify uncertainty in the drilling decision and estimate potential profit, bootstrapping technique was employed. This provided a distribution of possible benefits and risk of losses.\n",
    "- The bootstrapping analysis showed that `region 1` exhibits the `highest average benefit` as well as `lowest risk of losses`, suggesting it would be the most promising region for oil exploration.\n",
    "\n",
    "Based on these results, it has been concluded that `region 1` is the most promising for future well drilling operations as it presents both `the highest average benefit` and `the lowest risk of losses`."
   ]
  }
 ],
 "metadata": {
  "kernelspec": {
   "display_name": "Python 3",
   "language": "python",
   "name": "python3"
  },
  "language_info": {
   "codemirror_mode": {
    "name": "ipython",
    "version": 3
   },
   "file_extension": ".py",
   "mimetype": "text/x-python",
   "name": "python",
   "nbconvert_exporter": "python",
   "pygments_lexer": "ipython3",
   "version": "3.11.2"
  },
  "orig_nbformat": 4
 },
 "nbformat": 4,
 "nbformat_minor": 2
}
