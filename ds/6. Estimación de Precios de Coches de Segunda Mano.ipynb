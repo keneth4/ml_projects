{
 "cells": [
  {
   "attachments": {},
   "cell_type": "markdown",
   "metadata": {},
   "source": [
    "# Estimación de Precios de Coches de Segunda Mano"
   ]
  },
  {
   "attachments": {},
   "cell_type": "markdown",
   "metadata": {},
   "source": [
    "El servicio de venta de autos usados Rusty Bargain está desarrollando una aplicación para atraer nuevos clientes. Gracias a esa app, puedes averiguar rápidamente el valor de mercado de tu coche. Tienes acceso al historial: especificaciones técnicas, versiones de equipamiento y precios. Tienes que crear un modelo que determine el valor de mercado.\n",
    "A Rusty Bargain le interesa:\n",
    "- La calidad de la predicción.\n",
    "- La velocidad de la predicción.\n",
    "- El tiempo requerido para el entrenamiento."
   ]
  },
  {
   "attachments": {},
   "cell_type": "markdown",
   "metadata": {},
   "source": [
    "## Inicialización"
   ]
  },
  {
   "cell_type": "code",
   "execution_count": 47,
   "metadata": {},
   "outputs": [],
   "source": [
    "# Carga todas las librerías\n",
    "\n",
    "# Manipulación de datos\n",
    "import math\n",
    "import time\n",
    "import pandas as pd\n",
    "import numpy as np\n",
    "from sklearn.model_selection import train_test_split\n",
    "\n",
    "# Modelado\n",
    "from sklearn.linear_model import LinearRegression\n",
    "from sklearn.ensemble import RandomForestRegressor\n",
    "from sklearn.model_selection import GridSearchCV\n",
    "from sklearn.metrics import mean_squared_error, r2_score\n",
    "from catboost import CatBoostRegressor\n",
    "import xgboost as xgb"
   ]
  },
  {
   "attachments": {},
   "cell_type": "markdown",
   "metadata": {},
   "source": [
    "## Cargar los datos"
   ]
  },
  {
   "cell_type": "code",
   "execution_count": 48,
   "metadata": {},
   "outputs": [],
   "source": [
    "# Carga los datos en DataFrames\n",
    "try:\n",
    "    df = pd.read_csv('/datasets/car_data.csv')\n",
    "except Exception:\n",
    "    df = pd.read_csv('datasets/car_data.csv')"
   ]
  },
  {
   "attachments": {},
   "cell_type": "markdown",
   "metadata": {},
   "source": [
    "## Preparación de datos"
   ]
  },
  {
   "cell_type": "code",
   "execution_count": 49,
   "metadata": {},
   "outputs": [
    {
     "name": "stdout",
     "output_type": "stream",
     "text": [
      "<class 'pandas.core.frame.DataFrame'>\n",
      "RangeIndex: 354369 entries, 0 to 354368\n",
      "Data columns (total 16 columns):\n",
      " #   Column             Non-Null Count   Dtype \n",
      "---  ------             --------------   ----- \n",
      " 0   DateCrawled        354369 non-null  object\n",
      " 1   Price              354369 non-null  int64 \n",
      " 2   VehicleType        316879 non-null  object\n",
      " 3   RegistrationYear   354369 non-null  int64 \n",
      " 4   Gearbox            334536 non-null  object\n",
      " 5   Power              354369 non-null  int64 \n",
      " 6   Model              334664 non-null  object\n",
      " 7   Mileage            354369 non-null  int64 \n",
      " 8   RegistrationMonth  354369 non-null  int64 \n",
      " 9   FuelType           321474 non-null  object\n",
      " 10  Brand              354369 non-null  object\n",
      " 11  NotRepaired        283215 non-null  object\n",
      " 12  DateCreated        354369 non-null  object\n",
      " 13  NumberOfPictures   354369 non-null  int64 \n",
      " 14  PostalCode         354369 non-null  int64 \n",
      " 15  LastSeen           354369 non-null  object\n",
      "dtypes: int64(7), object(9)\n",
      "memory usage: 43.3+ MB\n"
     ]
    }
   ],
   "source": [
    "# Imprime la información general/resumen sobre el DataFrame\n",
    "df.info()"
   ]
  },
  {
   "cell_type": "code",
   "execution_count": 50,
   "metadata": {},
   "outputs": [
    {
     "data": {
      "text/html": [
       "<div>\n",
       "<style scoped>\n",
       "    .dataframe tbody tr th:only-of-type {\n",
       "        vertical-align: middle;\n",
       "    }\n",
       "\n",
       "    .dataframe tbody tr th {\n",
       "        vertical-align: top;\n",
       "    }\n",
       "\n",
       "    .dataframe thead th {\n",
       "        text-align: right;\n",
       "    }\n",
       "</style>\n",
       "<table border=\"1\" class=\"dataframe\">\n",
       "  <thead>\n",
       "    <tr style=\"text-align: right;\">\n",
       "      <th></th>\n",
       "      <th>DateCrawled</th>\n",
       "      <th>Price</th>\n",
       "      <th>VehicleType</th>\n",
       "      <th>RegistrationYear</th>\n",
       "      <th>Gearbox</th>\n",
       "      <th>Power</th>\n",
       "      <th>Model</th>\n",
       "      <th>Mileage</th>\n",
       "      <th>RegistrationMonth</th>\n",
       "      <th>FuelType</th>\n",
       "      <th>Brand</th>\n",
       "      <th>NotRepaired</th>\n",
       "      <th>DateCreated</th>\n",
       "      <th>NumberOfPictures</th>\n",
       "      <th>PostalCode</th>\n",
       "      <th>LastSeen</th>\n",
       "    </tr>\n",
       "  </thead>\n",
       "  <tbody>\n",
       "    <tr>\n",
       "      <th>225743</th>\n",
       "      <td>01/04/2016 08:54</td>\n",
       "      <td>499</td>\n",
       "      <td>NaN</td>\n",
       "      <td>2016</td>\n",
       "      <td>NaN</td>\n",
       "      <td>55</td>\n",
       "      <td>polo</td>\n",
       "      <td>150000</td>\n",
       "      <td>5</td>\n",
       "      <td>petrol</td>\n",
       "      <td>volkswagen</td>\n",
       "      <td>no</td>\n",
       "      <td>01/04/2016 00:00</td>\n",
       "      <td>0</td>\n",
       "      <td>96106</td>\n",
       "      <td>07/04/2016 06:17</td>\n",
       "    </tr>\n",
       "    <tr>\n",
       "      <th>190504</th>\n",
       "      <td>10/03/2016 09:49</td>\n",
       "      <td>180</td>\n",
       "      <td>NaN</td>\n",
       "      <td>2016</td>\n",
       "      <td>manual</td>\n",
       "      <td>86</td>\n",
       "      <td>punto</td>\n",
       "      <td>150000</td>\n",
       "      <td>8</td>\n",
       "      <td>NaN</td>\n",
       "      <td>fiat</td>\n",
       "      <td>yes</td>\n",
       "      <td>10/03/2016 00:00</td>\n",
       "      <td>0</td>\n",
       "      <td>59558</td>\n",
       "      <td>10/03/2016 10:39</td>\n",
       "    </tr>\n",
       "    <tr>\n",
       "      <th>267381</th>\n",
       "      <td>20/03/2016 09:46</td>\n",
       "      <td>1</td>\n",
       "      <td>small</td>\n",
       "      <td>1998</td>\n",
       "      <td>auto</td>\n",
       "      <td>100</td>\n",
       "      <td>astra</td>\n",
       "      <td>150000</td>\n",
       "      <td>0</td>\n",
       "      <td>petrol</td>\n",
       "      <td>opel</td>\n",
       "      <td>NaN</td>\n",
       "      <td>20/03/2016 00:00</td>\n",
       "      <td>0</td>\n",
       "      <td>48529</td>\n",
       "      <td>21/03/2016 11:44</td>\n",
       "    </tr>\n",
       "    <tr>\n",
       "      <th>115020</th>\n",
       "      <td>28/03/2016 18:38</td>\n",
       "      <td>10000</td>\n",
       "      <td>sedan</td>\n",
       "      <td>2000</td>\n",
       "      <td>auto</td>\n",
       "      <td>286</td>\n",
       "      <td>7er</td>\n",
       "      <td>150000</td>\n",
       "      <td>1</td>\n",
       "      <td>lpg</td>\n",
       "      <td>bmw</td>\n",
       "      <td>no</td>\n",
       "      <td>28/03/2016 00:00</td>\n",
       "      <td>0</td>\n",
       "      <td>50667</td>\n",
       "      <td>02/04/2016 23:17</td>\n",
       "    </tr>\n",
       "    <tr>\n",
       "      <th>307704</th>\n",
       "      <td>17/03/2016 20:43</td>\n",
       "      <td>10600</td>\n",
       "      <td>convertible</td>\n",
       "      <td>2004</td>\n",
       "      <td>manual</td>\n",
       "      <td>163</td>\n",
       "      <td>slk</td>\n",
       "      <td>150000</td>\n",
       "      <td>7</td>\n",
       "      <td>petrol</td>\n",
       "      <td>mercedes_benz</td>\n",
       "      <td>no</td>\n",
       "      <td>17/03/2016 00:00</td>\n",
       "      <td>0</td>\n",
       "      <td>26129</td>\n",
       "      <td>01/04/2016 12:45</td>\n",
       "    </tr>\n",
       "  </tbody>\n",
       "</table>\n",
       "</div>"
      ],
      "text/plain": [
       "             DateCrawled  Price  VehicleType  RegistrationYear Gearbox  Power  \\\n",
       "225743  01/04/2016 08:54    499          NaN              2016     NaN     55   \n",
       "190504  10/03/2016 09:49    180          NaN              2016  manual     86   \n",
       "267381  20/03/2016 09:46      1        small              1998    auto    100   \n",
       "115020  28/03/2016 18:38  10000        sedan              2000    auto    286   \n",
       "307704  17/03/2016 20:43  10600  convertible              2004  manual    163   \n",
       "\n",
       "        Model  Mileage  RegistrationMonth FuelType          Brand NotRepaired  \\\n",
       "225743   polo   150000                  5   petrol     volkswagen          no   \n",
       "190504  punto   150000                  8      NaN           fiat         yes   \n",
       "267381  astra   150000                  0   petrol           opel         NaN   \n",
       "115020    7er   150000                  1      lpg            bmw          no   \n",
       "307704    slk   150000                  7   petrol  mercedes_benz          no   \n",
       "\n",
       "             DateCreated  NumberOfPictures  PostalCode          LastSeen  \n",
       "225743  01/04/2016 00:00                 0       96106  07/04/2016 06:17  \n",
       "190504  10/03/2016 00:00                 0       59558  10/03/2016 10:39  \n",
       "267381  20/03/2016 00:00                 0       48529  21/03/2016 11:44  \n",
       "115020  28/03/2016 00:00                 0       50667  02/04/2016 23:17  \n",
       "307704  17/03/2016 00:00                 0       26129  01/04/2016 12:45  "
      ]
     },
     "execution_count": 50,
     "metadata": {},
     "output_type": "execute_result"
    }
   ],
   "source": [
    "# Imprime una muestra aleatoria de 5 filas del DataFrame\n",
    "df.sample(5)"
   ]
  },
  {
   "attachments": {},
   "cell_type": "markdown",
   "metadata": {},
   "source": [
    "### Selección de columnas"
   ]
  },
  {
   "cell_type": "code",
   "execution_count": 51,
   "metadata": {},
   "outputs": [],
   "source": [
    "# Seleccionar las columnas que se van a utilizar\n",
    "chosen_columns = [\n",
    "    \"Price\",\n",
    "    \"VehicleType\", # Categórica\n",
    "    \"RegistrationYear\",\n",
    "    \"Gearbox\", # Categórica\n",
    "    \"Power\",\n",
    "    \"Model\",\n",
    "    \"Mileage\",\n",
    "    \"FuelType\", # Categórica\n",
    "    \"Brand\",\n",
    "    \"NotRepaired\"\n",
    "]\n",
    "\n",
    "# Crea un nuevo DataFrame con las columnas seleccionadas\n",
    "df = df[chosen_columns]\n",
    "\n",
    "# Cambiar los valores de la columna \"NotRepaired\" a booleanos\n",
    "df[\"NotRepaired\"] = df[\"NotRepaired\"].replace({\"yes\": True, \"no\": False})"
   ]
  },
  {
   "cell_type": "code",
   "execution_count": 52,
   "metadata": {},
   "outputs": [
    {
     "name": "stdout",
     "output_type": "stream",
     "text": [
      "<class 'pandas.core.frame.DataFrame'>\n",
      "RangeIndex: 354369 entries, 0 to 354368\n",
      "Data columns (total 10 columns):\n",
      " #   Column            Non-Null Count   Dtype \n",
      "---  ------            --------------   ----- \n",
      " 0   Price             354369 non-null  int64 \n",
      " 1   VehicleType       316879 non-null  object\n",
      " 2   RegistrationYear  354369 non-null  int64 \n",
      " 3   Gearbox           334536 non-null  object\n",
      " 4   Power             354369 non-null  int64 \n",
      " 5   Model             334664 non-null  object\n",
      " 6   Mileage           354369 non-null  int64 \n",
      " 7   FuelType          321474 non-null  object\n",
      " 8   Brand             354369 non-null  object\n",
      " 9   NotRepaired       283215 non-null  object\n",
      "dtypes: int64(4), object(6)\n",
      "memory usage: 27.0+ MB\n"
     ]
    }
   ],
   "source": [
    "# Imprime la información general/resumen sobre el DataFrame\n",
    "df.info()"
   ]
  },
  {
   "attachments": {},
   "cell_type": "markdown",
   "metadata": {},
   "source": [
    "### Imputación de datos"
   ]
  },
  {
   "cell_type": "code",
   "execution_count": 53,
   "metadata": {},
   "outputs": [],
   "source": [
    "# Deshacerse de los registros con valores faltantes en la columna \"Model\"\n",
    "df = df.dropna(subset=[\"Model\"])\n",
    "\n",
    "# Imputar los valores faltantes en la columna \"VehicleType\" usando la columna \"Model\"\n",
    "df[\"VehicleType\"] = df.groupby(\"Model\")[\"VehicleType\"].transform(lambda x: x.fillna(x.mode()[0]))\n",
    "\n",
    "# Imputar los valores faltantes en la columna \"Gearbox\" usando la columna \"Model\"\n",
    "df[\"Gearbox\"] = df.groupby(\"Model\")[\"Gearbox\"].transform(lambda x: x.fillna(x.mode()[0]))\n",
    "\n",
    "# Imputar los valores faltantes en la columna \"FuelType\" usando la columna \"Model\"\n",
    "df[\"FuelType\"] = df.groupby(\"Model\")[\"FuelType\"].transform(lambda x: x.fillna(x.mode()[0]))\n",
    "\n",
    "# Imputar los valores faltantes en la columna \"NotRepaired\" con \"no\" considerando que son autos de segunda mano.\n",
    "df[\"NotRepaired\"] = df[\"NotRepaired\"].fillna(False)\n",
    "\n",
    "# Corregir el tipo de dato de la columna \"NotRepaired\"\n",
    "df[\"NotRepaired\"] = df[\"NotRepaired\"].astype(\"uint8\")"
   ]
  },
  {
   "cell_type": "code",
   "execution_count": 54,
   "metadata": {},
   "outputs": [
    {
     "name": "stdout",
     "output_type": "stream",
     "text": [
      "<class 'pandas.core.frame.DataFrame'>\n",
      "Int64Index: 334664 entries, 0 to 354368\n",
      "Data columns (total 10 columns):\n",
      " #   Column            Non-Null Count   Dtype \n",
      "---  ------            --------------   ----- \n",
      " 0   Price             334664 non-null  int64 \n",
      " 1   VehicleType       334664 non-null  object\n",
      " 2   RegistrationYear  334664 non-null  int64 \n",
      " 3   Gearbox           334664 non-null  object\n",
      " 4   Power             334664 non-null  int64 \n",
      " 5   Model             334664 non-null  object\n",
      " 6   Mileage           334664 non-null  int64 \n",
      " 7   FuelType          334664 non-null  object\n",
      " 8   Brand             334664 non-null  object\n",
      " 9   NotRepaired       334664 non-null  uint8 \n",
      "dtypes: int64(4), object(5), uint8(1)\n",
      "memory usage: 25.9+ MB\n"
     ]
    }
   ],
   "source": [
    "# Imprime la información general/resumen sobre el DataFrame\n",
    "df.info()"
   ]
  },
  {
   "attachments": {},
   "cell_type": "markdown",
   "metadata": {},
   "source": [
    "### Conclusión intermedia\n",
    "\n",
    "La columna `Model` es de gran importancia para la imputación de los datos debido a que el modelo de un auto puede ser un buen indicador de las diferentes sus características, es por ello que se decidió utilizar dicha columna como base para realizar la imputación de algunas columnas con valores ausentes, además de que se eliminaron los registros que no contaban con este dato.\n",
    "\n",
    "Los valores ausentes en la columna `NotRepaired` se rellenaron con \"no\" ya que dicho valor es la moda, además de que se está considerando la alta probabilidad de que un auto de segunda mano tenga reparaciones.\n",
    "\n",
    "**NOTA:** Cabe mencionar que la columna `Power` contiene una cantidad considerable de valores en cero."
   ]
  },
  {
   "attachments": {},
   "cell_type": "markdown",
   "metadata": {},
   "source": [
    "### Variables categóricas (Utilizar One Hot Encoding)"
   ]
  },
  {
   "cell_type": "code",
   "execution_count": 55,
   "metadata": {},
   "outputs": [
    {
     "data": {
      "text/plain": [
       "sedan          102434\n",
       "small           85249\n",
       "wagon           66365\n",
       "bus             30901\n",
       "convertible     19574\n",
       "coupe           15631\n",
       "suv             11703\n",
       "other            2807\n",
       "Name: VehicleType, dtype: int64"
      ]
     },
     "execution_count": 55,
     "metadata": {},
     "output_type": "execute_result"
    }
   ],
   "source": [
    "# Mostrar los diferentes valores de la columna \"VehicleType\"\n",
    "df[\"VehicleType\"].value_counts()"
   ]
  },
  {
   "cell_type": "code",
   "execution_count": 56,
   "metadata": {},
   "outputs": [
    {
     "data": {
      "text/plain": [
       "manual    269911\n",
       "auto       64753\n",
       "Name: Gearbox, dtype: int64"
      ]
     },
     "execution_count": 56,
     "metadata": {},
     "output_type": "execute_result"
    }
   ],
   "source": [
    "# Mostar los diferentes valores de la columna \"Gearbox\"\n",
    "df[\"Gearbox\"].value_counts()"
   ]
  },
  {
   "cell_type": "code",
   "execution_count": 57,
   "metadata": {},
   "outputs": [
    {
     "data": {
      "text/plain": [
       "petrol      228196\n",
       "gasoline    100555\n",
       "lpg           4962\n",
       "cng            544\n",
       "hybrid         208\n",
       "other          133\n",
       "electric        66\n",
       "Name: FuelType, dtype: int64"
      ]
     },
     "execution_count": 57,
     "metadata": {},
     "output_type": "execute_result"
    }
   ],
   "source": [
    "# Mostar los diferentes valores de la columna \"FuelType\"\n",
    "df[\"FuelType\"].value_counts()"
   ]
  },
  {
   "cell_type": "code",
   "execution_count": 58,
   "metadata": {},
   "outputs": [
    {
     "data": {
      "text/plain": [
       "golf                  29232\n",
       "other                 24421\n",
       "3er                   19761\n",
       "polo                  13066\n",
       "corsa                 12570\n",
       "                      ...  \n",
       "i3                        8\n",
       "serie_3                   4\n",
       "rangerover                4\n",
       "range_rover_evoque        2\n",
       "serie_1                   2\n",
       "Name: Model, Length: 250, dtype: int64"
      ]
     },
     "execution_count": 58,
     "metadata": {},
     "output_type": "execute_result"
    }
   ],
   "source": [
    "# Mostar los diferentes valores de la columna \"Model\"\n",
    "df[\"Model\"].value_counts()"
   ]
  },
  {
   "cell_type": "code",
   "execution_count": 59,
   "metadata": {},
   "outputs": [
    {
     "data": {
      "text/plain": [
       "volkswagen       73508\n",
       "opel             38060\n",
       "bmw              34979\n",
       "mercedes_benz    30836\n",
       "audi             28173\n",
       "ford             24166\n",
       "renault          17192\n",
       "peugeot          10107\n",
       "fiat              9141\n",
       "seat              6672\n",
       "skoda             5359\n",
       "mazda             5263\n",
       "smart             4978\n",
       "citroen           4899\n",
       "nissan            4734\n",
       "toyota            4449\n",
       "hyundai           3359\n",
       "mini              3140\n",
       "volvo             3101\n",
       "mitsubishi        2862\n",
       "honda             2662\n",
       "kia               2352\n",
       "suzuki            2186\n",
       "alfa_romeo        2177\n",
       "chevrolet         1644\n",
       "chrysler          1350\n",
       "dacia              878\n",
       "daihatsu           767\n",
       "subaru             718\n",
       "porsche            716\n",
       "jeep               651\n",
       "land_rover         532\n",
       "saab               510\n",
       "daewoo             496\n",
       "trabant            494\n",
       "jaguar             491\n",
       "lancia             448\n",
       "rover              404\n",
       "lada               210\n",
       "Name: Brand, dtype: int64"
      ]
     },
     "execution_count": 59,
     "metadata": {},
     "output_type": "execute_result"
    }
   ],
   "source": [
    "# Mostar los diferentes valores de la columna \"Brand\"\n",
    "df[\"Brand\"].value_counts()"
   ]
  },
  {
   "cell_type": "code",
   "execution_count": 60,
   "metadata": {},
   "outputs": [
    {
     "name": "stdout",
     "output_type": "stream",
     "text": [
      "<class 'pandas.core.frame.DataFrame'>\n",
      "Int64Index: 334664 entries, 0 to 354368\n",
      "Columns: 306 entries, Price to Brand_volvo\n",
      "dtypes: int64(4), uint8(302)\n",
      "memory usage: 109.2 MB\n"
     ]
    }
   ],
   "source": [
    "# Seleccionar las columnas categóricas que se van a codificar con One-Hot Encoding\n",
    "categorical_columns = [\n",
    "    \"VehicleType\",\n",
    "    \"Gearbox\",\n",
    "    \"FuelType\",\n",
    "    \"Model\", # \n",
    "    \"Brand\" #\n",
    "]\n",
    "\n",
    "# Codificar las columnas categóricas con One-Hot Encoding\n",
    "df_ohe = pd.get_dummies(df, columns=categorical_columns, drop_first=True)\n",
    "\n",
    "# Imprime la información general/resumen sobre el DataFrame\n",
    "df_ohe.info()"
   ]
  },
  {
   "attachments": {},
   "cell_type": "markdown",
   "metadata": {},
   "source": [
    "## Conjuntos de entrenamiento y de prueba"
   ]
  },
  {
   "cell_type": "code",
   "execution_count": 61,
   "metadata": {},
   "outputs": [],
   "source": [
    "# Dividir los datos en conjuntos de entrenamiento y prueba\n",
    "train_ohe, test_ohe = train_test_split(df_ohe, test_size=0.25, random_state=12345)\n",
    "\n",
    "# Dividir los conjuntos de entrenamiento y prueba en características y objetivos\n",
    "train_features_ohe = train_ohe.drop(\"Price\", axis=1)\n",
    "train_targets_ohe = train_ohe[\"Price\"]\n",
    "test_features_ohe = test_ohe.drop(\"Price\", axis=1)\n",
    "test_targets_ohe = test_ohe[\"Price\"]"
   ]
  },
  {
   "attachments": {},
   "cell_type": "markdown",
   "metadata": {},
   "source": [
    "## Entrenamiento del modelo "
   ]
  },
  {
   "attachments": {},
   "cell_type": "markdown",
   "metadata": {},
   "source": [
    "### Encontrar los mejores hiperparámetros"
   ]
  },
  {
   "cell_type": "code",
   "execution_count": 62,
   "metadata": {},
   "outputs": [],
   "source": [
    "# Crear una función para encontrar los mejores hiperparámetros\n",
    "def find_best_params(model, param_grid, train_features, train_targets):\n",
    "    # Realizar una búsqueda en cuadrícula de los hiperparámetros\n",
    "    grid = GridSearchCV(model, param_grid, cv=5, scoring='neg_mean_absolute_error')\n",
    "    grid.fit(train_features, train_targets)\n",
    "    \n",
    "    # Imprimir los mejores hiperparámetros y el mejor score\n",
    "    print('Tipo de modelo:', type(model).__name__)\n",
    "    print('Mejores parámetros:', grid.best_params_)\n",
    "    print('Mejor score:', np.abs(grid.best_score_))\n",
    "    print()"
   ]
  },
  {
   "cell_type": "code",
   "execution_count": 63,
   "metadata": {},
   "outputs": [],
   "source": [
    "# Definir los hiperparámetros a probar\n",
    "param_grid_lr = {}\n",
    "param_grid_rf = {'n_estimators': np.arange(50, 201, 50), 'max_depth': np.arange(3, 15)}\n",
    "param_grid_CatBoost = {'iterations': np.arange(50, 201, 50), 'depth': np.arange(3, 15)}\n",
    "param_grid_XGBoost = {'n_estimators': np.arange(50, 201, 50), 'max_depth': np.arange(3, 15)}"
   ]
  },
  {
   "cell_type": "code",
   "execution_count": 64,
   "metadata": {},
   "outputs": [],
   "source": [
    "# Encontrar los mejores hiperparámetros\n",
    "# model_lr = LinearRegression()\n",
    "# find_best_params(model_lr, param_grid_lr, train_features_ohe, train_targets_ohe)\n",
    "\n",
    "# model_rf = RandomForestRegressor(random_state=12345)\n",
    "# find_best_params(model_rf, param_grid_rf, train_features_ohe, train_targets_ohe)\n",
    "\n",
    "# model_CatBoost = CatBoostRegressor(random_state=12345)\n",
    "# find_best_params(model_CatBoost, param_grid_CatBoost, train_features_ohe, train_targets_ohe)\n",
    "\n",
    "# model_XGBoost = xgb.XGBRegressor(random_state=12345)\n",
    "# find_best_params(model_XGBoost, param_grid_XGBoost, train_features_ohe, train_targets_ohe)"
   ]
  },
  {
   "attachments": {},
   "cell_type": "markdown",
   "metadata": {},
   "source": [
    "```\n",
    "Tipo de modelo: LinearRegression\n",
    "Mejores parámetros: {}\n",
    "Mejor score: 2279.3412678809937\n",
    "```\n",
    "\n",
    "```\n",
    "Tipo de modelo: RandomForestRegressor\n",
    "Mejores parámetros: {'max_depth': 14, 'n_estimators': 200}\n",
    "Mejor score: 1153.716453910281\n",
    "```\n",
    "\n",
    "```\n",
    "Tipo de modelo: CatBoostRegressor\n",
    "Mejores parámetros: {'depth': 14, 'iterations': 200}\n",
    "Mejor score: 1023.5344161101344\n",
    "```\n",
    "\n",
    "```\n",
    "Tipo de modelo: XGBRegressor\n",
    "Mejores parámetros: {'max_depth': 13, 'n_estimators': 200}\n",
    "Mejor score: 1010.2158119709638\n",
    "```"
   ]
  },
  {
   "attachments": {},
   "cell_type": "markdown",
   "metadata": {},
   "source": [
    "## Análisis del modelo"
   ]
  },
  {
   "attachments": {},
   "cell_type": "markdown",
   "metadata": {},
   "source": [
    "### Evaluación de RECM y velocidad"
   ]
  },
  {
   "cell_type": "code",
   "execution_count": 65,
   "metadata": {},
   "outputs": [],
   "source": [
    "# Crear función para evaluar las predicciones del modelo, la velocidad de entrenamiento y predicción\n",
    "def eval_model(model, train_features, train_target, test_features, test_target):\n",
    "    start = time.time()\n",
    "    model.fit(train_features, train_target)\n",
    "    end = time.time()\n",
    "    train_time = end - start\n",
    "    start = time.time()\n",
    "    predictions = model.predict(test_features)\n",
    "    end = time.time()\n",
    "    test_time = end - start\n",
    "    rmse = math.sqrt(mean_squared_error(test_target, predictions))\n",
    "    r2 = r2_score(test_target, predictions)\n",
    "    print(\"RMSE: {:.2f}\".format(rmse))\n",
    "    print(\"R2: {:.2f}\".format(r2))\n",
    "    print(\"Tiempo de entrenamiento: {:.2f}\".format(train_time))\n",
    "    print(\"Tiempo de predicción: {:.2f}\".format(test_time))"
   ]
  },
  {
   "attachments": {},
   "cell_type": "markdown",
   "metadata": {},
   "source": [
    "### Regresión lineal"
   ]
  },
  {
   "cell_type": "code",
   "execution_count": 21,
   "metadata": {},
   "outputs": [
    {
     "name": "stdout",
     "output_type": "stream",
     "text": [
      "RMSE: 3224.16\n",
      "R2: 0.50\n",
      "Tiempo de entrenamiento: 5.13\n",
      "Tiempo de predicción: 0.11\n"
     ]
    }
   ],
   "source": [
    "# Crear modelo de regresión lineal\n",
    "model_lr = LinearRegression()\n",
    "\n",
    "# Entrenar y evaluar el modelo de regresión lineal\n",
    "eval_model(model_lr, train_features_ohe, train_targets_ohe, test_features_ohe, test_targets_ohe)"
   ]
  },
  {
   "attachments": {},
   "cell_type": "markdown",
   "metadata": {},
   "source": [
    "### Bosque Aleatorio"
   ]
  },
  {
   "cell_type": "code",
   "execution_count": 22,
   "metadata": {},
   "outputs": [
    {
     "name": "stdout",
     "output_type": "stream",
     "text": [
      "RMSE: 1838.29\n",
      "R2: 0.84\n",
      "Tiempo de entrenamiento: 327.35\n",
      "Tiempo de predicción: 1.40\n"
     ]
    }
   ],
   "source": [
    "# Crear modelo de regresión random forest\n",
    "model_rf = RandomForestRegressor(random_state=12345, n_estimators=200, max_depth=14)\n",
    "\n",
    "# Entrenar y evaluar el modelo de regresión random forest\n",
    "eval_model(model_rf, train_features_ohe, train_targets_ohe, test_features_ohe, test_targets_ohe)"
   ]
  },
  {
   "attachments": {},
   "cell_type": "markdown",
   "metadata": {},
   "source": [
    "### CatBoost"
   ]
  },
  {
   "cell_type": "code",
   "execution_count": 25,
   "metadata": {},
   "outputs": [
    {
     "name": "stdout",
     "output_type": "stream",
     "text": [
      "RMSE: 1687.89\n",
      "R2: 0.86\n",
      "Tiempo de entrenamiento: 14.48\n",
      "Tiempo de predicción: 0.06\n"
     ]
    }
   ],
   "source": [
    "# Crear modelo de regresión CatBoost\n",
    "model_CatBoost = CatBoostRegressor(random_state=12345, iterations=200, depth=14, verbose=0)\n",
    "\n",
    "# Entrenar y evaluar el modelo de regresión CatBoost\n",
    "eval_model(model_CatBoost, train_features_ohe, train_targets_ohe, test_features_ohe, test_targets_ohe)"
   ]
  },
  {
   "attachments": {},
   "cell_type": "markdown",
   "metadata": {},
   "source": [
    "### XGBoost"
   ]
  },
  {
   "cell_type": "code",
   "execution_count": 46,
   "metadata": {},
   "outputs": [
    {
     "name": "stdout",
     "output_type": "stream",
     "text": [
      "RMSE: 1699.17\n",
      "R2: 0.86\n",
      "Tiempo de entrenamiento: 319.75\n",
      "Tiempo de predicción: 0.29\n"
     ]
    }
   ],
   "source": [
    "# Crear modelo de regresión XGBoost\n",
    "model_XGBoost = xgb.XGBRegressor(random_state=12345, n_estimators=200, max_depth=13, verbosity=0)\n",
    "\n",
    "# Entrenar y evaluar el modelo de regresión XGBoost\n",
    "eval_model(model_XGBoost, train_features_ohe, train_targets_ohe, test_features_ohe, test_targets_ohe)"
   ]
  },
  {
   "attachments": {},
   "cell_type": "markdown",
   "metadata": {},
   "source": [
    "### Conclusión intermedia\n",
    "\n",
    "`CatBoost` parece ser el modelo más eficiente, proporcionando la menor puntuación de RMSE, el mayor valor de R2 y los tiempos de entrenamiento y predicción más bajos en comparación con los otros modelos."
   ]
  },
  {
   "attachments": {},
   "cell_type": "markdown",
   "metadata": {},
   "source": [
    "# Conclusión General\n",
    "\n",
    "Durante este proyecto para el servicio de venta de coches de segunda mano en `Rusty Bargain`:\n",
    "\n",
    "1. Hemos limpiado e imputado datos, enfocándonos en la variable `Model` para mejorar la calidad de los datos.\n",
    "\n",
    "2. Implementamos y comparamos varios modelos de regresión (regresión lineal, bosque aleatorio, CatBoost y XGBoost) para predecir el valor de mercado de los vehículos usados. Los modelos de potenciación del gradiente (CatBoost y XGBoost) mostraron un rendimiento superior.\n",
    "\n",
    "3. Mejoramos la precisión de los modelos mediante ajuste de hiperparámetros, logrando un balance entre precisión y eficiencia.\n",
    "\n",
    "4. Elegimos el modelo `CatBoost` basándonos en los resultados de las métricas de `RMSE`, `R2`, además del `tiempo de entrenamiento` y el `tiempo de predicción`.\n",
    "\n",
    "En resumen, desarrollamos un modelo puede predecir con precisión el valor de mercado de los vehículos usados, proporcionando una valiosa herramienta para Rusty Bargain y destacando la importancia de un manejo cuidadoso de los datos y una consideración balanceada entre la precisión y la eficiencia del modelo.\n"
   ]
  }
 ],
 "metadata": {
  "kernelspec": {
   "display_name": "Python 3 (ipykernel)",
   "language": "python",
   "name": "python3"
  },
  "language_info": {
   "codemirror_mode": {
    "name": "ipython",
    "version": 3
   },
   "file_extension": ".py",
   "mimetype": "text/x-python",
   "name": "python",
   "nbconvert_exporter": "python",
   "pygments_lexer": "ipython3",
   "version": "3.11.2"
  },
  "toc": {
   "base_numbering": 1,
   "nav_menu": {},
   "number_sections": true,
   "sideBar": true,
   "skip_h1_title": true,
   "title_cell": "Table of Contents",
   "title_sidebar": "Contents",
   "toc_cell": false,
   "toc_position": {},
   "toc_section_display": true,
   "toc_window_display": false
  }
 },
 "nbformat": 4,
 "nbformat_minor": 2
}
