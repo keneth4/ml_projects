{
 "cells": [
  {
   "attachments": {},
   "cell_type": "markdown",
   "metadata": {},
   "source": [
    "# Megaline: Smart or Ultra\n",
    "\n",
    "The mobile company Megaline is not satisfied seeing many of its customers using legacy plans. They want to develop a model that can analyze customer behavior and recommend one of Megaline's new plans: Smart or Ultra.\n",
    "\n",
    "You have access to behavioral data from subscribers who have already switched to the new plans (from the Data Statistical Analysis course project). For this classification task, you should create a model that chooses the right plan. Since you have already gone through the data processing step, you can jump straight into creating the model.\n",
    "\n",
    "Develop a model with the highest accuracy possible. In this project, the accuracy threshold is 0.75. Use the dataset to check the accuracy."
   ]
  },
  {
   "attachments": {},
   "cell_type": "markdown",
   "metadata": {},
   "source": [
    "# Data Description\n",
    "\n",
    "Each observation in the dataset contains monthly behavior information about a user. The provided information is as follows:\n",
    "\n",
    "- `сalls` — number of calls.\n",
    "- `minutes` — total call duration in minutes.\n",
    "- `messages` — number of text messages.\n",
    "- `mb_used` — Internet traffic used in MB.\n",
    "- `is_ultra` — plan for the current month (Ultra - 1, Smart - 0).\n"
   ]
  },
  {
   "attachments": {},
   "cell_type": "markdown",
   "metadata": {},
   "source": [
    "# Initialization"
   ]
  },
  {
   "cell_type": "code",
   "execution_count": 55,
   "metadata": {},
   "outputs": [],
   "source": [
    "# Load libraries\n",
    "\n",
    "# Data manipulation\n",
    "import pandas as pd\n",
    "import numpy as np\n",
    "from sklearn.model_selection import train_test_split\n",
    "\n",
    "# Modeling\n",
    "from sklearn.tree import DecisionTreeClassifier\n",
    "from sklearn.ensemble import RandomForestClassifier\n",
    "from sklearn.linear_model import LogisticRegression\n",
    "from sklearn.dummy import DummyClassifier\n",
    "from sklearn.model_selection import GridSearchCV\n",
    "\n",
    "# Evaluation\n",
    "from sklearn.metrics import roc_auc_score, precision_score, recall_score, f1_score\n",
    "\n",
    "# Visualization\n",
    "import seaborn as sns\n",
    "import matplotlib.pyplot as plt"
   ]
  },
  {
   "attachments": {},
   "cell_type": "markdown",
   "metadata": {},
   "source": [
    "# Load data"
   ]
  },
  {
   "cell_type": "code",
   "execution_count": 56,
   "metadata": {},
   "outputs": [],
   "source": [
    "# Load the data into DataFrames\n",
    "df = pd.read_csv('../datasets/users_behavior.csv')"
   ]
  },
  {
   "cell_type": "code",
   "execution_count": 57,
   "metadata": {},
   "outputs": [
    {
     "name": "stdout",
     "output_type": "stream",
     "text": [
      "<class 'pandas.core.frame.DataFrame'>\n",
      "RangeIndex: 3214 entries, 0 to 3213\n",
      "Data columns (total 5 columns):\n",
      " #   Column    Non-Null Count  Dtype  \n",
      "---  ------    --------------  -----  \n",
      " 0   calls     3214 non-null   float64\n",
      " 1   minutes   3214 non-null   float64\n",
      " 2   messages  3214 non-null   float64\n",
      " 3   mb_used   3214 non-null   float64\n",
      " 4   is_ultra  3214 non-null   int64  \n",
      "dtypes: float64(4), int64(1)\n",
      "memory usage: 125.7 KB\n"
     ]
    },
    {
     "data": {
      "text/html": [
       "<div>\n",
       "<style scoped>\n",
       "    .dataframe tbody tr th:only-of-type {\n",
       "        vertical-align: middle;\n",
       "    }\n",
       "\n",
       "    .dataframe tbody tr th {\n",
       "        vertical-align: top;\n",
       "    }\n",
       "\n",
       "    .dataframe thead th {\n",
       "        text-align: right;\n",
       "    }\n",
       "</style>\n",
       "<table border=\"1\" class=\"dataframe\">\n",
       "  <thead>\n",
       "    <tr style=\"text-align: right;\">\n",
       "      <th></th>\n",
       "      <th>calls</th>\n",
       "      <th>minutes</th>\n",
       "      <th>messages</th>\n",
       "      <th>mb_used</th>\n",
       "      <th>is_ultra</th>\n",
       "    </tr>\n",
       "  </thead>\n",
       "  <tbody>\n",
       "    <tr>\n",
       "      <th>712</th>\n",
       "      <td>68.0</td>\n",
       "      <td>458.15</td>\n",
       "      <td>137.0</td>\n",
       "      <td>10933.27</td>\n",
       "      <td>1</td>\n",
       "    </tr>\n",
       "    <tr>\n",
       "      <th>1205</th>\n",
       "      <td>65.0</td>\n",
       "      <td>444.02</td>\n",
       "      <td>77.0</td>\n",
       "      <td>9753.24</td>\n",
       "      <td>0</td>\n",
       "    </tr>\n",
       "    <tr>\n",
       "      <th>3077</th>\n",
       "      <td>22.0</td>\n",
       "      <td>120.09</td>\n",
       "      <td>16.0</td>\n",
       "      <td>9039.57</td>\n",
       "      <td>0</td>\n",
       "    </tr>\n",
       "    <tr>\n",
       "      <th>2959</th>\n",
       "      <td>23.0</td>\n",
       "      <td>135.99</td>\n",
       "      <td>23.0</td>\n",
       "      <td>19867.72</td>\n",
       "      <td>0</td>\n",
       "    </tr>\n",
       "    <tr>\n",
       "      <th>767</th>\n",
       "      <td>26.0</td>\n",
       "      <td>193.78</td>\n",
       "      <td>14.0</td>\n",
       "      <td>13946.36</td>\n",
       "      <td>0</td>\n",
       "    </tr>\n",
       "  </tbody>\n",
       "</table>\n",
       "</div>"
      ],
      "text/plain": [
       "      calls  minutes  messages   mb_used  is_ultra\n",
       "712    68.0   458.15     137.0  10933.27         1\n",
       "1205   65.0   444.02      77.0   9753.24         0\n",
       "3077   22.0   120.09      16.0   9039.57         0\n",
       "2959   23.0   135.99      23.0  19867.72         0\n",
       "767    26.0   193.78      14.0  13946.36         0"
      ]
     },
     "execution_count": 57,
     "metadata": {},
     "output_type": "execute_result"
    }
   ],
   "source": [
    "# Print the general/summary information about the DataFrames\n",
    "df.info()\n",
    "\n",
    "# Print a random sample of 5 rows from the DataFrame\n",
    "df.sample(5)"
   ]
  },
  {
   "cell_type": "markdown",
   "metadata": {},
   "source": [
    "## Observations\n",
    "- All columns have the correct data types and have no missing values (just as mentioned in the project description)."
   ]
  },
  {
   "cell_type": "markdown",
   "metadata": {},
   "source": [
    "# EDA"
   ]
  },
  {
   "cell_type": "code",
   "execution_count": 58,
   "metadata": {},
   "outputs": [
    {
     "data": {
      "image/png": "[encoded data removed]",
      "text/plain": [
       "<Figure size 640x480 with 1 Axes>"
      ]
     },
     "metadata": {},
     "output_type": "display_data"
    }
   ],
   "source": [
    "# Create a graph to visualize the distribution of the target variable\n",
    "sns.countplot(x='is_ultra', data=df)\n",
    "plt.show()"
   ]
  },
  {
   "cell_type": "markdown",
   "metadata": {},
   "source": [
    "## Observations\n",
    "- Eventhough we have a preprocessed dataset, there is an imbalance of classes for the target variable."
   ]
  },
  {
   "cell_type": "markdown",
   "metadata": {},
   "source": [
    "## Oversampling"
   ]
  },
  {
   "cell_type": "code",
   "execution_count": 59,
   "metadata": {},
   "outputs": [],
   "source": [
    "# Set random seed for reproducibility\n",
    "random_state = 12345"
   ]
  },
  {
   "cell_type": "code",
   "execution_count": 60,
   "metadata": {},
   "outputs": [
    {
     "data": {
      "image/png": "[encoded data removed]",
      "text/plain": [
       "<Figure size 640x480 with 1 Axes>"
      ]
     },
     "metadata": {},
     "output_type": "display_data"
    }
   ],
   "source": [
    "# Adjust the class imbalance by oversampling the minority class\n",
    "df_majority = df[df['is_ultra'] == 0]\n",
    "df_minority = df[df['is_ultra'] == 1]\n",
    "df_minority_upsampled = df_minority.sample(df_majority.shape[0], replace=True,  random_state=random_state)\n",
    "df = pd.concat([df_majority, df_minority_upsampled]).sample(frac=1, random_state=random_state).reset_index(drop=True)\n",
    "\n",
    "# Create a graph to visualize the distribution of the target variable\n",
    "sns.countplot(x='is_ultra', data=df)\n",
    "plt.show()"
   ]
  },
  {
   "cell_type": "code",
   "execution_count": 61,
   "metadata": {},
   "outputs": [
    {
     "name": "stdout",
     "output_type": "stream",
     "text": [
      "<class 'pandas.core.frame.DataFrame'>\n",
      "RangeIndex: 4458 entries, 0 to 4457\n",
      "Data columns (total 5 columns):\n",
      " #   Column    Non-Null Count  Dtype  \n",
      "---  ------    --------------  -----  \n",
      " 0   calls     4458 non-null   float64\n",
      " 1   minutes   4458 non-null   float64\n",
      " 2   messages  4458 non-null   float64\n",
      " 3   mb_used   4458 non-null   float64\n",
      " 4   is_ultra  4458 non-null   int64  \n",
      "dtypes: float64(4), int64(1)\n",
      "memory usage: 174.3 KB\n"
     ]
    },
    {
     "data": {
      "text/html": [
       "<div>\n",
       "<style scoped>\n",
       "    .dataframe tbody tr th:only-of-type {\n",
       "        vertical-align: middle;\n",
       "    }\n",
       "\n",
       "    .dataframe tbody tr th {\n",
       "        vertical-align: top;\n",
       "    }\n",
       "\n",
       "    .dataframe thead th {\n",
       "        text-align: right;\n",
       "    }\n",
       "</style>\n",
       "<table border=\"1\" class=\"dataframe\">\n",
       "  <thead>\n",
       "    <tr style=\"text-align: right;\">\n",
       "      <th></th>\n",
       "      <th>calls</th>\n",
       "      <th>minutes</th>\n",
       "      <th>messages</th>\n",
       "      <th>mb_used</th>\n",
       "      <th>is_ultra</th>\n",
       "    </tr>\n",
       "  </thead>\n",
       "  <tbody>\n",
       "    <tr>\n",
       "      <th>213</th>\n",
       "      <td>78.0</td>\n",
       "      <td>491.15</td>\n",
       "      <td>26.0</td>\n",
       "      <td>7497.19</td>\n",
       "      <td>1</td>\n",
       "    </tr>\n",
       "    <tr>\n",
       "      <th>3915</th>\n",
       "      <td>69.0</td>\n",
       "      <td>442.96</td>\n",
       "      <td>99.0</td>\n",
       "      <td>26423.48</td>\n",
       "      <td>0</td>\n",
       "    </tr>\n",
       "    <tr>\n",
       "      <th>2609</th>\n",
       "      <td>83.0</td>\n",
       "      <td>590.47</td>\n",
       "      <td>103.0</td>\n",
       "      <td>27851.01</td>\n",
       "      <td>0</td>\n",
       "    </tr>\n",
       "    <tr>\n",
       "      <th>652</th>\n",
       "      <td>84.0</td>\n",
       "      <td>572.48</td>\n",
       "      <td>5.0</td>\n",
       "      <td>28775.89</td>\n",
       "      <td>1</td>\n",
       "    </tr>\n",
       "    <tr>\n",
       "      <th>1809</th>\n",
       "      <td>37.0</td>\n",
       "      <td>292.84</td>\n",
       "      <td>18.0</td>\n",
       "      <td>4080.59</td>\n",
       "      <td>0</td>\n",
       "    </tr>\n",
       "  </tbody>\n",
       "</table>\n",
       "</div>"
      ],
      "text/plain": [
       "      calls  minutes  messages   mb_used  is_ultra\n",
       "213    78.0   491.15      26.0   7497.19         1\n",
       "3915   69.0   442.96      99.0  26423.48         0\n",
       "2609   83.0   590.47     103.0  27851.01         0\n",
       "652    84.0   572.48       5.0  28775.89         1\n",
       "1809   37.0   292.84      18.0   4080.59         0"
      ]
     },
     "execution_count": 61,
     "metadata": {},
     "output_type": "execute_result"
    }
   ],
   "source": [
    "# Print the general/summary information about the DataFrames\n",
    "df.info()\n",
    "\n",
    "# Print a random sample of 5 rows from the DataFrame\n",
    "df.sample(5)"
   ]
  },
  {
   "cell_type": "markdown",
   "metadata": {},
   "source": [
    "# Model construction\n",
    "\n",
    "## Data Segmentation"
   ]
  },
  {
   "cell_type": "code",
   "execution_count": 62,
   "metadata": {},
   "outputs": [],
   "source": [
    "# Separate the data into features and target\n",
    "features = df.drop(\"is_ultra\", axis=1)\n",
    "target = df[\"is_ultra\"]"
   ]
  },
  {
   "cell_type": "code",
   "execution_count": 63,
   "metadata": {},
   "outputs": [],
   "source": [
    "# Divide the data into training, validation, and test subsets (3:1:1)\n",
    "features_train, features_valid_test, target_train, target_valid_test = train_test_split(features, target, test_size=.4, random_state=random_state)\n",
    "features_valid, features_test, target_valid, target_test = train_test_split(features_valid_test, target_valid_test, test_size=.5, random_state=random_state)"
   ]
  },
  {
   "cell_type": "markdown",
   "metadata": {},
   "source": [
    "## Find the best hyperparameters"
   ]
  },
  {
   "cell_type": "code",
   "execution_count": 64,
   "metadata": {},
   "outputs": [],
   "source": [
    "# Set the scoring metric to be used for choosing the best hyperparameters\n",
    "scoring = 'roc_auc'"
   ]
  },
  {
   "cell_type": "code",
   "execution_count": 65,
   "metadata": {},
   "outputs": [],
   "source": [
    "# Create a function to calculate the best hyperparameters for a list of models\n",
    "def find_best_params(models, features_train, target_train, scoring):\n",
    "    # Create a DataFrame to store the results\n",
    "    results = pd.DataFrame(columns=['Model', 'Best Parameters', 'Best Score'])\n",
    "\n",
    "    # Iterate through the list of models\n",
    "    for model in models:\n",
    "        # Print the name of the model\n",
    "        print(f\"Finding best parameters for {type(model['model']).__name__}...\")\n",
    "\n",
    "        # Perform a grid search of the hyperparameters\n",
    "        grid = GridSearchCV(model['model'], model['param_grid'], cv=5, scoring=scoring, verbose=0, n_jobs=-1)\n",
    "        grid.fit(features_train, target_train)\n",
    "\n",
    "        # Extract best parameters and score\n",
    "        best_params = grid.best_params_\n",
    "        best_score = np.abs(grid.best_score_)\n",
    "\n",
    "        # Store the results in the DataFrame\n",
    "        results = pd.concat([results, pd.DataFrame({'Model': type(model['model']).__name__, \n",
    "                                  'Best Parameters': [best_params], \n",
    "                                  'Best Score': best_score})], ignore_index=True)\n",
    "\n",
    "        # Sort the DataFrame by best score\n",
    "        results.sort_values(by='Best Score', ascending=False, inplace=True)\n",
    "\n",
    "    # Create a bar plot to visualize the best scores\n",
    "    plt.figure(figsize=(12, 10))\n",
    "    sns.barplot(data=results, x='Model', y='Best Score', palette=\"coolwarm\")\n",
    "    plt.title(\"Grid Search Results (higher score is better)\")\n",
    "    plt.xticks(rotation=45)\n",
    "    plt.tight_layout()\n",
    "\n",
    "    return results"
   ]
  },
  {
   "cell_type": "code",
   "execution_count": 66,
   "metadata": {},
   "outputs": [
    {
     "name": "stdout",
     "output_type": "stream",
     "text": [
      "Finding best parameters for LogisticRegression...\n",
      "Finding best parameters for RandomForestClassifier...\n",
      "Finding best parameters for DecisionTreeClassifier...\n"
     ]
    },
    {
     "data": {
      "text/html": [
       "<div>\n",
       "<style scoped>\n",
       "    .dataframe tbody tr th:only-of-type {\n",
       "        vertical-align: middle;\n",
       "    }\n",
       "\n",
       "    .dataframe tbody tr th {\n",
       "        vertical-align: top;\n",
       "    }\n",
       "\n",
       "    .dataframe thead th {\n",
       "        text-align: right;\n",
       "    }\n",
       "</style>\n",
       "<table border=\"1\" class=\"dataframe\">\n",
       "  <thead>\n",
       "    <tr style=\"text-align: right;\">\n",
       "      <th></th>\n",
       "      <th>Model</th>\n",
       "      <th>Best Parameters</th>\n",
       "      <th>Best Score</th>\n",
       "    </tr>\n",
       "  </thead>\n",
       "  <tbody>\n",
       "    <tr>\n",
       "      <th>0</th>\n",
       "      <td>RandomForestClassifier</td>\n",
       "      <td>{'max_depth': 14, 'n_estimators': 90}</td>\n",
       "      <td>0.902429</td>\n",
       "    </tr>\n",
       "    <tr>\n",
       "      <th>2</th>\n",
       "      <td>DecisionTreeClassifier</td>\n",
       "      <td>{'max_depth': 14}</td>\n",
       "      <td>0.814855</td>\n",
       "    </tr>\n",
       "    <tr>\n",
       "      <th>1</th>\n",
       "      <td>LogisticRegression</td>\n",
       "      <td>{}</td>\n",
       "      <td>0.581170</td>\n",
       "    </tr>\n",
       "  </tbody>\n",
       "</table>\n",
       "</div>"
      ],
      "text/plain": [
       "                    Model                        Best Parameters  Best Score\n",
       "0  RandomForestClassifier  {'max_depth': 14, 'n_estimators': 90}    0.902429\n",
       "2  DecisionTreeClassifier                      {'max_depth': 14}    0.814855\n",
       "1      LogisticRegression                                     {}    0.581170"
      ]
     },
     "execution_count": 66,
     "metadata": {},
     "output_type": "execute_result"
    },
    {
     "data": {
      "image/png": "[encoded data removed]",
      "text/plain": [
       "<Figure size 1200x1000 with 1 Axes>"
      ]
     },
     "metadata": {},
     "output_type": "display_data"
    }
   ],
   "source": [
    "# Define the models and their basic hyperparameters\n",
    "models = [\n",
    "    {\n",
    "        'model': LogisticRegression(random_state=random_state),\n",
    "        'param_grid': {}\n",
    "    },\n",
    "    {\n",
    "        'model': RandomForestClassifier(random_state=random_state),\n",
    "        'param_grid': {'n_estimators': np.arange(10, 100, 10), 'max_depth': np.arange(3, 15)}\n",
    "    },\n",
    "    {\n",
    "        'model': DecisionTreeClassifier(random_state=random_state),\n",
    "        'param_grid': {'max_depth': np.arange(3, 15)}\n",
    "    },\n",
    "]\n",
    "\n",
    "# Find the best hyperparameters for each model\n",
    "results = find_best_params(models, features_train, target_train, scoring)\n",
    "\n",
    "# Print the results\n",
    "results"
   ]
  },
  {
   "cell_type": "code",
   "execution_count": 67,
   "metadata": {},
   "outputs": [],
   "source": [
    "# Set the index of the DataFrame to the model name\n",
    "results.set_index('Model', inplace=True)\n",
    "\n",
    "# Set the hyperparameters for each model based on the results of the grid search\n",
    "models = [\n",
    "    LogisticRegression(random_state=random_state, **results.loc['LogisticRegression']['Best Parameters']),\n",
    "    RandomForestClassifier(random_state=random_state, **results.loc['RandomForestClassifier']['Best Parameters']),\n",
    "    DecisionTreeClassifier(random_state=random_state, **results.loc['DecisionTreeClassifier']['Best Parameters']),\n",
    "]"
   ]
  },
  {
   "cell_type": "markdown",
   "metadata": {},
   "source": [
    "## Train and evaluate models"
   ]
  },
  {
   "cell_type": "code",
   "execution_count": 68,
   "metadata": {},
   "outputs": [],
   "source": [
    "# Create a function to train and evaluate multiple models on the training and validation subsets and create a graph to visualize the results\n",
    "def train_and_evaluate_models(models, features_train, target_train, features_valid, target_valid):\n",
    "    # Create a DataFrame to store the results\n",
    "    results = pd.DataFrame(columns=['Model', 'Accuracy', 'Precision', 'Recall', 'F1', 'ROC_AUC'])\n",
    "    \n",
    "    # Loop through each model\n",
    "    for model in models:\n",
    "        # Train the model\n",
    "        model.fit(features_train, target_train)\n",
    "        \n",
    "        # Make predictions\n",
    "        predictions = model.predict(features_valid)\n",
    "        \n",
    "        # Evaluate the model\n",
    "        accuracy = model.score(features_valid, target_valid)\n",
    "        precision = precision_score(target_valid, predictions)\n",
    "        recall = recall_score(target_valid, predictions)\n",
    "        f1 = f1_score(target_valid, predictions)\n",
    "        roc_auc = roc_auc_score(target_valid, predictions)\n",
    "        \n",
    "        # Append the results to the DataFrame\n",
    "        results = pd.concat([results, pd.DataFrame({'Model': model.__class__.__name__, 'Accuracy': accuracy, 'Precision': precision, 'Recall': recall, 'F1': f1, 'ROC_AUC': roc_auc}, index=[0])], ignore_index=True)\n",
    "    \n",
    "    # Draw a heatmap to visualize the results\n",
    "    plt.figure(figsize=(14,7))\n",
    "    sns.set(style=\"whitegrid\")\n",
    "    sns.heatmap(results.set_index('Model'), annot=True, cmap='RdBu_r')\n",
    "    plt.title('Model Comparison')\n",
    "    plt.ylabel('Model')\n",
    "    plt.tight_layout()\n",
    "    plt.show()\n",
    "\n",
    "    return results"
   ]
  },
  {
   "cell_type": "code",
   "execution_count": 69,
   "metadata": {},
   "outputs": [
    {
     "data": {
      "image/png": "[encoded data removed]",
      "text/plain": [
       "<Figure size 1400x700 with 2 Axes>"
      ]
     },
     "metadata": {},
     "output_type": "display_data"
    },
    {
     "data": {
      "text/html": [
       "<div>\n",
       "<style scoped>\n",
       "    .dataframe tbody tr th:only-of-type {\n",
       "        vertical-align: middle;\n",
       "    }\n",
       "\n",
       "    .dataframe tbody tr th {\n",
       "        vertical-align: top;\n",
       "    }\n",
       "\n",
       "    .dataframe thead th {\n",
       "        text-align: right;\n",
       "    }\n",
       "</style>\n",
       "<table border=\"1\" class=\"dataframe\">\n",
       "  <thead>\n",
       "    <tr style=\"text-align: right;\">\n",
       "      <th></th>\n",
       "      <th>Model</th>\n",
       "      <th>Accuracy</th>\n",
       "      <th>Precision</th>\n",
       "      <th>Recall</th>\n",
       "      <th>F1</th>\n",
       "      <th>ROC_AUC</th>\n",
       "    </tr>\n",
       "  </thead>\n",
       "  <tbody>\n",
       "    <tr>\n",
       "      <th>0</th>\n",
       "      <td>LogisticRegression</td>\n",
       "      <td>0.623318</td>\n",
       "      <td>0.622989</td>\n",
       "      <td>0.611738</td>\n",
       "      <td>0.617312</td>\n",
       "      <td>0.623241</td>\n",
       "    </tr>\n",
       "    <tr>\n",
       "      <th>1</th>\n",
       "      <td>RandomForestClassifier</td>\n",
       "      <td>0.843049</td>\n",
       "      <td>0.827214</td>\n",
       "      <td>0.864560</td>\n",
       "      <td>0.845475</td>\n",
       "      <td>0.843193</td>\n",
       "    </tr>\n",
       "    <tr>\n",
       "      <th>2</th>\n",
       "      <td>DecisionTreeClassifier</td>\n",
       "      <td>0.806054</td>\n",
       "      <td>0.789700</td>\n",
       "      <td>0.830700</td>\n",
       "      <td>0.809681</td>\n",
       "      <td>0.806218</td>\n",
       "    </tr>\n",
       "  </tbody>\n",
       "</table>\n",
       "</div>"
      ],
      "text/plain": [
       "                    Model  Accuracy  Precision    Recall        F1   ROC_AUC\n",
       "0      LogisticRegression  0.623318   0.622989  0.611738  0.617312  0.623241\n",
       "1  RandomForestClassifier  0.843049   0.827214  0.864560  0.845475  0.843193\n",
       "2  DecisionTreeClassifier  0.806054   0.789700  0.830700  0.809681  0.806218"
      ]
     },
     "execution_count": 69,
     "metadata": {},
     "output_type": "execute_result"
    }
   ],
   "source": [
    "# Train and evaluate the models\n",
    "train_results = train_and_evaluate_models(models, features_train, target_train, features_test, target_test)\n",
    "\n",
    "# Print the results\n",
    "train_results"
   ]
  },
  {
   "attachments": {},
   "cell_type": "markdown",
   "metadata": {},
   "source": [
    "## Intermediate Conclusion\n",
    "\n",
    "- The `Random Forest` Classifier demonstrated the highest performance across all evaluated metrics, including Accuracy, Precision, Recall, F1, and ROC_AUC, indicating it has the strongest predictive power among the models tested.\n",
    "\n",
    "- The `Logistic Regression` model showed the lowest scores in terms of the same metrics, suggesting it has the least predictive power for this particular dataset.\n",
    "\n",
    "- The `Decision Tree` Classifier achieved scores that were lower than the Random Forest but higher than Logistic Regression. It was the second-best in terms of Accuracy, F1, and ROC_AUC, and offered a good balance between Precision and Recall.\n",
    "\n",
    "The **`Random Forest`** model with the hyperparameters `'max_depth': 14, 'n_estimators': 90` will be the chosen model as it has the best balance across all metrics."
   ]
  },
  {
   "attachments": {},
   "cell_type": "markdown",
   "metadata": {},
   "source": [
    "# Model Quality Assessment"
   ]
  },
  {
   "cell_type": "code",
   "execution_count": 70,
   "metadata": {},
   "outputs": [
    {
     "name": "stdout",
     "output_type": "stream",
     "text": [
      "Accuracy of the decision tree model on the validation set: 0.8307174887892377\n"
     ]
    }
   ],
   "source": [
    "# Train a decision tree model with the maximum depth found earlier and determine the accuracy on the validation set\n",
    "model = RandomForestClassifier(random_state=random_state, max_depth=14, n_estimators=90)\n",
    "model.fit(features_train, target_train)\n",
    "score_val = model.score(features_valid, target_valid)\n",
    "\n",
    "print(\"Accuracy of the decision tree model on the validation set:\", score_val)"
   ]
  },
  {
   "attachments": {},
   "cell_type": "markdown",
   "metadata": {},
   "source": [
    "## Sanity Check"
   ]
  },
  {
   "cell_type": "code",
   "execution_count": 71,
   "metadata": {},
   "outputs": [
    {
     "name": "stdout",
     "output_type": "stream",
     "text": [
      "Dummy Classifier Score: 0.4966367713004484\n"
     ]
    }
   ],
   "source": [
    "# Create a dummy classifier that always predicts the most frequent class\n",
    "dummy = DummyClassifier(strategy='most_frequent', random_state=random_state)\n",
    "dummy.fit(features_train, target_train)\n",
    "\n",
    "# Calculate the score on the test data\n",
    "dummy_score = dummy.score(features_test, target_test)\n",
    "\n",
    "print(f'Dummy Classifier Score: {dummy_score}')"
   ]
  },
  {
   "attachments": {},
   "cell_type": "markdown",
   "metadata": {},
   "source": [
    "## Intermediate Conclusion\n",
    "\n",
    "- The `Dummy` Classifier, which always predicts the most frequent class, guesses correctly around 50% of the time.\n",
    "- The `Random Forest` Classifier guesses correctly 84.3% of the time. This indicates that the model is learning from the data and making predictions that are significantly better than a model that just guesses the most frequent class."
   ]
  },
  {
   "attachments": {},
   "cell_type": "markdown",
   "metadata": {},
   "source": [
    "# General Conclusion\n",
    "\n",
    "The tested classification models included the `Decision Tree`, `Random Forest`, and `Logistic Regression`. The analysis revealed that:\n",
    "\n",
    "- The `Random Forest` model scored the highest across all metrics, which often comes at the cost of increased computational complexity and execution time.\n",
    "- The `Decision Tree` model scored in the middle range for most metrics and offered the second shortest execution time.\n",
    "- The `Logistic Regression` model had the lowest scores, but it benefitted from the shortest execution time.\n",
    "\n",
    "The `Random Forest` model with the hyperparameters `'max_depth': 14, 'n_estimators': 90` was chosen for its high metrics scores. This model outperformed the `Dummy Classifier`, indicating that the model is learning from the data and making predictions that are significantly better than a model that merely guesses the most frequent class."
   ]
  }
 ],
 "metadata": {
  "kernelspec": {
   "display_name": "Python 3",
   "language": "python",
   "name": "python3"
  },
  "language_info": {
   "codemirror_mode": {
    "name": "ipython",
    "version": 3
   },
   "file_extension": ".py",
   "mimetype": "text/x-python",
   "name": "python",
   "nbconvert_exporter": "python",
   "pygments_lexer": "ipython3",
   "version": "3.11.6"
  },
  "orig_nbformat": 4
 },
 "nbformat": 4,
 "nbformat_minor": 2
}
