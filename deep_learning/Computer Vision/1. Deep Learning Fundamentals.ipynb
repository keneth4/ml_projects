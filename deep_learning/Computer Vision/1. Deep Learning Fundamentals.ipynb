{
 "cells": [
  {
   "cell_type": "markdown",
   "metadata": {},
   "source": [
    "# Deep Learning Fundamentals"
   ]
  },
  {
   "cell_type": "markdown",
   "metadata": {},
   "source": [
    "## Initialization"
   ]
  },
  {
   "cell_type": "code",
   "execution_count": 1,
   "metadata": {},
   "outputs": [
    {
     "data": {
      "text/plain": [
       "'0.4.2'"
      ]
     },
     "execution_count": 1,
     "metadata": {},
     "output_type": "execute_result"
    }
   ],
   "source": [
    "# Load libraries\n",
    "import latexify\n",
    "from copy import deepcopy\n",
    "import numpy as np\n",
    "import matplotlib.pyplot as plt\n",
    "\n",
    "latexify.__version__"
   ]
  },
  {
   "cell_type": "markdown",
   "metadata": {},
   "source": [
    "## Activation functions"
   ]
  },
  {
   "cell_type": "code",
   "execution_count": 2,
   "metadata": {},
   "outputs": [
    {
     "data": {
      "text/latex": [
       "$$ \\displaystyle \\mathrm{sigmoid}(x) = \\frac{1}{1 + \\exp \\mathopen{}\\left( -x \\mathclose{}\\right)} $$"
      ],
      "text/plain": [
       "<latexify.ipython_wrappers.LatexifiedFunction at 0x112d6a610>"
      ]
     },
     "execution_count": 2,
     "metadata": {},
     "output_type": "execute_result"
    }
   ],
   "source": [
    "# Sigmoid\n",
    "@latexify.function\n",
    "def sigmoid(x):\n",
    "    return 1 / (1 + np.exp(-x))\n",
    "\n",
    "sigmoid"
   ]
  },
  {
   "cell_type": "code",
   "execution_count": 3,
   "metadata": {},
   "outputs": [
    {
     "data": {
      "text/latex": [
       "$$ \\displaystyle \\mathrm{tanh}(x) = \\frac{\\exp x - \\exp \\mathopen{}\\left( -x \\mathclose{}\\right)}{\\exp x + \\exp \\mathopen{}\\left( -x \\mathclose{}\\right)} $$"
      ],
      "text/plain": [
       "<latexify.ipython_wrappers.LatexifiedFunction at 0x1134c1510>"
      ]
     },
     "execution_count": 3,
     "metadata": {},
     "output_type": "execute_result"
    }
   ],
   "source": [
    "# Tanh\n",
    "@latexify.function\n",
    "def tanh(x):\n",
    "    return (np.exp(x) - np.exp(-x)) / (np.exp(x) + np.exp(-x))\n",
    "\n",
    "tanh"
   ]
  },
  {
   "cell_type": "code",
   "execution_count": 4,
   "metadata": {},
   "outputs": [
    {
     "data": {
      "text/latex": [
       "$$ \\displaystyle \\mathrm{relu}(x) = \\left\\{ \\begin{array}{ll} x, & \\mathrm{if} \\ x > 0 \\\\ 0, & \\mathrm{otherwise} \\end{array} \\right. $$"
      ],
      "text/plain": [
       "<latexify.ipython_wrappers.LatexifiedFunction at 0x113401d10>"
      ]
     },
     "execution_count": 4,
     "metadata": {},
     "output_type": "execute_result"
    }
   ],
   "source": [
    "# ReLU\n",
    "@latexify.function\n",
    "def relu(x):\n",
    "    # return np.maximum(0, x)\n",
    "    return x if x > 0 else 0\n",
    "\n",
    "relu"
   ]
  },
  {
   "cell_type": "code",
   "execution_count": 5,
   "metadata": {},
   "outputs": [
    {
     "data": {
      "text/latex": [
       "$$ \\displaystyle \\mathrm{linear}(x) = x $$"
      ],
      "text/plain": [
       "<latexify.ipython_wrappers.LatexifiedFunction at 0x1134c2a10>"
      ]
     },
     "execution_count": 5,
     "metadata": {},
     "output_type": "execute_result"
    }
   ],
   "source": [
    "# Linear\n",
    "@latexify.function\n",
    "def linear(x):\n",
    "    return x\n",
    "\n",
    "linear"
   ]
  },
  {
   "cell_type": "code",
   "execution_count": 6,
   "metadata": {},
   "outputs": [
    {
     "data": {
      "text/latex": [
       "$$ \\displaystyle \\mathrm{softmax}(x) = \\frac{\\exp x}{\\sum \\exp x} $$"
      ],
      "text/plain": [
       "<latexify.ipython_wrappers.LatexifiedFunction at 0x107877050>"
      ]
     },
     "execution_count": 6,
     "metadata": {},
     "output_type": "execute_result"
    }
   ],
   "source": [
    "# Softmax\n",
    "@latexify.function\n",
    "def softmax(x):\n",
    "    return np.exp(x) / np.sum(np.exp(x))\n",
    "\n",
    "softmax"
   ]
  },
  {
   "cell_type": "markdown",
   "metadata": {},
   "source": [
    "## Loss functions"
   ]
  },
  {
   "cell_type": "code",
   "execution_count": 7,
   "metadata": {},
   "outputs": [
    {
     "data": {
      "text/latex": [
       "$$ \\displaystyle \\mathrm{mse}(y, \\mathrm{y\\_hat}) = \\mathrm{np}.\\mathrm{mean} \\mathopen{}\\left( \\mathrm{np}.\\mathrm{square} \\mathopen{}\\left( y - \\mathrm{y\\_hat} \\mathclose{}\\right) \\mathclose{}\\right) $$"
      ],
      "text/plain": [
       "<latexify.ipython_wrappers.LatexifiedFunction at 0x1134c5750>"
      ]
     },
     "execution_count": 7,
     "metadata": {},
     "output_type": "execute_result"
    }
   ],
   "source": [
    "# Mean Squared Error\n",
    "@latexify.function\n",
    "def mse(y, y_hat):\n",
    "    return np.mean(np.square(y - y_hat))\n",
    "    # return np.mean((y - y_hat) ** 2)\n",
    "\n",
    "mse"
   ]
  },
  {
   "cell_type": "code",
   "execution_count": 8,
   "metadata": {},
   "outputs": [
    {
     "data": {
      "text/latex": [
       "$$ \\displaystyle \\mathrm{mae}(y, \\mathrm{y\\_hat}) = \\mathrm{np}.\\mathrm{mean} \\mathopen{}\\left( \\mathopen{}\\left| y - \\mathrm{y\\_hat} \\mathclose{}\\right| \\mathclose{}\\right) $$"
      ],
      "text/plain": [
       "<latexify.ipython_wrappers.LatexifiedFunction at 0x1134c4c90>"
      ]
     },
     "execution_count": 8,
     "metadata": {},
     "output_type": "execute_result"
    }
   ],
   "source": [
    "# Mean Absolute Error\n",
    "@latexify.function\n",
    "def mae(y, y_hat):\n",
    "    return np.mean(np.abs(y - y_hat))\n",
    "\n",
    "mae"
   ]
  },
  {
   "cell_type": "code",
   "execution_count": 9,
   "metadata": {},
   "outputs": [
    {
     "data": {
      "text/latex": [
       "$$ \\displaystyle \\mathrm{binary\\_cross\\_entropy}(y, \\mathrm{y\\_hat}) = -\\mathrm{np}.\\mathrm{mean} \\mathopen{}\\left( y \\cdot \\log \\mathrm{y\\_hat} + \\mathopen{}\\left( 1 - y \\mathclose{}\\right) \\log \\mathopen{}\\left( 1 - \\mathrm{y\\_hat} \\mathclose{}\\right) \\mathclose{}\\right) $$"
      ],
      "text/plain": [
       "<latexify.ipython_wrappers.LatexifiedFunction at 0x10787f3d0>"
      ]
     },
     "execution_count": 9,
     "metadata": {},
     "output_type": "execute_result"
    }
   ],
   "source": [
    "# Binary Cross Entropy\n",
    "@latexify.function\n",
    "def binary_cross_entropy(y, y_hat):\n",
    "    return -np.mean(y * np.log(y_hat) + (1 - y) * np.log(1 - y_hat))\n",
    "\n",
    "binary_cross_entropy"
   ]
  },
  {
   "cell_type": "code",
   "execution_count": 10,
   "metadata": {},
   "outputs": [
    {
     "data": {
      "text/latex": [
       "$$ \\displaystyle \\mathrm{categorical\\_cross\\_entropy}(y, \\mathrm{y\\_hat}) = -\\mathrm{np}.\\mathrm{mean} \\mathopen{}\\left( y \\cdot \\log \\mathrm{y\\_hat} \\mathclose{}\\right) $$"
      ],
      "text/plain": [
       "<latexify.ipython_wrappers.LatexifiedFunction at 0x11322a610>"
      ]
     },
     "execution_count": 10,
     "metadata": {},
     "output_type": "execute_result"
    }
   ],
   "source": [
    "# Categorical Cross Entropy\n",
    "\n",
    "# Assumes y and y_hat are of the same shape and uses one-hot encoding\n",
    "@latexify.function\n",
    "def categorical_cross_entropy(y, y_hat):\n",
    "    return -np.mean(y * np.log(y_hat))\n",
    "\n",
    "categorical_cross_entropy"
   ]
  },
  {
   "cell_type": "code",
   "execution_count": 11,
   "metadata": {},
   "outputs": [
    {
     "data": {
      "text/latex": [
       "$$ \\displaystyle \\begin{array}{l} \\mathrm{valid\\_indices} = \\mathrm{y\\_hat}_{\\mathopen{}\\left( \\mathrm{np}.\\mathrm{arange} \\mathopen{}\\left( \\mathrm{len} \\mathopen{}\\left( y \\mathclose{}\\right) \\mathclose{}\\right), y \\mathclose{}\\right)} \\\\ \\mathrm{categorical\\_cross\\_entropy}(y, \\mathrm{y\\_hat}) = -\\mathrm{np}.\\mathrm{mean} \\mathopen{}\\left( \\log \\mathrm{valid\\_indices} \\mathclose{}\\right) \\end{array} $$"
      ],
      "text/plain": [
       "<latexify.ipython_wrappers.LatexifiedFunction at 0x112d59b90>"
      ]
     },
     "execution_count": 11,
     "metadata": {},
     "output_type": "execute_result"
    }
   ],
   "source": [
    "# Categorical Cross Entropy\n",
    "\n",
    "# if y contains class indices instead of being one-hot encoded,\n",
    "# and y_hat is a 2D array where each row corresponds to a set of class probabilities for a given sample\n",
    "@latexify.function\n",
    "def categorical_cross_entropy(y, y_hat):\n",
    "    # return -np.mean(np.log(y_hat[np.arange(len(y)), y]))\n",
    "    valid_indices = y_hat[np.arange(len(y)), y]\n",
    "    return -np.mean(np.log(valid_indices))\n",
    "\n",
    "categorical_cross_entropy"
   ]
  },
  {
   "cell_type": "markdown",
   "metadata": {},
   "source": [
    "## Forward propagation"
   ]
  },
  {
   "cell_type": "code",
   "execution_count": 12,
   "metadata": {},
   "outputs": [],
   "source": [
    "# Feed Forward using sigmoid activation and mse loss for a neural network with 1 hidden layer\n",
    "def feed_forward(inputs, outputs, weights):\n",
    "    # hidden layer sum product and activation\n",
    "    sum_product = np.dot(inputs, weights[0]) + weights[1]\n",
    "    activation = sigmoid(sum_product)\n",
    "\n",
    "    # output layer sum product and loss\n",
    "    pred_out = np.dot(activation, weights[2]) + weights[3]\n",
    "    loss = mse(outputs, pred_out)\n",
    "    return loss"
   ]
  },
  {
   "cell_type": "markdown",
   "metadata": {},
   "source": [
    "<center>\n",
    "<table>\n",
    "    <thead>\n",
    "        <tr>\n",
    "            <th style=\"text-align: center;\">Simple Neural Network Example</th>\n",
    "        </tr>\n",
    "    </thead>\n",
    "    <tbody>\n",
    "        <tr>\n",
    "            <td>\n",
    "                <img src=\"example_simple_nn.png\" alt=\"Toy Neural Network Example\" height=\"400\">\n",
    "            </td>\n",
    "        </tr>\n",
    "    </tbody>\n",
    "</table>\n",
    "</center>"
   ]
  },
  {
   "cell_type": "code",
   "execution_count": 13,
   "metadata": {},
   "outputs": [
    {
     "name": "stdout",
     "output_type": "stream",
     "text": [
      "Inputs: [[1 1]]\n",
      "\n",
      "Outputs: [[0]]\n",
      "\n",
      "Weights and Biases:\n",
      "[[-0.0053 -0.582  -0.2723]\n",
      " [ 0.3793 -0.5204  0.1896]]\n",
      "\n",
      "[-0.014   0.5607 -0.0628]\n",
      "\n",
      "[[ 0.1528]\n",
      " [-0.1745]\n",
      " [-0.1135]]\n",
      "\n",
      "[-0.5516]\n",
      "\n",
      "Original Loss: 0.33455008989960927\n"
     ]
    }
   ],
   "source": [
    "# Set example inputs and outputs\n",
    "x = np.array([[1,1]])\n",
    "y = np.array([[0]])\n",
    "\n",
    "# Initialize weights and biases (2 input nodes, 3 hidden nodes, 1 output node)\n",
    "W = [\n",
    "    np.array([[-0.0053, 0.3793],\n",
    "              [-0.5820, -0.5204],\n",
    "              [-0.2723, 0.1896]], dtype=np.float32).T, \n",
    "    np.array([-0.0140, 0.5607, -0.0628], dtype=np.float32), \n",
    "    np.array([[ 0.1528, -0.1745, -0.1135]], dtype=np.float32).T, \n",
    "    np.array([-0.5516], dtype=np.float32)\n",
    "]\n",
    "\n",
    "print(\"Inputs:\", x, end=\"\\n\\n\")\n",
    "print(\"Outputs:\", y, end=\"\\n\\n\")\n",
    "print(\"Weights and Biases:\")\n",
    "for w in W:\n",
    "    print(w, end=\"\\n\\n\")\n",
    "\n",
    "print('Original Loss:', feed_forward(x, y, W))"
   ]
  },
  {
   "cell_type": "markdown",
   "metadata": {},
   "source": [
    "## Back propagation"
   ]
  },
  {
   "cell_type": "markdown",
   "metadata": {},
   "source": [
    "### Gradient descent (No chain rule)"
   ]
  },
  {
   "cell_type": "code",
   "execution_count": 14,
   "metadata": {},
   "outputs": [],
   "source": [
    "# Gradient Descent - No chain rule\n",
    "def update_weights(inputs, outputs, weights, lr):\n",
    "    original_weights = deepcopy(weights)\n",
    "    temp_weights = deepcopy(weights)\n",
    "    updated_weights = deepcopy(weights)\n",
    "    original_loss = feed_forward(inputs, outputs, original_weights)\n",
    "    for i, layer in enumerate(original_weights):\n",
    "        for index, weight in np.ndenumerate(layer):\n",
    "            temp_weights = deepcopy(weights)\n",
    "            temp_weights[i][index] += 0.0001\n",
    "            _loss_plus = feed_forward(inputs, outputs, temp_weights)\n",
    "            grad = (_loss_plus - original_loss)/(0.0001)\n",
    "            updated_weights[i][index] -= grad*lr\n",
    "    return updated_weights"
   ]
  },
  {
   "cell_type": "code",
   "execution_count": 15,
   "metadata": {},
   "outputs": [
    {
     "name": "stdout",
     "output_type": "stream",
     "text": [
      "Updated Weights and Biases:\n",
      "[[ 0.03748801 -0.62894595 -0.30494714]\n",
      " [ 0.42208242 -0.5673459   0.156948  ]]\n",
      "\n",
      "[ 0.02878801  0.51375407 -0.09545201]\n",
      "\n",
      "[[0.8341824 ]\n",
      " [0.25095794]\n",
      " [0.4228859 ]]\n",
      "\n",
      "[0.60529804]\n",
      "\n",
      "Updated Loss: 1.9385937359558543\n"
     ]
    }
   ],
   "source": [
    "# Calculate updated weights and loss\n",
    "updated_weights = update_weights(x, y, W, 1)\n",
    "print(\"Updated Weights and Biases:\")\n",
    "for w in updated_weights:\n",
    "    print(w, end=\"\\n\\n\")\n",
    "updated_loss = feed_forward(x, y, updated_weights)\n",
    "print('Updated Loss:', updated_loss)"
   ]
  },
  {
   "cell_type": "markdown",
   "metadata": {},
   "source": [
    "### Gradient descent (Using chain rule)"
   ]
  },
  {
   "cell_type": "code",
   "execution_count": 16,
   "metadata": {},
   "outputs": [],
   "source": [
    "sum_product = np.dot(x,W[0])+ W[1]\n",
    "activation = 1/(1+np.exp(-sum_product))\n",
    "predicted_value = np.dot(activation, W[2]) + W[3]"
   ]
  },
  {
   "cell_type": "code",
   "execution_count": 17,
   "metadata": {},
   "outputs": [
    {
     "name": "stdout",
     "output_type": "stream",
     "text": [
      "Updated Weight W11 (chain rule vs no chain rule):\n",
      "0.03748860333147175 | 0.03748801350593567\n"
     ]
    }
   ],
   "source": [
    "tmp = W[0][0][0] - (-2*(0-(predicted_value[0][0]))*(W[2][0][0])*activation[0,0]*(1-activation[0,0])*x[0][0])\n",
    "print(f\"Updated Weight W11 (chain rule vs no chain rule):\\n{tmp} | {updated_weights[0][0][0]}\")"
   ]
  },
  {
   "cell_type": "code",
   "execution_count": 18,
   "metadata": {},
   "outputs": [
    {
     "name": "stdout",
     "output_type": "stream",
     "text": [
      "Updated Weight W12 (chain rule vs no chain rule):\n",
      "-0.6289373468565382 | -0.6289459466934204\n"
     ]
    }
   ],
   "source": [
    "tmp = W[0][0][1] - (-2*(0-(predicted_value[0][0]))*(W[2][1][0])*activation[0,1]*(1-activation[0,1])*x[0][0])\n",
    "print(f\"Updated Weight W12 (chain rule vs no chain rule):\\n{tmp} | {updated_weights[0][0][1]}\")"
   ]
  },
  {
   "cell_type": "code",
   "execution_count": 19,
   "metadata": {},
   "outputs": [
    {
     "name": "stdout",
     "output_type": "stream",
     "text": [
      "Updated Weight W13 (chain rule vs no chain rule):\n",
      "-0.304951263947996 | -0.3049471378326416\n"
     ]
    }
   ],
   "source": [
    "tmp = W[0][0][2] - (-2*(0-(predicted_value[0][0]))*(W[2][2][0])*activation[0,2]*(1-activation[0,2])*x[0][0])\n",
    "print(f\"Updated Weight W13 (chain rule vs no chain rule):\\n{tmp} | {updated_weights[0][0][2]}\")"
   ]
  },
  {
   "cell_type": "code",
   "execution_count": 20,
   "metadata": {},
   "outputs": [
    {
     "name": "stdout",
     "output_type": "stream",
     "text": [
      "Updated Weight W21 (chain rule vs no chain rule):\n",
      "0.42208860145914084 | 0.42208242416381836\n"
     ]
    }
   ],
   "source": [
    "tmp = W[0][1][0] - (-2*(0-(predicted_value[0][0]))*(W[2][0][0])*activation[0,0]*(1-activation[0,0])*x[0][1])\n",
    "print(f\"Updated Weight W21 (chain rule vs no chain rule):\\n{tmp} | {updated_weights[0][1][0]}\")"
   ]
  },
  {
   "cell_type": "code",
   "execution_count": 21,
   "metadata": {},
   "outputs": [
    {
     "name": "stdout",
     "output_type": "stream",
     "text": [
      "Updated Weight W22 (chain rule vs no chain rule):\n",
      "-0.5673373173880019 | -0.567345917224884\n"
     ]
    }
   ],
   "source": [
    "tmp = W[0][1][1] - (-2*(0-(predicted_value[0][0]))*(W[2][1][0])*activation[0,1]*(1-activation[0,1])*x[0][1])\n",
    "print(f\"Updated Weight W22 (chain rule vs no chain rule):\\n{tmp} | {updated_weights[0][1][1]}\")"
   ]
  },
  {
   "cell_type": "code",
   "execution_count": 22,
   "metadata": {},
   "outputs": [
    {
     "name": "stdout",
     "output_type": "stream",
     "text": [
      "Updated Weight W23 (chain rule vs no chain rule):\n",
      "0.15694874675699821 | 0.1569480001926422\n"
     ]
    }
   ],
   "source": [
    "tmp = W[0][1][2] - (-2*(0-(predicted_value[0][0]))*(W[2][2][0])*activation[0,2]*(1-activation[0,2])*x[0][1])\n",
    "print(f\"Updated Weight W23 (chain rule vs no chain rule):\\n{tmp} | {updated_weights[0][1][2]}\")"
   ]
  },
  {
   "cell_type": "code",
   "execution_count": 23,
   "metadata": {},
   "outputs": [
    {
     "name": "stdout",
     "output_type": "stream",
     "text": [
      "Updated Bias B1 (chain rule vs no chain rule):\n",
      "0.028788602743620932 | 0.028788011521100998\n"
     ]
    }
   ],
   "source": [
    "tmp = W[1][0] - (-2*(0-(predicted_value[0][0]))*activation[0,0]*(1-activation[0,0])*W[2][0][0])\n",
    "print(f\"Updated Bias B1 (chain rule vs no chain rule):\\n{tmp} | {updated_weights[1][0]}\")\n"
   ]
  },
  {
   "cell_type": "code",
   "execution_count": 24,
   "metadata": {},
   "outputs": [
    {
     "name": "stdout",
     "output_type": "stream",
     "text": [
      "Updated Bias B2 (chain rule vs no chain rule):\n",
      "0.5137626696420274 | 0.5137540698051453\n"
     ]
    }
   ],
   "source": [
    "tmp = W[1][1] - (-2*(0-(predicted_value[0][0]))*activation[0,1]*(1-activation[0,1])*W[2][1][0])\n",
    "print(f\"Updated Bias B2 (chain rule vs no chain rule):\\n{tmp} | {updated_weights[1][1]}\")"
   ]
  },
  {
   "cell_type": "code",
   "execution_count": 25,
   "metadata": {},
   "outputs": [
    {
     "name": "stdout",
     "output_type": "stream",
     "text": [
      "Updated Bias B3 (chain rule vs no chain rule):\n",
      "-0.0954512566166247 | -0.09545201063156128\n"
     ]
    }
   ],
   "source": [
    "tmp = W[1][2] - (-2*(0-(predicted_value[0][0]))*activation[0,2]*(1-activation[0,2])*W[2][2][0])\n",
    "print(f\"Updated Bias B3 (chain rule vs no chain rule):\\n{tmp} | {updated_weights[1][2]}\")"
   ]
  },
  {
   "cell_type": "code",
   "execution_count": 26,
   "metadata": {},
   "outputs": [
    {
     "name": "stdout",
     "output_type": "stream",
     "text": [
      "Updated Weight W31 (chain rule vs no chain rule):\n",
      "0.8342055621416937 | 0.8341823816299438\n"
     ]
    }
   ],
   "source": [
    "tmp = W[2][0][0]-(-2*(0-(predicted_value[0][0]))*activation[0][0])\n",
    "print(f\"Updated Weight W31 (chain rule vs no chain rule):\\n{tmp} | {updated_weights[2][0][0]}\")"
   ]
  },
  {
   "cell_type": "code",
   "execution_count": 27,
   "metadata": {},
   "outputs": [
    {
     "name": "stdout",
     "output_type": "stream",
     "text": [
      "Updated Weight W32 (chain rule vs no chain rule):\n",
      "0.2509642654210383 | 0.2509579360485077\n"
     ]
    }
   ],
   "source": [
    "tmp = W[2][1][0]-(-2*(0-(predicted_value[0][0]))*activation[0][1])\n",
    "print(f\"Updated Weight W32 (chain rule vs no chain rule):\\n{tmp} | {updated_weights[2][1][0]}\")"
   ]
  },
  {
   "cell_type": "code",
   "execution_count": 28,
   "metadata": {},
   "outputs": [
    {
     "name": "stdout",
     "output_type": "stream",
     "text": [
      "Updated Weight W33 (chain rule vs no chain rule):\n",
      "0.422898309408289 | 0.4228858947753906\n"
     ]
    }
   ],
   "source": [
    "tmp = W[2][2][0]-(-2*(0-(predicted_value[0][0]))*activation[0][2])\n",
    "print(f\"Updated Weight W33 (chain rule vs no chain rule):\\n{tmp} | {updated_weights[2][2][0]}\")"
   ]
  },
  {
   "cell_type": "code",
   "execution_count": 29,
   "metadata": {},
   "outputs": [
    {
     "name": "stdout",
     "output_type": "stream",
     "text": [
      "Updated Bias B4 (chain rule vs no chain rule):\n",
      "0.6052061234525776 | 0.6052980422973633\n"
     ]
    }
   ],
   "source": [
    "tmp = W[3][0]-(-2*(0-(predicted_value[0][0])))\n",
    "print(f\"Updated Bias B4 (chain rule vs no chain rule):\\n{tmp} | {updated_weights[3][0]}\")"
   ]
  },
  {
   "cell_type": "markdown",
   "metadata": {},
   "source": [
    "### Feedforward and Backpropagation together"
   ]
  },
  {
   "cell_type": "code",
   "execution_count": 30,
   "metadata": {},
   "outputs": [],
   "source": [
    "# Gradient Descent - No chain rule\n",
    "def update_weights(inputs, outputs, weights, lr):\n",
    "    original_weights = deepcopy(weights)\n",
    "    temp_weights = deepcopy(weights)\n",
    "    updated_weights = deepcopy(weights)\n",
    "    original_loss = feed_forward(inputs, outputs, original_weights)\n",
    "    for i, layer in enumerate(original_weights):\n",
    "        for index, weight in np.ndenumerate(layer):\n",
    "            temp_weights = deepcopy(weights)\n",
    "            temp_weights[i][index] += 0.0001\n",
    "            _loss_plus = feed_forward(inputs, outputs, temp_weights)\n",
    "            grad = (_loss_plus - original_loss)/(0.0001)\n",
    "            updated_weights[i][index] -= grad*lr\n",
    "    return updated_weights, original_loss"
   ]
  },
  {
   "cell_type": "code",
   "execution_count": 31,
   "metadata": {},
   "outputs": [],
   "source": [
    "# Reset weights\n",
    "W = [\n",
    "    np.array([[-0.0053, 0.3793],\n",
    "              [-0.5820, -0.5204],\n",
    "              [-0.2723, 0.1896]], dtype=np.float32).T, \n",
    "    np.array([-0.0140, 0.5607, -0.0628], dtype=np.float32), \n",
    "    np.array([[ 0.1528, -0.1745, -0.1135]], dtype=np.float32).T, \n",
    "    np.array([-0.5516], dtype=np.float32)\n",
    "]"
   ]
  },
  {
   "cell_type": "code",
   "execution_count": 32,
   "metadata": {},
   "outputs": [
    {
     "name": "stdout",
     "output_type": "stream",
     "text": [
      "Epoch 0: Loss: 0.3346\n",
      "Epoch 10: Loss: 0.1669\n",
      "Epoch 20: Loss: 0.0832\n",
      "Epoch 30: Loss: 0.0414\n",
      "Epoch 40: Loss: 0.0206\n",
      "Epoch 50: Loss: 0.0102\n",
      "Epoch 60: Loss: 0.0051\n",
      "Epoch 70: Loss: 0.0025\n",
      "Epoch 80: Loss: 0.0012\n",
      "Epoch 90: Loss: 0.0006\n"
     ]
    },
    {
     "data": {
      "image/png": "[encoded data removed]",
      "text/plain": [
       "<Figure size 640x480 with 1 Axes>"
      ]
     },
     "metadata": {},
     "output_type": "display_data"
    }
   ],
   "source": [
    "# Gradient Descent\n",
    "losses = []\n",
    "lr = 0.01\n",
    "epochs = 100\n",
    "for epoch in range(epochs):\n",
    "    W, loss = update_weights(x,y,W,lr)\n",
    "    losses.append(loss)\n",
    "    if epoch % 10 == 0:\n",
    "        print(f'Epoch {epoch}: Loss: {loss:.4f}')\n",
    "plt.plot(losses)\n",
    "plt.title('Loss over increasing number of epochs')\n",
    "plt.xlabel('Epochs')\n",
    "plt.ylabel('Loss')\n",
    "plt.show()"
   ]
  },
  {
   "cell_type": "code",
   "execution_count": 33,
   "metadata": {},
   "outputs": [
    {
     "name": "stdout",
     "output_type": "stream",
     "text": [
      "Final Weights and Biases:\n",
      "[[ 0.01424004 -0.5907864  -0.27549535]\n",
      " [ 0.39883757 -0.52918637  0.18640439]]\n",
      "\n",
      "[ 0.00554004  0.5519136  -0.06599568]\n",
      "\n",
      "[[ 0.3475135 ]\n",
      " [-0.05529078]\n",
      " [ 0.03760847]]\n",
      "\n",
      "[-0.22443289]\n",
      "\n"
     ]
    }
   ],
   "source": [
    "# Show final weights\n",
    "print(\"Final Weights and Biases:\")\n",
    "for w in W:\n",
    "    print(w, end=\"\\n\\n\")"
   ]
  },
  {
   "cell_type": "code",
   "execution_count": 34,
   "metadata": {},
   "outputs": [
    {
     "name": "stdout",
     "output_type": "stream",
     "text": [
      "Predicted Output: -0.017478102528689282\n"
     ]
    }
   ],
   "source": [
    "# Calculate predicted output\n",
    "sum_product = np.dot(x,W[0])+ W[1]\n",
    "activation = 1/(1+np.exp(-sum_product))\n",
    "output = np.dot(activation, W[2]) + W[3]\n",
    "\n",
    "print(f\"Predicted Output: {output[0][0]}\")"
   ]
  },
  {
   "cell_type": "markdown",
   "metadata": {},
   "source": [
    "# Learning Rate"
   ]
  },
  {
   "cell_type": "markdown",
   "metadata": {},
   "source": [
    "Fit the following equation:\n",
    "    $y = 3 * x$"
   ]
  },
  {
   "cell_type": "code",
   "execution_count": 35,
   "metadata": {},
   "outputs": [],
   "source": [
    "# Set example inputs and outputs\n",
    "x = [[1],[2],[3],[4]]\n",
    "y = [[3],[6],[9],[12]]"
   ]
  },
  {
   "cell_type": "markdown",
   "metadata": {},
   "source": [
    "Feed forward for this specific case would be:\n",
    "    $Y = w⋅x + b$"
   ]
  },
  {
   "cell_type": "code",
   "execution_count": 36,
   "metadata": {},
   "outputs": [],
   "source": [
    "# Define feed forward function\n",
    "def feed_forward(inputs, outputs, weights):\n",
    "    out = np.dot(inputs,weights[0])+ weights[1]\n",
    "    mse_out = mse(outputs, out)\n",
    "    return mse_out"
   ]
  },
  {
   "cell_type": "code",
   "execution_count": 37,
   "metadata": {},
   "outputs": [],
   "source": [
    "# Define update weights function\n",
    "def update_weights(inputs, outputs, weights, lr):\n",
    "    original_weights = deepcopy(weights)\n",
    "    org_loss = feed_forward(inputs, outputs, original_weights)\n",
    "    updated_weights = deepcopy(weights)\n",
    "    for i, layer in enumerate(original_weights):\n",
    "        for index, weight in np.ndenumerate(layer):\n",
    "            temp_weights = deepcopy(weights)\n",
    "            temp_weights[i][index] += 0.0001\n",
    "            _loss_plus = feed_forward(inputs, outputs, temp_weights)\n",
    "            grad = (_loss_plus - org_loss)/(0.0001)\n",
    "            updated_weights[i][index] -= grad*lr\n",
    "    return updated_weights"
   ]
  },
  {
   "cell_type": "code",
   "execution_count": 38,
   "metadata": {},
   "outputs": [
    {
     "data": {
      "image/png": "[encoded data removed]",
      "text/plain": [
       "<Figure size 640x480 with 1 Axes>"
      ]
     },
     "metadata": {},
     "output_type": "display_data"
    }
   ],
   "source": [
    "# Initialize weights and biases to zero\n",
    "W = [np.array([[0]], dtype=np.float32),\n",
    "     np.array([[0]], dtype=np.float32)]\n",
    "\n",
    "# Leverage update_weights function with learning rate of 0.01\n",
    "history = []\n",
    "epochs = 1000\n",
    "for _ in range(epochs):\n",
    "    W = update_weights(x,y,W,0.01)\n",
    "    history.append(W[0][0][0])\n",
    "\n",
    "# Plot weight value over epochs\n",
    "%matplotlib inline\n",
    "plt.plot(history)\n",
    "plt.title('Weight value over epochs (LR=0.01)')\n",
    "plt.xlabel('Epochs')\n",
    "plt.ylabel('Weight value')\n",
    "plt.show()"
   ]
  },
  {
   "cell_type": "code",
   "execution_count": 39,
   "metadata": {},
   "outputs": [
    {
     "data": {
      "image/png": "[encoded data removed]",
      "text/plain": [
       "<Figure size 640x480 with 1 Axes>"
      ]
     },
     "metadata": {},
     "output_type": "display_data"
    }
   ],
   "source": [
    "# Initialize weights and biases to zero\n",
    "W = [np.array([[0]], dtype=np.float32),\n",
    "     np.array([[0]], dtype=np.float32)]\n",
    "\n",
    "# Leverage update_weights function with learning rate of 0.1\n",
    "history = []\n",
    "epochs = 1000\n",
    "for _ in range(epochs):\n",
    "    W = update_weights(x,y,W,0.1)\n",
    "    history.append(W[0][0][0])\n",
    "\n",
    "# Plot weight value over epochs\n",
    "%matplotlib inline\n",
    "plt.plot(history)\n",
    "plt.title('Weight value over epochs (LR=0.1)')\n",
    "plt.xlabel('Epochs')\n",
    "plt.ylabel('Weight value')\n",
    "plt.show()"
   ]
  },
  {
   "cell_type": "code",
   "execution_count": 40,
   "metadata": {},
   "outputs": [
    {
     "data": {
      "image/png": "[encoded data removed]",
      "text/plain": [
       "<Figure size 640x480 with 1 Axes>"
      ]
     },
     "metadata": {},
     "output_type": "display_data"
    }
   ],
   "source": [
    "# Initialize weights and biases to zero\n",
    "W = [np.array([[0]], dtype=np.float32),\n",
    "     np.array([[0]], dtype=np.float32)]\n",
    "\n",
    "# Leverage update_weights function with learning rate of 1\n",
    "history = []\n",
    "epochs = 1000\n",
    "for _ in range(epochs):\n",
    "    W = update_weights(x,y,W,1)\n",
    "    history.append(W[0][0][0])\n",
    "\n",
    "# Plot weight value over epochs\n",
    "%matplotlib inline\n",
    "plt.plot(history)\n",
    "plt.title('Weight value over epochs (LR=1)')\n",
    "plt.xlabel('Epochs')\n",
    "plt.ylabel('Weight value')\n",
    "plt.show()"
   ]
  },
  {
   "cell_type": "code",
   "execution_count": 41,
   "metadata": {},
   "outputs": [],
   "source": [
    "# Modify update_weights function to print out important values at each epoch\n",
    "def update_weights(inputs, outputs, weights, lr):\n",
    "    original_weights = deepcopy(weights)\n",
    "    org_loss = feed_forward(inputs, outputs, original_weights)\n",
    "    updated_weights = deepcopy(weights)\n",
    "    for i, layer in enumerate(original_weights):\n",
    "        for index, weight in np.ndenumerate(layer):\n",
    "            temp_weights = deepcopy(weights)\n",
    "            temp_weights[i][index] += 0.0001\n",
    "            _loss_plus = feed_forward(inputs, outputs, temp_weights)\n",
    "            grad = (_loss_plus - org_loss)/(0.0001)\n",
    "            updated_weights[i][index] -= grad*lr\n",
    "            if(i % 2 == 0):\n",
    "                print('weight value:', np.round(original_weights[i][index],2), \n",
    "                      'original loss:', np.round(org_loss,2), \n",
    "                      'loss_plus:', np.round(_loss_plus,2), \n",
    "                      'gradient:', np.round(grad,2), \n",
    "                      'updated_weights:', np.round(updated_weights[i][index],2))\n",
    "    return updated_weights"
   ]
  },
  {
   "cell_type": "code",
   "execution_count": 42,
   "metadata": {},
   "outputs": [
    {
     "name": "stdout",
     "output_type": "stream",
     "text": [
      "weight value: 0.0 original loss: 67.5 loss_plus: 67.5 gradient: -45.0 updated_weights: 0.45\n",
      "weight value: 0.45 original loss: 46.88 loss_plus: 46.88 gradient: -37.49 updated_weights: 0.82\n",
      "weight value: 0.82 original loss: 32.57 loss_plus: 32.57 gradient: -31.26 updated_weights: 1.14\n",
      "weight value: 1.14 original loss: 22.64 loss_plus: 22.64 gradient: -26.05 updated_weights: 1.4\n",
      "weight value: 1.4 original loss: 15.75 loss_plus: 15.75 gradient: -21.72 updated_weights: 1.62\n",
      "weight value: 1.62 original loss: 10.97 loss_plus: 10.97 gradient: -18.1 updated_weights: 1.8\n",
      "weight value: 1.8 original loss: 7.65 loss_plus: 7.65 gradient: -15.09 updated_weights: 1.95\n",
      "weight value: 1.95 original loss: 5.35 loss_plus: 5.35 gradient: -12.59 updated_weights: 2.07\n",
      "weight value: 2.07 original loss: 3.75 loss_plus: 3.75 gradient: -10.49 updated_weights: 2.18\n",
      "weight value: 2.18 original loss: 2.64 loss_plus: 2.64 gradient: -8.75 updated_weights: 2.27\n"
     ]
    },
    {
     "data": {
      "image/png": "[encoded data removed]",
      "text/plain": [
       "<Figure size 640x480 with 1 Axes>"
      ]
     },
     "metadata": {},
     "output_type": "display_data"
    }
   ],
   "source": [
    "# Initialize weights and biases to zero\n",
    "W = [np.array([[0]], dtype=np.float32),\n",
    "     np.array([[0]], dtype=np.float32)]\n",
    "\n",
    "# Leverage update_weights function with learning rate of 0.01\n",
    "history = []\n",
    "epochs = 10\n",
    "for _ in range(epochs):\n",
    "    W = update_weights(x,y,W,0.01)\n",
    "    history.append(W[0][0][0])\n",
    "\n",
    "# Plot weight value over epochs\n",
    "%matplotlib inline\n",
    "plt.plot(history)\n",
    "plt.title('Weight value over epochs (LR=0.01)')\n",
    "plt.xlabel('Epochs')\n",
    "plt.ylabel('Weight value')\n",
    "plt.show()"
   ]
  },
  {
   "cell_type": "code",
   "execution_count": 43,
   "metadata": {},
   "outputs": [
    {
     "name": "stdout",
     "output_type": "stream",
     "text": [
      "weight value: 0.0 original loss: 67.5 loss_plus: 67.5 gradient: -45.0 updated_weights: 4.5\n",
      "weight value: 4.5 original loss: 30.37 loss_plus: 30.38 gradient: 30.04 updated_weights: 1.5\n",
      "weight value: 1.5 original loss: 13.79 loss_plus: 13.78 gradient: -20.31 updated_weights: 3.53\n",
      "weight value: 3.53 original loss: 6.25 loss_plus: 6.26 gradient: 13.46 updated_weights: 2.18\n",
      "weight value: 2.18 original loss: 2.85 loss_plus: 2.85 gradient: -9.14 updated_weights: 3.1\n",
      "weight value: 3.1 original loss: 1.33 loss_plus: 1.33 gradient: 5.97 updated_weights: 2.5\n",
      "weight value: 2.5 original loss: 0.65 loss_plus: 0.65 gradient: -4.12 updated_weights: 2.91\n",
      "weight value: 2.91 original loss: 0.34 loss_plus: 0.34 gradient: 2.63 updated_weights: 2.65\n",
      "weight value: 2.65 original loss: 0.2 loss_plus: 0.2 gradient: -1.88 updated_weights: 2.84\n",
      "weight value: 2.84 original loss: 0.13 loss_plus: 0.13 gradient: 1.14 updated_weights: 2.72\n"
     ]
    },
    {
     "data": {
      "image/png": "[encoded data removed]",
      "text/plain": [
       "<Figure size 640x480 with 1 Axes>"
      ]
     },
     "metadata": {},
     "output_type": "display_data"
    }
   ],
   "source": [
    "# Initialize weights and biases to zero\n",
    "W = [np.array([[0]], dtype=np.float32),\n",
    "     np.array([[0]], dtype=np.float32)]\n",
    "\n",
    "# Leverage update_weights function with learning rate of 0.1\n",
    "history = []\n",
    "epochs = 10\n",
    "for _ in range(epochs):\n",
    "    W = update_weights(x,y,W,0.1)\n",
    "    history.append(W[0][0][0])\n",
    "\n",
    "# Plot weight value over epochs\n",
    "%matplotlib inline\n",
    "plt.plot(history)\n",
    "plt.title('Weight value over epochs (LR=0.1)')\n",
    "plt.xlabel('Epochs')\n",
    "plt.ylabel('Weight value')\n",
    "plt.show()"
   ]
  },
  {
   "cell_type": "code",
   "execution_count": 44,
   "metadata": {},
   "outputs": [
    {
     "name": "stdout",
     "output_type": "stream",
     "text": [
      "weight value: 0.0 original loss: 67.5 loss_plus: 67.5 gradient: -45.0 updated_weights: 45.0\n",
      "weight value: 45.0 original loss: 16604.45 loss_plus: 16604.52 gradient: 699.22 updated_weights: -654.22\n",
      "weight value: -654.22 original loss: 4030779.1 loss_plus: 4030777.76 gradient: -13409.38 updated_weights: 12755.16\n",
      "weight value: 12755.16 original loss: 1473935827.59 loss_plus: 1473935827.59 gradient: 0.0 updated_weights: 12755.16\n",
      "weight value: 12755.16 original loss: 1473935827.59 loss_plus: 1473935827.59 gradient: 0.0 updated_weights: 12755.16\n",
      "weight value: 12755.16 original loss: 1473935827.59 loss_plus: 1473935827.59 gradient: 0.0 updated_weights: 12755.16\n",
      "weight value: 12755.16 original loss: 1473935827.59 loss_plus: 1473935827.59 gradient: 0.0 updated_weights: 12755.16\n",
      "weight value: 12755.16 original loss: 1473935827.59 loss_plus: 1473935827.59 gradient: 0.0 updated_weights: 12755.16\n",
      "weight value: 12755.16 original loss: 1473935827.59 loss_plus: 1473935827.59 gradient: 0.0 updated_weights: 12755.16\n",
      "weight value: 12755.16 original loss: 1473935827.59 loss_plus: 1473935827.59 gradient: 0.0 updated_weights: 12755.16\n"
     ]
    },
    {
     "data": {
      "image/png": "[encoded data removed]",
      "text/plain": [
       "<Figure size 640x480 with 1 Axes>"
      ]
     },
     "metadata": {},
     "output_type": "display_data"
    }
   ],
   "source": [
    "# Initialize weights and biases to zero\n",
    "W = [np.array([[0]], dtype=np.float32),\n",
    "     np.array([[0]], dtype=np.float32)]\n",
    "\n",
    "# Leverage update_weights function with learning rate of 1\n",
    "history = []\n",
    "epochs = 10\n",
    "for _ in range(epochs):\n",
    "    W = update_weights(x,y,W,1)\n",
    "    history.append(W[0][0][0])\n",
    "\n",
    "# Plot weight value over epochs\n",
    "%matplotlib inline\n",
    "plt.plot(history)\n",
    "plt.title('Weight value over epochs (LR=1)')\n",
    "plt.xlabel('Epochs')\n",
    "plt.ylabel('Weight value')\n",
    "plt.show()"
   ]
  }
 ],
 "metadata": {
  "kernelspec": {
   "display_name": "Python 3",
   "language": "python",
   "name": "python3"
  },
  "language_info": {
   "codemirror_mode": {
    "name": "ipython",
    "version": 3
   },
   "file_extension": ".py",
   "mimetype": "text/x-python",
   "name": "python",
   "nbconvert_exporter": "python",
   "pygments_lexer": "ipython3",
   "version": "3.11.5"
  },
  "orig_nbformat": 4,
  "vscode": {
   "interpreter": {
    "hash": "b0fa6594d8f4cbf19f97940f81e996739fb7646882a419484c72d19e05852a7e"
   }
  }
 },
 "nbformat": 4,
 "nbformat_minor": 2
}
