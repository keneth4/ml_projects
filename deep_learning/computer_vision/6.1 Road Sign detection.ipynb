{
 "cells": [
  {
   "cell_type": "markdown",
   "metadata": {},
   "source": [
    "# Impact of Data Augmentation and Batch Normalization"
   ]
  },
  {
   "cell_type": "markdown",
   "metadata": {},
   "source": [
    "## Initialization"
   ]
  },
  {
   "cell_type": "code",
   "execution_count": 1,
   "metadata": {},
   "outputs": [
    {
     "name": "stdout",
     "output_type": "stream",
     "text": [
      "zsh:1: command not found: nvidia-smi\n"
     ]
    }
   ],
   "source": [
    "# Load libraries\n",
    "\n",
    "# OS\n",
    "import os\n",
    "\n",
    "# Data manipulation, visualization and model building\n",
    "import torchvision.models as models\n",
    "from torchvision import transforms as T\n",
    "from sklearn.model_selection import train_test_split\n",
    "from torch_snippets import *\n",
    "\n",
    "!nvidia-smi # check if GPU is available\n",
    "%matplotlib inline"
   ]
  },
  {
   "cell_type": "code",
   "execution_count": 2,
   "metadata": {},
   "outputs": [
    {
     "data": {
      "text/html": [
       "<pre style=\"white-space:pre;overflow-x:auto;line-height:normal;font-family:Menlo,'DejaVu Sans Mono',consolas,'Courier New',monospace\">Running on: cpu\n",
       "</pre>\n"
      ],
      "text/plain": [
       "Running on: cpu\n"
      ]
     },
     "metadata": {},
     "output_type": "display_data"
    }
   ],
   "source": [
    "# Set device to GPU if available\n",
    "device = torch.device(\"cuda\" if torch.cuda.is_available() else \"cpu\")\n",
    "print(\"Running on:\", device)"
   ]
  },
  {
   "cell_type": "code",
   "execution_count": 3,
   "metadata": {},
   "outputs": [
    {
     "name": "stdout",
     "output_type": "stream",
     "text": [
      "--2024-02-20 16:36:33--  https://raw.githubusercontent.com/georgesung/traffic_sign_classification_german/master/signnames.csv\n",
      "Resolviendo raw.githubusercontent.com (raw.githubusercontent.com)... 2606:50c0:8000::154, 2606:50c0:8001::154, 2606:50c0:8002::154, ...\n",
      "Conectando con raw.githubusercontent.com (raw.githubusercontent.com)[2606:50c0:8000::154]:443... conectado.\n",
      "Petición HTTP enviada, esperando respuesta... 200 OK\n",
      "Longitud: 999 [text/plain]\n",
      "Grabando a: «signnames.csv»\n",
      "\n",
      "signnames.csv       100%[===================>]     999  --.-KB/s    en 0s      \n",
      "\n",
      "2024-02-20 16:36:34 (56.0 MB/s) - «signnames.csv» guardado [999/999]\n",
      "\n"
     ]
    }
   ],
   "source": [
    "# Download the dataset\n",
    "root_dir = 'data/GTSRB/'\n",
    "\n",
    "import os\n",
    "if not os.path.exists(root_dir):\n",
    "    !mkdir -p {root_dir}\n",
    "    !cd {root_dir} && wget -qq https://sid.erda.dk/public/archives/daaeac0d7ce1152aea9b61d9f1e19370/GTSRB_Final_Training_Images.zip\n",
    "    !cd {root_dir} && wget -qq https://sid.erda.dk/public/archives/daaeac0d7ce1152aea9b61d9f1e19370/GTSRB_Final_Test_Images.zip\n",
    "    !cd {root_dir} && unzip -qq GTSRB_Final_Training_Images.zip\n",
    "    !cd {root_dir} && unzip -qq GTSRB_Final_Test_Images.zip\n",
    "    !cd {root_dir} && wget https://raw.githubusercontent.com/georgesung/traffic_sign_classification_german/master/signnames.csv\n",
    "    !cd {root_dir} && rm GTSRB_Final_Training_Images.zip GTSRB_Final_Test_Images.zip"
   ]
  },
  {
   "cell_type": "code",
   "execution_count": 100,
   "metadata": {},
   "outputs": [
    {
     "data": {
      "text/html": [
       "<pre style=\"white-space:pre;overflow-x:auto;line-height:normal;font-family:Menlo,'DejaVu Sans Mono',consolas,'Courier New',monospace\"><span style=\"font-weight: bold\">{</span>\n",
       "    <span style=\"color: #008000; text-decoration-color: #008000\">'00000'</span>: <span style=\"color: #008000; text-decoration-color: #008000\">'Speed limit (20km/h)'</span>,\n",
       "    <span style=\"color: #008000; text-decoration-color: #008000\">'00001'</span>: <span style=\"color: #008000; text-decoration-color: #008000\">'Speed limit (30km/h)'</span>,\n",
       "    <span style=\"color: #008000; text-decoration-color: #008000\">'00002'</span>: <span style=\"color: #008000; text-decoration-color: #008000\">'Speed limit (50km/h)'</span>,\n",
       "    <span style=\"color: #008000; text-decoration-color: #008000\">'00003'</span>: <span style=\"color: #008000; text-decoration-color: #008000\">'Speed limit (60km/h)'</span>,\n",
       "    <span style=\"color: #008000; text-decoration-color: #008000\">'00004'</span>: <span style=\"color: #008000; text-decoration-color: #008000\">'Speed limit (70km/h)'</span>\n",
       "<span style=\"font-weight: bold\">}</span>\n",
       "</pre>\n"
      ],
      "text/plain": [
       "\u001b[1m{\u001b[0m\n",
       "    \u001b[32m'00000'\u001b[0m: \u001b[32m'Speed limit \u001b[0m\u001b[32m(\u001b[0m\u001b[32m20km/h\u001b[0m\u001b[32m)\u001b[0m\u001b[32m'\u001b[0m,\n",
       "    \u001b[32m'00001'\u001b[0m: \u001b[32m'Speed limit \u001b[0m\u001b[32m(\u001b[0m\u001b[32m30km/h\u001b[0m\u001b[32m)\u001b[0m\u001b[32m'\u001b[0m,\n",
       "    \u001b[32m'00002'\u001b[0m: \u001b[32m'Speed limit \u001b[0m\u001b[32m(\u001b[0m\u001b[32m50km/h\u001b[0m\u001b[32m)\u001b[0m\u001b[32m'\u001b[0m,\n",
       "    \u001b[32m'00003'\u001b[0m: \u001b[32m'Speed limit \u001b[0m\u001b[32m(\u001b[0m\u001b[32m60km/h\u001b[0m\u001b[32m)\u001b[0m\u001b[32m'\u001b[0m,\n",
       "    \u001b[32m'00004'\u001b[0m: \u001b[32m'Speed limit \u001b[0m\u001b[32m(\u001b[0m\u001b[32m70km/h\u001b[0m\u001b[32m)\u001b[0m\u001b[32m'\u001b[0m\n",
       "\u001b[1m}\u001b[0m\n"
      ]
     },
     "metadata": {},
     "output_type": "display_data"
    },
    {
     "data": {
      "text/html": [
       "<pre style=\"white-space:pre;overflow-x:auto;line-height:normal;font-family:Menlo,'DejaVu Sans Mono',consolas,'Courier New',monospace\"><span style=\"font-weight: bold\">{</span>\n",
       "    <span style=\"color: #008000; text-decoration-color: #008000\">'Speed limit (20km/h)'</span>: <span style=\"color: #008080; text-decoration-color: #008080; font-weight: bold\">0</span>,\n",
       "    <span style=\"color: #008000; text-decoration-color: #008000\">'Speed limit (30km/h)'</span>: <span style=\"color: #008080; text-decoration-color: #008080; font-weight: bold\">1</span>,\n",
       "    <span style=\"color: #008000; text-decoration-color: #008000\">'Speed limit (50km/h)'</span>: <span style=\"color: #008080; text-decoration-color: #008080; font-weight: bold\">2</span>,\n",
       "    <span style=\"color: #008000; text-decoration-color: #008000\">'Speed limit (60km/h)'</span>: <span style=\"color: #008080; text-decoration-color: #008080; font-weight: bold\">3</span>,\n",
       "    <span style=\"color: #008000; text-decoration-color: #008000\">'Speed limit (70km/h)'</span>: <span style=\"color: #008080; text-decoration-color: #008080; font-weight: bold\">4</span>\n",
       "<span style=\"font-weight: bold\">}</span>\n",
       "</pre>\n"
      ],
      "text/plain": [
       "\u001b[1m{\u001b[0m\n",
       "    \u001b[32m'Speed limit \u001b[0m\u001b[32m(\u001b[0m\u001b[32m20km/h\u001b[0m\u001b[32m)\u001b[0m\u001b[32m'\u001b[0m: \u001b[1;36m0\u001b[0m,\n",
       "    \u001b[32m'Speed limit \u001b[0m\u001b[32m(\u001b[0m\u001b[32m30km/h\u001b[0m\u001b[32m)\u001b[0m\u001b[32m'\u001b[0m: \u001b[1;36m1\u001b[0m,\n",
       "    \u001b[32m'Speed limit \u001b[0m\u001b[32m(\u001b[0m\u001b[32m50km/h\u001b[0m\u001b[32m)\u001b[0m\u001b[32m'\u001b[0m: \u001b[1;36m2\u001b[0m,\n",
       "    \u001b[32m'Speed limit \u001b[0m\u001b[32m(\u001b[0m\u001b[32m60km/h\u001b[0m\u001b[32m)\u001b[0m\u001b[32m'\u001b[0m: \u001b[1;36m3\u001b[0m,\n",
       "    \u001b[32m'Speed limit \u001b[0m\u001b[32m(\u001b[0m\u001b[32m70km/h\u001b[0m\u001b[32m)\u001b[0m\u001b[32m'\u001b[0m: \u001b[1;36m4\u001b[0m\n",
       "\u001b[1m}\u001b[0m\n"
      ]
     },
     "metadata": {},
     "output_type": "display_data"
    }
   ],
   "source": [
    "# Get class indexes and names\n",
    "classIds = pd.read_csv(f'{root_dir}signnames.csv')\n",
    "classIds.set_index('ClassId', inplace=True)\n",
    "classIds = classIds.to_dict()['SignName']\n",
    "\n",
    "# Reverse the dictionary\n",
    "int2id = {v: k for k, v in classIds.items()}\n",
    "\n",
    "# Add leading zeros to the keys\n",
    "classIds = {f'{k:05d}':v for k,v in classIds.items()}\n",
    "\n",
    "# Print the first 5 items of both dictionaries\n",
    "print({k: classIds[k] for k in list(classIds)[:5]})\n",
    "print({k: int2id[k] for k in list(int2id)[:5]})"
   ]
  },
  {
   "cell_type": "code",
   "execution_count": 36,
   "metadata": {},
   "outputs": [],
   "source": [
    "# Create tranformations pipeline for input images\n",
    "train_transforms = T.Compose([\n",
    "    T.ToPILImage(),\n",
    "    T.Resize(32),\n",
    "    T.CenterCrop(32),\n",
    "    ### Data augmentation ---> Overfitting decreased\n",
    "    T.ColorJitter(brightness=(0.8,1.2), \n",
    "    contrast=(0.8,1.2), \n",
    "    saturation=(0.8,1.2), \n",
    "    hue=0.25),\n",
    "    T.RandomAffine(5, translate=(0.01,0.1)),\n",
    "    ###\n",
    "    T.ToTensor(), # Get values between 0 and 1\n",
    "    T.Normalize(mean=[0.485, 0.456, 0.406], std=[0.229, 0.224, 0.225]), # Normalize to the ImageNet mean and standard deviation\n",
    "])\n",
    "\n",
    "# Create tranformations pipeline for validation images\n",
    "val_transforms = T.Compose([\n",
    "    T.ToPILImage(),\n",
    "    T.Resize(32),\n",
    "    T.CenterCrop(32),\n",
    "    T.ToTensor(), # Get values between 0 and 1\n",
    "    T.Normalize(mean=[0.485, 0.456, 0.406], std=[0.229, 0.224, 0.225]), # Normalize to the ImageNet mean and standard deviation\n",
    "])"
   ]
  },
  {
   "cell_type": "code",
   "execution_count": 37,
   "metadata": {},
   "outputs": [],
   "source": [
    "# Create Dataset class to fetch images and labels\n",
    "class GTSRB(Dataset):\n",
    "    \"\"\"Face Landmarks dataset.\"\"\"\n",
    "\n",
    "    def __init__(self, files, transform=None):\n",
    "        self.files = files\n",
    "        self.transform = transform\n",
    "        logger.info(len(self))\n",
    "\n",
    "    def __len__(self):\n",
    "        return len(self.files)\n",
    "\n",
    "    def __getitem__(self, idx):\n",
    "        file_path = self.files[idx]\n",
    "        image = read(file_path, 1)\n",
    "        label_idx = fname(parent(file_path))\n",
    "        return image, classIds[label_idx]\n",
    "\n",
    "    def choose(self):\n",
    "        return self[randint(len(self))]\n",
    "\n",
    "    def collate_fn(self, batch):\n",
    "        images, classes = list(zip(*batch))\n",
    "        if self.transform:\n",
    "            images = [self.transform(img)[None] for img in images]\n",
    "        classes = [torch.tensor([int2id[clss]]) for clss in classes]\n",
    "        images, classes = [torch.cat(idx).to(device) for idx in [images, classes]]\n",
    "        return images, classes"
   ]
  },
  {
   "cell_type": "code",
   "execution_count": 38,
   "metadata": {},
   "outputs": [
    {
     "data": {
      "text/html": [
       "<pre style=\"white-space:pre;overflow-x:auto;line-height:normal;font-family:Menlo,'DejaVu Sans Mono',consolas,'Courier New',monospace\">Found <span style=\"color: #008080; text-decoration-color: #008080; font-weight: bold\">39209</span> files\n",
       "</pre>\n"
      ],
      "text/plain": [
       "Found \u001b[1;36m39209\u001b[0m files\n"
      ]
     },
     "metadata": {},
     "output_type": "display_data"
    },
    {
     "data": {
      "text/html": [
       "<pre style=\"white-space:pre;overflow-x:auto;line-height:normal;font-family:Menlo,'DejaVu Sans Mono',consolas,'Courier New',monospace\"><span style=\"color: #7fbfbf; text-decoration-color: #7fbfbf\">[02/20/24 18:44:04] </span><span style=\"color: #bfbf7f; text-decoration-color: #bfbf7f\">INFO    </span> <span style=\"color: #008080; text-decoration-color: #008080; font-weight: bold\">31367</span>                                                                                                                  <a href=\"file:///var/folders/jf/sq6w1w1x7v9bvtbslbdtrlb00000gn/T/ipykernel_14337/3718259482.py:8\" target=\"_blank\"><span style=\"color: #7f7f7f; text-decoration-color: #7f7f7f\">3718259482.py</span></a><span style=\"color: #7f7f7f; text-decoration-color: #7f7f7f\">:</span><a href=\"file:///var/folders/jf/sq6w1w1x7v9bvtbslbdtrlb00000gn/T/ipykernel_14337/3718259482.py:8#__init__:8\" target=\"_blank\"><span style=\"color: #7f7f7f; text-decoration-color: #7f7f7f\">__init__:8</span></a>\n",
       "</pre>\n"
      ],
      "text/plain": [
       "\u001b[2;36m[02/20/24 18:44:04]\u001b[0m\u001b[2;36m \u001b[0m\u001b[2;33mINFO    \u001b[0m \u001b[1;36m31367\u001b[0m                                                                                                                  \u001b]8;id=564759;file:///var/folders/jf/sq6w1w1x7v9bvtbslbdtrlb00000gn/T/ipykernel_14337/3718259482.py:8\u001b\\\u001b[2m3718259482.py\u001b[0m\u001b]8;;\u001b\\\u001b[2m:\u001b[0m\u001b]8;id=364893;file:///var/folders/jf/sq6w1w1x7v9bvtbslbdtrlb00000gn/T/ipykernel_14337/3718259482.py:8#__init__:8\u001b\\\u001b[2m__init__:8\u001b[0m\u001b]8;;\u001b\\\n"
      ]
     },
     "metadata": {},
     "output_type": "display_data"
    },
    {
     "data": {
      "text/html": [
       "<pre style=\"white-space:pre;overflow-x:auto;line-height:normal;font-family:Menlo,'DejaVu Sans Mono',consolas,'Courier New',monospace\"><span style=\"color: #7fbfbf; text-decoration-color: #7fbfbf\">                    </span><span style=\"color: #bfbf7f; text-decoration-color: #bfbf7f\">INFO    </span> <span style=\"color: #008080; text-decoration-color: #008080; font-weight: bold\">7842</span>                                                                                                                   <a href=\"file:///var/folders/jf/sq6w1w1x7v9bvtbslbdtrlb00000gn/T/ipykernel_14337/3718259482.py:8\" target=\"_blank\"><span style=\"color: #7f7f7f; text-decoration-color: #7f7f7f\">3718259482.py</span></a><span style=\"color: #7f7f7f; text-decoration-color: #7f7f7f\">:</span><a href=\"file:///var/folders/jf/sq6w1w1x7v9bvtbslbdtrlb00000gn/T/ipykernel_14337/3718259482.py:8#__init__:8\" target=\"_blank\"><span style=\"color: #7f7f7f; text-decoration-color: #7f7f7f\">__init__:8</span></a>\n",
       "</pre>\n"
      ],
      "text/plain": [
       "\u001b[2;36m                   \u001b[0m\u001b[2;36m \u001b[0m\u001b[2;33mINFO    \u001b[0m \u001b[1;36m7842\u001b[0m                                                                                                                   \u001b]8;id=187562;file:///var/folders/jf/sq6w1w1x7v9bvtbslbdtrlb00000gn/T/ipykernel_14337/3718259482.py:8\u001b\\\u001b[2m3718259482.py\u001b[0m\u001b]8;;\u001b\\\u001b[2m:\u001b[0m\u001b]8;id=162134;file:///var/folders/jf/sq6w1w1x7v9bvtbslbdtrlb00000gn/T/ipykernel_14337/3718259482.py:8#__init__:8\u001b\\\u001b[2m__init__:8\u001b[0m\u001b]8;;\u001b\\\n"
      ]
     },
     "metadata": {},
     "output_type": "display_data"
    }
   ],
   "source": [
    "# Get the list of files\n",
    "files = Glob(f'{root_dir}GTSRB/Final_Training/Images/*/*.ppm')\n",
    "print(f'Found {len(files)} files')\n",
    "\n",
    "# Shuffle the files\n",
    "np.random.shuffle(files)\n",
    "\n",
    "# Get the train and validation files\n",
    "train_files, val_files = train_test_split(files, test_size=0.2, random_state=4)\n",
    "\n",
    "# Create the train and validation datasets\n",
    "train_ds = GTSRB(train_files, transform=train_transforms)\n",
    "val_ds = GTSRB(val_files, transform=val_transforms)"
   ]
  },
  {
   "cell_type": "code",
   "execution_count": 39,
   "metadata": {},
   "outputs": [],
   "source": [
    "# Create a function to retrieve the dataloaders\n",
    "def load_data(batch_size):\n",
    "    train_dl = DataLoader(train_ds, batch_size=batch_size, shuffle=True, collate_fn=train_ds.collate_fn)\n",
    "    val_dl = DataLoader(val_ds, batch_size=batch_size, shuffle=False, collate_fn=val_ds.collate_fn)\n",
    "\n",
    "    return train_dl, val_dl"
   ]
  },
  {
   "cell_type": "code",
   "execution_count": 40,
   "metadata": {},
   "outputs": [],
   "source": [
    "# Create a function to define a Convolutional Block\n",
    "def convBlock(n_inputs, n_outputs):\n",
    "    return nn.Sequential(\n",
    "        nn.Dropout(0.2),\n",
    "        nn.Conv2d(n_inputs, n_outputs, kernel_size=3, padding=1),\n",
    "        nn.ReLU(inplace=True),\n",
    "        nn.BatchNorm2d(n_outputs), # Batch Normalization improved around 3% the accuracy\n",
    "        nn.MaxPool2d(2),\n",
    "    )\n",
    "\n",
    "# Create a class to define the Road Sign classifier model\n",
    "class SignClassifier(nn.Module):\n",
    "    def __init__(self):\n",
    "        super().__init__()\n",
    "        self.model = nn.Sequential(\n",
    "            convBlock(3, 64),\n",
    "            convBlock(64, 64),\n",
    "            convBlock(64, 128),\n",
    "            convBlock(128, 64),\n",
    "            nn.Flatten(),\n",
    "            nn.Linear(256, 256),\n",
    "            nn.Dropout(0.2),\n",
    "            nn.ReLU(inplace=True),\n",
    "            nn.Linear(256, len(int2id))\n",
    "        )\n",
    "        self.loss_fn = nn.CrossEntropyLoss()\n",
    "\n",
    "    def forward(self, x):\n",
    "        return self.model(x)\n",
    "    \n",
    "    def compute_metrics(self, preds, targets):\n",
    "        ce_loss = self.loss_fn(preds, targets)\n",
    "        acc = (torch.argmax(preds, 1) == targets).float().mean()\n",
    "        return ce_loss, acc"
   ]
  },
  {
   "cell_type": "code",
   "execution_count": 41,
   "metadata": {},
   "outputs": [],
   "source": [
    "# Create a function to train the model on a batch of data\n",
    "def train_batch(model, data, optimizer, criterion):\n",
    "    model.train()\n",
    "    optimizer.zero_grad()\n",
    "    images, labels = data\n",
    "    _preds = model(images)\n",
    "    loss, acc = criterion(_preds, labels)\n",
    "    loss.backward()\n",
    "    optimizer.step()\n",
    "    return loss.item(), acc.item()\n",
    "\n",
    "# Create a function to validate the model on a batch of data\n",
    "@torch.no_grad()\n",
    "def validate_batch(model, data, criterion):\n",
    "    model.eval()\n",
    "    images, labels = data\n",
    "    _preds = model(images)\n",
    "    loss, acc = criterion(_preds, labels)\n",
    "    return loss.item(), acc.item()"
   ]
  },
  {
   "cell_type": "code",
   "execution_count": 42,
   "metadata": {},
   "outputs": [
    {
     "name": "stdout",
     "output_type": "stream",
     "text": [
      "EPOCH: 1.000  train_loss: 1.809  val_loss: 0.883  val_acc: 0.738  train_acc: 0.465  (114.17s - 5594.47s remaining)\n",
      "EPOCH: 2.000  train_loss: 0.664  val_loss: 0.959  val_acc: 0.762  train_acc: 0.786  (222.47s - 5339.31s remaining)\n",
      "EPOCH: 3.000  train_loss: 0.472  val_loss: 0.503  val_acc: 0.848  train_acc: 0.848  (333.14s - 5219.23s remaining)\n",
      "EPOCH: 4.000  train_loss: 0.376  val_loss: 0.425  val_acc: 0.870  train_acc: 0.877  (447.23s - 5143.09s remaining)\n",
      "EPOCH: 5.000  train_loss: 0.326  val_loss: 0.323  val_acc: 0.906  train_acc: 0.894  (562.11s - 5058.95s remaining)\n",
      "EPOCH: 6.000  train_loss: 0.277  val_loss: 0.406  val_acc: 0.892  train_acc: 0.907  (670.55s - 4917.35s remaining)\n",
      "EPOCH: 7.000  train_loss: 0.264  val_loss: 0.443  val_acc: 0.874  train_acc: 0.916  (783.12s - 4810.62s remaining)\n",
      "EPOCH: 8.000  train_loss: 0.240  val_loss: 0.443  val_acc: 0.881  train_acc: 0.919  (896.75s - 4707.93s remaining)\n",
      "EPOCH: 9.000  train_loss: 0.223  val_loss: 0.325  val_acc: 0.914  train_acc: 0.927  (1019.88s - 4646.10s remaining)\n",
      "EPOCH: 10.000  train_loss: 0.204  val_loss: 0.498  val_acc: 0.884  train_acc: 0.933  (1143.71s - 4574.83s remaining)\n",
      "EPOCH: 11.000  train_loss: 0.197  val_loss: 0.297  val_acc: 0.917  train_acc: 0.935  (1269.90s - 4502.36s remaining)\n",
      "EPOCH: 12.000  train_loss: 0.143  val_loss: 0.289  val_acc: 0.925  train_acc: 0.953  (1392.25s - 4408.80s remaining)\n",
      "EPOCH: 13.000  train_loss: 0.118  val_loss: 0.274  val_acc: 0.929  train_acc: 0.960  (1515.75s - 4314.06s remaining)\n",
      "EPOCH: 14.000  train_loss: 0.113  val_loss: 0.234  val_acc: 0.940  train_acc: 0.961  (1639.26s - 4215.23s remaining)\n",
      "EPOCH: 15.000  train_loss: 0.110  val_loss: 0.239  val_acc: 0.941  train_acc: 0.963  (1762.21s - 4111.82s remaining)\n",
      "EPOCH: 16.000  train_loss: 0.101  val_loss: 0.226  val_acc: 0.939  train_acc: 0.966  (1885.56s - 4006.81s remaining)\n",
      "EPOCH: 17.000  train_loss: 0.097  val_loss: 0.210  val_acc: 0.944  train_acc: 0.967  (2010.25s - 3902.25s remaining)\n",
      "EPOCH: 18.000  train_loss: 0.095  val_loss: 0.231  val_acc: 0.942  train_acc: 0.968  (2136.61s - 3798.42s remaining)\n",
      "EPOCH: 19.000  train_loss: 0.091  val_loss: 0.226  val_acc: 0.942  train_acc: 0.970  (2268.71s - 3701.59s remaining)\n",
      "EPOCH: 20.000  train_loss: 0.090  val_loss: 0.305  val_acc: 0.927  train_acc: 0.970  (2377.81s - 3566.71s remaining)\n",
      "EPOCH: 21.000  train_loss: 0.089  val_loss: 0.220  val_acc: 0.943  train_acc: 0.971  (2485.39s - 3432.21s remaining)\n",
      "EPOCH: 22.000  train_loss: 0.086  val_loss: 0.246  val_acc: 0.939  train_acc: 0.970  (2596.71s - 3304.90s remaining)\n",
      "EPOCH: 23.000  train_loss: 0.083  val_loss: 0.217  val_acc: 0.946  train_acc: 0.972  (2705.92s - 3176.52s remaining)\n",
      "EPOCH: 24.000  train_loss: 0.086  val_loss: 0.266  val_acc: 0.933  train_acc: 0.969  (2816.94s - 3051.69s remaining)\n",
      "EPOCH: 25.000  train_loss: 0.079  val_loss: 0.233  val_acc: 0.937  train_acc: 0.973  (2930.18s - 2930.18s remaining)\n",
      "EPOCH: 26.000  train_loss: 0.077  val_loss: 0.191  val_acc: 0.949  train_acc: 0.974  (3039.60s - 2805.79s remaining)\n",
      "EPOCH: 27.000  train_loss: 0.078  val_loss: 0.250  val_acc: 0.935  train_acc: 0.974  (3150.06s - 2683.38s remaining)\n",
      "EPOCH: 28.000  train_loss: 0.077  val_loss: 0.278  val_acc: 0.927  train_acc: 0.973  (3266.09s - 2566.22s remaining)\n",
      "EPOCH: 29.000  train_loss: 0.076  val_loss: 0.159  val_acc: 0.957  train_acc: 0.974  (3390.57s - 2455.24s remaining)\n",
      "EPOCH: 30.000  train_loss: 0.073  val_loss: 0.136  val_acc: 0.960  train_acc: 0.974  (3514.82s - 2343.21s remaining)\n",
      "EPOCH: 31.000  train_loss: 0.072  val_loss: 0.204  val_acc: 0.947  train_acc: 0.975  (3638.79s - 2230.23s remaining)\n",
      "EPOCH: 32.000  train_loss: 0.069  val_loss: 0.186  val_acc: 0.950  train_acc: 0.977  (3763.99s - 2117.24s remaining)\n",
      "EPOCH: 33.000  train_loss: 0.066  val_loss: 0.121  val_acc: 0.963  train_acc: 0.977  (3889.90s - 2003.89s remaining)\n",
      "EPOCH: 34.000  train_loss: 0.067  val_loss: 0.165  val_acc: 0.955  train_acc: 0.977  (4015.22s - 1889.52s remaining)\n",
      "EPOCH: 35.000  train_loss: 0.070  val_loss: 0.208  val_acc: 0.945  train_acc: 0.976  (4133.24s - 1771.39s remaining)\n",
      "EPOCH: 36.000  train_loss: 0.069  val_loss: 0.225  val_acc: 0.941  train_acc: 0.976  (4245.10s - 1650.87s remaining)\n",
      "EPOCH: 37.000  train_loss: 0.073  val_loss: 0.144  val_acc: 0.958  train_acc: 0.975  (4355.72s - 1530.39s remaining)\n",
      "EPOCH: 38.000  train_loss: 0.063  val_loss: 0.144  val_acc: 0.957  train_acc: 0.978  (4465.92s - 1410.29s remaining)\n",
      "EPOCH: 39.000  train_loss: 0.068  val_loss: 0.164  val_acc: 0.956  train_acc: 0.978  (4576.44s - 1290.79s remaining)\n",
      "EPOCH: 40.000  train_loss: 0.064  val_loss: 0.167  val_acc: 0.954  train_acc: 0.978  (4687.31s - 1171.83s remaining)\n",
      "EPOCH: 41.000  train_loss: 0.061  val_loss: 0.147  val_acc: 0.960  train_acc: 0.980  (4799.05s - 1053.45s remaining)\n",
      "EPOCH: 42.000  train_loss: 0.064  val_loss: 0.180  val_acc: 0.949  train_acc: 0.978  (4909.37s - 935.12s remaining)\n",
      "EPOCH: 43.000  train_loss: 0.061  val_loss: 0.172  val_acc: 0.951  train_acc: 0.979  (5019.46s - 817.12s remaining)\n",
      "EPOCH: 44.000  train_loss: 0.061  val_loss: 0.167  val_acc: 0.953  train_acc: 0.978  (5129.85s - 699.53s remaining)\n",
      "EPOCH: 45.000  train_loss: 0.061  val_loss: 0.122  val_acc: 0.964  train_acc: 0.979  (5242.41s - 582.49s remaining)\n",
      "EPOCH: 46.000  train_loss: 0.059  val_loss: 0.147  val_acc: 0.957  train_acc: 0.979  (5354.61s - 465.62s remaining)\n",
      "EPOCH: 47.000  train_loss: 0.059  val_loss: 0.134  val_acc: 0.962  train_acc: 0.979  (5464.59s - 348.80s remaining)\n",
      "EPOCH: 48.000  train_loss: 0.059  val_loss: 0.123  val_acc: 0.964  train_acc: 0.980  (5574.53s - 232.27s remaining)\n",
      "EPOCH: 49.000  train_loss: 0.060  val_loss: 0.141  val_acc: 0.962  train_acc: 0.980  (5687.75s - 116.08s remaining)\n",
      "EPOCH: 50.000  train_loss: 0.054  val_loss: 0.146  val_acc: 0.958  train_acc: 0.982  (5801.74s - 0.00s remaining)\n"
     ]
    },
    {
     "name": "stderr",
     "output_type": "stream",
     "text": [
      "100%|██████████| 151/151 [00:01<00:00, 138.56it/s]\n"
     ]
    },
    {
     "data": {
      "image/png": "[encoded data removed]",
      "text/plain": [
       "<Figure size 800x600 with 1 Axes>"
      ]
     },
     "metadata": {},
     "output_type": "display_data"
    }
   ],
   "source": [
    "# Train the model\n",
    "model = SignClassifier().to(device)\n",
    "optimizer = torch.optim.Adam(model.parameters(), lr=1e-3)\n",
    "critertion = model.compute_metrics\n",
    "train_dl, val_dl = load_data(batch_size=32)\n",
    "n_epochs = 50\n",
    "log = Report(n_epochs)\n",
    "\n",
    "for epoch in range(n_epochs):\n",
    "    n = len(train_dl)\n",
    "    for i, data in enumerate(train_dl):\n",
    "        loss, acc = train_batch(model, data, optimizer, critertion)\n",
    "        log.record(epoch+(i+1)/n, train_loss=loss, train_acc=acc, end='\\r')\n",
    "    n = len(val_dl)\n",
    "    for i, data in enumerate(val_dl):\n",
    "        loss, acc = validate_batch(model, data, critertion)\n",
    "        log.record(epoch+(i+1)/n, val_loss=loss, val_acc=acc, end='\\r')\n",
    "    log.report_avgs(epoch+1)\n",
    "    if epoch == 10: optimizer = optim.Adam(model.parameters(), lr=1e-4)\n",
    "log.plot_epochs(['train_loss', 'val_loss'])"
   ]
  },
  {
   "cell_type": "code",
   "execution_count": 115,
   "metadata": {},
   "outputs": [
    {
     "data": {
      "image/png": "[encoded data removed]",
      "text/plain": [
       "<Figure size 500x500 with 1 Axes>"
      ]
     },
     "metadata": {},
     "output_type": "display_data"
    }
   ],
   "source": [
    "# Make a prediction and plot the result\n",
    "\n",
    "# Reverse the dictionary\n",
    "_int2id = {int(v): k  for k, v in int2id.items()}\n",
    "\n",
    "# Get a random image and label\n",
    "_image, label = val_ds.choose()\n",
    "\n",
    "# Preprocess the image\n",
    "image = val_transforms(_image)[None].to(device)\n",
    "\n",
    "# Make the prediction\n",
    "pred = model(image)\n",
    "pred = _int2id[torch.argmax(pred, 1).item()]\n",
    "show(_image, title=f'Prediction: {pred}\\nActual: {label}', sz=5)"
   ]
  }
 ],
 "metadata": {
  "kernelspec": {
   "display_name": "base",
   "language": "python",
   "name": "python3"
  },
  "language_info": {
   "codemirror_mode": {
    "name": "ipython",
    "version": 3
   },
   "file_extension": ".py",
   "mimetype": "text/x-python",
   "name": "python",
   "nbconvert_exporter": "python",
   "pygments_lexer": "ipython3",
   "version": "3.11.7"
  }
 },
 "nbformat": 4,
 "nbformat_minor": 2
}
