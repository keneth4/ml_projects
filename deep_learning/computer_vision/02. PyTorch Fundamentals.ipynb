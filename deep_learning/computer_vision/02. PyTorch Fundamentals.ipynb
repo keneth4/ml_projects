{
 "cells": [
  {
   "cell_type": "markdown",
   "metadata": {},
   "source": [
    "# PyTorch Fundamentals"
   ]
  },
  {
   "cell_type": "markdown",
   "metadata": {},
   "source": [
    "## Initialization"
   ]
  },
  {
   "cell_type": "code",
   "execution_count": 346,
   "metadata": {},
   "outputs": [
    {
     "name": "stdout",
     "output_type": "stream",
     "text": [
      "2.2.0\n",
      "zsh:1: command not found: nvidia-smi\n"
     ]
    }
   ],
   "source": [
    "# Load libraries\n",
    "\n",
    "# OS\n",
    "import time\n",
    "\n",
    "# Data manipulation\n",
    "import numpy as np\n",
    "import matplotlib.pyplot as plt\n",
    "\n",
    "# Modeling\n",
    "import torch\n",
    "import torch.nn as nn\n",
    "from torch.optim import SGD\n",
    "from torch.utils.data import Dataset, DataLoader\n",
    "from torchsummary import summary\n",
    "\n",
    "print(torch.__version__)\n",
    "!nvidia-smi # check if GPU is available"
   ]
  },
  {
   "cell_type": "markdown",
   "metadata": {},
   "source": [
    "## Tensors"
   ]
  },
  {
   "cell_type": "markdown",
   "metadata": {},
   "source": [
    "<center>\n",
    "<table>\n",
    "    <thead>\n",
    "        <tr>\n",
    "            <th style=\"text-align: center;\">PyTorch Tensors Dimensions</th>\n",
    "        </tr>\n",
    "    </thead>\n",
    "    <tbody>\n",
    "        <tr>\n",
    "            <td>\n",
    "                <img src=\"tensor_dims.png\" alt=\"PyTorch Tensors Dimensions\" height=\"400\">\n",
    "            </td>\n",
    "        </tr>\n",
    "    </tbody>\n",
    "</table>\n",
    "</center>"
   ]
  },
  {
   "cell_type": "code",
   "execution_count": 347,
   "metadata": {},
   "outputs": [],
   "source": [
    "# Create tensor examples\n",
    "x = torch.tensor([[1, 2]])\n",
    "y = torch.tensor([[1], [2]])"
   ]
  },
  {
   "cell_type": "code",
   "execution_count": 348,
   "metadata": {},
   "outputs": [
    {
     "name": "stdout",
     "output_type": "stream",
     "text": [
      "torch.Size([1, 2]) - One entity of two items\n",
      "torch.Size([2, 1]) - Two entities of one item each\n",
      "Data type: torch.int64\n"
     ]
    }
   ],
   "source": [
    "# Print shape and data type\n",
    "print(x.shape, \"- One entity of two items\")\n",
    "print(y.shape, \"- Two entities of one item each\")\n",
    "print(\"Data type:\", x.dtype)"
   ]
  },
  {
   "cell_type": "code",
   "execution_count": 349,
   "metadata": {},
   "outputs": [
    {
     "name": "stdout",
     "output_type": "stream",
     "text": [
      "tensor([0., 1., 2.])\n",
      "Data type: torch.float32\n"
     ]
    }
   ],
   "source": [
    "# Show how datatype can be changed to the most generic type\n",
    "x = torch.tensor([False, 1, 2.0])\n",
    "print(x)\n",
    "print(\"Data type:\", x.dtype)"
   ]
  },
  {
   "cell_type": "code",
   "execution_count": 350,
   "metadata": {},
   "outputs": [
    {
     "name": "stdout",
     "output_type": "stream",
     "text": [
      "tensor([[0., 0., 0.],\n",
      "        [0., 0., 0.]])\n",
      "\n",
      "tensor([[1., 1., 1.],\n",
      "        [1., 1., 1.],\n",
      "        [1., 1., 1.],\n",
      "        [1., 1., 1.]])\n"
     ]
    }
   ],
   "source": [
    "# Create tensor examples similar to numpy zeros and ones\n",
    "x = torch.zeros(2, 3)\n",
    "y = torch.ones(4, 3)\n",
    "\n",
    "print(x, end=\"\\n\\n\")\n",
    "print(y)"
   ]
  },
  {
   "cell_type": "code",
   "execution_count": 351,
   "metadata": {},
   "outputs": [
    {
     "name": "stdout",
     "output_type": "stream",
     "text": [
      "tensor([0, 2, 4, 6, 8])\n",
      "\n",
      "tensor([ 0.,  2.,  4.,  6.,  8., 10.])\n"
     ]
    }
   ],
   "source": [
    "# Create tensor examples similar to numpy arange and linspace\n",
    "x = torch.arange(0, 10, 2) # Start at 0, stop at 10, step by 2\n",
    "y = torch.linspace(0, 10, 6) # Start at 0, stop at 10, 6 elements\n",
    "\n",
    "print(x, end=\"\\n\\n\")\n",
    "print(y)"
   ]
  },
  {
   "cell_type": "code",
   "execution_count": 352,
   "metadata": {},
   "outputs": [
    {
     "name": "stdout",
     "output_type": "stream",
     "text": [
      "tensor([[3, 5, 9],\n",
      "        [5, 7, 7],\n",
      "        [4, 1, 0],\n",
      "        [1, 6, 3]])\n",
      "\n",
      "tensor([[0.0922, 0.4813, 0.1965, 0.8165],\n",
      "        [0.7593, 0.0737, 0.2427, 0.2488],\n",
      "        [0.2342, 0.9695, 0.3033, 0.1053]])\n",
      "\n",
      "tensor([[-0.2674, -0.1885,  0.1637,  1.6117],\n",
      "        [-1.3278,  1.6525, -0.3617,  0.2357],\n",
      "        [ 0.8548,  0.5895,  1.2126, -0.8767]])\n"
     ]
    }
   ],
   "source": [
    "# Create tensor examples similar to numpy randints, rand, and randn\n",
    "x = torch.randint(low=0, high=10, size=(4, 3)) # Includes 0, excludes 10\n",
    "y = torch.rand(3,4) # Uniform distribution between 0 and 1\n",
    "z = torch.randn(3,4) # Standard normal distribution\n",
    "\n",
    "print(x, end=\"\\n\\n\")\n",
    "print(y, end=\"\\n\\n\")\n",
    "print(z)"
   ]
  },
  {
   "cell_type": "code",
   "execution_count": 353,
   "metadata": {},
   "outputs": [
    {
     "name": "stdout",
     "output_type": "stream",
     "text": [
      "Numpy array:\n",
      " [[1 2]\n",
      " [3 4]]\n",
      "\n",
      "Pytorch tensor:\n",
      " tensor([[1, 2],\n",
      "        [3, 4]])\n"
     ]
    }
   ],
   "source": [
    "# Create numpy array and convert to pytorch tensor\n",
    "x = np.array([[1, 2], [3, 4]])\n",
    "y = torch.tensor(x)\n",
    "\n",
    "print(\"Numpy array:\\n\", x, end=\"\\n\\n\")\n",
    "print(\"Pytorch tensor:\\n\", y)"
   ]
  },
  {
   "cell_type": "markdown",
   "metadata": {},
   "source": [
    "## Tensor operations"
   ]
  },
  {
   "cell_type": "code",
   "execution_count": 354,
   "metadata": {},
   "outputs": [
    {
     "name": "stdout",
     "output_type": "stream",
     "text": [
      "Original tensor:\n",
      " tensor([[1, 2],\n",
      "        [3, 4]])\n",
      "\n",
      "Broadcast multiplication (x2):\n",
      " tensor([[2, 4],\n",
      "        [6, 8]])\n"
     ]
    }
   ],
   "source": [
    "# Example of broadcast multiplication\n",
    "x = torch.tensor([[1, 2], [3, 4]])\n",
    "y = x * 2\n",
    "\n",
    "print(\"Original tensor:\\n\", x, end=\"\\n\\n\")\n",
    "print(\"Broadcast multiplication (x2):\\n\", y) # Multiply all elements by 2"
   ]
  },
  {
   "cell_type": "code",
   "execution_count": 355,
   "metadata": {},
   "outputs": [
    {
     "name": "stdout",
     "output_type": "stream",
     "text": [
      "Matrix x:\n",
      " tensor([[1, 2],\n",
      "        [3, 4]])\n",
      "\n",
      "Matrix y:\n",
      " tensor([[5, 6],\n",
      "        [7, 8]])\n",
      "\n",
      "Element-wise multiplication:\n",
      " tensor([[ 5, 12],\n",
      "        [21, 32]])\n"
     ]
    }
   ],
   "source": [
    "# Example of element-wise multiplication\n",
    "x = torch.tensor([[1, 2], [3, 4]])\n",
    "y = torch.tensor([[5, 6], [7, 8]])\n",
    "z = x * y\n",
    "\n",
    "print(\"Matrix x:\\n\", x, end=\"\\n\\n\")\n",
    "print(\"Matrix y:\\n\", y, end=\"\\n\\n\")\n",
    "print(\"Element-wise multiplication:\\n\", z)"
   ]
  },
  {
   "cell_type": "code",
   "execution_count": 356,
   "metadata": {},
   "outputs": [
    {
     "name": "stdout",
     "output_type": "stream",
     "text": [
      "Original tensor:\n",
      " tensor([[1, 2],\n",
      "        [3, 4]])\n",
      "\n",
      "Broadcast addition (+10):\n",
      " tensor([[11, 12],\n",
      "        [13, 14]])\n"
     ]
    }
   ],
   "source": [
    "# Example of broadcast addition\n",
    "x = torch.tensor([[1, 2], [3, 4]])\n",
    "y = x + 10\n",
    "\n",
    "print(\"Original tensor:\\n\", x, end=\"\\n\\n\")\n",
    "print(\"Broadcast addition (+10):\\n\", y) # Add 10 to all elements"
   ]
  },
  {
   "cell_type": "code",
   "execution_count": 357,
   "metadata": {},
   "outputs": [
    {
     "name": "stdout",
     "output_type": "stream",
     "text": [
      "Matrix x:\n",
      " tensor([[1, 2],\n",
      "        [3, 4]])\n",
      "\n",
      "Matrix y:\n",
      " tensor([[5, 6],\n",
      "        [7, 8]])\n",
      "\n",
      "Element-wise addition:\n",
      " tensor([[ 6,  8],\n",
      "        [10, 12]])\n"
     ]
    }
   ],
   "source": [
    "# Example of element-wise addition\n",
    "x = torch.tensor([[1, 2], [3, 4]])\n",
    "y = torch.tensor([[5, 6], [7, 8]])\n",
    "z = x + y\n",
    "\n",
    "print(\"Matrix x:\\n\", x, end=\"\\n\\n\")\n",
    "print(\"Matrix y:\\n\", y, end=\"\\n\\n\")\n",
    "print(\"Element-wise addition:\\n\", z)"
   ]
  },
  {
   "cell_type": "code",
   "execution_count": 358,
   "metadata": {},
   "outputs": [
    {
     "name": "stdout",
     "output_type": "stream",
     "text": [
      "Original tensor:\n",
      " tensor([ 0,  1,  2,  3,  4,  5,  6,  7,  8,  9, 10, 11])\n",
      "\n",
      "Reshaped tensor:\n",
      " tensor([[ 0,  1,  2,  3],\n",
      "        [ 4,  5,  6,  7],\n",
      "        [ 8,  9, 10, 11]])\n"
     ]
    }
   ],
   "source": [
    "# Example of tensor reshaping (reshaping must be compatible with original shape, i.e. same number of elements)\n",
    "x = torch.arange(0, 12) # 1D tensor with 12 elements\n",
    "y = x.reshape(3, 4) # 2D tensor with 3 rows and 4 columns\n",
    "\n",
    "print(\"Original tensor:\\n\", x, end=\"\\n\\n\")\n",
    "print(\"Reshaped tensor:\\n\", y)"
   ]
  },
  {
   "cell_type": "code",
   "execution_count": 359,
   "metadata": {},
   "outputs": [
    {
     "name": "stdout",
     "output_type": "stream",
     "text": [
      "Original tensor:\n",
      " tensor([0, 1, 2, 3, 4, 5, 6, 7, 8, 9])\n",
      "Shape of original tensor: torch.Size([10])\n",
      "\n",
      "Reshaped tensor:\n",
      " tensor([[0, 1, 2, 3, 4],\n",
      "        [5, 6, 7, 8, 9]])\n",
      "Shape of reshaped tensor: torch.Size([2, 5])\n",
      "\n",
      "Original tensor after modification:\n",
      " tensor([100,   1,   2,   3,   4,   5,   6,   7,   8,   9])\n"
     ]
    }
   ],
   "source": [
    "# Example of tensor view (same as reshape but returns a pointer to the original tensor)\n",
    "x = torch.arange(0, 10) # 1D tensor - 1 row, 10 columns = 10 elements\n",
    "y = x.view(2, 5) # 2D tensor - 2 rows, 5 columns = 10 elements\n",
    "\n",
    "print(\"Original tensor:\\n\", x)\n",
    "print(\"Shape of original tensor:\", x.shape, end=\"\\n\\n\")\n",
    "print(\"Reshaped tensor:\\n\", y)\n",
    "print(\"Shape of reshaped tensor:\", y.shape, end=\"\\n\\n\")\n",
    "\n",
    "# Modify the reshaped tensor and see the original tensor change\n",
    "y[0, 0] = 100\n",
    "print(\"Original tensor after modification:\\n\", x)"
   ]
  },
  {
   "cell_type": "code",
   "execution_count": 360,
   "metadata": {},
   "outputs": [
    {
     "name": "stdout",
     "output_type": "stream",
     "text": [
      "Original tensor:\n",
      " tensor([[[-0.7522,  1.2519,  0.1423,  0.5784]],\n",
      "\n",
      "        [[ 0.0048, -1.5143,  0.8020, -0.3242]],\n",
      "\n",
      "        [[-1.4104,  0.4592, -0.6838,  0.1992]]])\n",
      "Shape of original tensor: torch.Size([3, 1, 4])\n",
      "\n",
      "Squeezed tensor:\n",
      " tensor([[-0.7522,  1.2519,  0.1423,  0.5784],\n",
      "        [ 0.0048, -1.5143,  0.8020, -0.3242],\n",
      "        [-1.4104,  0.4592, -0.6838,  0.1992]])\n",
      "Shape of squeezed tensor: torch.Size([3, 4])\n",
      "\n",
      "Unsqueezed tensor:\n",
      " tensor([[[[-0.7522,  1.2519,  0.1423,  0.5784]],\n",
      "\n",
      "         [[ 0.0048, -1.5143,  0.8020, -0.3242]],\n",
      "\n",
      "         [[-1.4104,  0.4592, -0.6838,  0.1992]]]])\n",
      "Shape of unsqueezed tensor: torch.Size([1, 3, 1, 4])\n"
     ]
    }
   ],
   "source": [
    "# Example of squeezing and unsqueezing tensors (Only applicable to tensors with 1 dimension)\n",
    "x = torch.randn(3, 1, 4) # 3D tensor - 3 rows, 1 column, 4 depth = 12 elements\n",
    "y = x.squeeze() # 2D tensor - 3 rows, 4 columns = 12 elements\n",
    "z = x.unsqueeze(0) # 4D tensor - 1 row, 3 columns, 1 depth, 4 height = 12 elements, adds a dimension at the beginning (index 0)\n",
    "\n",
    "print(\"Original tensor:\\n\", x)\n",
    "print(\"Shape of original tensor:\", x.shape, end=\"\\n\\n\")\n",
    "print(\"Squeezed tensor:\\n\", y)\n",
    "print(\"Shape of squeezed tensor:\", y.shape, end=\"\\n\\n\")\n",
    "print(\"Unsqueezed tensor:\\n\", z)\n",
    "print(\"Shape of unsqueezed tensor:\", z.shape)"
   ]
  },
  {
   "cell_type": "code",
   "execution_count": 361,
   "metadata": {},
   "outputs": [
    {
     "name": "stdout",
     "output_type": "stream",
     "text": [
      "Original tensor:\n",
      " tensor([[ 0.0274, -0.6990,  1.5896, -0.2594],\n",
      "        [-0.5487,  2.0633,  1.0888,  0.4072],\n",
      "        [-0.6571, -2.4117, -1.4705,  1.7409]])\n",
      "Shape of original tensor: torch.Size([3, 4])\n",
      "\n",
      "Shape of unsqueezed tensor with added dimension (None) at the beginning: torch.Size([1, 3, 4])\n",
      "\n",
      "Shape of unsqueezed tensor with added dimension (None) after the first dimension: torch.Size([3, 1, 4])\n",
      "\n",
      "Shape of unsqueezed tensor with added dimension (None) after the last dimension: torch.Size([3, 4, 1])\n"
     ]
    }
   ],
   "source": [
    "# Using None to unsqueeze tensor\n",
    "x = torch.randn(3, 4) # 2D tensor - 3 rows, 4 columns = 12 elements\n",
    "y1 = x[None] # 3D tensor - 1 row, 3 columns, 4 depth = 12 elements\n",
    "y2 = x[:, None] # 3D tensor - 3 rows, 1 column, 4 depth = 12 elements\n",
    "y3 = x[..., None] # 3D tensor - 3 rows, 4 columns, 1 depth = 12 elements\n",
    "\n",
    "print(\"Original tensor:\\n\", x)\n",
    "print(\"Shape of original tensor:\", x.shape, end=\"\\n\\n\")\n",
    "print(\"Shape of unsqueezed tensor with added dimension (None) at the beginning:\", y1.shape, end=\"\\n\\n\")\n",
    "print(\"Shape of unsqueezed tensor with added dimension (None) after the first dimension:\", y2.shape, end=\"\\n\\n\")\n",
    "print(\"Shape of unsqueezed tensor with added dimension (None) after the last dimension:\", y3.shape)"
   ]
  },
  {
   "cell_type": "code",
   "execution_count": 362,
   "metadata": {},
   "outputs": [
    {
     "name": "stdout",
     "output_type": "stream",
     "text": [
      "Matrix x (3x4):\n",
      " tensor([[ 1,  2,  3,  4],\n",
      "        [ 5,  6,  7,  8],\n",
      "        [ 9, 10, 11, 12]])\n",
      "\n",
      "Matrix y (4x2):\n",
      " tensor([[1, 2],\n",
      "        [3, 4],\n",
      "        [5, 6],\n",
      "        [7, 8]])\n",
      "\n",
      "Matrix multiplication (dot product) (3x2):\n",
      " tensor([[ 50,  60],\n",
      "        [114, 140],\n",
      "        [178, 220]])\n"
     ]
    }
   ],
   "source": [
    "# Example of matrix multiplication (dot product)\n",
    "x = torch.tensor([[1, 2, 3, 4], [5, 6, 7, 8], [9, 10, 11, 12]])\n",
    "y = torch.tensor([[1, 2], [3, 4], [5, 6], [7, 8]])\n",
    "z = x @ y # torch.matmul(x, y) or x.matmul(y) also work\n",
    "\n",
    "print(\"Matrix x (3x4):\\n\", x, end=\"\\n\\n\")\n",
    "print(\"Matrix y (4x2):\\n\", y, end=\"\\n\\n\")\n",
    "print(\"Matrix multiplication (dot product) (3x2):\\n\", z)"
   ]
  },
  {
   "cell_type": "code",
   "execution_count": 363,
   "metadata": {},
   "outputs": [
    {
     "name": "stdout",
     "output_type": "stream",
     "text": [
      "Matrix x shape:\n",
      " torch.Size([2, 3])\n",
      "Matrix y shape:\n",
      " torch.Size([2, 3])\n",
      "Concatenated matrix shape (along rows):\n",
      " torch.Size([4, 3])\n",
      "Concatenated matrix shape (along columns):\n",
      " torch.Size([2, 6])\n"
     ]
    }
   ],
   "source": [
    "# Example of tensor concatenation (along rows and columns)\n",
    "x = torch.tensor([[1, 2, 3], [4, 5, 6]])\n",
    "y = torch.tensor([[7, 8, 9], [10, 11, 12]])\n",
    "z = torch.cat([x, y], dim=0) # Concatenate along rows\n",
    "w = torch.cat([x, y], dim=1) # Concatenate along columns\n",
    "\n",
    "print(\"Matrix x shape:\\n\", x.shape)\n",
    "print(\"Matrix y shape:\\n\", y.shape)\n",
    "print(\"Concatenated matrix shape (along rows):\\n\", z.shape)\n",
    "print(\"Concatenated matrix shape (along columns):\\n\", w.shape)"
   ]
  },
  {
   "cell_type": "code",
   "execution_count": 364,
   "metadata": {},
   "outputs": [
    {
     "name": "stdout",
     "output_type": "stream",
     "text": [
      "Matrix x shape:\n",
      " torch.Size([2, 3])\n",
      "Matrix y shape:\n",
      " torch.Size([2, 3])\n",
      "Stacked matrix shape (along rows):\n",
      " torch.Size([2, 2, 3])\n",
      "Stacked matrix shape (along columns):\n",
      " torch.Size([2, 2, 3])\n"
     ]
    }
   ],
   "source": [
    "# Example of tensor stacking (along rows and columns)\n",
    "# 2x3\n",
    "x = torch.tensor([[1, 2, 3], [4, 5, 6]])\n",
    "y = torch.tensor([[7, 8, 9], [10, 11, 12]])\n",
    "z = torch.stack([x, y], dim=0) # Stack along rows\n",
    "w = torch.stack([x, y], dim=1) # Stack along columns\n",
    "\n",
    "print(\"Matrix x shape:\\n\", x.shape)\n",
    "print(\"Matrix y shape:\\n\", y.shape)\n",
    "print(\"Stacked matrix shape (along rows):\\n\", z.shape)\n",
    "print(\"Stacked matrix shape (along columns):\\n\", w.shape)"
   ]
  },
  {
   "cell_type": "code",
   "execution_count": 365,
   "metadata": {},
   "outputs": [
    {
     "name": "stdout",
     "output_type": "stream",
     "text": [
      "Original tensor:\n",
      " tensor([[0, 1, 2, 3, 4],\n",
      "        [5, 6, 7, 8, 9]])\n",
      "Maximum value: tensor(9)\n",
      "\n",
      "Flipped tensor:\n",
      " tensor([[5, 6, 7, 8, 9],\n",
      "        [0, 1, 2, 3, 4]])\n",
      "Index of maximum value in flipped tensor: tensor(4)\n",
      "\n",
      "Maximum value and index along rows:\n",
      " tensor([5, 6, 7, 8, 9]) tensor([1, 1, 1, 1, 1])\n",
      "\n",
      "Maximum value and index along columns:\n",
      " tensor([4, 9]) tensor([4, 4])\n"
     ]
    }
   ],
   "source": [
    "# Example of max and argmax\n",
    "x = torch.arange(0, 10).reshape(2, 5)\n",
    "y = torch.max(x) # Maximum value\n",
    "flipped_x = torch.flip(x, [0]) # Flip along rows\n",
    "max_idx = torch.argmax(flipped_x) # Index of maximum value\n",
    "\n",
    "print(\"Original tensor:\\n\", x)\n",
    "print(\"Maximum value:\", y, end=\"\\n\\n\")\n",
    "print(\"Flipped tensor:\\n\", flipped_x)\n",
    "print(\"Index of maximum value in flipped tensor:\", max_idx, end=\"\\n\\n\")\n",
    "\n",
    "max_val_row, max_idx_row = x.max(dim=0) # Maximum value and index along rows\n",
    "max_val_col, max_idx_col = x.max(dim=1) # Maximum value and index along columns\n",
    "\n",
    "print(\"Maximum value and index along rows:\\n\", max_val_row, max_idx_row, end=\"\\n\\n\")\n",
    "print(\"Maximum value and index along columns:\\n\", max_val_col, max_idx_col)"
   ]
  },
  {
   "cell_type": "code",
   "execution_count": 366,
   "metadata": {},
   "outputs": [
    {
     "name": "stdout",
     "output_type": "stream",
     "text": [
      "Original tensor:\n",
      " tensor([[[ 0.5267,  0.5536],\n",
      "         [-0.1666,  0.6430],\n",
      "         [-1.8697, -1.1276],\n",
      "         [ 0.2186,  1.3999]],\n",
      "\n",
      "        [[-1.0763,  0.0458],\n",
      "         [ 0.1899,  1.4948],\n",
      "         [ 0.6514, -0.8330],\n",
      "         [ 0.0489, -0.4956]],\n",
      "\n",
      "        [[-0.5561, -1.5886],\n",
      "         [ 1.9554,  0.8477],\n",
      "         [ 0.0071,  1.3879],\n",
      "         [ 0.4019, -0.3124]]])\n",
      "Shape of original tensor: torch.Size([3, 4, 2])\n",
      "\n",
      "Permuted tensor:\n",
      " tensor([[[ 0.5267, -0.1666, -1.8697,  0.2186],\n",
      "         [-1.0763,  0.1899,  0.6514,  0.0489],\n",
      "         [-0.5561,  1.9554,  0.0071,  0.4019]],\n",
      "\n",
      "        [[ 0.5536,  0.6430, -1.1276,  1.3999],\n",
      "         [ 0.0458,  1.4948, -0.8330, -0.4956],\n",
      "         [-1.5886,  0.8477,  1.3879, -0.3124]]])\n",
      "Shape of permuted tensor: torch.Size([2, 3, 4])\n"
     ]
    }
   ],
   "source": [
    "# Example of tensor permutation\n",
    "x = torch.randn(3, 4, 2) # 3D tensor - 3 rows, 4 columns, 2 depth = 24 elements\n",
    "y = x.permute(2, 0, 1) # 3D tensor - 2 rows, 3 columns, 4 depth = 24 elements\n",
    "\n",
    "print(\"Original tensor:\\n\", x)\n",
    "print(\"Shape of original tensor:\", x.shape, end=\"\\n\\n\")\n",
    "print(\"Permuted tensor:\\n\", y)\n",
    "print(\"Shape of permuted tensor:\", y.shape)\n",
    "\n",
    "# NOTE: Never reshape (view) a tensor to swap dimensions, use permute instead. Reshaping will change the order of the elements."
   ]
  },
  {
   "cell_type": "code",
   "execution_count": 367,
   "metadata": {},
   "outputs": [
    {
     "data": {
      "text/plain": [
       "['H',\n",
       " 'T',\n",
       " '__abs__',\n",
       " '__add__',\n",
       " '__and__',\n",
       " '__array__',\n",
       " '__array_priority__',\n",
       " '__array_wrap__',\n",
       " '__bool__',\n",
       " '__class__',\n",
       " '__complex__',\n",
       " '__contains__',\n",
       " '__cuda_array_interface__',\n",
       " '__deepcopy__',\n",
       " '__delattr__',\n",
       " '__delitem__',\n",
       " '__dict__',\n",
       " '__dir__',\n",
       " '__div__',\n",
       " '__dlpack__',\n",
       " '__dlpack_device__',\n",
       " '__doc__',\n",
       " '__eq__',\n",
       " '__float__',\n",
       " '__floordiv__',\n",
       " '__format__',\n",
       " '__ge__',\n",
       " '__getattribute__',\n",
       " '__getitem__',\n",
       " '__getstate__',\n",
       " '__gt__',\n",
       " '__hash__',\n",
       " '__iadd__',\n",
       " '__iand__',\n",
       " '__idiv__',\n",
       " '__ifloordiv__',\n",
       " '__ilshift__',\n",
       " '__imod__',\n",
       " '__imul__',\n",
       " '__index__',\n",
       " '__init__',\n",
       " '__init_subclass__',\n",
       " '__int__',\n",
       " '__invert__',\n",
       " '__ior__',\n",
       " '__ipow__',\n",
       " '__irshift__',\n",
       " '__isub__',\n",
       " '__iter__',\n",
       " '__itruediv__',\n",
       " '__ixor__',\n",
       " '__le__',\n",
       " '__len__',\n",
       " '__long__',\n",
       " '__lshift__',\n",
       " '__lt__',\n",
       " '__matmul__',\n",
       " '__mod__',\n",
       " '__module__',\n",
       " '__mul__',\n",
       " '__ne__',\n",
       " '__neg__',\n",
       " '__new__',\n",
       " '__nonzero__',\n",
       " '__or__',\n",
       " '__pos__',\n",
       " '__pow__',\n",
       " '__radd__',\n",
       " '__rand__',\n",
       " '__rdiv__',\n",
       " '__reduce__',\n",
       " '__reduce_ex__',\n",
       " '__repr__',\n",
       " '__reversed__',\n",
       " '__rfloordiv__',\n",
       " '__rlshift__',\n",
       " '__rmatmul__',\n",
       " '__rmod__',\n",
       " '__rmul__',\n",
       " '__ror__',\n",
       " '__rpow__',\n",
       " '__rrshift__',\n",
       " '__rshift__',\n",
       " '__rsub__',\n",
       " '__rtruediv__',\n",
       " '__rxor__',\n",
       " '__setattr__',\n",
       " '__setitem__',\n",
       " '__setstate__',\n",
       " '__sizeof__',\n",
       " '__slotnames__',\n",
       " '__str__',\n",
       " '__sub__',\n",
       " '__subclasshook__',\n",
       " '__torch_dispatch__',\n",
       " '__torch_function__',\n",
       " '__truediv__',\n",
       " '__weakref__',\n",
       " '__xor__',\n",
       " '_addmm_activation',\n",
       " '_autocast_to_full_precision',\n",
       " '_autocast_to_reduced_precision',\n",
       " '_backward_hooks',\n",
       " '_base',\n",
       " '_cdata',\n",
       " '_coalesced_',\n",
       " '_conj',\n",
       " '_conj_physical',\n",
       " '_dimI',\n",
       " '_dimV',\n",
       " '_fix_weakref',\n",
       " '_grad',\n",
       " '_grad_fn',\n",
       " '_has_symbolic_sizes_strides',\n",
       " '_indices',\n",
       " '_is_all_true',\n",
       " '_is_any_true',\n",
       " '_is_view',\n",
       " '_is_zerotensor',\n",
       " '_make_subclass',\n",
       " '_make_wrapper_subclass',\n",
       " '_neg_view',\n",
       " '_nested_tensor_size',\n",
       " '_nested_tensor_storage_offsets',\n",
       " '_nested_tensor_strides',\n",
       " '_nnz',\n",
       " '_post_accumulate_grad_hooks',\n",
       " '_python_dispatch',\n",
       " '_reduce_ex_internal',\n",
       " '_sparse_mask_projection',\n",
       " '_to_dense',\n",
       " '_to_sparse',\n",
       " '_to_sparse_bsc',\n",
       " '_to_sparse_bsr',\n",
       " '_to_sparse_csc',\n",
       " '_to_sparse_csr',\n",
       " '_typed_storage',\n",
       " '_update_names',\n",
       " '_values',\n",
       " '_version',\n",
       " '_view_func',\n",
       " '_view_func_unsafe',\n",
       " 'abs',\n",
       " 'abs_',\n",
       " 'absolute',\n",
       " 'absolute_',\n",
       " 'acos',\n",
       " 'acos_',\n",
       " 'acosh',\n",
       " 'acosh_',\n",
       " 'add',\n",
       " 'add_',\n",
       " 'addbmm',\n",
       " 'addbmm_',\n",
       " 'addcdiv',\n",
       " 'addcdiv_',\n",
       " 'addcmul',\n",
       " 'addcmul_',\n",
       " 'addmm',\n",
       " 'addmm_',\n",
       " 'addmv',\n",
       " 'addmv_',\n",
       " 'addr',\n",
       " 'addr_',\n",
       " 'adjoint',\n",
       " 'align_as',\n",
       " 'align_to',\n",
       " 'all',\n",
       " 'allclose',\n",
       " 'amax',\n",
       " 'amin',\n",
       " 'aminmax',\n",
       " 'angle',\n",
       " 'any',\n",
       " 'apply_',\n",
       " 'arccos',\n",
       " 'arccos_',\n",
       " 'arccosh',\n",
       " 'arccosh_',\n",
       " 'arcsin',\n",
       " 'arcsin_',\n",
       " 'arcsinh',\n",
       " 'arcsinh_',\n",
       " 'arctan',\n",
       " 'arctan2',\n",
       " 'arctan2_',\n",
       " 'arctan_',\n",
       " 'arctanh',\n",
       " 'arctanh_',\n",
       " 'argmax',\n",
       " 'argmin',\n",
       " 'argsort',\n",
       " 'argwhere',\n",
       " 'as_strided',\n",
       " 'as_strided_',\n",
       " 'as_strided_scatter',\n",
       " 'as_subclass',\n",
       " 'asin',\n",
       " 'asin_',\n",
       " 'asinh',\n",
       " 'asinh_',\n",
       " 'atan',\n",
       " 'atan2',\n",
       " 'atan2_',\n",
       " 'atan_',\n",
       " 'atanh',\n",
       " 'atanh_',\n",
       " 'backward',\n",
       " 'baddbmm',\n",
       " 'baddbmm_',\n",
       " 'bernoulli',\n",
       " 'bernoulli_',\n",
       " 'bfloat16',\n",
       " 'bincount',\n",
       " 'bitwise_and',\n",
       " 'bitwise_and_',\n",
       " 'bitwise_left_shift',\n",
       " 'bitwise_left_shift_',\n",
       " 'bitwise_not',\n",
       " 'bitwise_not_',\n",
       " 'bitwise_or',\n",
       " 'bitwise_or_',\n",
       " 'bitwise_right_shift',\n",
       " 'bitwise_right_shift_',\n",
       " 'bitwise_xor',\n",
       " 'bitwise_xor_',\n",
       " 'bmm',\n",
       " 'bool',\n",
       " 'broadcast_to',\n",
       " 'byte',\n",
       " 'cauchy_',\n",
       " 'ccol_indices',\n",
       " 'cdouble',\n",
       " 'ceil',\n",
       " 'ceil_',\n",
       " 'cfloat',\n",
       " 'chalf',\n",
       " 'char',\n",
       " 'cholesky',\n",
       " 'cholesky_inverse',\n",
       " 'cholesky_solve',\n",
       " 'chunk',\n",
       " 'clamp',\n",
       " 'clamp_',\n",
       " 'clamp_max',\n",
       " 'clamp_max_',\n",
       " 'clamp_min',\n",
       " 'clamp_min_',\n",
       " 'clip',\n",
       " 'clip_',\n",
       " 'clone',\n",
       " 'coalesce',\n",
       " 'col_indices',\n",
       " 'conj',\n",
       " 'conj_physical',\n",
       " 'conj_physical_',\n",
       " 'contiguous',\n",
       " 'copy_',\n",
       " 'copysign',\n",
       " 'copysign_',\n",
       " 'corrcoef',\n",
       " 'cos',\n",
       " 'cos_',\n",
       " 'cosh',\n",
       " 'cosh_',\n",
       " 'count_nonzero',\n",
       " 'cov',\n",
       " 'cpu',\n",
       " 'cross',\n",
       " 'crow_indices',\n",
       " 'cuda',\n",
       " 'cummax',\n",
       " 'cummin',\n",
       " 'cumprod',\n",
       " 'cumprod_',\n",
       " 'cumsum',\n",
       " 'cumsum_',\n",
       " 'data',\n",
       " 'data_ptr',\n",
       " 'deg2rad',\n",
       " 'deg2rad_',\n",
       " 'dense_dim',\n",
       " 'dequantize',\n",
       " 'det',\n",
       " 'detach',\n",
       " 'detach_',\n",
       " 'device',\n",
       " 'diag',\n",
       " 'diag_embed',\n",
       " 'diagflat',\n",
       " 'diagonal',\n",
       " 'diagonal_scatter',\n",
       " 'diff',\n",
       " 'digamma',\n",
       " 'digamma_',\n",
       " 'dim',\n",
       " 'dim_order',\n",
       " 'dist',\n",
       " 'div',\n",
       " 'div_',\n",
       " 'divide',\n",
       " 'divide_',\n",
       " 'dot',\n",
       " 'double',\n",
       " 'dsplit',\n",
       " 'dtype',\n",
       " 'eig',\n",
       " 'element_size',\n",
       " 'eq',\n",
       " 'eq_',\n",
       " 'equal',\n",
       " 'erf',\n",
       " 'erf_',\n",
       " 'erfc',\n",
       " 'erfc_',\n",
       " 'erfinv',\n",
       " 'erfinv_',\n",
       " 'exp',\n",
       " 'exp2',\n",
       " 'exp2_',\n",
       " 'exp_',\n",
       " 'expand',\n",
       " 'expand_as',\n",
       " 'expm1',\n",
       " 'expm1_',\n",
       " 'exponential_',\n",
       " 'fill_',\n",
       " 'fill_diagonal_',\n",
       " 'fix',\n",
       " 'fix_',\n",
       " 'flatten',\n",
       " 'flip',\n",
       " 'fliplr',\n",
       " 'flipud',\n",
       " 'float',\n",
       " 'float_power',\n",
       " 'float_power_',\n",
       " 'floor',\n",
       " 'floor_',\n",
       " 'floor_divide',\n",
       " 'floor_divide_',\n",
       " 'fmax',\n",
       " 'fmin',\n",
       " 'fmod',\n",
       " 'fmod_',\n",
       " 'frac',\n",
       " 'frac_',\n",
       " 'frexp',\n",
       " 'gather',\n",
       " 'gcd',\n",
       " 'gcd_',\n",
       " 'ge',\n",
       " 'ge_',\n",
       " 'geometric_',\n",
       " 'geqrf',\n",
       " 'ger',\n",
       " 'get_device',\n",
       " 'grad',\n",
       " 'grad_fn',\n",
       " 'greater',\n",
       " 'greater_',\n",
       " 'greater_equal',\n",
       " 'greater_equal_',\n",
       " 'gt',\n",
       " 'gt_',\n",
       " 'half',\n",
       " 'hardshrink',\n",
       " 'has_names',\n",
       " 'heaviside',\n",
       " 'heaviside_',\n",
       " 'histc',\n",
       " 'histogram',\n",
       " 'hsplit',\n",
       " 'hypot',\n",
       " 'hypot_',\n",
       " 'i0',\n",
       " 'i0_',\n",
       " 'igamma',\n",
       " 'igamma_',\n",
       " 'igammac',\n",
       " 'igammac_',\n",
       " 'imag',\n",
       " 'index_add',\n",
       " 'index_add_',\n",
       " 'index_copy',\n",
       " 'index_copy_',\n",
       " 'index_fill',\n",
       " 'index_fill_',\n",
       " 'index_put',\n",
       " 'index_put_',\n",
       " 'index_reduce',\n",
       " 'index_reduce_',\n",
       " 'index_select',\n",
       " 'indices',\n",
       " 'inner',\n",
       " 'int',\n",
       " 'int_repr',\n",
       " 'inverse',\n",
       " 'ipu',\n",
       " 'is_coalesced',\n",
       " 'is_complex',\n",
       " 'is_conj',\n",
       " 'is_contiguous',\n",
       " 'is_cpu',\n",
       " 'is_cuda',\n",
       " 'is_distributed',\n",
       " 'is_floating_point',\n",
       " 'is_inference',\n",
       " 'is_ipu',\n",
       " 'is_leaf',\n",
       " 'is_meta',\n",
       " 'is_mkldnn',\n",
       " 'is_mps',\n",
       " 'is_mtia',\n",
       " 'is_neg',\n",
       " 'is_nested',\n",
       " 'is_nonzero',\n",
       " 'is_ort',\n",
       " 'is_pinned',\n",
       " 'is_quantized',\n",
       " 'is_same_size',\n",
       " 'is_set_to',\n",
       " 'is_shared',\n",
       " 'is_signed',\n",
       " 'is_sparse',\n",
       " 'is_sparse_csr',\n",
       " 'is_vulkan',\n",
       " 'is_xla',\n",
       " 'is_xpu',\n",
       " 'isclose',\n",
       " 'isfinite',\n",
       " 'isinf',\n",
       " 'isnan',\n",
       " 'isneginf',\n",
       " 'isposinf',\n",
       " 'isreal',\n",
       " 'istft',\n",
       " 'item',\n",
       " 'itemsize',\n",
       " 'kron',\n",
       " 'kthvalue',\n",
       " 'layout',\n",
       " 'lcm',\n",
       " 'lcm_',\n",
       " 'ldexp',\n",
       " 'ldexp_',\n",
       " 'le',\n",
       " 'le_',\n",
       " 'lerp',\n",
       " 'lerp_',\n",
       " 'less',\n",
       " 'less_',\n",
       " 'less_equal',\n",
       " 'less_equal_',\n",
       " 'lgamma',\n",
       " 'lgamma_',\n",
       " 'log',\n",
       " 'log10',\n",
       " 'log10_',\n",
       " 'log1p',\n",
       " 'log1p_',\n",
       " 'log2',\n",
       " 'log2_',\n",
       " 'log_',\n",
       " 'log_normal_',\n",
       " 'log_softmax',\n",
       " 'logaddexp',\n",
       " 'logaddexp2',\n",
       " 'logcumsumexp',\n",
       " 'logdet',\n",
       " 'logical_and',\n",
       " 'logical_and_',\n",
       " 'logical_not',\n",
       " 'logical_not_',\n",
       " 'logical_or',\n",
       " 'logical_or_',\n",
       " 'logical_xor',\n",
       " 'logical_xor_',\n",
       " 'logit',\n",
       " 'logit_',\n",
       " 'logsumexp',\n",
       " 'long',\n",
       " 'lstsq',\n",
       " 'lt',\n",
       " 'lt_',\n",
       " 'lu',\n",
       " 'lu_solve',\n",
       " 'mH',\n",
       " 'mT',\n",
       " 'map2_',\n",
       " 'map_',\n",
       " 'masked_fill',\n",
       " 'masked_fill_',\n",
       " 'masked_scatter',\n",
       " 'masked_scatter_',\n",
       " 'masked_select',\n",
       " 'matmul',\n",
       " 'matrix_exp',\n",
       " 'matrix_power',\n",
       " 'max',\n",
       " 'maximum',\n",
       " 'mean',\n",
       " 'median',\n",
       " 'min',\n",
       " 'minimum',\n",
       " 'mm',\n",
       " 'mode',\n",
       " 'moveaxis',\n",
       " 'movedim',\n",
       " 'msort',\n",
       " 'mul',\n",
       " 'mul_',\n",
       " 'multinomial',\n",
       " 'multiply',\n",
       " 'multiply_',\n",
       " 'mv',\n",
       " 'mvlgamma',\n",
       " 'mvlgamma_',\n",
       " 'name',\n",
       " 'names',\n",
       " 'nan_to_num',\n",
       " 'nan_to_num_',\n",
       " 'nanmean',\n",
       " 'nanmedian',\n",
       " 'nanquantile',\n",
       " 'nansum',\n",
       " 'narrow',\n",
       " 'narrow_copy',\n",
       " 'nbytes',\n",
       " 'ndim',\n",
       " 'ndimension',\n",
       " 'ne',\n",
       " 'ne_',\n",
       " 'neg',\n",
       " 'neg_',\n",
       " 'negative',\n",
       " 'negative_',\n",
       " 'nelement',\n",
       " 'new',\n",
       " 'new_empty',\n",
       " 'new_empty_strided',\n",
       " 'new_full',\n",
       " 'new_ones',\n",
       " 'new_tensor',\n",
       " 'new_zeros',\n",
       " 'nextafter',\n",
       " 'nextafter_',\n",
       " 'nonzero',\n",
       " 'nonzero_static',\n",
       " 'norm',\n",
       " 'normal_',\n",
       " 'not_equal',\n",
       " 'not_equal_',\n",
       " 'numel',\n",
       " 'numpy',\n",
       " 'orgqr',\n",
       " 'ormqr',\n",
       " 'outer',\n",
       " 'output_nr',\n",
       " 'permute',\n",
       " 'pin_memory',\n",
       " 'pinverse',\n",
       " 'polygamma',\n",
       " 'polygamma_',\n",
       " 'positive',\n",
       " 'pow',\n",
       " 'pow_',\n",
       " 'prelu',\n",
       " 'prod',\n",
       " 'put',\n",
       " 'put_',\n",
       " 'q_per_channel_axis',\n",
       " 'q_per_channel_scales',\n",
       " 'q_per_channel_zero_points',\n",
       " 'q_scale',\n",
       " 'q_zero_point',\n",
       " 'qr',\n",
       " 'qscheme',\n",
       " 'quantile',\n",
       " 'rad2deg',\n",
       " 'rad2deg_',\n",
       " 'random_',\n",
       " 'ravel',\n",
       " 'real',\n",
       " 'reciprocal',\n",
       " 'reciprocal_',\n",
       " 'record_stream',\n",
       " 'refine_names',\n",
       " 'register_hook',\n",
       " 'register_post_accumulate_grad_hook',\n",
       " 'reinforce',\n",
       " 'relu',\n",
       " 'relu_',\n",
       " 'remainder',\n",
       " 'remainder_',\n",
       " 'rename',\n",
       " 'rename_',\n",
       " 'renorm',\n",
       " 'renorm_',\n",
       " 'repeat',\n",
       " 'repeat_interleave',\n",
       " 'requires_grad',\n",
       " 'requires_grad_',\n",
       " 'reshape',\n",
       " 'reshape_as',\n",
       " 'resize',\n",
       " 'resize_',\n",
       " 'resize_as',\n",
       " 'resize_as_',\n",
       " 'resize_as_sparse_',\n",
       " 'resolve_conj',\n",
       " 'resolve_neg',\n",
       " 'retain_grad',\n",
       " 'retains_grad',\n",
       " 'roll',\n",
       " 'rot90',\n",
       " 'round',\n",
       " 'round_',\n",
       " 'row_indices',\n",
       " 'rsqrt',\n",
       " 'rsqrt_',\n",
       " 'scatter',\n",
       " 'scatter_',\n",
       " 'scatter_add',\n",
       " 'scatter_add_',\n",
       " 'scatter_reduce',\n",
       " 'scatter_reduce_',\n",
       " 'select',\n",
       " 'select_scatter',\n",
       " 'set_',\n",
       " 'sgn',\n",
       " 'sgn_',\n",
       " 'shape',\n",
       " 'share_memory_',\n",
       " 'short',\n",
       " 'sigmoid',\n",
       " 'sigmoid_',\n",
       " 'sign',\n",
       " 'sign_',\n",
       " 'signbit',\n",
       " 'sin',\n",
       " 'sin_',\n",
       " 'sinc',\n",
       " 'sinc_',\n",
       " 'sinh',\n",
       " 'sinh_',\n",
       " 'size',\n",
       " 'slice_scatter',\n",
       " 'slogdet',\n",
       " 'smm',\n",
       " 'softmax',\n",
       " 'solve',\n",
       " 'sort',\n",
       " 'sparse_dim',\n",
       " 'sparse_mask',\n",
       " 'sparse_resize_',\n",
       " 'sparse_resize_and_clear_',\n",
       " 'split',\n",
       " 'split_with_sizes',\n",
       " 'sqrt',\n",
       " 'sqrt_',\n",
       " 'square',\n",
       " 'square_',\n",
       " 'squeeze',\n",
       " 'squeeze_',\n",
       " 'sspaddmm',\n",
       " 'std',\n",
       " 'stft',\n",
       " 'storage',\n",
       " 'storage_offset',\n",
       " 'storage_type',\n",
       " 'stride',\n",
       " 'sub',\n",
       " 'sub_',\n",
       " 'subtract',\n",
       " 'subtract_',\n",
       " 'sum',\n",
       " 'sum_to_size',\n",
       " 'svd',\n",
       " 'swapaxes',\n",
       " 'swapaxes_',\n",
       " 'swapdims',\n",
       " 'swapdims_',\n",
       " 'symeig',\n",
       " 't',\n",
       " 't_',\n",
       " 'take',\n",
       " 'take_along_dim',\n",
       " 'tan',\n",
       " 'tan_',\n",
       " 'tanh',\n",
       " 'tanh_',\n",
       " 'tensor_split',\n",
       " 'tile',\n",
       " 'to',\n",
       " 'to_dense',\n",
       " 'to_mkldnn',\n",
       " 'to_padded_tensor',\n",
       " 'to_sparse',\n",
       " 'to_sparse_bsc',\n",
       " 'to_sparse_bsr',\n",
       " 'to_sparse_coo',\n",
       " 'to_sparse_csc',\n",
       " 'to_sparse_csr',\n",
       " 'tolist',\n",
       " 'topk',\n",
       " 'trace',\n",
       " 'transpose',\n",
       " 'transpose_',\n",
       " 'triangular_solve',\n",
       " 'tril',\n",
       " 'tril_',\n",
       " 'triu',\n",
       " 'triu_',\n",
       " 'true_divide',\n",
       " 'true_divide_',\n",
       " 'trunc',\n",
       " 'trunc_',\n",
       " 'type',\n",
       " 'type_as',\n",
       " 'unbind',\n",
       " 'unflatten',\n",
       " 'unfold',\n",
       " 'uniform_',\n",
       " 'unique',\n",
       " 'unique_consecutive',\n",
       " 'unsafe_chunk',\n",
       " 'unsafe_split',\n",
       " 'unsafe_split_with_sizes',\n",
       " 'unsqueeze',\n",
       " 'unsqueeze_',\n",
       " 'untyped_storage',\n",
       " 'values',\n",
       " 'var',\n",
       " 'vdot',\n",
       " 'view',\n",
       " 'view_as',\n",
       " 'volatile',\n",
       " 'vsplit',\n",
       " 'where',\n",
       " 'xlogy',\n",
       " 'xlogy_',\n",
       " 'xpu',\n",
       " 'zero_']"
      ]
     },
     "execution_count": 367,
     "metadata": {},
     "output_type": "execute_result"
    }
   ],
   "source": [
    "# List of all available operations on tensors\n",
    "dir(torch.Tensor)"
   ]
  },
  {
   "cell_type": "markdown",
   "metadata": {},
   "source": [
    "## Auto gradient on Tensors"
   ]
  },
  {
   "cell_type": "code",
   "execution_count": 368,
   "metadata": {},
   "outputs": [
    {
     "name": "stdout",
     "output_type": "stream",
     "text": [
      "tensor([[1., 2.],\n",
      "        [3., 4.]], requires_grad=True)\n",
      "\n",
      "tensor([[2., 4.],\n",
      "        [6., 8.]])\n"
     ]
    }
   ],
   "source": [
    "# Create a tensor with a gradient\n",
    "x = torch.tensor([[1, 2], [3, 4]], dtype=torch.float32, requires_grad=True)\n",
    "print(x, end=\"\\n\\n\")\n",
    "\n",
    "# Define an output based on Sum(x^2)\n",
    "output = x.pow(2).sum()\n",
    "\n",
    "# Compute the gradient - Should be 2x\n",
    "output.backward()\n",
    "\n",
    "print(x.grad) # Gradient of the output with respect to x"
   ]
  },
  {
   "cell_type": "markdown",
   "metadata": {},
   "source": [
    "### Perform a dot product on CPU vs GPU"
   ]
  },
  {
   "cell_type": "code",
   "execution_count": 369,
   "metadata": {},
   "outputs": [
    {
     "name": "stdout",
     "output_type": "stream",
     "text": [
      "Running on: cpu\n",
      "7.02 ms ± 491 µs per loop (mean ± std. dev. of 7 runs, 100 loops each)\n",
      "14 ms ± 519 µs per loop (mean ± std. dev. of 7 runs, 100 loops each)\n"
     ]
    }
   ],
   "source": [
    "# Create random tensors\n",
    "x = torch.rand(1, 6400)\n",
    "y = torch.rand(6400, 5000)\n",
    "\n",
    "# Set device to GPU if available\n",
    "device = torch.device(\"cuda\" if torch.cuda.is_available() else \"cpu\")\n",
    "print(\"Running on:\", device)\n",
    "\n",
    "if device.type == \"cuda\":\n",
    "    # Move tensors to GPU\n",
    "    x, y = x.to(device), y.to(device)\n",
    "\n",
    "    # Perform matrix multiplication\n",
    "    %timeit z = x @ y\n",
    "\n",
    "# Move tensors back to CPU\n",
    "x, y = x.to(\"cpu\"), y.to(\"cpu\")\n",
    "\n",
    "# Perform matrix multiplication\n",
    "%timeit z = x @ y\n",
    "\n",
    "# Create random Numpy arrays\n",
    "x = np.random.rand(1, 6400)\n",
    "y = np.random.rand(6400, 5000)\n",
    "\n",
    "# Perform matrix multiplication\n",
    "%timeit z = x @ y"
   ]
  },
  {
   "cell_type": "markdown",
   "metadata": {},
   "source": [
    "### Neural Network Example"
   ]
  },
  {
   "cell_type": "code",
   "execution_count": 370,
   "metadata": {},
   "outputs": [],
   "source": [
    "# Create simple input and output for a simple sum operation\n",
    "x = [[1,2],[3,4],[5,6],[7,8]]\n",
    "y = [[3],[7],[11],[15]]\n",
    "\n",
    "# Convert to tensors\n",
    "x = torch.tensor(x, dtype=torch.float32)\n",
    "y = torch.tensor(y, dtype=torch.float32)\n",
    "\n",
    "# Move tensors to GPU if available\n",
    "device = torch.device(\"cuda\" if torch.cuda.is_available() else \"cpu\")\n",
    "x, y = x.to(device), y.to(device)"
   ]
  },
  {
   "cell_type": "code",
   "execution_count": 371,
   "metadata": {},
   "outputs": [],
   "source": [
    "# Define Neural Network architecture\n",
    "class MyNeuralNet(nn.Module):\n",
    "    def __init__(self):\n",
    "        super().__init__()\n",
    "        self.input_to_hidden_layer = nn.Linear(2, 8)\n",
    "        self.hidden_layer_activation = nn.ReLU()\n",
    "        self.hidden_to_output_layer = nn.Linear(8, 1)\n",
    "\n",
    "    def forward(self, x):\n",
    "        x = self.input_to_hidden_layer(x)\n",
    "        x = self.hidden_layer_activation(x)\n",
    "        x = self.hidden_to_output_layer(x)\n",
    "        return x"
   ]
  },
  {
   "cell_type": "code",
   "execution_count": 372,
   "metadata": {},
   "outputs": [
    {
     "name": "stdout",
     "output_type": "stream",
     "text": [
      "Architecture:\n",
      " MyNeuralNet(\n",
      "  (input_to_hidden_layer): Linear(in_features=2, out_features=8, bias=True)\n",
      "  (hidden_layer_activation): ReLU()\n",
      "  (hidden_to_output_layer): Linear(in_features=8, out_features=1, bias=True)\n",
      ")\n",
      "\n",
      "Initial weights:\n",
      " Parameter containing:\n",
      "tensor([[-0.0185, -0.2584],\n",
      "        [-0.3129, -0.1787],\n",
      "        [-0.1407, -0.3075],\n",
      "        [ 0.1217,  0.5616],\n",
      "        [ 0.6163, -0.0212],\n",
      "        [ 0.6037,  0.0130],\n",
      "        [-0.4287,  0.1444],\n",
      "        [ 0.4752, -0.6051]], requires_grad=True) \n",
      " Parameter containing:\n",
      "tensor([[-0.0375, -0.2868,  0.0039, -0.2987,  0.1353, -0.2881, -0.1616,  0.3328]],\n",
      "       requires_grad=True)\n"
     ]
    }
   ],
   "source": [
    "# Create instance of Neural Network\n",
    "mynet = MyNeuralNet().to(device)\n",
    "\n",
    "# Print Neural Network architecture and initial weights\n",
    "print(\"Architecture:\\n\", mynet, end=\"\\n\\n\")\n",
    "print(\"Initial weights:\\n\", mynet.input_to_hidden_layer.weight, \"\\n\", mynet.hidden_to_output_layer.weight)"
   ]
  },
  {
   "cell_type": "code",
   "execution_count": 373,
   "metadata": {},
   "outputs": [
    {
     "name": "stdout",
     "output_type": "stream",
     "text": [
      "Loss: MSELoss()\n",
      "\n",
      "Optimizer: SGD (\n",
      "Parameter Group 0\n",
      "    dampening: 0\n",
      "    differentiable: False\n",
      "    foreach: None\n",
      "    lr: 0.001\n",
      "    maximize: False\n",
      "    momentum: 0\n",
      "    nesterov: False\n",
      "    weight_decay: 0\n",
      ")\n"
     ]
    }
   ],
   "source": [
    "# Define loss function and optimizer\n",
    "loss_fn = nn.MSELoss()\n",
    "optimizer = SGD(mynet.parameters(), lr=0.001)\n",
    "\n",
    "# Print loss and optimizer details\n",
    "print(\"Loss:\", loss_fn, end=\"\\n\\n\")\n",
    "print(\"Optimizer:\", optimizer)"
   ]
  },
  {
   "cell_type": "code",
   "execution_count": 374,
   "metadata": {},
   "outputs": [
    {
     "data": {
      "image/png": "[encoded data removed]",
      "text/plain": [
       "<Figure size 640x480 with 1 Axes>"
      ]
     },
     "metadata": {},
     "output_type": "display_data"
    },
    {
     "name": "stdout",
     "output_type": "stream",
     "text": [
      "Final loss: tensor(0.0393, grad_fn=<MseLossBackward0>)\n",
      "\n"
     ]
    }
   ],
   "source": [
    "# Perform training loop\n",
    "history = []\n",
    "epochs = 50\n",
    "\n",
    "for _ in range(epochs):\n",
    "    # Forward pass\n",
    "    loss = loss_fn(mynet(x), y)\n",
    "\n",
    "    # Backward pass\n",
    "    optimizer.zero_grad()\n",
    "    loss.backward()\n",
    "    optimizer.step()\n",
    "\n",
    "    # Save loss\n",
    "    history.append(loss.item())\n",
    "\n",
    "# Plot loss history and print final loss\n",
    "%matplotlib inline\n",
    "plt.plot(history)\n",
    "plt.xlabel(\"Epoch\")\n",
    "plt.ylabel(\"Loss\")\n",
    "plt.title(\"Loss History\")\n",
    "plt.show()\n",
    "print(\"Final loss:\", loss, end=\"\\n\\n\")"
   ]
  },
  {
   "cell_type": "markdown",
   "metadata": {},
   "source": [
    "## DataLoader and Batch Size"
   ]
  },
  {
   "cell_type": "code",
   "execution_count": 375,
   "metadata": {},
   "outputs": [],
   "source": [
    "# Create a simple dataset\n",
    "x = torch.tensor([[1, 2], [3, 4], [5, 6], [7, 8]], dtype=torch.float32)\n",
    "y = torch.tensor([[3], [7], [11], [15]], dtype=torch.float32)\n",
    "\n",
    "# Move tensors to GPU if available\n",
    "device = torch.device(\"cuda\" if torch.cuda.is_available() else \"cpu\")\n",
    "x, y = x.to(device), y.to(device)"
   ]
  },
  {
   "cell_type": "code",
   "execution_count": 376,
   "metadata": {},
   "outputs": [],
   "source": [
    "# Create a Dataset class\n",
    "class MyDataset(Dataset):\n",
    "    def __init__(self, x, y):\n",
    "        self.x = x\n",
    "        self.y = y\n",
    "\n",
    "    def __getitem__(self, idx):\n",
    "        return self.x[idx], self.y[idx]\n",
    "\n",
    "    def __len__(self):\n",
    "        return len(self.x)"
   ]
  },
  {
   "cell_type": "code",
   "execution_count": 377,
   "metadata": {},
   "outputs": [],
   "source": [
    "# Create instance of Dataset\n",
    "dataset = MyDataset(x, y)\n",
    "\n",
    "# Create DataLoader instance\n",
    "data_loader = DataLoader(dataset, batch_size=2, shuffle=True)\n",
    "\n",
    "# Create instance of Neural Network\n",
    "mynet = MyNeuralNet().to(device)\n",
    "\n",
    "# Define loss function and optimizer\n",
    "loss_fn = nn.MSELoss()\n",
    "optimizer = SGD(mynet.parameters(), lr=0.001)"
   ]
  },
  {
   "cell_type": "code",
   "execution_count": 378,
   "metadata": {},
   "outputs": [
    {
     "name": "stdout",
     "output_type": "stream",
     "text": [
      "Time taken: 0.05776095390319824 seconds\n"
     ]
    },
    {
     "data": {
      "image/png": "[encoded data removed]",
      "text/plain": [
       "<Figure size 640x480 with 1 Axes>"
      ]
     },
     "metadata": {},
     "output_type": "display_data"
    }
   ],
   "source": [
    "# Perform training loop\n",
    "history = []\n",
    "epochs = 50\n",
    "start = time.time()\n",
    "\n",
    "for _ in range(epochs):\n",
    "    for x_batch, y_batch in data_loader:\n",
    "        # Forward pass\n",
    "        loss = loss_fn(mynet(x_batch), y_batch)\n",
    "\n",
    "        # Backward pass\n",
    "        optimizer.zero_grad()\n",
    "        loss.backward()\n",
    "        optimizer.step()\n",
    "\n",
    "        # Save loss\n",
    "        history.append(loss.item())\n",
    "\n",
    "end = time.time()\n",
    "print(\"Time taken:\", end - start, \"seconds\")\n",
    "\n",
    "# Plot loss history and print final loss\n",
    "plt.plot(history)\n",
    "plt.xlabel(\"Iteration\")\n",
    "plt.ylabel(\"Loss\")\n",
    "plt.title(\"Loss History\")\n",
    "plt.show()"
   ]
  },
  {
   "cell_type": "code",
   "execution_count": 379,
   "metadata": {},
   "outputs": [
    {
     "name": "stdout",
     "output_type": "stream",
     "text": [
      "Inference result: 20.29881477355957\n"
     ]
    }
   ],
   "source": [
    "# Create validation dataset to test the model\n",
    "x_val = torch.tensor([[10,11]], dtype=torch.float32)\n",
    "\n",
    "# Move tensors to GPU if available\n",
    "x_val = x_val.to(device)\n",
    "\n",
    "# Perform inference\n",
    "mynet.eval()\n",
    "with torch.no_grad():\n",
    "    y_val = mynet(x_val)\n",
    "\n",
    "print(\"Inference result:\", y_val.item())"
   ]
  },
  {
   "cell_type": "markdown",
   "metadata": {},
   "source": [
    "## Custom Loss Function"
   ]
  },
  {
   "cell_type": "code",
   "execution_count": 380,
   "metadata": {},
   "outputs": [],
   "source": [
    "# Create a simple dataset\n",
    "x = torch.tensor([[1, 2], [3, 4], [5, 6], [7, 8]], dtype=torch.float32)\n",
    "y = torch.tensor([[3], [7], [11], [15]], dtype=torch.float32)\n",
    "\n",
    "# Move tensors to GPU if available\n",
    "device = torch.device(\"cuda\" if torch.cuda.is_available() else \"cpu\")\n",
    "x, y = x.to(device), y.to(device)\n",
    "\n",
    "# Create instance of Dataset\n",
    "dataset = MyDataset(x, y)\n",
    "\n",
    "# Create DataLoader instance\n",
    "data_loader = DataLoader(dataset, batch_size=2, shuffle=True)\n",
    "\n",
    "# Create instance of Neural Network\n",
    "mynet = MyNeuralNet().to(device)"
   ]
  },
  {
   "cell_type": "code",
   "execution_count": 381,
   "metadata": {},
   "outputs": [],
   "source": [
    "# Create custom loss function\n",
    "def custom_MSE(y_pred, y_true):\n",
    "    return ((y_pred - y_true) ** 2).mean()\n",
    "\n",
    "# Define loss function and optimizer\n",
    "loss_fn = custom_MSE\n",
    "optimizer = SGD(mynet.parameters(), lr=0.001)"
   ]
  },
  {
   "cell_type": "code",
   "execution_count": 382,
   "metadata": {},
   "outputs": [
    {
     "name": "stdout",
     "output_type": "stream",
     "text": [
      "Time taken: 0.05312919616699219 seconds\n"
     ]
    },
    {
     "data": {
      "image/png": "[encoded data removed]",
      "text/plain": [
       "<Figure size 640x480 with 1 Axes>"
      ]
     },
     "metadata": {},
     "output_type": "display_data"
    }
   ],
   "source": [
    "# Perform training loop\n",
    "history = []\n",
    "epochs = 50\n",
    "start = time.time()\n",
    "\n",
    "for _ in range(epochs):\n",
    "    for x_batch, y_batch in data_loader:\n",
    "        # Forward pass\n",
    "        loss = loss_fn(mynet(x_batch), y_batch)\n",
    "\n",
    "        # Backward pass\n",
    "        optimizer.zero_grad()\n",
    "        loss.backward()\n",
    "        optimizer.step()\n",
    "\n",
    "        # Save loss\n",
    "        history.append(loss.item())\n",
    "\n",
    "end = time.time()\n",
    "print(\"Time taken:\", end - start, \"seconds\")\n",
    "\n",
    "# Plot loss history and print final loss\n",
    "plt.plot(history)\n",
    "plt.xlabel(\"Iteration\")\n",
    "plt.ylabel(\"Loss\")\n",
    "plt.title(\"Loss History\")\n",
    "plt.show()"
   ]
  },
  {
   "cell_type": "markdown",
   "metadata": {},
   "source": [
    "## Fetching values of intermediate layers"
   ]
  },
  {
   "cell_type": "markdown",
   "metadata": {},
   "source": [
    "### Getting intermediate values directly calling layers as functions"
   ]
  },
  {
   "cell_type": "code",
   "execution_count": 383,
   "metadata": {},
   "outputs": [
    {
     "name": "stdout",
     "output_type": "stream",
     "text": [
      "Hidden layer activation output:\n",
      " tensor([[ 0.0000,  0.0000,  2.4253,  0.0000,  1.2227,  0.0000,  0.0000,  0.0000],\n",
      "        [ 0.0000,  0.0000,  5.2149,  0.0000,  3.0014,  0.0000,  0.0000,  0.0000],\n",
      "        [ 0.0000,  0.0000,  8.0044,  0.0000,  4.7800,  0.0000,  0.0000,  0.0000],\n",
      "        [ 0.0000,  0.0000, 10.7940,  0.0000,  6.5586,  0.0000,  0.0000,  0.0000]],\n",
      "       grad_fn=<ReluBackward0>)\n"
     ]
    }
   ],
   "source": [
    "# Get intermediate layer output from the Neural Network\n",
    "input_to_hidden_layer_output = mynet.input_to_hidden_layer(x)\n",
    "hidden_layer_activation_output = mynet.hidden_layer_activation(input_to_hidden_layer_output)\n",
    "\n",
    "print(\"Hidden layer activation output:\\n\", hidden_layer_activation_output)"
   ]
  },
  {
   "cell_type": "markdown",
   "metadata": {},
   "source": [
    "### Getting intermediate values by returning them on the forward pass"
   ]
  },
  {
   "cell_type": "code",
   "execution_count": 384,
   "metadata": {},
   "outputs": [],
   "source": [
    "# Redifine Neural Network architecture to include intermediate layer output\n",
    "class MyNeuralNet(nn.Module):\n",
    "    def __init__(self):\n",
    "        super().__init__()\n",
    "        self.input_to_hidden_layer = nn.Linear(2, 8)\n",
    "        self.hidden_layer_activation = nn.ReLU()\n",
    "        self.hidden_to_output_layer = nn.Linear(8, 1)\n",
    "\n",
    "    def forward(self, x):\n",
    "        hidden1 = self.input_to_hidden_layer(x)\n",
    "        hidden2 = self.hidden_layer_activation(hidden1)\n",
    "        return self.hidden_to_output_layer(hidden2), hidden2"
   ]
  },
  {
   "cell_type": "code",
   "execution_count": 385,
   "metadata": {},
   "outputs": [
    {
     "name": "stdout",
     "output_type": "stream",
     "text": [
      "Hidden layer output:\n",
      " tensor([[0.0000, 0.8545, 0.7394, 0.6401, 0.0000, 0.0000, 0.7552, 0.0000],\n",
      "        [0.3198, 1.5657, 2.1703, 1.3385, 0.0000, 0.0000, 0.7971, 0.0000],\n",
      "        [0.6990, 2.2770, 3.6012, 2.0368, 0.0000, 0.0000, 0.8390, 0.0000],\n",
      "        [1.0783, 2.9882, 5.0321, 2.7352, 0.0000, 0.0000, 0.8808, 0.0000]],\n",
      "       grad_fn=<ReluBackward0>)\n"
     ]
    }
   ],
   "source": [
    "# Create instance of Neural Network\n",
    "mynet = MyNeuralNet().to(device)\n",
    "\n",
    "# Access the intermediate layer output\n",
    "hidden_layer_output = mynet(x)[1]\n",
    "\n",
    "print(\"Hidden layer output:\\n\", hidden_layer_output)"
   ]
  },
  {
   "cell_type": "markdown",
   "metadata": {},
   "source": [
    "## Building a sequential Neural Network"
   ]
  },
  {
   "cell_type": "code",
   "execution_count": 386,
   "metadata": {},
   "outputs": [],
   "source": [
    "# Create a simple dataset\n",
    "x = torch.tensor([[1, 2], [3, 4], [5, 6], [7, 8]], dtype=torch.float32)\n",
    "y = torch.tensor([[3], [7], [11], [15]], dtype=torch.float32)\n",
    "\n",
    "# Move tensors to GPU if available\n",
    "device = torch.device(\"cuda\" if torch.cuda.is_available() else \"cpu\")\n",
    "x, y = x.to(device), y.to(device)\n",
    "\n",
    "# Create instance of Dataset\n",
    "dataset = MyDataset(x, y)\n",
    "\n",
    "# Create DataLoader instance\n",
    "data_loader = DataLoader(dataset, batch_size=2, shuffle=True)"
   ]
  },
  {
   "cell_type": "code",
   "execution_count": 387,
   "metadata": {},
   "outputs": [
    {
     "name": "stdout",
     "output_type": "stream",
     "text": [
      "----------------------------------------------------------------\n",
      "        Layer (type)               Output Shape         Param #\n",
      "================================================================\n",
      "            Linear-1                    [-1, 8]              24\n",
      "              ReLU-2                    [-1, 8]               0\n",
      "            Linear-3                    [-1, 1]               9\n",
      "================================================================\n",
      "Total params: 33\n",
      "Trainable params: 33\n",
      "Non-trainable params: 0\n",
      "----------------------------------------------------------------\n",
      "Input size (MB): 0.00\n",
      "Forward/backward pass size (MB): 0.00\n",
      "Params size (MB): 0.00\n",
      "Estimated Total Size (MB): 0.00\n",
      "----------------------------------------------------------------\n"
     ]
    }
   ],
   "source": [
    "# Define Neural Network architecture using Sequential\n",
    "mynet = nn.Sequential(\n",
    "    nn.Linear(2, 8),\n",
    "    nn.ReLU(),\n",
    "    nn.Linear(8, 1)\n",
    ").to(device)\n",
    "\n",
    "# Print summary of Neural Network architecture\n",
    "summary(mynet, input_size=(2,))"
   ]
  },
  {
   "cell_type": "code",
   "execution_count": 388,
   "metadata": {},
   "outputs": [],
   "source": [
    "# Define loss function and optimizer\n",
    "loss_fn = nn.MSELoss()\n",
    "optimizer = SGD(mynet.parameters(), lr=0.001)"
   ]
  },
  {
   "cell_type": "code",
   "execution_count": 389,
   "metadata": {},
   "outputs": [
    {
     "name": "stdout",
     "output_type": "stream",
     "text": [
      "Time taken: 0.05411195755004883 seconds\n"
     ]
    },
    {
     "data": {
      "image/png": "[encoded data removed]",
      "text/plain": [
       "<Figure size 640x480 with 1 Axes>"
      ]
     },
     "metadata": {},
     "output_type": "display_data"
    }
   ],
   "source": [
    "# Perform training loop\n",
    "history = []\n",
    "epochs = 50\n",
    "start = time.time()\n",
    "\n",
    "for _ in range(epochs):\n",
    "    for x_batch, y_batch in data_loader:\n",
    "        # Forward pass\n",
    "        loss = loss_fn(mynet(x_batch), y_batch)\n",
    "\n",
    "        # Backward pass\n",
    "        optimizer.zero_grad()\n",
    "        loss.backward()\n",
    "        optimizer.step()\n",
    "\n",
    "        # Save loss\n",
    "        history.append(loss.item())\n",
    "\n",
    "end = time.time()\n",
    "print(\"Time taken:\", end - start, \"seconds\")\n",
    "\n",
    "# Plot loss history and print final loss\n",
    "plt.plot(history)\n",
    "plt.xlabel(\"Iteration\")\n",
    "plt.ylabel(\"Loss\")\n",
    "plt.title(\"Loss History\")\n",
    "plt.show()"
   ]
  },
  {
   "cell_type": "code",
   "execution_count": 390,
   "metadata": {},
   "outputs": [
    {
     "name": "stdout",
     "output_type": "stream",
     "text": [
      "Inference results:\n",
      " tensor([[16.8662],\n",
      "        [20.7752],\n",
      "        [ 4.1621]])\n"
     ]
    }
   ],
   "source": [
    "# Create validation dataset to test the model\n",
    "x_val = torch.tensor([[8,9], [10,11], [1.5,2.5]], dtype=torch.float32)\n",
    "# Move tensors to GPU if available\n",
    "x_val = x_val.to(device)\n",
    "\n",
    "# Perform inference\n",
    "mynet.eval()\n",
    "with torch.no_grad():\n",
    "    y_val = mynet(x_val)\n",
    "\n",
    "print(\"Inference results:\\n\", y_val)"
   ]
  },
  {
   "cell_type": "markdown",
   "metadata": {},
   "source": [
    "## Saving and loading a PyTorch model"
   ]
  },
  {
   "cell_type": "markdown",
   "metadata": {},
   "source": [
    "State dict contains a snapshot of the model's state (weights and biases)"
   ]
  },
  {
   "cell_type": "code",
   "execution_count": 391,
   "metadata": {},
   "outputs": [
    {
     "name": "stdout",
     "output_type": "stream",
     "text": [
      "State dict:\n",
      " OrderedDict([('0.weight', tensor([[-0.6587,  0.1696],\n",
      "        [ 0.8776,  0.0664],\n",
      "        [-0.6996, -0.3557],\n",
      "        [ 0.3298,  0.8922],\n",
      "        [ 0.4643,  0.4190],\n",
      "        [-0.2329,  0.6310],\n",
      "        [-0.2409,  0.2260],\n",
      "        [-0.3763,  0.5140]])), ('0.bias', tensor([-0.3985,  0.0694,  0.6484, -0.3992,  0.6130, -0.4971,  0.0151,  0.3190])), ('2.weight', tensor([[-0.2849,  0.6276, -0.2188,  0.7802,  0.3093,  0.3532,  0.1982, -0.0167]])), ('2.bias', tensor([0.3601]))])\n"
     ]
    }
   ],
   "source": [
    "# Print Neural Network state_dict\n",
    "print(\"State dict:\\n\", mynet.state_dict())"
   ]
  },
  {
   "cell_type": "markdown",
   "metadata": {},
   "source": [
    "### Saving"
   ]
  },
  {
   "cell_type": "code",
   "execution_count": 392,
   "metadata": {},
   "outputs": [],
   "source": [
    "# Save Neural Network state_dict to file (move to CPU)\n",
    "torch.save(mynet.to(\"cpu\").state_dict(), \"mynet.pth\")"
   ]
  },
  {
   "cell_type": "markdown",
   "metadata": {},
   "source": [
    "### Loading"
   ]
  },
  {
   "cell_type": "code",
   "execution_count": 393,
   "metadata": {},
   "outputs": [
    {
     "data": {
      "text/plain": [
       "<All keys matched successfully>"
      ]
     },
     "execution_count": 393,
     "metadata": {},
     "output_type": "execute_result"
    }
   ],
   "source": [
    "# Create empty Neural Network instance\n",
    "mynet2 = nn.Sequential(\n",
    "    nn.Linear(2, 8),\n",
    "    nn.ReLU(),\n",
    "    nn.Linear(8, 1)\n",
    ")\n",
    "\n",
    "# Load Neural Network state_dict from file\n",
    "mynet2.load_state_dict(torch.load(\"mynet.pth\"))"
   ]
  },
  {
   "cell_type": "code",
   "execution_count": 394,
   "metadata": {},
   "outputs": [
    {
     "name": "stdout",
     "output_type": "stream",
     "text": [
      "Inference results:\n",
      " tensor([[16.8662],\n",
      "        [20.7752],\n",
      "        [ 4.1621]])\n"
     ]
    }
   ],
   "source": [
    "# Move Neural Network to GPU if available\n",
    "mynet2.to(device)\n",
    "\n",
    "# Perform inference\n",
    "mynet2.eval()\n",
    "with torch.no_grad():\n",
    "    y_val = mynet2(x_val)\n",
    "\n",
    "print(\"Inference results:\\n\", y_val)"
   ]
  }
 ],
 "metadata": {
  "kernelspec": {
   "display_name": "Python 3",
   "language": "python",
   "name": "python3"
  },
  "language_info": {
   "codemirror_mode": {
    "name": "ipython",
    "version": 3
   },
   "file_extension": ".py",
   "mimetype": "text/x-python",
   "name": "python",
   "nbconvert_exporter": "python",
   "pygments_lexer": "ipython3",
   "version": "3.11.5"
  }
 },
 "nbformat": 4,
 "nbformat_minor": 2
}
