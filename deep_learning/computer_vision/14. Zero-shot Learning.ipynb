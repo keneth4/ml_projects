{
  "cells": [
    {
      "cell_type": "markdown",
      "metadata": {
        "id": "o-CsWKbv8siK"
      },
      "source": [
        "# Zero-shot learning"
      ]
    },
    {
      "cell_type": "markdown",
      "metadata": {
        "id": "3HJaO8lV8siN"
      },
      "source": [
        "## Initialization"
      ]
    },
    {
      "cell_type": "code",
      "execution_count": 1,
      "metadata": {
        "colab": {
          "base_uri": "https://localhost:8080/"
        },
        "id": "y84Kmwgq8siN",
        "outputId": "acac4588-4d31-4b46-c88e-760903b548fb"
      },
      "outputs": [
        {
          "name": "stdout",
          "output_type": "stream",
          "text": [
            "\u001b[?25l     \u001b[90m━━━━━━━━━━━━━━━━━━━━━━━━━━━━━━━━━━━━━━━━\u001b[0m \u001b[32m0.0/79.8 kB\u001b[0m \u001b[31m?\u001b[0m eta \u001b[36m-:--:--\u001b[0m\r\u001b[2K     \u001b[91m━━━━━━━━━━━━━━━\u001b[0m\u001b[90m╺\u001b[0m\u001b[90m━━━━━━━━━━━━━━━━━━━━━━━━\u001b[0m \u001b[32m30.7/79.8 kB\u001b[0m \u001b[31m1.1 MB/s\u001b[0m eta \u001b[36m0:00:01\u001b[0m\r\u001b[2K     \u001b[90m━━━━━━━━━━━━━━━━━━━━━━━━━━━━━━━━━━━━━━━━\u001b[0m \u001b[32m79.8/79.8 kB\u001b[0m \u001b[31m1.1 MB/s\u001b[0m eta \u001b[36m0:00:00\u001b[0m\n",
            "\u001b[2K     \u001b[90m━━━━━━━━━━━━━━━━━━━━━━━━━━━━━━━━━━━━━━━━\u001b[0m \u001b[32m116.3/116.3 kB\u001b[0m \u001b[31m5.9 MB/s\u001b[0m eta \u001b[36m0:00:00\u001b[0m\n",
            "\u001b[2K     \u001b[90m━━━━━━━━━━━━━━━━━━━━━━━━━━━━━━━━━━━━━━━━\u001b[0m \u001b[32m62.5/62.5 kB\u001b[0m \u001b[31m6.8 MB/s\u001b[0m eta \u001b[36m0:00:00\u001b[0m\n",
            "\u001b[2K     \u001b[90m━━━━━━━━━━━━━━━━━━━━━━━━━━━━━━━━━━━━━━━━\u001b[0m \u001b[32m78.6/78.6 kB\u001b[0m \u001b[31m8.6 MB/s\u001b[0m eta \u001b[36m0:00:00\u001b[0m\n",
            "\u001b[?25h  Preparing metadata (setup.py) ... \u001b[?25l\u001b[?25hdone\n",
            "\u001b[2K     \u001b[90m━━━━━━━━━━━━━━━━━━━━━━━━━━━━━━━━━━━━━━━━\u001b[0m \u001b[32m204.2/204.2 kB\u001b[0m \u001b[31m10.3 MB/s\u001b[0m eta \u001b[36m0:00:00\u001b[0m\n",
            "\u001b[2K     \u001b[90m━━━━━━━━━━━━━━━━━━━━━━━━━━━━━━━━━━━━━━━━\u001b[0m \u001b[32m3.9/3.9 MB\u001b[0m \u001b[31m28.4 MB/s\u001b[0m eta \u001b[36m0:00:00\u001b[0m\n",
            "\u001b[2K     \u001b[90m━━━━━━━━━━━━━━━━━━━━━━━━━━━━━━━━━━━━━━━━\u001b[0m \u001b[32m1.6/1.6 MB\u001b[0m \u001b[31m19.1 MB/s\u001b[0m eta \u001b[36m0:00:00\u001b[0m\n",
            "\u001b[2K     \u001b[90m━━━━━━━━━━━━━━━━━━━━━━━━━━━━━━━━━━━━━━━━\u001b[0m \u001b[32m98.9/98.9 kB\u001b[0m \u001b[31m10.7 MB/s\u001b[0m eta \u001b[36m0:00:00\u001b[0m\n",
            "\u001b[2K     \u001b[90m━━━━━━━━━━━━━━━━━━━━━━━━━━━━━━━━━━━━━━━━\u001b[0m \u001b[32m3.8/3.8 MB\u001b[0m \u001b[31m41.1 MB/s\u001b[0m eta \u001b[36m0:00:00\u001b[0m\n",
            "\u001b[2K     \u001b[90m━━━━━━━━━━━━━━━━━━━━━━━━━━━━━━━━━━━━━━━━\u001b[0m \u001b[32m30.8/30.8 MB\u001b[0m \u001b[31m20.4 MB/s\u001b[0m eta \u001b[36m0:00:00\u001b[0m\n",
            "\u001b[2K     \u001b[90m━━━━━━━━━━━━━━━━━━━━━━━━━━━━━━━━━━━━━━━━\u001b[0m \u001b[32m177.4/177.4 kB\u001b[0m \u001b[31m17.3 MB/s\u001b[0m eta \u001b[36m0:00:00\u001b[0m\n",
            "\u001b[2K     \u001b[90m━━━━━━━━━━━━━━━━━━━━━━━━━━━━━━━━━━━━━━━━\u001b[0m \u001b[32m3.4/3.4 MB\u001b[0m \u001b[31m21.0 MB/s\u001b[0m eta \u001b[36m0:00:00\u001b[0m\n",
            "\u001b[2K     \u001b[90m━━━━━━━━━━━━━━━━━━━━━━━━━━━━━━━━━━━━━━━━\u001b[0m \u001b[32m468.9/468.9 kB\u001b[0m \u001b[31m21.4 MB/s\u001b[0m eta \u001b[36m0:00:00\u001b[0m\n",
            "\u001b[?25h  Building wheel for typing (setup.py) ... \u001b[?25l\u001b[?25hdone\n"
          ]
        }
      ],
      "source": [
        "# Install required libraries\n",
        "!pip install -q torch_snippets"
      ]
    },
    {
      "cell_type": "code",
      "execution_count": 2,
      "metadata": {
        "colab": {
          "base_uri": "https://localhost:8080/",
          "height": 401
        },
        "id": "gkJuuCOu8siP",
        "outputId": "28e4b813-14ff-41ef-c2ee-1be5f03815ae"
      },
      "outputs": [
        {
          "data": {
            "text/html": [
              "<pre style=\"white-space:pre;overflow-x:auto;line-height:normal;font-family:Menlo,'DejaVu Sans Mono',consolas,'Courier New',monospace\">PyTorch Version: <span style=\"color: #008080; text-decoration-color: #008080; font-weight: bold\">2.2</span>.<span style=\"color: #008080; text-decoration-color: #008080; font-weight: bold\">1</span>+cu121\n",
              "</pre>\n"
            ],
            "text/plain": [
              "PyTorch Version: \u001b[1;36m2.2\u001b[0m.\u001b[1;36m1\u001b[0m+cu121\n"
            ]
          },
          "metadata": {},
          "output_type": "display_data"
        },
        {
          "name": "stdout",
          "output_type": "stream",
          "text": [
            "Thu Apr 11 01:19:57 2024       \n",
            "+---------------------------------------------------------------------------------------+\n",
            "| NVIDIA-SMI 535.104.05             Driver Version: 535.104.05   CUDA Version: 12.2     |\n",
            "|-----------------------------------------+----------------------+----------------------+\n",
            "| GPU  Name                 Persistence-M | Bus-Id        Disp.A | Volatile Uncorr. ECC |\n",
            "| Fan  Temp   Perf          Pwr:Usage/Cap |         Memory-Usage | GPU-Util  Compute M. |\n",
            "|                                         |                      |               MIG M. |\n",
            "|=========================================+======================+======================|\n",
            "|   0  Tesla T4                       Off | 00000000:00:04.0 Off |                    0 |\n",
            "| N/A   38C    P8              10W /  70W |      3MiB / 15360MiB |      0%      Default |\n",
            "|                                         |                      |                  N/A |\n",
            "+-----------------------------------------+----------------------+----------------------+\n",
            "                                                                                         \n",
            "+---------------------------------------------------------------------------------------+\n",
            "| Processes:                                                                            |\n",
            "|  GPU   GI   CI        PID   Type   Process name                            GPU Memory |\n",
            "|        ID   ID                                                             Usage      |\n",
            "|=======================================================================================|\n",
            "|  No running processes found                                                           |\n",
            "+---------------------------------------------------------------------------------------+\n"
          ]
        }
      ],
      "source": [
        "# Import libraries\n",
        "import os\n",
        "import numpy as np\n",
        "\n",
        "import gzip\n",
        "import _pickle as cPickle\n",
        "\n",
        "import torch\n",
        "from torch import nn, optim\n",
        "from torch.utils.data import DataLoader\n",
        "from torch.utils.data import TensorDataset\n",
        "from sklearn.preprocessing import normalize\n",
        "from torch_snippets import *\n",
        "\n",
        "print(f\"PyTorch Version: {torch.__version__}\")\n",
        "!nvidia-smi # check if GPU is available\n",
        "%matplotlib inline"
      ]
    },
    {
      "cell_type": "code",
      "execution_count": 3,
      "metadata": {
        "colab": {
          "base_uri": "https://localhost:8080/",
          "height": 34
        },
        "id": "PVXJ4Ce58siP",
        "outputId": "c3f6cd33-c71a-4b00-ed62-3c9dc776331d"
      },
      "outputs": [
        {
          "data": {
            "text/html": [
              "<pre style=\"white-space:pre;overflow-x:auto;line-height:normal;font-family:Menlo,'DejaVu Sans Mono',consolas,'Courier New',monospace\">Running on: cuda\n",
              "</pre>\n"
            ],
            "text/plain": [
              "Running on: cuda\n"
            ]
          },
          "metadata": {},
          "output_type": "display_data"
        }
      ],
      "source": [
        "# Set device to GPU if available\n",
        "device = torch.device(\"cuda\" if torch.cuda.is_available() else \"cpu\")\n",
        "print(\"Running on:\", device)"
      ]
    },
    {
      "cell_type": "code",
      "execution_count": 4,
      "metadata": {
        "colab": {
          "base_uri": "https://localhost:8080/"
        },
        "id": "X6-Dpopnu7R4",
        "outputId": "25b9cfd4-37ef-46ed-eefc-00a0f95af76f"
      },
      "outputs": [
        {
          "name": "stdout",
          "output_type": "stream",
          "text": [
            "Cloning into 'zero-shot-learning'...\n",
            "remote: Enumerating objects: 102, done.\u001b[K\n",
            "remote: Counting objects: 100% (23/23), done.\u001b[K\n",
            "remote: Compressing objects: 100% (4/4), done.\u001b[K\n",
            "remote: Total 102 (delta 20), reused 19 (delta 19), pack-reused 79\u001b[K\n",
            "Receiving objects: 100% (102/102), 134.47 MiB | 22.45 MiB/s, done.\n",
            "Resolving deltas: 100% (45/45), done.\n",
            "/content/zero-shot-learning/src\n"
          ]
        }
      ],
      "source": [
        "# Clone the repository for Zero-Shot Learning\n",
        "!git clone https://github.com/sizhky/zero-shot-learning/\n",
        "%cd zero-shot-learning/src"
      ]
    },
    {
      "cell_type": "code",
      "execution_count": 5,
      "metadata": {
        "id": "UKf-orPVu7R4"
      },
      "outputs": [],
      "source": [
        "# Retrieve the list of classes\n",
        "with open('train_classes.txt', 'r') as infile:\n",
        "    train_classes = [str.strip(line) for line in infile]"
      ]
    },
    {
      "cell_type": "code",
      "execution_count": 6,
      "metadata": {
        "id": "cbkLDj2Hu7R5"
      },
      "outputs": [],
      "source": [
        "# Define the paths to word embeddings and the features data\n",
        "word2vec_path = \"../data/class_vectors.npy\"\n",
        "data_path = \"../data/zeroshot_data.pkl\""
      ]
    },
    {
      "cell_type": "code",
      "execution_count": 7,
      "metadata": {
        "id": "ZsnQ6P9ou7R5"
      },
      "outputs": [],
      "source": [
        "# Load the features vectors\n",
        "with gzip.GzipFile(data_path, 'rb') as infile:\n",
        "    data = cPickle.load(infile)"
      ]
    },
    {
      "cell_type": "code",
      "execution_count": 10,
      "metadata": {
        "id": "Q0EDlM8Wu7R6"
      },
      "outputs": [],
      "source": [
        "# Define the training and zero-shot data\n",
        "training_data = [instance for instance in data if instance[0] in train_classes]\n",
        "zero_shot_data = [instance for instance in data if instance[0] not in train_classes]\n",
        "\n",
        "# Shuffle the training data\n",
        "np.random.shuffle(training_data)"
      ]
    },
    {
      "cell_type": "code",
      "execution_count": 11,
      "metadata": {
        "id": "FPINB5Odu7R6"
      },
      "outputs": [],
      "source": [
        "# Split the training data into training and validation sets (300 samples per class for training)\n",
        "train_data, valid_data = [], []\n",
        "for class_label in train_classes:\n",
        "    ctr = 0\n",
        "    for instance in training_data:\n",
        "        if instance[0] == class_label:\n",
        "            if ctr < 300: # 300 samples per class\n",
        "                train_data.append(instance)\n",
        "                ctr += 1\n",
        "            else:\n",
        "                valid_data.append(instance)"
      ]
    },
    {
      "cell_type": "code",
      "execution_count": 12,
      "metadata": {
        "id": "T8xZHA1qu7R7"
      },
      "outputs": [],
      "source": [
        "# Shuffle the training and validation data\n",
        "np.random.shuffle(train_data)\n",
        "np.random.shuffle(valid_data)\n",
        "\n",
        "# Obtain the vectors corresponding to the class labels\n",
        "vectors = dict(np.load(word2vec_path, allow_pickle=True))"
      ]
    },
    {
      "cell_type": "code",
      "execution_count": 13,
      "metadata": {
        "id": "dkVRfHACu7R7"
      },
      "outputs": [],
      "source": [
        "# Gather the image and word embeddings for the training and validation data\n",
        "train_data = [(feat, vectors[clss]) for (clss, feat) in train_data]\n",
        "valid_data = [(feat, vectors[clss]) for (clss, feat) in valid_data]"
      ]
    },
    {
      "cell_type": "code",
      "execution_count": 14,
      "metadata": {
        "id": "zeF8x27lu7R7"
      },
      "outputs": [],
      "source": [
        "# Fetch the class labels for the training, validation, and zero-shot data\n",
        "train_clss = [clss for clss, _ in train_data]\n",
        "valid_clss = [clss for clss, _ in valid_data]\n",
        "zero_shot_clss = [clss for clss, _ in zero_shot_data]"
      ]
    },
    {
      "cell_type": "code",
      "execution_count": 15,
      "metadata": {
        "id": "zQXrIuN_u7R8"
      },
      "outputs": [],
      "source": [
        "# Define input and output for the training, validation, and zero-shot data, then normalize the input data\n",
        "x_train, y_train = zip(*train_data)\n",
        "x_train, y_train = np.squeeze(np.asarray(x_train)), np.squeeze(np.asarray(y_train))\n",
        "x_train = normalize(x_train, norm='l2')\n",
        "\n",
        "x_valid, y_valid = zip(*valid_data)\n",
        "x_valid, y_valid = np.squeeze(np.asarray(x_valid)), np.squeeze(np.asarray(y_valid))\n",
        "x_valid = normalize(x_valid, norm='l2')\n",
        "\n",
        "y_zsl, x_zsl = zip(*zero_shot_data)\n",
        "x_zsl, y_zsl = np.squeeze(np.asarray(x_zsl)), np.squeeze(np.asarray(y_zsl))\n",
        "x_zsl = normalize(x_zsl, norm='l2')"
      ]
    },
    {
      "cell_type": "code",
      "execution_count": 16,
      "metadata": {
        "id": "8PAMVhsyu7R8"
      },
      "outputs": [],
      "source": [
        "# Create train and validation datasets\n",
        "train_ds = TensorDataset(*[torch.Tensor(t).to(device) for t in [x_train, y_train]])\n",
        "val_ds = TensorDataset(*[torch.Tensor(t).to(device) for t in [x_valid, y_valid]])\n",
        "\n",
        "# Create a function to retrieve the dataloaders\n",
        "def load_data(batch_size = 32):\n",
        "    trn_dl = DataLoader(train_ds, batch_size=batch_size, shuffle=True)\n",
        "    val_dl = DataLoader(val_ds, batch_size=batch_size, shuffle=False)\n",
        "    return trn_dl, val_dl"
      ]
    },
    {
      "cell_type": "code",
      "execution_count": 17,
      "metadata": {
        "id": "fZ2gnk8Lu7R8"
      },
      "outputs": [],
      "source": [
        "# Create a function to load the model\n",
        "def load_model():\n",
        "    return nn.Sequential(\n",
        "        nn.Linear(4096, 1024), nn.ReLU(inplace=True),\n",
        "        nn.BatchNorm1d(1024), nn.Dropout(0.8),\n",
        "        nn.Linear(1024, 512), nn.ReLU(inplace=True),\n",
        "        nn.BatchNorm1d(512), nn.Dropout(0.8),\n",
        "        nn.Linear(512, 256), nn.ReLU(inplace=True),\n",
        "        nn.BatchNorm1d(256), nn.Dropout(0.8),\n",
        "        nn.Linear(256, 300)\n",
        "    )"
      ]
    },
    {
      "cell_type": "code",
      "execution_count": 18,
      "metadata": {
        "id": "dHN6mHknu7R8"
      },
      "outputs": [],
      "source": [
        "# Create a function to train the model on a batch of data\n",
        "def train_batch(model, data, criterion, optimizer):\n",
        "    model.train()\n",
        "    optimizer.zero_grad()\n",
        "    images, labels = data\n",
        "    preds = model(images)\n",
        "    loss = criterion(preds, labels)\n",
        "    loss.backward()\n",
        "    optimizer.step()\n",
        "    return loss.item()\n",
        "\n",
        "# Create a function to validate the model on a batch of data\n",
        "@torch.no_grad()\n",
        "def validate_batch(model, data, criterion):\n",
        "    model.eval()\n",
        "    images, labels = data\n",
        "    preds = model(images)\n",
        "    loss = criterion(preds, labels)\n",
        "    return loss.item()"
      ]
    },
    {
      "cell_type": "code",
      "execution_count": 19,
      "metadata": {
        "colab": {
          "base_uri": "https://localhost:8080/",
          "height": 652
        },
        "id": "ox59RpSRu7R8",
        "outputId": "89087028-b81e-4cb5-875e-1985ff566e8c"
      },
      "outputs": [
        {
          "name": "stdout",
          "output_type": "stream",
          "text": [
            "EPOCH: 10.000  val_loss: 0.015  train_loss: 0.019  (8.73s - 43.66s remaining)\n",
            "EPOCH: 20.000  val_loss: 0.012  train_loss: 0.014  (16.30s - 32.61s remaining)\n",
            "EPOCH: 30.000  val_loss: 0.011  train_loss: 0.013  (24.02s - 24.02s remaining)\n",
            "EPOCH: 40.000  val_loss: 0.010  train_loss: 0.012  (31.84s - 15.92s remaining)\n",
            "EPOCH: 50.000  val_loss: 0.010  train_loss: 0.011  (39.32s - 7.86s remaining)\n",
            "EPOCH: 60.000  val_loss: 0.010  train_loss: 0.011  (47.19s - 0.00s remaining)\n"
          ]
        },
        {
          "data": {
            "image/png": "[encoded data removed]",
            "text/plain": [
              "<Figure size 800x600 with 1 Axes>"
            ]
          },
          "metadata": {},
          "output_type": "display_data"
        }
      ],
      "source": [
        "# Train the model\n",
        "model = load_model().to(device)\n",
        "criterion = nn.MSELoss()\n",
        "optimizer = optim.Adam(model.parameters(), lr=1e-3)\n",
        "train_dl, val_dl = load_data()\n",
        "n_epochs = 60\n",
        "\n",
        "log = Report(n_epochs)\n",
        "for epoch in range(n_epochs):\n",
        "    n = len(train_dl)\n",
        "    for i, data in enumerate(train_dl):\n",
        "        loss = train_batch(model, data, criterion, optimizer)\n",
        "        log.record(epoch+(i+1)/n, train_loss=loss, end='\\r')\n",
        "\n",
        "    n = len(val_dl)\n",
        "    for i, data in enumerate(val_dl):\n",
        "        loss = validate_batch(model, data, criterion)\n",
        "        log.record(epoch+(i+1)/n, val_loss=loss, end='\\r')\n",
        "\n",
        "    if epoch == 10:\n",
        "        optimizer = optim.Adam(model.parameters(), lr=1e-4)\n",
        "    elif epoch == 40:\n",
        "        optimizer = optim.Adam(model.parameters(), lr=1e-5)\n",
        "\n",
        "    if not (epoch+1) % 10:\n",
        "        log.report_avgs(epoch+1)\n",
        "log.plot(log=True)"
      ]
    },
    {
      "cell_type": "code",
      "execution_count": 20,
      "metadata": {
        "id": "2Fb86oALu7R8"
      },
      "outputs": [],
      "source": [
        "# Make predictions on the zero-shot data\n",
        "pred_zsl = model(torch.Tensor(x_zsl).to(device)).cpu().detach().numpy()\n",
        "\n",
        "class_vectors = sorted(np.load(word2vec_path, allow_pickle=True), key=lambda x: x[0])\n",
        "classnames, vectors = zip(*class_vectors)\n",
        "classnames = list(classnames)\n",
        "\n",
        "vectors = np.array(vectors)"
      ]
    },
    {
      "cell_type": "code",
      "execution_count": 25,
      "metadata": {
        "colab": {
          "base_uri": "https://localhost:8080/",
          "height": 34
        },
        "id": "UZrY9-n7u7R8",
        "outputId": "25a2b3ec-bb6c-4faf-b3aa-70952e69919c"
      },
      "outputs": [
        {
          "data": {
            "text/html": [
              "<pre style=\"white-space:pre;overflow-x:auto;line-height:normal;font-family:Menlo,'DejaVu Sans Mono',consolas,'Courier New',monospace\">Accuracy: <span style=\"color: #008080; text-decoration-color: #008080; font-weight: bold\">77.14</span>%\n",
              "</pre>\n"
            ],
            "text/plain": [
              "Accuracy: \u001b[1;36m77.14\u001b[0m%\n"
            ]
          },
          "metadata": {},
          "output_type": "display_data"
        }
      ],
      "source": [
        "# Calculate the distances between the predicted and actual zero-shot class labels\n",
        "dists = (pred_zsl[None] - vectors[:, None])\n",
        "dists = (dists**2).sum(-1).T\n",
        "\n",
        "# Retrieve the top 5 classes with the lowest distances\n",
        "best_classes = [\n",
        "    [classnames[j] for j in np.argsort(item)[:5]] for item in dists\n",
        "]\n",
        "\n",
        "# Calculate the accuracy of the model\n",
        "accuracy = np.mean([zero_shot_clss[i] in best_classes[i] for i in range(len(zero_shot_clss))])\n",
        "print(f\"Accuracy: {accuracy:.2%}\")"
      ]
    }
  ],
  "metadata": {
    "accelerator": "GPU",
    "colab": {
      "gpuType": "T4",
      "provenance": []
    },
    "kernelspec": {
      "display_name": "Python 3",
      "name": "python3"
    },
    "language_info": {
      "codemirror_mode": {
        "name": "ipython",
        "version": 3
      },
      "file_extension": ".py",
      "mimetype": "text/x-python",
      "name": "python",
      "nbconvert_exporter": "python",
      "pygments_lexer": "ipython3",
      "version": "3.11.6"
    }
  },
  "nbformat": 4,
  "nbformat_minor": 0
}
