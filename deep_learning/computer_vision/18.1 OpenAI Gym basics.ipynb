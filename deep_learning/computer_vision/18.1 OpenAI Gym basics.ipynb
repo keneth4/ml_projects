{
  "cells": [
    {
      "cell_type": "markdown",
      "metadata": {
        "id": "o-CsWKbv8siK"
      },
      "source": [
        "# Open AI's Gym Basics"
      ]
    },
    {
      "cell_type": "markdown",
      "metadata": {
        "id": "3HJaO8lV8siN"
      },
      "source": [
        "## Initialization"
      ]
    },
    {
      "cell_type": "code",
      "execution_count": null,
      "metadata": {},
      "outputs": [],
      "source": [
        "# Install required libraries\n",
        "!pip install -qU gym pygame"
      ]
    },
    {
      "cell_type": "code",
      "execution_count": 8,
      "metadata": {
        "colab": {
          "base_uri": "https://localhost:8080/"
        },
        "id": "gkJuuCOu8siP",
        "outputId": "63203a68-b6f6-4b5d-98b2-38b970fc7ef1"
      },
      "outputs": [
        {
          "name": "stdout",
          "output_type": "stream",
          "text": [
            "PyTorch Version: 2.2.2\n",
            "Gym: 0.26.2\n",
            "zsh:1: command not found: nvidia-smi\n"
          ]
        }
      ],
      "source": [
        "# Import libraries\n",
        "import numpy as np\n",
        "import random\n",
        "from collections import namedtuple, deque\n",
        "\n",
        "import torch\n",
        "import torch.nn as nn\n",
        "import torch.nn.functional as F\n",
        "import torch.optim as optim\n",
        "import gym\n",
        "\n",
        "import matplotlib.pyplot as plt\n",
        "\n",
        "print(f\"PyTorch Version: {torch.__version__}\")\n",
        "print(\"Gym:\", gym.__version__)\n",
        "!nvidia-smi # check if GPU is available\n",
        "%matplotlib inline"
      ]
    },
    {
      "cell_type": "code",
      "execution_count": 9,
      "metadata": {},
      "outputs": [
        {
          "name": "stdout",
          "output_type": "stream",
          "text": [
            "Running on: cpu\n"
          ]
        }
      ],
      "source": [
        "# Set device to GPU if available\n",
        "device = torch.device(\"cuda\" if torch.cuda.is_available() else \"cpu\")\n",
        "print(\"Running on:\", device)"
      ]
    },
    {
      "cell_type": "code",
      "execution_count": 10,
      "metadata": {},
      "outputs": [],
      "source": [
        "# Define the environment\n",
        "env = gym.make('CartPole-v1')"
      ]
    },
    {
      "cell_type": "code",
      "execution_count": 11,
      "metadata": {},
      "outputs": [],
      "source": [
        "# Create the DQN model class\n",
        "class DQNetwork(nn.Module):\n",
        "    def __init__(self, state_size, action_size):\n",
        "        super().__init__()\n",
        "        self.fc1 = nn.Linear(state_size, 24)\n",
        "        self.fc2 = nn.Linear(24, 24)\n",
        "        self.fc3 = nn.Linear(24, action_size)\n",
        "        \n",
        "    def forward(self, state):       \n",
        "        x = F.relu(self.fc1(state))\n",
        "        x = F.relu(self.fc2(x))\n",
        "        x = self.fc3(x)\n",
        "        return x"
      ]
    },
    {
      "cell_type": "code",
      "execution_count": 12,
      "metadata": {},
      "outputs": [],
      "source": [
        "# Create the Agent class\n",
        "class Agent():\n",
        "    def __init__(self, state_size, action_size):\n",
        "        self.state_size = state_size\n",
        "        self.action_size = action_size\n",
        "        self.seed = random.seed(0)\n",
        "\n",
        "        # Hyperparameters\n",
        "        self.buffer_size = 2000\n",
        "        self.batch_size = 64\n",
        "        self.gamma = 0.99\n",
        "        self.lr = 0.0025\n",
        "        self.update_every = 4 \n",
        "\n",
        "        # Q-Network\n",
        "        self.local = DQNetwork(state_size, action_size).to(device)\n",
        "        self.optimizer = optim.Adam(self.local.parameters(), lr=self.lr)\n",
        "\n",
        "        # Replay memory\n",
        "        self.memory = deque(maxlen=self.buffer_size) \n",
        "        self.experience = namedtuple(\"Experience\", field_names=[\"state\", \"action\", \"reward\", \"next_state\", \"done\"])\n",
        "        self.t_step = 0\n",
        "\n",
        "    def step(self, state, action, reward, next_state, done):\n",
        "        # Save experience in replay memory\n",
        "        self.memory.append(self.experience(state, action, reward, next_state, done))\n",
        "\n",
        "        # Learn every update_every time steps\n",
        "        self.t_step = (self.t_step + 1) % self.update_every\n",
        "\n",
        "        # If enough samples are available in memory, get random subset and learn\n",
        "        if self.t_step == 0 and len(self.memory) > self.batch_size:\n",
        "            experiences = self.sample_experiences()\n",
        "            self.learn(experiences, self.gamma)\n",
        "\n",
        "    def act(self, state, eps=0.):\n",
        "        if random.random() <= eps:\n",
        "            return random.choice(np.arange(self.action_size))\n",
        "        \n",
        "        # Epsilon-greedy action selection\n",
        "        state = torch.from_numpy(state).float().unsqueeze(0).to(device)\n",
        "        self.local.eval()\n",
        "        with torch.no_grad():\n",
        "            action_values = self.local(state)\n",
        "        self.local.train()\n",
        "        return np.argmax(action_values.cpu().data.numpy())\n",
        "\n",
        "    def learn(self, experiences, gamma): \n",
        "        states, actions, rewards, next_states, dones = experiences\n",
        "\n",
        "        # Get expected Q values from local model\n",
        "        Q_expected = self.local(states).gather(1, actions)\n",
        "\n",
        "        # Get max predicted Q values (for next states) from local model\n",
        "        Q_targets_next = self.local(next_states).detach().max(1)[0].unsqueeze(1)\n",
        "\n",
        "        # Compute Q targets for current states \n",
        "        Q_targets = rewards + (gamma * Q_targets_next * (1 - dones))\n",
        "\n",
        "        # Compute loss\n",
        "        loss = F.mse_loss(Q_expected, Q_targets)\n",
        "\n",
        "        # Minimize the loss\n",
        "        self.optimizer.zero_grad()\n",
        "        loss.backward()\n",
        "        self.optimizer.step()\n",
        "\n",
        "    def sample_experiences(self):\n",
        "        experiences = random.sample(self.memory, k=self.batch_size)        \n",
        "        states = torch.from_numpy(np.vstack([e.state for e in experiences if e is not None])).float().to(device)\n",
        "        actions = torch.from_numpy(np.vstack([e.action for e in experiences if e is not None])).long().to(device)\n",
        "        rewards = torch.from_numpy(np.vstack([e.reward for e in experiences if e is not None])).float().to(device)\n",
        "        next_states = torch.from_numpy(np.vstack([e.next_state for e in experiences if e is not None])).float().to(device)\n",
        "        dones = torch.from_numpy(np.vstack([e.done for e in experiences if e is not None]).astype(np.uint8)).float().to(device)        \n",
        "        return (states, actions, rewards, next_states, dones)"
      ]
    },
    {
      "cell_type": "code",
      "execution_count": 13,
      "metadata": {},
      "outputs": [],
      "source": [
        "# Create an Agent instance\n",
        "agent = Agent(env.observation_space.shape[0], env.action_space.n)"
      ]
    },
    {
      "cell_type": "code",
      "execution_count": 14,
      "metadata": {},
      "outputs": [
        {
          "name": "stdout",
          "output_type": "stream",
          "text": [
            "Episode 100\tAverage Score: 14.25 \tEpsilon: 0.9512175302423342175302423344\n",
            "Episode 200\tAverage Score: 17.26 \tEpsilon: 0.90481478984032691478984032694\n",
            "Episode 300\tAverage Score: 15.13 \tEpsilon: 0.86067568971865286756897186528\n",
            "Episode 400\tAverage Score: 26.91 \tEpsilon: 0.818689803913795189803913795171\n",
            "Episode 500\tAverage Score: 24.77 \tEpsilon: 0.778752093313461575209331346153\n",
            "Episode 600\tAverage Score: 37.54 \tEpsilon: 0.740762642872678876264287267885\n",
            "Episode 700\tAverage Score: 42.54 \tEpsilon: 0.704626411649133862641164913383\n",
            "Episode 800\tAverage Score: 49.43 \tEpsilon: 0.670252995032407425299503240745\n",
            "Episode 900\tAverage Score: 43.62 \tEpsilon: 0.637556398572254755639857225422\n",
            "Episode 1000\tAverage Score: 66.57 \tEpsilon: 0.60645482284009764548228400974\n",
            "Episode 1100\tAverage Score: 75.08 \tEpsilon: 0.576870458785509468704587855094\n",
            "Episode 1200\tAverage Score: 66.07 \tEpsilon: 0.548729293075715872929307571586\n",
            "Episode 1300\tAverage Score: 66.15 \tEpsilon: 0.521960922931103419609229311034\n",
            "Episode 1400\tAverage Score: 73.06 \tEpsilon: 0.4964983799935336383799935336335\n",
            "Episode 1500\tAverage Score: 33.10 \tEpsilon: 0.4722779627867691227796278676916\n",
            "Episode 1600\tAverage Score: 38.78 \tEpsilon: 0.4492390773499115339077349911537\n",
            "Episode 1700\tAverage Score: 22.55 \tEpsilon: 0.4273240856451275324085645127576\n",
            "Episode 1800\tAverage Score: 23.13 \tEpsilon: 0.406478161360422647816136042276\n",
            "Episode 1900\tAverage Score: 40.70 \tEpsilon: 0.3866491527467055649152746705556\n",
            "Episode 2000\tAverage Score: 16.15 \tEpsilon: 0.367787452146012187452146012165\n",
            "Episode 2100\tAverage Score: 35.41 \tEpsilon: 0.349845871884450155871884450156\n",
            "Episode 2200\tAverage Score: 30.56 \tEpsilon: 0.3327795262194029779526219402964\n",
            "Episode 2300\tAverage Score: 33.01 \tEpsilon: 0.3165457190456343345719045634333\n",
            "Episode 2400\tAverage Score: 73.07 \tEpsilon: 0.3011038370793723103837079372345\n",
            "Episode 2500\tAverage Score: 60.77 \tEpsilon: 0.286415248253130861524825313086\n",
            "Episode 2600\tAverage Score: 51.86 \tEpsilon: 0.2724432050670881344320506708813\n",
            "Episode 2679\tReward 541.0 \tAverage Score: 135.76 \tEpsilon: 0.26188888017204815"
          ]
        },
        {
          "data": {
            "image/png": "[encoded data removed]",
            "text/plain": [
              "<Figure size 640x480 with 1 Axes>"
            ]
          },
          "metadata": {},
          "output_type": "display_data"
        }
      ],
      "source": [
        "# Initialize variables\n",
        "scores = [] # Scores from each episode\n",
        "scores_window = deque(maxlen=100) # Last 100 scores\n",
        "n_episodes = 5000\n",
        "max_t = 5000\n",
        "eps_start = 1.0\n",
        "eps_end = 0.001\n",
        "eps_decay = 0.9995\n",
        "eps = eps_start\n",
        "\n",
        "# Perform deep Q-learning\n",
        "for i_episode in range(1, n_episodes+1):\n",
        "    state_tuple = env.reset()\n",
        "    state = state_tuple if isinstance(state_tuple, np.ndarray) else state_tuple[0]\n",
        "    state = np.array(state)\n",
        "    state_size = env.observation_space.shape[0]\n",
        "    if len(state.shape) == 1:\n",
        "        state = np.reshape(state, [1, state_size])\n",
        "        \n",
        "    score = 0\n",
        "\n",
        "    for _ in range(max_t):\n",
        "        action = agent.act(state, eps)\n",
        "        result = env.step(action)\n",
        "        \n",
        "        # Extract the necessary elements from the result\n",
        "        next_state, reward, done, *_ = result\n",
        "\n",
        "        # Handle next_state\n",
        "        next_state = np.array(next_state)\n",
        "\n",
        "        # Ensure next_state has the correct shape\n",
        "        if len(next_state.shape) == 1:\n",
        "            next_state = np.reshape(next_state, [1, state_size])\n",
        "        \n",
        "        reward = reward if not done or score == 499 else -10\n",
        "        agent.step(state, action, reward, next_state, done)\n",
        "        state = next_state\n",
        "        score += reward\n",
        "        if done:\n",
        "            break\n",
        "\n",
        "    # Save most recent score\n",
        "    scores_window.append(score)\n",
        "    scores.append(score)\n",
        "\n",
        "    # Decrease epsilon\n",
        "    eps = max(eps_end, eps_decay * eps)\n",
        "\n",
        "    # Print results\n",
        "    print('\\rEpisode {}\\tReward {} \\tAverage Score: {:.2f} \\tEpsilon: {}'.format(i_episode, score, np.mean(scores_window), eps), end=\"\")\n",
        "    if i_episode % 100 == 0:\n",
        "        print('\\rEpisode {}\\tAverage Score: {:.2f} \\tEpsilon: {}'.format(i_episode, np.mean(scores_window), eps))\n",
        "    if i_episode > 10 and np.mean(scores[-10:]) > 450:\n",
        "        break\n",
        "\n",
        "# Plot the scores\n",
        "plt.plot(scores)\n",
        "plt.title('Scores over increasing episodes')\n",
        "plt.xlabel('Episode')\n",
        "plt.ylabel('Score')\n",
        "plt.show()"
      ]
    }
  ],
  "metadata": {
    "accelerator": "GPU",
    "colab": {
      "gpuType": "T4",
      "provenance": []
    },
    "kernelspec": {
      "display_name": "Python 3",
      "name": "python3"
    },
    "language_info": {
      "codemirror_mode": {
        "name": "ipython",
        "version": 3
      },
      "file_extension": ".py",
      "mimetype": "text/x-python",
      "name": "python",
      "nbconvert_exporter": "python",
      "pygments_lexer": "ipython3",
      "version": "3.11.6"
    }
  },
  "nbformat": 4,
  "nbformat_minor": 0
}
