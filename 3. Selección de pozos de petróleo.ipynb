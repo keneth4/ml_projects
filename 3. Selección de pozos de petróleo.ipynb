{
 "cells": [
  {
   "attachments": {},
   "cell_type": "markdown",
   "metadata": {},
   "source": [
    "# Optimización de la Selección de Pozos de Petróleo\n",
    "\n",
    "Trabajas para la compañía minera OilyGiant. Tu tarea es encontrar el mejor lugar para un nuevo pozo.\n",
    "Pasos para elegir la ubicación:\n",
    "\n",
    "- Recolecta los parámetros del pozo de petróleo en la región seleccionada: calidad del petróleo y volumen de reservas\n",
    "- Construye un modelo para predecir el volumen de reservas en los nuevos pozos\n",
    "- Selecciona los pozos de petróleo con los valores estimados más altos\n",
    "- Elige la región con el mayor beneficio total para los pozos de petróleo seleccionados\n",
    "\n",
    "Tienes datos sobre muestras de crudo de tres regiones. Ya se conocen los parámetros de cada pozo petrolero de la región. Crea un modelo que ayude a elegir la región con el mayor margen de beneficio. Analiza los beneficios y riesgos potenciales utilizando la técnica bootstrapping."
   ]
  },
  {
   "attachments": {},
   "cell_type": "markdown",
   "metadata": {},
   "source": [
    "# Descripción de los datos\n",
    "\n",
    "- `id` — Identificador único de pozo de petróleo\n",
    "- `f0, f1, f2` — Tres características sobre la calidad del petróleo (su significado específico no es importante, pero las características en sí son significativas)\n",
    "- `product` — Volumen de reservas en el pozo de petróleo (miles de barriles)\n",
    "\n",
    "**Condiciones**:\n",
    "\n",
    "- Solo la regresión lineal es adecuada para el entrenamiento de modelos.\n",
    "- Al explorar la región, se lleva a cabo un estudio de 500 puntos con la selección de los mejores 200 puntos para el cálculo del beneficio.\n",
    "- El presupuesto para el desarrollo de 200 pozos petroleros es de 100 millones de dólares.\n",
    "- Un barril de materias primas genera 4.5 USD de ingresos. El ingreso de una unidad de producto es de 4500 dólares (el volumen de reservas está expresado en miles de barriles).\n",
    "- Después de la evaluación de riesgo, mantén solo las regiones con riesgo de pérdidas inferior al 2.5%. De las que se ajustan a los criterios, se debe seleccionar la región con el beneficio promedio más alto."
   ]
  },
  {
   "attachments": {},
   "cell_type": "markdown",
   "metadata": {},
   "source": [
    "# Inicialización"
   ]
  },
  {
   "cell_type": "code",
   "execution_count": 511,
   "metadata": {},
   "outputs": [],
   "source": [
    "# Carga todas las librerías\n",
    "import pandas as pd\n",
    "from sklearn.linear_model import LinearRegression\n",
    "from sklearn.model_selection import train_test_split\n",
    "from sklearn.metrics import mean_squared_error\n",
    "import numpy as np"
   ]
  },
  {
   "attachments": {},
   "cell_type": "markdown",
   "metadata": {},
   "source": [
    "# Cargar los datos"
   ]
  },
  {
   "cell_type": "code",
   "execution_count": 512,
   "metadata": {},
   "outputs": [],
   "source": [
    "# Carga los datos en DataFrames\n",
    "try:\n",
    "    df0 = pd.read_csv('/datasets/geo_data_0.csv')\n",
    "    df1 = pd.read_csv('/datasets/geo_data_1.csv')\n",
    "    df2 = pd.read_csv('/datasets/geo_data_2.csv')\n",
    "except Exception:\n",
    "    df0 = pd.read_csv('datasets/geo_data_0.csv')\n",
    "    df1 = pd.read_csv('datasets/geo_data_1.csv')\n",
    "    df2 = pd.read_csv('datasets/geo_data_2.csv')"
   ]
  },
  {
   "attachments": {},
   "cell_type": "markdown",
   "metadata": {},
   "source": [
    "# Preparar los datos"
   ]
  },
  {
   "cell_type": "code",
   "execution_count": 513,
   "metadata": {},
   "outputs": [
    {
     "name": "stdout",
     "output_type": "stream",
     "text": [
      "<class 'pandas.core.frame.DataFrame'>\n",
      "RangeIndex: 100000 entries, 0 to 99999\n",
      "Data columns (total 5 columns):\n",
      " #   Column   Non-Null Count   Dtype  \n",
      "---  ------   --------------   -----  \n",
      " 0   id       100000 non-null  object \n",
      " 1   f0       100000 non-null  float64\n",
      " 2   f1       100000 non-null  float64\n",
      " 3   f2       100000 non-null  float64\n",
      " 4   product  100000 non-null  float64\n",
      "dtypes: float64(4), object(1)\n",
      "memory usage: 3.8+ MB\n"
     ]
    }
   ],
   "source": [
    "# Imprime la información general/resumen sobre el DataFrame\n",
    "df0.info()"
   ]
  },
  {
   "cell_type": "code",
   "execution_count": 514,
   "metadata": {},
   "outputs": [
    {
     "data": {
      "text/html": [
       "<div>\n",
       "<style scoped>\n",
       "    .dataframe tbody tr th:only-of-type {\n",
       "        vertical-align: middle;\n",
       "    }\n",
       "\n",
       "    .dataframe tbody tr th {\n",
       "        vertical-align: top;\n",
       "    }\n",
       "\n",
       "    .dataframe thead th {\n",
       "        text-align: right;\n",
       "    }\n",
       "</style>\n",
       "<table border=\"1\" class=\"dataframe\">\n",
       "  <thead>\n",
       "    <tr style=\"text-align: right;\">\n",
       "      <th></th>\n",
       "      <th>id</th>\n",
       "      <th>f0</th>\n",
       "      <th>f1</th>\n",
       "      <th>f2</th>\n",
       "      <th>product</th>\n",
       "    </tr>\n",
       "  </thead>\n",
       "  <tbody>\n",
       "    <tr>\n",
       "      <th>90354</th>\n",
       "      <td>OZtA2</td>\n",
       "      <td>1.234302</td>\n",
       "      <td>-0.328379</td>\n",
       "      <td>0.111507</td>\n",
       "      <td>54.934129</td>\n",
       "    </tr>\n",
       "    <tr>\n",
       "      <th>69593</th>\n",
       "      <td>CUHW7</td>\n",
       "      <td>1.254042</td>\n",
       "      <td>-0.429553</td>\n",
       "      <td>-6.808379</td>\n",
       "      <td>84.776590</td>\n",
       "    </tr>\n",
       "    <tr>\n",
       "      <th>45153</th>\n",
       "      <td>BbX27</td>\n",
       "      <td>0.507428</td>\n",
       "      <td>0.903823</td>\n",
       "      <td>0.137340</td>\n",
       "      <td>40.544101</td>\n",
       "    </tr>\n",
       "    <tr>\n",
       "      <th>65496</th>\n",
       "      <td>TWMOr</td>\n",
       "      <td>-0.150369</td>\n",
       "      <td>1.001128</td>\n",
       "      <td>3.405462</td>\n",
       "      <td>85.233130</td>\n",
       "    </tr>\n",
       "    <tr>\n",
       "      <th>87801</th>\n",
       "      <td>njEhr</td>\n",
       "      <td>0.485322</td>\n",
       "      <td>0.945299</td>\n",
       "      <td>0.793361</td>\n",
       "      <td>49.338800</td>\n",
       "    </tr>\n",
       "  </tbody>\n",
       "</table>\n",
       "</div>"
      ],
      "text/plain": [
       "          id        f0        f1        f2    product\n",
       "90354  OZtA2  1.234302 -0.328379  0.111507  54.934129\n",
       "69593  CUHW7  1.254042 -0.429553 -6.808379  84.776590\n",
       "45153  BbX27  0.507428  0.903823  0.137340  40.544101\n",
       "65496  TWMOr -0.150369  1.001128  3.405462  85.233130\n",
       "87801  njEhr  0.485322  0.945299  0.793361  49.338800"
      ]
     },
     "execution_count": 514,
     "metadata": {},
     "output_type": "execute_result"
    }
   ],
   "source": [
    "# Imprime una muestra aleatoria de 5 filas del DataFrame\n",
    "df0.sample(5)"
   ]
  },
  {
   "cell_type": "code",
   "execution_count": 515,
   "metadata": {},
   "outputs": [
    {
     "name": "stdout",
     "output_type": "stream",
     "text": [
      "<class 'pandas.core.frame.DataFrame'>\n",
      "RangeIndex: 100000 entries, 0 to 99999\n",
      "Data columns (total 5 columns):\n",
      " #   Column   Non-Null Count   Dtype  \n",
      "---  ------   --------------   -----  \n",
      " 0   id       100000 non-null  object \n",
      " 1   f0       100000 non-null  float64\n",
      " 2   f1       100000 non-null  float64\n",
      " 3   f2       100000 non-null  float64\n",
      " 4   product  100000 non-null  float64\n",
      "dtypes: float64(4), object(1)\n",
      "memory usage: 3.8+ MB\n"
     ]
    }
   ],
   "source": [
    "# Imprime la información general/resumen sobre el DataFrame\n",
    "df1.info()"
   ]
  },
  {
   "cell_type": "code",
   "execution_count": 516,
   "metadata": {},
   "outputs": [
    {
     "data": {
      "text/html": [
       "<div>\n",
       "<style scoped>\n",
       "    .dataframe tbody tr th:only-of-type {\n",
       "        vertical-align: middle;\n",
       "    }\n",
       "\n",
       "    .dataframe tbody tr th {\n",
       "        vertical-align: top;\n",
       "    }\n",
       "\n",
       "    .dataframe thead th {\n",
       "        text-align: right;\n",
       "    }\n",
       "</style>\n",
       "<table border=\"1\" class=\"dataframe\">\n",
       "  <thead>\n",
       "    <tr style=\"text-align: right;\">\n",
       "      <th></th>\n",
       "      <th>id</th>\n",
       "      <th>f0</th>\n",
       "      <th>f1</th>\n",
       "      <th>f2</th>\n",
       "      <th>product</th>\n",
       "    </tr>\n",
       "  </thead>\n",
       "  <tbody>\n",
       "    <tr>\n",
       "      <th>92559</th>\n",
       "      <td>0xBA2</td>\n",
       "      <td>-5.376025</td>\n",
       "      <td>-1.393992</td>\n",
       "      <td>3.003793</td>\n",
       "      <td>84.038886</td>\n",
       "    </tr>\n",
       "    <tr>\n",
       "      <th>77545</th>\n",
       "      <td>X1fdQ</td>\n",
       "      <td>-6.596175</td>\n",
       "      <td>-2.399353</td>\n",
       "      <td>1.000795</td>\n",
       "      <td>30.132364</td>\n",
       "    </tr>\n",
       "    <tr>\n",
       "      <th>10800</th>\n",
       "      <td>Traxs</td>\n",
       "      <td>8.746752</td>\n",
       "      <td>-0.100752</td>\n",
       "      <td>1.006119</td>\n",
       "      <td>26.953261</td>\n",
       "    </tr>\n",
       "    <tr>\n",
       "      <th>14735</th>\n",
       "      <td>9JdSU</td>\n",
       "      <td>11.158535</td>\n",
       "      <td>-1.777187</td>\n",
       "      <td>1.997798</td>\n",
       "      <td>53.906522</td>\n",
       "    </tr>\n",
       "    <tr>\n",
       "      <th>45120</th>\n",
       "      <td>jkksI</td>\n",
       "      <td>5.137751</td>\n",
       "      <td>-0.525132</td>\n",
       "      <td>0.997621</td>\n",
       "      <td>26.953261</td>\n",
       "    </tr>\n",
       "  </tbody>\n",
       "</table>\n",
       "</div>"
      ],
      "text/plain": [
       "          id         f0        f1        f2    product\n",
       "92559  0xBA2  -5.376025 -1.393992  3.003793  84.038886\n",
       "77545  X1fdQ  -6.596175 -2.399353  1.000795  30.132364\n",
       "10800  Traxs   8.746752 -0.100752  1.006119  26.953261\n",
       "14735  9JdSU  11.158535 -1.777187  1.997798  53.906522\n",
       "45120  jkksI   5.137751 -0.525132  0.997621  26.953261"
      ]
     },
     "execution_count": 516,
     "metadata": {},
     "output_type": "execute_result"
    }
   ],
   "source": [
    "# Imprime una muestra aleatoria de 5 filas del DataFrame\n",
    "df1.sample(5)"
   ]
  },
  {
   "cell_type": "code",
   "execution_count": 517,
   "metadata": {},
   "outputs": [
    {
     "name": "stdout",
     "output_type": "stream",
     "text": [
      "<class 'pandas.core.frame.DataFrame'>\n",
      "RangeIndex: 100000 entries, 0 to 99999\n",
      "Data columns (total 5 columns):\n",
      " #   Column   Non-Null Count   Dtype  \n",
      "---  ------   --------------   -----  \n",
      " 0   id       100000 non-null  object \n",
      " 1   f0       100000 non-null  float64\n",
      " 2   f1       100000 non-null  float64\n",
      " 3   f2       100000 non-null  float64\n",
      " 4   product  100000 non-null  float64\n",
      "dtypes: float64(4), object(1)\n",
      "memory usage: 3.8+ MB\n"
     ]
    }
   ],
   "source": [
    "# Imprime la información general/resumen sobre el DataFrame\n",
    "df2.info()"
   ]
  },
  {
   "cell_type": "code",
   "execution_count": 518,
   "metadata": {},
   "outputs": [
    {
     "data": {
      "text/html": [
       "<div>\n",
       "<style scoped>\n",
       "    .dataframe tbody tr th:only-of-type {\n",
       "        vertical-align: middle;\n",
       "    }\n",
       "\n",
       "    .dataframe tbody tr th {\n",
       "        vertical-align: top;\n",
       "    }\n",
       "\n",
       "    .dataframe thead th {\n",
       "        text-align: right;\n",
       "    }\n",
       "</style>\n",
       "<table border=\"1\" class=\"dataframe\">\n",
       "  <thead>\n",
       "    <tr style=\"text-align: right;\">\n",
       "      <th></th>\n",
       "      <th>id</th>\n",
       "      <th>f0</th>\n",
       "      <th>f1</th>\n",
       "      <th>f2</th>\n",
       "      <th>product</th>\n",
       "    </tr>\n",
       "  </thead>\n",
       "  <tbody>\n",
       "    <tr>\n",
       "      <th>81891</th>\n",
       "      <td>V77tl</td>\n",
       "      <td>-4.884031</td>\n",
       "      <td>0.587705</td>\n",
       "      <td>5.722631</td>\n",
       "      <td>176.162360</td>\n",
       "    </tr>\n",
       "    <tr>\n",
       "      <th>34479</th>\n",
       "      <td>s0UYW</td>\n",
       "      <td>1.658289</td>\n",
       "      <td>-0.027524</td>\n",
       "      <td>0.488845</td>\n",
       "      <td>49.046223</td>\n",
       "    </tr>\n",
       "    <tr>\n",
       "      <th>50289</th>\n",
       "      <td>iGshN</td>\n",
       "      <td>-0.918801</td>\n",
       "      <td>0.084935</td>\n",
       "      <td>2.577698</td>\n",
       "      <td>22.463836</td>\n",
       "    </tr>\n",
       "    <tr>\n",
       "      <th>56811</th>\n",
       "      <td>lc21C</td>\n",
       "      <td>0.882288</td>\n",
       "      <td>-0.867702</td>\n",
       "      <td>5.263757</td>\n",
       "      <td>109.557760</td>\n",
       "    </tr>\n",
       "    <tr>\n",
       "      <th>76962</th>\n",
       "      <td>tsegU</td>\n",
       "      <td>0.854186</td>\n",
       "      <td>-0.006871</td>\n",
       "      <td>6.363004</td>\n",
       "      <td>117.068729</td>\n",
       "    </tr>\n",
       "  </tbody>\n",
       "</table>\n",
       "</div>"
      ],
      "text/plain": [
       "          id        f0        f1        f2     product\n",
       "81891  V77tl -4.884031  0.587705  5.722631  176.162360\n",
       "34479  s0UYW  1.658289 -0.027524  0.488845   49.046223\n",
       "50289  iGshN -0.918801  0.084935  2.577698   22.463836\n",
       "56811  lc21C  0.882288 -0.867702  5.263757  109.557760\n",
       "76962  tsegU  0.854186 -0.006871  6.363004  117.068729"
      ]
     },
     "execution_count": 518,
     "metadata": {},
     "output_type": "execute_result"
    }
   ],
   "source": [
    "# Imprime una muestra aleatoria de 5 filas del DataFrame\n",
    "df2.sample(5)"
   ]
  },
  {
   "attachments": {},
   "cell_type": "markdown",
   "metadata": {},
   "source": [
    "## Observaciones\n",
    "- La columna `id` no contiene información relevante para las predicciones del modelo.\n",
    "- Ninguno de los tres datasets contiene valores ausentes, así como el tipo de dato de todas las columnas es correcto.\n",
    "- Los tres datasets están completamente listos para ser utilizados en el entrenamiento de modelos."
   ]
  },
  {
   "attachments": {},
   "cell_type": "markdown",
   "metadata": {},
   "source": [
    "## Eliminar columnas innecesarias"
   ]
  },
  {
   "cell_type": "code",
   "execution_count": 519,
   "metadata": {},
   "outputs": [],
   "source": [
    "# Elimina las columnas que no se utilizarán en el análisis\n",
    "df0 = df0.drop(['id'], axis=1)\n",
    "df1 = df1.drop(['id'], axis=1)\n",
    "df2 = df2.drop(['id'], axis=1)"
   ]
  },
  {
   "attachments": {},
   "cell_type": "markdown",
   "metadata": {},
   "source": [
    "# Segmentar los datos"
   ]
  },
  {
   "cell_type": "code",
   "execution_count": 520,
   "metadata": {},
   "outputs": [],
   "source": [
    "# Crear un estado aleatorio a partir de un seed (semilla) fijo\n",
    "random_state = np.random.RandomState(12345)"
   ]
  },
  {
   "attachments": {},
   "cell_type": "markdown",
   "metadata": {},
   "source": [
    "## Region 0"
   ]
  },
  {
   "cell_type": "code",
   "execution_count": 521,
   "metadata": {},
   "outputs": [],
   "source": [
    "# Divide el DataFrame 0 en características (features) y objetivo (target)\n",
    "features0 = df0.drop(['product'], axis=1)\n",
    "target0 = df0['product']"
   ]
  },
  {
   "cell_type": "code",
   "execution_count": 522,
   "metadata": {},
   "outputs": [],
   "source": [
    "# Separar los datos en subconjuntos de entrenamiento y validación en una proporción de 75:25\n",
    "features_train0, features_valid0, target_train0, target_valid0 = train_test_split(features0, target0, test_size=0.25, random_state=random_state)"
   ]
  },
  {
   "attachments": {},
   "cell_type": "markdown",
   "metadata": {},
   "source": [
    "## Region 1"
   ]
  },
  {
   "cell_type": "code",
   "execution_count": 523,
   "metadata": {},
   "outputs": [],
   "source": [
    "# Divide el DataFrame 1 en características (features) y objetivo (target)\n",
    "features1 = df1.drop(['product'], axis=1)\n",
    "target1 = df1['product']"
   ]
  },
  {
   "cell_type": "code",
   "execution_count": 524,
   "metadata": {},
   "outputs": [],
   "source": [
    "# Separar los datos en subconjuntos de entrenamiento y validación en una proporción de 75:25\n",
    "features_train1, features_valid1, target_train1, target_valid1 = train_test_split(features1, target1, test_size=0.25, random_state=random_state)"
   ]
  },
  {
   "attachments": {},
   "cell_type": "markdown",
   "metadata": {},
   "source": [
    "## Region 2"
   ]
  },
  {
   "cell_type": "code",
   "execution_count": 525,
   "metadata": {},
   "outputs": [],
   "source": [
    "# Divide el DataFrame 2 en características (features) y objetivo (target)\n",
    "features2 = df2.drop(['product'], axis=1)\n",
    "target2 = df2['product']"
   ]
  },
  {
   "cell_type": "code",
   "execution_count": 526,
   "metadata": {},
   "outputs": [],
   "source": [
    "# Separar los datos en subconjuntos de entrenamiento y validación en una proporción de 75:25\n",
    "features_train2, features_valid2, target_train2, target_valid2 = train_test_split(features2, target2, test_size=0.25, random_state=random_state)"
   ]
  },
  {
   "attachments": {},
   "cell_type": "markdown",
   "metadata": {},
   "source": [
    "# Entrenamiento del modelo (Regresión lineal)"
   ]
  },
  {
   "attachments": {},
   "cell_type": "markdown",
   "metadata": {},
   "source": [
    "## Region 0"
   ]
  },
  {
   "cell_type": "code",
   "execution_count": 527,
   "metadata": {},
   "outputs": [
    {
     "name": "stdout",
     "output_type": "stream",
     "text": [
      "Volumen promedio de las reservas previstas para la región 0: 92.59256778438035\n",
      "RECM para la región 0: 37.5794217150813\n"
     ]
    }
   ],
   "source": [
    "# Probar el modelo de Regresión Lineal en el conjunto de datos 0\n",
    "model0 = LinearRegression()\n",
    "model0.fit(features_train0, target_train0)\n",
    "predicted_valid0 = model0.predict(features_valid0)\n",
    "rmse0 = mean_squared_error(target_valid0, predicted_valid0) ** 0.5\n",
    "\n",
    "# Guardar las predicciones y las respuestas correctas para el conjunto de validación\n",
    "predictions0 = pd.Series(predicted_valid0, index=target_valid0.index)\n",
    "\n",
    "# Mostrar en pantalla el volumen promedio de las reservas previstas y la RECM del modelo\n",
    "print('Volumen promedio de las reservas previstas para la región 0:', predicted_valid0.mean())\n",
    "print('RECM para la región 0:', rmse0)"
   ]
  },
  {
   "attachments": {},
   "cell_type": "markdown",
   "metadata": {},
   "source": [
    "### Observaciones\n",
    "- El volumen promedio de las reservas previstas para la **`región 0`** es de `92.59 miles de barriles`.\n",
    "- El RMSE para la **`región 0`** es de `37.58`."
   ]
  },
  {
   "attachments": {},
   "cell_type": "markdown",
   "metadata": {},
   "source": [
    "## Region 1"
   ]
  },
  {
   "cell_type": "code",
   "execution_count": 528,
   "metadata": {},
   "outputs": [
    {
     "name": "stdout",
     "output_type": "stream",
     "text": [
      "Volumen promedio de las reservas previstas para la región 1: 68.76995145799752\n",
      "RECM para la región 1: 0.8897367737680646\n"
     ]
    }
   ],
   "source": [
    "# Probar el modelo de Regresión Lineal en el conjunto de datos 1\n",
    "model1 = LinearRegression()\n",
    "model1.fit(features_train1, target_train1)\n",
    "predicted_valid1 = model1.predict(features_valid1)\n",
    "rmse1 = mean_squared_error(target_valid1, predicted_valid1) ** 0.5\n",
    "\n",
    "# Guardar las predicciones y las respuestas correctas para el conjunto de validación\n",
    "predictions1 = pd.Series(predicted_valid1, index=target_valid1.index)\n",
    "\n",
    "# Mostrar en pantalla el volumen promedio de las reservas previstas y la RECM del modelo\n",
    "print('Volumen promedio de las reservas previstas para la región 1:', predicted_valid1.mean())\n",
    "print('RECM para la región 1:', rmse1)"
   ]
  },
  {
   "attachments": {},
   "cell_type": "markdown",
   "metadata": {},
   "source": [
    "### Observaciones\n",
    "- El volumen promedio de las reservas previstas para la **`región 1`** es de `68.77 miles de barriles`.\n",
    "- El RMSE para la **`región 1`** es de `0.89`."
   ]
  },
  {
   "attachments": {},
   "cell_type": "markdown",
   "metadata": {},
   "source": [
    "## Region 2"
   ]
  },
  {
   "cell_type": "code",
   "execution_count": 529,
   "metadata": {},
   "outputs": [
    {
     "name": "stdout",
     "output_type": "stream",
     "text": [
      "Volumen promedio de las reservas previstas para la región 2: 95.087528122523\n",
      "RECM para la región 2: 39.958042459521614\n"
     ]
    }
   ],
   "source": [
    "# Probar el modelo de Regresión Lineal en el conjunto de datos 2\n",
    "model2 = LinearRegression()\n",
    "model2.fit(features_train2, target_train2)\n",
    "predicted_valid2 = model2.predict(features_valid2)\n",
    "rmse2 = mean_squared_error(target_valid2, predicted_valid2) ** 0.5\n",
    "\n",
    "# Guardar las predicciones y las respuestas correctas para el conjunto de validación\n",
    "predictions2 = pd.Series(predicted_valid2, index=target_valid2.index)\n",
    "\n",
    "# Mostrar en pantalla el volumen promedio de las reservas previstas y la RECM del modelo\n",
    "print('Volumen promedio de las reservas previstas para la región 2:', predicted_valid2.mean())\n",
    "print('RECM para la región 2:', rmse2)"
   ]
  },
  {
   "attachments": {},
   "cell_type": "markdown",
   "metadata": {},
   "source": [
    "### Observaciones\n",
    "- El volumen promedio de las reservas previstas para la **`región 2`** es de `95.09 miles de barriles`.\n",
    "- El RECM para la **`región 2`** es de `39.96`."
   ]
  },
  {
   "attachments": {},
   "cell_type": "markdown",
   "metadata": {},
   "source": [
    "## Conclusion intermedia\n",
    "-  Las reservas promedio más altas se encuentran en la `región 2`, seguidas de cerca por la `región 0`. Sin embargo, es notable que el **RECM** es considerablemente alto en la `región 0 y 2`, lo que indica un nivel más alto de error en las predicciones de las reservas de petróleo en estas regiones. En contraste, la `región 1` tiene una reserva promedio más baja, pero también tiene un **RECM** mucho más bajo, lo que sugiere que las predicciones del modelo son más precisas en esta región."
   ]
  },
  {
   "attachments": {},
   "cell_type": "markdown",
   "metadata": {},
   "source": [
    "# Cálculo de ganancias"
   ]
  },
  {
   "attachments": {},
   "cell_type": "markdown",
   "metadata": {},
   "source": [
    "## Valores clave para los cálculos"
   ]
  },
  {
   "cell_type": "code",
   "execution_count": 530,
   "metadata": {},
   "outputs": [
    {
     "name": "stdout",
     "output_type": "stream",
     "text": [
      "Coste de desarrollo de un solo pozo: 500000.0\n",
      "Volumen de reservas suficiente para desarrollar un nuevo pozo sin pérdidas: 111.11111111111111\n"
     ]
    }
   ],
   "source": [
    "# Presupuesto para el desarrollo de 200 pozos petroleros es de 100 millones de dólares.\n",
    "budget = 100_000_000\n",
    "\n",
    "# El ingreso de una unidad de producto es de 4500 dólares (el volumen de reservas está expresado en miles de barriles).\n",
    "income_per_unit = 4_500\n",
    "\n",
    "# Riesgo de pérdidas inferior al 2.5%\n",
    "risk_threshold = 0.025\n",
    "\n",
    "# Coste de desarrollo de un solo pozo\n",
    "cost_per_well = budget / 200\n",
    "print('Coste de desarrollo de un solo pozo:', cost_per_well)\n",
    "\n",
    "# Volumen de reservas suficiente para desarrollar un nuevo pozo sin pérdidas\n",
    "sufficient_volume = cost_per_well / income_per_unit\n",
    "print('Volumen de reservas suficiente para desarrollar un nuevo pozo sin pérdidas:', sufficient_volume)"
   ]
  },
  {
   "attachments": {},
   "cell_type": "markdown",
   "metadata": {},
   "source": [
    "### Observaciones\n",
    "- Coste de desarrollo de un solo pozo: `500,000`\n",
    "- Volumen de reservas suficiente para desarrollar un nuevo pozo sin pérdidas: `111.11`"
   ]
  },
  {
   "attachments": {},
   "cell_type": "markdown",
   "metadata": {},
   "source": [
    "## Volumen de reservas suficiente para desarrollar un nuevo pozo sin pérdidas"
   ]
  },
  {
   "attachments": {},
   "cell_type": "markdown",
   "metadata": {},
   "source": [
    "### Region 0"
   ]
  },
  {
   "cell_type": "code",
   "execution_count": 531,
   "metadata": {},
   "outputs": [
    {
     "name": "stdout",
     "output_type": "stream",
     "text": [
      "Volumen medio de reservas para la región 0: 92.50000000000001\n",
      "No es posible desarrollar un nuevo pozo en la región 0 sin pérdidas.\n"
     ]
    }
   ],
   "source": [
    "print('Volumen medio de reservas para la región 0:', target0.mean())\n",
    "\n",
    "# Compara el valor obtenido con el volumen medio de reservas para la región 0\n",
    "if sufficient_volume > target0.mean():\n",
    "    print('No es posible desarrollar un nuevo pozo en la región 0 sin pérdidas.')\n",
    "else:\n",
    "    print('Es posible desarrollar un nuevo pozo en la región 0 sin pérdidas.')"
   ]
  },
  {
   "attachments": {},
   "cell_type": "markdown",
   "metadata": {},
   "source": [
    "### Region 1"
   ]
  },
  {
   "cell_type": "code",
   "execution_count": 532,
   "metadata": {},
   "outputs": [
    {
     "name": "stdout",
     "output_type": "stream",
     "text": [
      "Volumen medio de reservas para la región 1: 68.82500000000002\n",
      "No es posible desarrollar un nuevo pozo en la región 1 sin pérdidas.\n"
     ]
    }
   ],
   "source": [
    "print('Volumen medio de reservas para la región 1:', target1.mean())\n",
    "\n",
    "# Compara el valor obtenido con el volumen medio de reservas para la región 1\n",
    "if sufficient_volume > target1.mean():\n",
    "    print('No es posible desarrollar un nuevo pozo en la región 1 sin pérdidas.')\n",
    "else:\n",
    "    print('Es posible desarrollar un nuevo pozo en la región 1 sin pérdidas.')"
   ]
  },
  {
   "attachments": {},
   "cell_type": "markdown",
   "metadata": {},
   "source": [
    "### Region 2"
   ]
  },
  {
   "cell_type": "code",
   "execution_count": 533,
   "metadata": {},
   "outputs": [
    {
     "name": "stdout",
     "output_type": "stream",
     "text": [
      "Volumen medio de reservas para la región 2: 95.00000000000004\n",
      "No es posible desarrollar un nuevo pozo en la región 2 sin pérdidas.\n"
     ]
    }
   ],
   "source": [
    "print('Volumen medio de reservas para la región 2:', target2.mean())\n",
    "\n",
    "# Compara el valor obtenido con el volumen medio de reservas para la región 2\n",
    "if sufficient_volume > target2.mean():\n",
    "    print('No es posible desarrollar un nuevo pozo en la región 2 sin pérdidas.')\n",
    "else:\n",
    "    print('Es posible desarrollar un nuevo pozo en la región 2 sin pérdidas.')"
   ]
  },
  {
   "attachments": {},
   "cell_type": "markdown",
   "metadata": {},
   "source": [
    "### Observaciones\n",
    "- Ninguna de las tres regiones parece tener el volúmen promedio suficiente para realizar un nuevo pozo sin pérdidas.\n",
    "- A pesar de que las `regiones 0 y 2` tienen los volúmenes promedio más cercanos a lo necesario para no tener pérdidas, no hay que olvidar que la `región 1` tiene un RECM más bajo."
   ]
  },
  {
   "attachments": {},
   "cell_type": "markdown",
   "metadata": {},
   "source": [
    "## Ingreso total esperado de los 200 pozos más rentables de cada región"
   ]
  },
  {
   "cell_type": "code",
   "execution_count": 534,
   "metadata": {},
   "outputs": [],
   "source": [
    "# Crear función para calcular el ingreso total esperado de los 200 pozos más rentables para una región\n",
    "def calculate_profit(actual_volumes, predicted_volumes):\n",
    "    # Ordenar las predicciones de mayor a menor\n",
    "    sorted_predictions = predicted_volumes.sort_values(ascending=False)\n",
    "\n",
    "    # Seleccionar los 200 valores más altos\n",
    "    selected = actual_volumes[sorted_predictions.index][:200]\n",
    "\n",
    "    # Calcular la ganancia total esperada\n",
    "    total_revenue = (selected * income_per_unit).sum()\n",
    "    \n",
    "    return total_revenue - budget"
   ]
  },
  {
   "attachments": {},
   "cell_type": "markdown",
   "metadata": {},
   "source": [
    "### Region 0"
   ]
  },
  {
   "cell_type": "code",
   "execution_count": 535,
   "metadata": {},
   "outputs": [
    {
     "name": "stdout",
     "output_type": "stream",
     "text": [
      "Ingreso total esperado de los 200 pozos más rentables para la región 0: 33208260.43139851\n"
     ]
    }
   ],
   "source": [
    "# Calcular el ingreso total esperado de los 200 pozos más rentables para la región 0\n",
    "profit0 = calculate_profit(target_valid0, predictions0)\n",
    "print('Ingreso total esperado de los 200 pozos más rentables para la región 0:', profit0)"
   ]
  },
  {
   "attachments": {},
   "cell_type": "markdown",
   "metadata": {},
   "source": [
    "### Region 1"
   ]
  },
  {
   "cell_type": "code",
   "execution_count": 536,
   "metadata": {},
   "outputs": [
    {
     "name": "stdout",
     "output_type": "stream",
     "text": [
      "Ingreso total esperado de los 200 pozos más rentables para la región 1: 24150866.966815084\n"
     ]
    }
   ],
   "source": [
    "# Calcular el ingreso total esperado de los 200 pozos más rentables para la región 1\n",
    "profit1 = calculate_profit(target_valid1, predictions1)\n",
    "print('Ingreso total esperado de los 200 pozos más rentables para la región 1:', profit1)"
   ]
  },
  {
   "attachments": {},
   "cell_type": "markdown",
   "metadata": {},
   "source": [
    "### Region 2"
   ]
  },
  {
   "cell_type": "code",
   "execution_count": 537,
   "metadata": {},
   "outputs": [
    {
     "name": "stdout",
     "output_type": "stream",
     "text": [
      "Ingreso total esperado de los 200 pozos más rentables para la región 2: 25399159.458429456\n"
     ]
    }
   ],
   "source": [
    "# Calcular el ingreso total esperado de los 200 pozos más rentables para la región 2\n",
    "profit2 = calculate_profit(target_valid2, predictions2)\n",
    "print('Ingreso total esperado de los 200 pozos más rentables para la región 2:', profit2)"
   ]
  },
  {
   "attachments": {},
   "cell_type": "markdown",
   "metadata": {},
   "source": [
    "### Observaciones\n",
    "- La `región 0` tiene el ingreso total esperado más alto de los tres, seguido por la `región 2` y luego la `región 1`."
   ]
  },
  {
   "attachments": {},
   "cell_type": "markdown",
   "metadata": {},
   "source": [
    "## Conclusion intermedia\n",
    "- Basándose en los resultados del volúmen medio de cada región así como los ingresos esperados aún no se puede decir cuál es la mejor opción de región para la creación de un nuevo pozo."
   ]
  },
  {
   "attachments": {},
   "cell_type": "markdown",
   "metadata": {},
   "source": [
    "# Cálculo de riesgos y ganancias para cada región"
   ]
  },
  {
   "attachments": {},
   "cell_type": "markdown",
   "metadata": {},
   "source": [
    "## Bootstrapping con 1000 muestras para encontrar la distribución del beneficio"
   ]
  },
  {
   "cell_type": "code",
   "execution_count": 538,
   "metadata": {},
   "outputs": [],
   "source": [
    "# Crear una función para realizar el bootstrapping y calcular la distribución de beneficios y riesgos para cada región\n",
    "def bootstrap_profit_and_loss(target, predictions, loop_size = 1_000, sample_size = 500):\n",
    "    # Inicializar la lista de beneficios\n",
    "    values = []\n",
    "\n",
    "    # Combinar target y predictions en un DataFrame\n",
    "    combined = pd.DataFrame({\n",
    "        'target': target,\n",
    "        'predictions': predictions\n",
    "    })\n",
    "\n",
    "    # Inicializar el contador de beneficios negativos\n",
    "    negative_profit_count = 0\n",
    "\n",
    "    # Realizar bootstrapping\n",
    "    for _ in range(loop_size):\n",
    "        # Muestrear los datos\n",
    "        subsample = combined.sample(sample_size, replace=True, random_state=random_state)\n",
    "\n",
    "        # Separar target y predictions de nuevo\n",
    "        subsample_target = subsample['target']\n",
    "        subsample_predictions = subsample['predictions']\n",
    "\n",
    "        # Calcular el beneficio de la muestra y añadirlo a la lista\n",
    "        profit = calculate_profit(subsample_target, subsample_predictions)\n",
    "        values.append(profit)\n",
    "        \n",
    "        # Contar el número de veces que el beneficio es negativo\n",
    "        if profit < 0:\n",
    "            negative_profit_count += 1\n",
    "\n",
    "    # Convertir la lista de beneficios a una Serie de pandas\n",
    "    values = pd.Series(values)\n",
    "\n",
    "    # Calcular el beneficio promedio\n",
    "    average_profit = values.mean()\n",
    "\n",
    "    # Calcular el cuantil del 2.5 %\n",
    "    lower = values.quantile(risk_threshold)\n",
    "\n",
    "    # Calcular el cuantil del 97.5 %\n",
    "    upper = values.quantile(1 - risk_threshold)\n",
    "\n",
    "    # Evaluar el riesgo de pérdidas\n",
    "    loss_risk = negative_profit_count / loop_size\n",
    "\n",
    "    return average_profit, loss_risk, lower, upper"
   ]
  },
  {
   "cell_type": "code",
   "execution_count": 539,
   "metadata": {},
   "outputs": [],
   "source": [
    "# Crear función para mostrar los resultados del bootstrapping\n",
    "def print_bootstrap_results(target_valid, predictions, region):\n",
    "    average_profit, loss_risk, lower, upper = bootstrap_profit_and_loss(target_valid, predictions)\n",
    "\n",
    "    print(f'Intervalo de confianza del 95% para la región {region}: [{lower:.1f}] -> [{upper:.1f}]')\n",
    "    print(f'Beneficio promedio para la región {region}: ${average_profit:.1f}')\n",
    "    print(f'Riesgo de pérdidas para la región {region}: {loss_risk:.1%}')"
   ]
  },
  {
   "attachments": {},
   "cell_type": "markdown",
   "metadata": {},
   "source": [
    "### Region 0"
   ]
  },
  {
   "cell_type": "code",
   "execution_count": 540,
   "metadata": {},
   "outputs": [
    {
     "name": "stdout",
     "output_type": "stream",
     "text": [
      "Intervalo de confianza del 95% para la región 0: [-761878.1] -> [9578465.3]\n",
      "Beneficio promedio para la región 0: $4238972.4\n",
      "Riesgo de pérdidas para la región 0: 4.8%\n"
     ]
    }
   ],
   "source": [
    "# Bootstrapping con 1000 muestras para encontrar la distribución del beneficio para la región 0\n",
    "print_bootstrap_results(target_valid0, predictions0, 0)"
   ]
  },
  {
   "attachments": {},
   "cell_type": "markdown",
   "metadata": {},
   "source": [
    "### Region 1"
   ]
  },
  {
   "cell_type": "code",
   "execution_count": 541,
   "metadata": {},
   "outputs": [
    {
     "name": "stdout",
     "output_type": "stream",
     "text": [
      "Intervalo de confianza del 95% para la región 1: [1080669.0] -> [9285744.4]\n",
      "Beneficio promedio para la región 1: $5132567.0\n",
      "Riesgo de pérdidas para la región 1: 0.6%\n"
     ]
    }
   ],
   "source": [
    "# Bootstrapping con 1000 muestras para encontrar la distribución del beneficio para la región 1\n",
    "print_bootstrap_results(target_valid1, predictions1, 1)"
   ]
  },
  {
   "attachments": {},
   "cell_type": "markdown",
   "metadata": {},
   "source": [
    "### Region 2"
   ]
  },
  {
   "cell_type": "code",
   "execution_count": 542,
   "metadata": {},
   "outputs": [
    {
     "name": "stdout",
     "output_type": "stream",
     "text": [
      "Intervalo de confianza del 95% para la región 2: [-1428006.3] -> [8933805.7]\n",
      "Beneficio promedio para la región 2: $3811203.6\n",
      "Riesgo de pérdidas para la región 2: 7.4%\n"
     ]
    }
   ],
   "source": [
    "# Bootstrapping con 1000 muestras para encontrar la distribución del beneficio para la región 2\n",
    "print_bootstrap_results(target_valid2, predictions2, 2)"
   ]
  },
  {
   "attachments": {},
   "cell_type": "markdown",
   "metadata": {},
   "source": [
    "## Conclusion intermedia\n",
    "- Si bien los valores obtenidos a través del bootstrapping pueden variar en cada ejecución del código, hay que considerar que dichos valores se mantienen dentro de un mismo rango.\n",
    "- La `región 1` muestra en general el `beneficio promedio más alto` así como el `riesgo de pérdidas más bajo`, lo que indica que esta región tiene el mayor potencial para cumplir nuestro objetivo."
   ]
  },
  {
   "attachments": {},
   "cell_type": "markdown",
   "metadata": {},
   "source": [
    "# Conclusión general\n",
    "\n",
    "Durante este proyecto, se construyó un modelo de regresión lineal para predecir el volumen de reservas en nuevos pozos petroleros, basado en tres regiones con datos geológicos dados. Posteriormente, se realizó una simulación de bootstrapping para estimar la distribución de los posibles beneficios y riesgos en cada región.\n",
    "\n",
    "- Se realizó un análisis exploratorio de los datos y se procedió a entrenar un modelo de regresión lineal para cada una de las tres regiones. Se ajustó un modelo de regresión lineal para cada región, utilizando la métrica RMSE para evaluar el rendimiento del modelo.\n",
    "- Con base en las predicciones del modelo, se seleccionaron los 200 pozos con las mayores predicciones de volumen de reservas de petróleo para la perforación.\n",
    "- Para cuantificar la incertidumbre en la decisión de perforación y para estimar el posible beneficio, se empleó una técnica de bootstrapping. Esto proporcionó una distribución de posibles beneficios y el riesgo de pérdidas.\n",
    "- El análisis de bootstrapping mostró que la `región 1` muestra el `beneficio promedio más alto` así como el `riesgo de pérdidas más bajo`, lo que sugiere que sería la región más prometedora para la exploración de petróleo.\n",
    "\n",
    "Basándonos en los resultados, se ha concluido que la `región 1` es la más prometedora para futuras operaciones de perforación de pozos, ya que presenta el `beneficio promedio más alto` y el `riesgo de pérdidas más bajo`.\n"
   ]
  }
 ],
 "metadata": {
  "kernelspec": {
   "display_name": "Python 3",
   "language": "python",
   "name": "python3"
  },
  "language_info": {
   "codemirror_mode": {
    "name": "ipython",
    "version": 3
   },
   "file_extension": ".py",
   "mimetype": "text/x-python",
   "name": "python",
   "nbconvert_exporter": "python",
   "pygments_lexer": "ipython3",
   "version": "3.11.2"
  },
  "orig_nbformat": 4
 },
 "nbformat": 4,
 "nbformat_minor": 2
}
